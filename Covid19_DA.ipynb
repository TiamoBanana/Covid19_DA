{
 "cells": [
  {
   "cell_type": "code",
   "execution_count": 104,
   "id": "9c171ae4-a188-426e-ab1c-7afdee587167",
   "metadata": {},
   "outputs": [
    {
     "name": "stderr",
     "output_type": "stream",
     "text": [
      "C:\\Users\\StupidDev\\AppData\\Local\\Temp\\ipykernel_32004\\266605827.py:6: DeprecationWarning:\n",
      "\n",
      "Importing display from IPython.core.display is deprecated since IPython 7.14, please import from IPython display\n",
      "\n"
     ]
    }
   ],
   "source": [
    "import pandas as pd\n",
    "import numpy as np\n",
    "\n",
    "from __future__ import print_function\n",
    "from ipywidgets import interact, interactive, fixed, interact_manual\n",
    "from IPython.core.display import display, HTML\n",
    "import ipywidgets as widgets"
   ]
  },
  {
   "cell_type": "code",
   "execution_count": 32,
   "id": "26d04bf6-2dc9-4e05-894e-b1461ef98b23",
   "metadata": {},
   "outputs": [],
   "source": [
    "# loading data right from the source:\n",
    "death_df = pd.read_csv('https://raw.githubusercontent.com/CSSEGISandData/COVID-19/master/csse_covid_19_data/csse_covid_19_time_series/time_series_covid19_deaths_global.csv')\n",
    "confirmed_df = pd.read_csv('https://raw.githubusercontent.com/CSSEGISandData/COVID-19/master/csse_covid_19_data/csse_covid_19_time_series/time_series_covid19_confirmed_global.csv')\n",
    "recovered_df = pd.read_csv('https://raw.githubusercontent.com/CSSEGISandData/COVID-19/master/csse_covid_19_data/csse_covid_19_time_series/time_series_covid19_recovered_global.csv')\n",
    "country_df = pd.read_csv('https://raw.githubusercontent.com/CSSEGISandData/COVID-19/web-data/data/cases_country.csv')\n",
    "\n",
    "\n",
    "#nation_df = pd.read_csv(\"https://raw.githubusercontent.com/CSSEGISandData/COVID-19/web-data/data/cases_country.csv\")"
   ]
  },
  {
   "cell_type": "code",
   "execution_count": 33,
   "id": "c1c0779b-0fc5-4123-b8f0-876ba5118e19",
   "metadata": {},
   "outputs": [
    {
     "data": {
      "text/html": [
       "<div>\n",
       "<style scoped>\n",
       "    .dataframe tbody tr th:only-of-type {\n",
       "        vertical-align: middle;\n",
       "    }\n",
       "\n",
       "    .dataframe tbody tr th {\n",
       "        vertical-align: top;\n",
       "    }\n",
       "\n",
       "    .dataframe thead th {\n",
       "        text-align: right;\n",
       "    }\n",
       "</style>\n",
       "<table border=\"1\" class=\"dataframe\">\n",
       "  <thead>\n",
       "    <tr style=\"text-align: right;\">\n",
       "      <th></th>\n",
       "      <th>Province/State</th>\n",
       "      <th>Country/Region</th>\n",
       "      <th>Lat</th>\n",
       "      <th>Long</th>\n",
       "      <th>1/22/20</th>\n",
       "      <th>1/23/20</th>\n",
       "      <th>1/24/20</th>\n",
       "      <th>1/25/20</th>\n",
       "      <th>1/26/20</th>\n",
       "      <th>1/27/20</th>\n",
       "      <th>...</th>\n",
       "      <th>2/28/23</th>\n",
       "      <th>3/1/23</th>\n",
       "      <th>3/2/23</th>\n",
       "      <th>3/3/23</th>\n",
       "      <th>3/4/23</th>\n",
       "      <th>3/5/23</th>\n",
       "      <th>3/6/23</th>\n",
       "      <th>3/7/23</th>\n",
       "      <th>3/8/23</th>\n",
       "      <th>3/9/23</th>\n",
       "    </tr>\n",
       "  </thead>\n",
       "  <tbody>\n",
       "    <tr>\n",
       "      <th>0</th>\n",
       "      <td>NaN</td>\n",
       "      <td>Afghanistan</td>\n",
       "      <td>33.93911</td>\n",
       "      <td>67.709953</td>\n",
       "      <td>0</td>\n",
       "      <td>0</td>\n",
       "      <td>0</td>\n",
       "      <td>0</td>\n",
       "      <td>0</td>\n",
       "      <td>0</td>\n",
       "      <td>...</td>\n",
       "      <td>7896</td>\n",
       "      <td>7896</td>\n",
       "      <td>7896</td>\n",
       "      <td>7896</td>\n",
       "      <td>7896</td>\n",
       "      <td>7896</td>\n",
       "      <td>7896</td>\n",
       "      <td>7896</td>\n",
       "      <td>7896</td>\n",
       "      <td>7896</td>\n",
       "    </tr>\n",
       "    <tr>\n",
       "      <th>1</th>\n",
       "      <td>NaN</td>\n",
       "      <td>Albania</td>\n",
       "      <td>41.15330</td>\n",
       "      <td>20.168300</td>\n",
       "      <td>0</td>\n",
       "      <td>0</td>\n",
       "      <td>0</td>\n",
       "      <td>0</td>\n",
       "      <td>0</td>\n",
       "      <td>0</td>\n",
       "      <td>...</td>\n",
       "      <td>3598</td>\n",
       "      <td>3598</td>\n",
       "      <td>3598</td>\n",
       "      <td>3598</td>\n",
       "      <td>3598</td>\n",
       "      <td>3598</td>\n",
       "      <td>3598</td>\n",
       "      <td>3598</td>\n",
       "      <td>3598</td>\n",
       "      <td>3598</td>\n",
       "    </tr>\n",
       "    <tr>\n",
       "      <th>2</th>\n",
       "      <td>NaN</td>\n",
       "      <td>Algeria</td>\n",
       "      <td>28.03390</td>\n",
       "      <td>1.659600</td>\n",
       "      <td>0</td>\n",
       "      <td>0</td>\n",
       "      <td>0</td>\n",
       "      <td>0</td>\n",
       "      <td>0</td>\n",
       "      <td>0</td>\n",
       "      <td>...</td>\n",
       "      <td>6881</td>\n",
       "      <td>6881</td>\n",
       "      <td>6881</td>\n",
       "      <td>6881</td>\n",
       "      <td>6881</td>\n",
       "      <td>6881</td>\n",
       "      <td>6881</td>\n",
       "      <td>6881</td>\n",
       "      <td>6881</td>\n",
       "      <td>6881</td>\n",
       "    </tr>\n",
       "    <tr>\n",
       "      <th>3</th>\n",
       "      <td>NaN</td>\n",
       "      <td>Andorra</td>\n",
       "      <td>42.50630</td>\n",
       "      <td>1.521800</td>\n",
       "      <td>0</td>\n",
       "      <td>0</td>\n",
       "      <td>0</td>\n",
       "      <td>0</td>\n",
       "      <td>0</td>\n",
       "      <td>0</td>\n",
       "      <td>...</td>\n",
       "      <td>165</td>\n",
       "      <td>165</td>\n",
       "      <td>165</td>\n",
       "      <td>165</td>\n",
       "      <td>165</td>\n",
       "      <td>165</td>\n",
       "      <td>165</td>\n",
       "      <td>165</td>\n",
       "      <td>165</td>\n",
       "      <td>165</td>\n",
       "    </tr>\n",
       "    <tr>\n",
       "      <th>4</th>\n",
       "      <td>NaN</td>\n",
       "      <td>Angola</td>\n",
       "      <td>-11.20270</td>\n",
       "      <td>17.873900</td>\n",
       "      <td>0</td>\n",
       "      <td>0</td>\n",
       "      <td>0</td>\n",
       "      <td>0</td>\n",
       "      <td>0</td>\n",
       "      <td>0</td>\n",
       "      <td>...</td>\n",
       "      <td>1933</td>\n",
       "      <td>1933</td>\n",
       "      <td>1933</td>\n",
       "      <td>1933</td>\n",
       "      <td>1933</td>\n",
       "      <td>1933</td>\n",
       "      <td>1933</td>\n",
       "      <td>1933</td>\n",
       "      <td>1933</td>\n",
       "      <td>1933</td>\n",
       "    </tr>\n",
       "  </tbody>\n",
       "</table>\n",
       "<p>5 rows × 1147 columns</p>\n",
       "</div>"
      ],
      "text/plain": [
       "  Province/State Country/Region       Lat       Long  1/22/20  1/23/20  \\\n",
       "0            NaN    Afghanistan  33.93911  67.709953        0        0   \n",
       "1            NaN        Albania  41.15330  20.168300        0        0   \n",
       "2            NaN        Algeria  28.03390   1.659600        0        0   \n",
       "3            NaN        Andorra  42.50630   1.521800        0        0   \n",
       "4            NaN         Angola -11.20270  17.873900        0        0   \n",
       "\n",
       "   1/24/20  1/25/20  1/26/20  1/27/20  ...  2/28/23  3/1/23  3/2/23  3/3/23  \\\n",
       "0        0        0        0        0  ...     7896    7896    7896    7896   \n",
       "1        0        0        0        0  ...     3598    3598    3598    3598   \n",
       "2        0        0        0        0  ...     6881    6881    6881    6881   \n",
       "3        0        0        0        0  ...      165     165     165     165   \n",
       "4        0        0        0        0  ...     1933    1933    1933    1933   \n",
       "\n",
       "   3/4/23  3/5/23  3/6/23  3/7/23  3/8/23  3/9/23  \n",
       "0    7896    7896    7896    7896    7896    7896  \n",
       "1    3598    3598    3598    3598    3598    3598  \n",
       "2    6881    6881    6881    6881    6881    6881  \n",
       "3     165     165     165     165     165     165  \n",
       "4    1933    1933    1933    1933    1933    1933  \n",
       "\n",
       "[5 rows x 1147 columns]"
      ]
     },
     "execution_count": 33,
     "metadata": {},
     "output_type": "execute_result"
    }
   ],
   "source": [
    "death_df.head()"
   ]
  },
  {
   "cell_type": "code",
   "execution_count": 34,
   "id": "6c0a4c54-6922-4a60-9fe4-61614d48b900",
   "metadata": {},
   "outputs": [
    {
     "data": {
      "text/html": [
       "<div>\n",
       "<style scoped>\n",
       "    .dataframe tbody tr th:only-of-type {\n",
       "        vertical-align: middle;\n",
       "    }\n",
       "\n",
       "    .dataframe tbody tr th {\n",
       "        vertical-align: top;\n",
       "    }\n",
       "\n",
       "    .dataframe thead th {\n",
       "        text-align: right;\n",
       "    }\n",
       "</style>\n",
       "<table border=\"1\" class=\"dataframe\">\n",
       "  <thead>\n",
       "    <tr style=\"text-align: right;\">\n",
       "      <th></th>\n",
       "      <th>Province/State</th>\n",
       "      <th>Country/Region</th>\n",
       "      <th>Lat</th>\n",
       "      <th>Long</th>\n",
       "      <th>1/22/20</th>\n",
       "      <th>1/23/20</th>\n",
       "      <th>1/24/20</th>\n",
       "      <th>1/25/20</th>\n",
       "      <th>1/26/20</th>\n",
       "      <th>1/27/20</th>\n",
       "      <th>...</th>\n",
       "      <th>2/28/23</th>\n",
       "      <th>3/1/23</th>\n",
       "      <th>3/2/23</th>\n",
       "      <th>3/3/23</th>\n",
       "      <th>3/4/23</th>\n",
       "      <th>3/5/23</th>\n",
       "      <th>3/6/23</th>\n",
       "      <th>3/7/23</th>\n",
       "      <th>3/8/23</th>\n",
       "      <th>3/9/23</th>\n",
       "    </tr>\n",
       "  </thead>\n",
       "  <tbody>\n",
       "    <tr>\n",
       "      <th>0</th>\n",
       "      <td>NaN</td>\n",
       "      <td>Afghanistan</td>\n",
       "      <td>33.93911</td>\n",
       "      <td>67.709953</td>\n",
       "      <td>0</td>\n",
       "      <td>0</td>\n",
       "      <td>0</td>\n",
       "      <td>0</td>\n",
       "      <td>0</td>\n",
       "      <td>0</td>\n",
       "      <td>...</td>\n",
       "      <td>209322</td>\n",
       "      <td>209340</td>\n",
       "      <td>209358</td>\n",
       "      <td>209362</td>\n",
       "      <td>209369</td>\n",
       "      <td>209390</td>\n",
       "      <td>209406</td>\n",
       "      <td>209436</td>\n",
       "      <td>209451</td>\n",
       "      <td>209451</td>\n",
       "    </tr>\n",
       "    <tr>\n",
       "      <th>1</th>\n",
       "      <td>NaN</td>\n",
       "      <td>Albania</td>\n",
       "      <td>41.15330</td>\n",
       "      <td>20.168300</td>\n",
       "      <td>0</td>\n",
       "      <td>0</td>\n",
       "      <td>0</td>\n",
       "      <td>0</td>\n",
       "      <td>0</td>\n",
       "      <td>0</td>\n",
       "      <td>...</td>\n",
       "      <td>334391</td>\n",
       "      <td>334408</td>\n",
       "      <td>334408</td>\n",
       "      <td>334427</td>\n",
       "      <td>334427</td>\n",
       "      <td>334427</td>\n",
       "      <td>334427</td>\n",
       "      <td>334427</td>\n",
       "      <td>334443</td>\n",
       "      <td>334457</td>\n",
       "    </tr>\n",
       "    <tr>\n",
       "      <th>2</th>\n",
       "      <td>NaN</td>\n",
       "      <td>Algeria</td>\n",
       "      <td>28.03390</td>\n",
       "      <td>1.659600</td>\n",
       "      <td>0</td>\n",
       "      <td>0</td>\n",
       "      <td>0</td>\n",
       "      <td>0</td>\n",
       "      <td>0</td>\n",
       "      <td>0</td>\n",
       "      <td>...</td>\n",
       "      <td>271441</td>\n",
       "      <td>271448</td>\n",
       "      <td>271463</td>\n",
       "      <td>271469</td>\n",
       "      <td>271469</td>\n",
       "      <td>271477</td>\n",
       "      <td>271477</td>\n",
       "      <td>271490</td>\n",
       "      <td>271494</td>\n",
       "      <td>271496</td>\n",
       "    </tr>\n",
       "    <tr>\n",
       "      <th>3</th>\n",
       "      <td>NaN</td>\n",
       "      <td>Andorra</td>\n",
       "      <td>42.50630</td>\n",
       "      <td>1.521800</td>\n",
       "      <td>0</td>\n",
       "      <td>0</td>\n",
       "      <td>0</td>\n",
       "      <td>0</td>\n",
       "      <td>0</td>\n",
       "      <td>0</td>\n",
       "      <td>...</td>\n",
       "      <td>47866</td>\n",
       "      <td>47875</td>\n",
       "      <td>47875</td>\n",
       "      <td>47875</td>\n",
       "      <td>47875</td>\n",
       "      <td>47875</td>\n",
       "      <td>47875</td>\n",
       "      <td>47875</td>\n",
       "      <td>47890</td>\n",
       "      <td>47890</td>\n",
       "    </tr>\n",
       "    <tr>\n",
       "      <th>4</th>\n",
       "      <td>NaN</td>\n",
       "      <td>Angola</td>\n",
       "      <td>-11.20270</td>\n",
       "      <td>17.873900</td>\n",
       "      <td>0</td>\n",
       "      <td>0</td>\n",
       "      <td>0</td>\n",
       "      <td>0</td>\n",
       "      <td>0</td>\n",
       "      <td>0</td>\n",
       "      <td>...</td>\n",
       "      <td>105255</td>\n",
       "      <td>105277</td>\n",
       "      <td>105277</td>\n",
       "      <td>105277</td>\n",
       "      <td>105277</td>\n",
       "      <td>105277</td>\n",
       "      <td>105277</td>\n",
       "      <td>105277</td>\n",
       "      <td>105288</td>\n",
       "      <td>105288</td>\n",
       "    </tr>\n",
       "  </tbody>\n",
       "</table>\n",
       "<p>5 rows × 1147 columns</p>\n",
       "</div>"
      ],
      "text/plain": [
       "  Province/State Country/Region       Lat       Long  1/22/20  1/23/20  \\\n",
       "0            NaN    Afghanistan  33.93911  67.709953        0        0   \n",
       "1            NaN        Albania  41.15330  20.168300        0        0   \n",
       "2            NaN        Algeria  28.03390   1.659600        0        0   \n",
       "3            NaN        Andorra  42.50630   1.521800        0        0   \n",
       "4            NaN         Angola -11.20270  17.873900        0        0   \n",
       "\n",
       "   1/24/20  1/25/20  1/26/20  1/27/20  ...  2/28/23  3/1/23  3/2/23  3/3/23  \\\n",
       "0        0        0        0        0  ...   209322  209340  209358  209362   \n",
       "1        0        0        0        0  ...   334391  334408  334408  334427   \n",
       "2        0        0        0        0  ...   271441  271448  271463  271469   \n",
       "3        0        0        0        0  ...    47866   47875   47875   47875   \n",
       "4        0        0        0        0  ...   105255  105277  105277  105277   \n",
       "\n",
       "   3/4/23  3/5/23  3/6/23  3/7/23  3/8/23  3/9/23  \n",
       "0  209369  209390  209406  209436  209451  209451  \n",
       "1  334427  334427  334427  334427  334443  334457  \n",
       "2  271469  271477  271477  271490  271494  271496  \n",
       "3   47875   47875   47875   47875   47890   47890  \n",
       "4  105277  105277  105277  105277  105288  105288  \n",
       "\n",
       "[5 rows x 1147 columns]"
      ]
     },
     "execution_count": 34,
     "metadata": {},
     "output_type": "execute_result"
    }
   ],
   "source": [
    "confirmed_df.head()"
   ]
  },
  {
   "cell_type": "code",
   "execution_count": 35,
   "id": "eb189cbc-6d3a-4c40-a7e4-57efc2719d7e",
   "metadata": {},
   "outputs": [
    {
     "data": {
      "text/html": [
       "<div>\n",
       "<style scoped>\n",
       "    .dataframe tbody tr th:only-of-type {\n",
       "        vertical-align: middle;\n",
       "    }\n",
       "\n",
       "    .dataframe tbody tr th {\n",
       "        vertical-align: top;\n",
       "    }\n",
       "\n",
       "    .dataframe thead th {\n",
       "        text-align: right;\n",
       "    }\n",
       "</style>\n",
       "<table border=\"1\" class=\"dataframe\">\n",
       "  <thead>\n",
       "    <tr style=\"text-align: right;\">\n",
       "      <th></th>\n",
       "      <th>Province/State</th>\n",
       "      <th>Country/Region</th>\n",
       "      <th>Lat</th>\n",
       "      <th>Long</th>\n",
       "      <th>1/22/20</th>\n",
       "      <th>1/23/20</th>\n",
       "      <th>1/24/20</th>\n",
       "      <th>1/25/20</th>\n",
       "      <th>1/26/20</th>\n",
       "      <th>1/27/20</th>\n",
       "      <th>...</th>\n",
       "      <th>2/28/23</th>\n",
       "      <th>3/1/23</th>\n",
       "      <th>3/2/23</th>\n",
       "      <th>3/3/23</th>\n",
       "      <th>3/4/23</th>\n",
       "      <th>3/5/23</th>\n",
       "      <th>3/6/23</th>\n",
       "      <th>3/7/23</th>\n",
       "      <th>3/8/23</th>\n",
       "      <th>3/9/23</th>\n",
       "    </tr>\n",
       "  </thead>\n",
       "  <tbody>\n",
       "    <tr>\n",
       "      <th>0</th>\n",
       "      <td>NaN</td>\n",
       "      <td>Afghanistan</td>\n",
       "      <td>33.93911</td>\n",
       "      <td>67.709953</td>\n",
       "      <td>0</td>\n",
       "      <td>0</td>\n",
       "      <td>0</td>\n",
       "      <td>0</td>\n",
       "      <td>0</td>\n",
       "      <td>0</td>\n",
       "      <td>...</td>\n",
       "      <td>0</td>\n",
       "      <td>0</td>\n",
       "      <td>0</td>\n",
       "      <td>0</td>\n",
       "      <td>0</td>\n",
       "      <td>0</td>\n",
       "      <td>0</td>\n",
       "      <td>0</td>\n",
       "      <td>0</td>\n",
       "      <td>0</td>\n",
       "    </tr>\n",
       "    <tr>\n",
       "      <th>1</th>\n",
       "      <td>NaN</td>\n",
       "      <td>Albania</td>\n",
       "      <td>41.15330</td>\n",
       "      <td>20.168300</td>\n",
       "      <td>0</td>\n",
       "      <td>0</td>\n",
       "      <td>0</td>\n",
       "      <td>0</td>\n",
       "      <td>0</td>\n",
       "      <td>0</td>\n",
       "      <td>...</td>\n",
       "      <td>0</td>\n",
       "      <td>0</td>\n",
       "      <td>0</td>\n",
       "      <td>0</td>\n",
       "      <td>0</td>\n",
       "      <td>0</td>\n",
       "      <td>0</td>\n",
       "      <td>0</td>\n",
       "      <td>0</td>\n",
       "      <td>0</td>\n",
       "    </tr>\n",
       "    <tr>\n",
       "      <th>2</th>\n",
       "      <td>NaN</td>\n",
       "      <td>Algeria</td>\n",
       "      <td>28.03390</td>\n",
       "      <td>1.659600</td>\n",
       "      <td>0</td>\n",
       "      <td>0</td>\n",
       "      <td>0</td>\n",
       "      <td>0</td>\n",
       "      <td>0</td>\n",
       "      <td>0</td>\n",
       "      <td>...</td>\n",
       "      <td>0</td>\n",
       "      <td>0</td>\n",
       "      <td>0</td>\n",
       "      <td>0</td>\n",
       "      <td>0</td>\n",
       "      <td>0</td>\n",
       "      <td>0</td>\n",
       "      <td>0</td>\n",
       "      <td>0</td>\n",
       "      <td>0</td>\n",
       "    </tr>\n",
       "    <tr>\n",
       "      <th>3</th>\n",
       "      <td>NaN</td>\n",
       "      <td>Andorra</td>\n",
       "      <td>42.50630</td>\n",
       "      <td>1.521800</td>\n",
       "      <td>0</td>\n",
       "      <td>0</td>\n",
       "      <td>0</td>\n",
       "      <td>0</td>\n",
       "      <td>0</td>\n",
       "      <td>0</td>\n",
       "      <td>...</td>\n",
       "      <td>0</td>\n",
       "      <td>0</td>\n",
       "      <td>0</td>\n",
       "      <td>0</td>\n",
       "      <td>0</td>\n",
       "      <td>0</td>\n",
       "      <td>0</td>\n",
       "      <td>0</td>\n",
       "      <td>0</td>\n",
       "      <td>0</td>\n",
       "    </tr>\n",
       "    <tr>\n",
       "      <th>4</th>\n",
       "      <td>NaN</td>\n",
       "      <td>Angola</td>\n",
       "      <td>-11.20270</td>\n",
       "      <td>17.873900</td>\n",
       "      <td>0</td>\n",
       "      <td>0</td>\n",
       "      <td>0</td>\n",
       "      <td>0</td>\n",
       "      <td>0</td>\n",
       "      <td>0</td>\n",
       "      <td>...</td>\n",
       "      <td>0</td>\n",
       "      <td>0</td>\n",
       "      <td>0</td>\n",
       "      <td>0</td>\n",
       "      <td>0</td>\n",
       "      <td>0</td>\n",
       "      <td>0</td>\n",
       "      <td>0</td>\n",
       "      <td>0</td>\n",
       "      <td>0</td>\n",
       "    </tr>\n",
       "  </tbody>\n",
       "</table>\n",
       "<p>5 rows × 1147 columns</p>\n",
       "</div>"
      ],
      "text/plain": [
       "  Province/State Country/Region       Lat       Long  1/22/20  1/23/20  \\\n",
       "0            NaN    Afghanistan  33.93911  67.709953        0        0   \n",
       "1            NaN        Albania  41.15330  20.168300        0        0   \n",
       "2            NaN        Algeria  28.03390   1.659600        0        0   \n",
       "3            NaN        Andorra  42.50630   1.521800        0        0   \n",
       "4            NaN         Angola -11.20270  17.873900        0        0   \n",
       "\n",
       "   1/24/20  1/25/20  1/26/20  1/27/20  ...  2/28/23  3/1/23  3/2/23  3/3/23  \\\n",
       "0        0        0        0        0  ...        0       0       0       0   \n",
       "1        0        0        0        0  ...        0       0       0       0   \n",
       "2        0        0        0        0  ...        0       0       0       0   \n",
       "3        0        0        0        0  ...        0       0       0       0   \n",
       "4        0        0        0        0  ...        0       0       0       0   \n",
       "\n",
       "   3/4/23  3/5/23  3/6/23  3/7/23  3/8/23  3/9/23  \n",
       "0       0       0       0       0       0       0  \n",
       "1       0       0       0       0       0       0  \n",
       "2       0       0       0       0       0       0  \n",
       "3       0       0       0       0       0       0  \n",
       "4       0       0       0       0       0       0  \n",
       "\n",
       "[5 rows x 1147 columns]"
      ]
     },
     "execution_count": 35,
     "metadata": {},
     "output_type": "execute_result"
    }
   ],
   "source": [
    "recovered_df.head()"
   ]
  },
  {
   "cell_type": "code",
   "execution_count": 36,
   "id": "3203d35e-546b-467c-9ded-2f69db2fedc9",
   "metadata": {},
   "outputs": [
    {
     "data": {
      "text/html": [
       "<div>\n",
       "<style scoped>\n",
       "    .dataframe tbody tr th:only-of-type {\n",
       "        vertical-align: middle;\n",
       "    }\n",
       "\n",
       "    .dataframe tbody tr th {\n",
       "        vertical-align: top;\n",
       "    }\n",
       "\n",
       "    .dataframe thead th {\n",
       "        text-align: right;\n",
       "    }\n",
       "</style>\n",
       "<table border=\"1\" class=\"dataframe\">\n",
       "  <thead>\n",
       "    <tr style=\"text-align: right;\">\n",
       "      <th></th>\n",
       "      <th>Country_Region</th>\n",
       "      <th>Last_Update</th>\n",
       "      <th>Lat</th>\n",
       "      <th>Long_</th>\n",
       "      <th>Confirmed</th>\n",
       "      <th>Deaths</th>\n",
       "      <th>Recovered</th>\n",
       "      <th>Active</th>\n",
       "      <th>Incident_Rate</th>\n",
       "      <th>People_Tested</th>\n",
       "      <th>People_Hospitalized</th>\n",
       "      <th>Mortality_Rate</th>\n",
       "      <th>UID</th>\n",
       "      <th>ISO3</th>\n",
       "      <th>Cases_28_Days</th>\n",
       "      <th>Deaths_28_Days</th>\n",
       "    </tr>\n",
       "  </thead>\n",
       "  <tbody>\n",
       "    <tr>\n",
       "      <th>0</th>\n",
       "      <td>Afghanistan</td>\n",
       "      <td>2023-03-10 13:21:02</td>\n",
       "      <td>33.93911</td>\n",
       "      <td>67.709953</td>\n",
       "      <td>209484</td>\n",
       "      <td>7896</td>\n",
       "      <td>NaN</td>\n",
       "      <td>NaN</td>\n",
       "      <td>538.127222</td>\n",
       "      <td>NaN</td>\n",
       "      <td>NaN</td>\n",
       "      <td>3.769262</td>\n",
       "      <td>4</td>\n",
       "      <td>AFG</td>\n",
       "      <td>680</td>\n",
       "      <td>0.0</td>\n",
       "    </tr>\n",
       "    <tr>\n",
       "      <th>1</th>\n",
       "      <td>Albania</td>\n",
       "      <td>2023-03-10 13:21:02</td>\n",
       "      <td>41.15330</td>\n",
       "      <td>20.168300</td>\n",
       "      <td>334457</td>\n",
       "      <td>3598</td>\n",
       "      <td>NaN</td>\n",
       "      <td>NaN</td>\n",
       "      <td>11621.968170</td>\n",
       "      <td>NaN</td>\n",
       "      <td>NaN</td>\n",
       "      <td>1.075774</td>\n",
       "      <td>8</td>\n",
       "      <td>ALB</td>\n",
       "      <td>228</td>\n",
       "      <td>2.0</td>\n",
       "    </tr>\n",
       "    <tr>\n",
       "      <th>2</th>\n",
       "      <td>Algeria</td>\n",
       "      <td>2023-03-10 13:21:02</td>\n",
       "      <td>28.03390</td>\n",
       "      <td>1.659600</td>\n",
       "      <td>271496</td>\n",
       "      <td>6881</td>\n",
       "      <td>NaN</td>\n",
       "      <td>NaN</td>\n",
       "      <td>619.132366</td>\n",
       "      <td>NaN</td>\n",
       "      <td>NaN</td>\n",
       "      <td>2.534476</td>\n",
       "      <td>12</td>\n",
       "      <td>DZA</td>\n",
       "      <td>90</td>\n",
       "      <td>0.0</td>\n",
       "    </tr>\n",
       "    <tr>\n",
       "      <th>3</th>\n",
       "      <td>Andorra</td>\n",
       "      <td>2023-03-10 13:21:02</td>\n",
       "      <td>42.50630</td>\n",
       "      <td>1.521800</td>\n",
       "      <td>47890</td>\n",
       "      <td>165</td>\n",
       "      <td>NaN</td>\n",
       "      <td>NaN</td>\n",
       "      <td>61981.492267</td>\n",
       "      <td>NaN</td>\n",
       "      <td>NaN</td>\n",
       "      <td>0.344540</td>\n",
       "      <td>20</td>\n",
       "      <td>AND</td>\n",
       "      <td>30</td>\n",
       "      <td>0.0</td>\n",
       "    </tr>\n",
       "    <tr>\n",
       "      <th>4</th>\n",
       "      <td>Angola</td>\n",
       "      <td>2023-03-10 13:21:02</td>\n",
       "      <td>-11.20270</td>\n",
       "      <td>17.873900</td>\n",
       "      <td>105288</td>\n",
       "      <td>1933</td>\n",
       "      <td>NaN</td>\n",
       "      <td>NaN</td>\n",
       "      <td>320.352770</td>\n",
       "      <td>NaN</td>\n",
       "      <td>NaN</td>\n",
       "      <td>1.835917</td>\n",
       "      <td>24</td>\n",
       "      <td>AGO</td>\n",
       "      <td>104</td>\n",
       "      <td>2.0</td>\n",
       "    </tr>\n",
       "  </tbody>\n",
       "</table>\n",
       "</div>"
      ],
      "text/plain": [
       "  Country_Region          Last_Update       Lat      Long_  Confirmed  Deaths  \\\n",
       "0    Afghanistan  2023-03-10 13:21:02  33.93911  67.709953     209484    7896   \n",
       "1        Albania  2023-03-10 13:21:02  41.15330  20.168300     334457    3598   \n",
       "2        Algeria  2023-03-10 13:21:02  28.03390   1.659600     271496    6881   \n",
       "3        Andorra  2023-03-10 13:21:02  42.50630   1.521800      47890     165   \n",
       "4         Angola  2023-03-10 13:21:02 -11.20270  17.873900     105288    1933   \n",
       "\n",
       "   Recovered  Active  Incident_Rate  People_Tested  People_Hospitalized  \\\n",
       "0        NaN     NaN     538.127222            NaN                  NaN   \n",
       "1        NaN     NaN   11621.968170            NaN                  NaN   \n",
       "2        NaN     NaN     619.132366            NaN                  NaN   \n",
       "3        NaN     NaN   61981.492267            NaN                  NaN   \n",
       "4        NaN     NaN     320.352770            NaN                  NaN   \n",
       "\n",
       "   Mortality_Rate  UID ISO3  Cases_28_Days  Deaths_28_Days  \n",
       "0        3.769262    4  AFG            680             0.0  \n",
       "1        1.075774    8  ALB            228             2.0  \n",
       "2        2.534476   12  DZA             90             0.0  \n",
       "3        0.344540   20  AND             30             0.0  \n",
       "4        1.835917   24  AGO            104             2.0  "
      ]
     },
     "execution_count": 36,
     "metadata": {},
     "output_type": "execute_result"
    }
   ],
   "source": [
    "country_df.head()"
   ]
  },
  {
   "cell_type": "code",
   "execution_count": 37,
   "id": "d9a7ae55-a55d-403b-862c-a0d254bc7fd4",
   "metadata": {},
   "outputs": [],
   "source": [
    "# data cleaning\n",
    "\n",
    "# renaming the df column names to lowercase\n",
    "country_df.columns = map(str.lower, country_df.columns)\n",
    "confirmed_df.columns = map(str.lower, confirmed_df.columns)\n",
    "death_df.columns = map(str.lower, death_df.columns)\n",
    "recovered_df.columns = map(str.lower, recovered_df.columns)"
   ]
  },
  {
   "cell_type": "code",
   "execution_count": 39,
   "id": "11f99bfe-10cc-4440-b036-77c66a186334",
   "metadata": {},
   "outputs": [],
   "source": [
    "# changing province/state to state and country/region to country\n",
    "confirmed_df = confirmed_df.rename(columns={'province/state': 'state', 'country/region': 'country'})\n",
    "recovered_df = confirmed_df.rename(columns={'province/state': 'state', 'country/region': 'country'})\n",
    "death_df = death_df.rename(columns={'province/state': 'state', 'country/region': 'country'})\n",
    "country_df = country_df.rename(columns={'country_region': 'country'})"
   ]
  },
  {
   "cell_type": "code",
   "execution_count": 55,
   "id": "9b428616-9a28-45ac-9a9c-f7adb4217922",
   "metadata": {},
   "outputs": [],
   "source": [
    "sorted_country_df = country_df.sort_values('confirmed', ascending=False).head(10)"
   ]
  },
  {
   "cell_type": "code",
   "execution_count": 56,
   "id": "a8d2ce71-5438-4646-9121-d65f44960b37",
   "metadata": {},
   "outputs": [
    {
     "data": {
      "text/html": [
       "<div>\n",
       "<style scoped>\n",
       "    .dataframe tbody tr th:only-of-type {\n",
       "        vertical-align: middle;\n",
       "    }\n",
       "\n",
       "    .dataframe tbody tr th {\n",
       "        vertical-align: top;\n",
       "    }\n",
       "\n",
       "    .dataframe thead th {\n",
       "        text-align: right;\n",
       "    }\n",
       "</style>\n",
       "<table border=\"1\" class=\"dataframe\">\n",
       "  <thead>\n",
       "    <tr style=\"text-align: right;\">\n",
       "      <th></th>\n",
       "      <th>country</th>\n",
       "      <th>last_update</th>\n",
       "      <th>lat</th>\n",
       "      <th>long_</th>\n",
       "      <th>confirmed</th>\n",
       "      <th>deaths</th>\n",
       "      <th>recovered</th>\n",
       "      <th>active</th>\n",
       "      <th>incident_rate</th>\n",
       "      <th>people_tested</th>\n",
       "      <th>people_hospitalized</th>\n",
       "      <th>mortality_rate</th>\n",
       "      <th>uid</th>\n",
       "      <th>iso3</th>\n",
       "      <th>cases_28_days</th>\n",
       "      <th>deaths_28_days</th>\n",
       "    </tr>\n",
       "  </thead>\n",
       "  <tbody>\n",
       "    <tr>\n",
       "      <th>186</th>\n",
       "      <td>US</td>\n",
       "      <td>2023-03-10 13:21:02</td>\n",
       "      <td>40.000000</td>\n",
       "      <td>-100.000000</td>\n",
       "      <td>103804263</td>\n",
       "      <td>1123836</td>\n",
       "      <td>NaN</td>\n",
       "      <td>NaN</td>\n",
       "      <td>31506.793974</td>\n",
       "      <td>NaN</td>\n",
       "      <td>NaN</td>\n",
       "      <td>1.082649</td>\n",
       "      <td>840</td>\n",
       "      <td>USA</td>\n",
       "      <td>959794</td>\n",
       "      <td>9451.0</td>\n",
       "    </tr>\n",
       "    <tr>\n",
       "      <th>80</th>\n",
       "      <td>India</td>\n",
       "      <td>2023-03-10 13:21:02</td>\n",
       "      <td>20.593684</td>\n",
       "      <td>78.962880</td>\n",
       "      <td>44690738</td>\n",
       "      <td>530779</td>\n",
       "      <td>NaN</td>\n",
       "      <td>NaN</td>\n",
       "      <td>3238.448985</td>\n",
       "      <td>NaN</td>\n",
       "      <td>NaN</td>\n",
       "      <td>1.187671</td>\n",
       "      <td>356</td>\n",
       "      <td>IND</td>\n",
       "      <td>5651</td>\n",
       "      <td>29.0</td>\n",
       "    </tr>\n",
       "    <tr>\n",
       "      <th>63</th>\n",
       "      <td>France</td>\n",
       "      <td>2023-03-10 13:21:02</td>\n",
       "      <td>46.227600</td>\n",
       "      <td>2.213700</td>\n",
       "      <td>39866718</td>\n",
       "      <td>166176</td>\n",
       "      <td>NaN</td>\n",
       "      <td>NaN</td>\n",
       "      <td>61098.565402</td>\n",
       "      <td>NaN</td>\n",
       "      <td>NaN</td>\n",
       "      <td>0.416829</td>\n",
       "      <td>250</td>\n",
       "      <td>FRA</td>\n",
       "      <td>106042</td>\n",
       "      <td>618.0</td>\n",
       "    </tr>\n",
       "    <tr>\n",
       "      <th>67</th>\n",
       "      <td>Germany</td>\n",
       "      <td>2023-03-10 13:21:02</td>\n",
       "      <td>51.165691</td>\n",
       "      <td>10.451526</td>\n",
       "      <td>38249060</td>\n",
       "      <td>168935</td>\n",
       "      <td>NaN</td>\n",
       "      <td>NaN</td>\n",
       "      <td>45997.289088</td>\n",
       "      <td>NaN</td>\n",
       "      <td>NaN</td>\n",
       "      <td>0.441671</td>\n",
       "      <td>276</td>\n",
       "      <td>DEU</td>\n",
       "      <td>355168</td>\n",
       "      <td>2275.0</td>\n",
       "    </tr>\n",
       "    <tr>\n",
       "      <th>24</th>\n",
       "      <td>Brazil</td>\n",
       "      <td>2023-03-10 13:21:02</td>\n",
       "      <td>-14.235000</td>\n",
       "      <td>-51.925300</td>\n",
       "      <td>37085675</td>\n",
       "      <td>699310</td>\n",
       "      <td>NaN</td>\n",
       "      <td>NaN</td>\n",
       "      <td>17447.204607</td>\n",
       "      <td>NaN</td>\n",
       "      <td>NaN</td>\n",
       "      <td>1.885661</td>\n",
       "      <td>76</td>\n",
       "      <td>BRA</td>\n",
       "      <td>170852</td>\n",
       "      <td>1613.0</td>\n",
       "    </tr>\n",
       "    <tr>\n",
       "      <th>88</th>\n",
       "      <td>Japan</td>\n",
       "      <td>2023-03-10 13:21:02</td>\n",
       "      <td>36.204824</td>\n",
       "      <td>138.252924</td>\n",
       "      <td>33329551</td>\n",
       "      <td>73046</td>\n",
       "      <td>NaN</td>\n",
       "      <td>NaN</td>\n",
       "      <td>26352.375396</td>\n",
       "      <td>NaN</td>\n",
       "      <td>NaN</td>\n",
       "      <td>0.219163</td>\n",
       "      <td>392</td>\n",
       "      <td>JPN</td>\n",
       "      <td>418671</td>\n",
       "      <td>2804.0</td>\n",
       "    </tr>\n",
       "    <tr>\n",
       "      <th>94</th>\n",
       "      <td>Korea, South</td>\n",
       "      <td>2023-03-10 13:21:02</td>\n",
       "      <td>35.907757</td>\n",
       "      <td>127.766922</td>\n",
       "      <td>30615522</td>\n",
       "      <td>34093</td>\n",
       "      <td>NaN</td>\n",
       "      <td>NaN</td>\n",
       "      <td>59715.252338</td>\n",
       "      <td>NaN</td>\n",
       "      <td>NaN</td>\n",
       "      <td>0.111359</td>\n",
       "      <td>410</td>\n",
       "      <td>KOR</td>\n",
       "      <td>290039</td>\n",
       "      <td>396.0</td>\n",
       "    </tr>\n",
       "    <tr>\n",
       "      <th>86</th>\n",
       "      <td>Italy</td>\n",
       "      <td>2023-03-10 13:21:02</td>\n",
       "      <td>41.871900</td>\n",
       "      <td>12.567400</td>\n",
       "      <td>25603510</td>\n",
       "      <td>188322</td>\n",
       "      <td>NaN</td>\n",
       "      <td>NaN</td>\n",
       "      <td>42346.569475</td>\n",
       "      <td>NaN</td>\n",
       "      <td>NaN</td>\n",
       "      <td>0.735532</td>\n",
       "      <td>380</td>\n",
       "      <td>ITA</td>\n",
       "      <td>115344</td>\n",
       "      <td>1050.0</td>\n",
       "    </tr>\n",
       "    <tr>\n",
       "      <th>190</th>\n",
       "      <td>United Kingdom</td>\n",
       "      <td>2023-03-10 13:21:02</td>\n",
       "      <td>55.000000</td>\n",
       "      <td>-3.000000</td>\n",
       "      <td>24658705</td>\n",
       "      <td>220721</td>\n",
       "      <td>NaN</td>\n",
       "      <td>NaN</td>\n",
       "      <td>36323.694940</td>\n",
       "      <td>NaN</td>\n",
       "      <td>NaN</td>\n",
       "      <td>0.895104</td>\n",
       "      <td>826</td>\n",
       "      <td>GBR</td>\n",
       "      <td>109608</td>\n",
       "      <td>70.0</td>\n",
       "    </tr>\n",
       "    <tr>\n",
       "      <th>147</th>\n",
       "      <td>Russia</td>\n",
       "      <td>2023-03-10 13:21:02</td>\n",
       "      <td>61.524000</td>\n",
       "      <td>105.318800</td>\n",
       "      <td>22086064</td>\n",
       "      <td>388521</td>\n",
       "      <td>NaN</td>\n",
       "      <td>NaN</td>\n",
       "      <td>15134.234916</td>\n",
       "      <td>NaN</td>\n",
       "      <td>NaN</td>\n",
       "      <td>1.759123</td>\n",
       "      <td>643</td>\n",
       "      <td>RUS</td>\n",
       "      <td>350549</td>\n",
       "      <td>989.0</td>\n",
       "    </tr>\n",
       "  </tbody>\n",
       "</table>\n",
       "</div>"
      ],
      "text/plain": [
       "            country          last_update        lat       long_  confirmed  \\\n",
       "186              US  2023-03-10 13:21:02  40.000000 -100.000000  103804263   \n",
       "80            India  2023-03-10 13:21:02  20.593684   78.962880   44690738   \n",
       "63           France  2023-03-10 13:21:02  46.227600    2.213700   39866718   \n",
       "67          Germany  2023-03-10 13:21:02  51.165691   10.451526   38249060   \n",
       "24           Brazil  2023-03-10 13:21:02 -14.235000  -51.925300   37085675   \n",
       "88            Japan  2023-03-10 13:21:02  36.204824  138.252924   33329551   \n",
       "94     Korea, South  2023-03-10 13:21:02  35.907757  127.766922   30615522   \n",
       "86            Italy  2023-03-10 13:21:02  41.871900   12.567400   25603510   \n",
       "190  United Kingdom  2023-03-10 13:21:02  55.000000   -3.000000   24658705   \n",
       "147          Russia  2023-03-10 13:21:02  61.524000  105.318800   22086064   \n",
       "\n",
       "      deaths  recovered  active  incident_rate  people_tested  \\\n",
       "186  1123836        NaN     NaN   31506.793974            NaN   \n",
       "80    530779        NaN     NaN    3238.448985            NaN   \n",
       "63    166176        NaN     NaN   61098.565402            NaN   \n",
       "67    168935        NaN     NaN   45997.289088            NaN   \n",
       "24    699310        NaN     NaN   17447.204607            NaN   \n",
       "88     73046        NaN     NaN   26352.375396            NaN   \n",
       "94     34093        NaN     NaN   59715.252338            NaN   \n",
       "86    188322        NaN     NaN   42346.569475            NaN   \n",
       "190   220721        NaN     NaN   36323.694940            NaN   \n",
       "147   388521        NaN     NaN   15134.234916            NaN   \n",
       "\n",
       "     people_hospitalized  mortality_rate  uid iso3  cases_28_days  \\\n",
       "186                  NaN        1.082649  840  USA         959794   \n",
       "80                   NaN        1.187671  356  IND           5651   \n",
       "63                   NaN        0.416829  250  FRA         106042   \n",
       "67                   NaN        0.441671  276  DEU         355168   \n",
       "24                   NaN        1.885661   76  BRA         170852   \n",
       "88                   NaN        0.219163  392  JPN         418671   \n",
       "94                   NaN        0.111359  410  KOR         290039   \n",
       "86                   NaN        0.735532  380  ITA         115344   \n",
       "190                  NaN        0.895104  826  GBR         109608   \n",
       "147                  NaN        1.759123  643  RUS         350549   \n",
       "\n",
       "     deaths_28_days  \n",
       "186          9451.0  \n",
       "80             29.0  \n",
       "63            618.0  \n",
       "67           2275.0  \n",
       "24           1613.0  \n",
       "88           2804.0  \n",
       "94            396.0  \n",
       "86           1050.0  \n",
       "190            70.0  \n",
       "147           989.0  "
      ]
     },
     "execution_count": 56,
     "metadata": {},
     "output_type": "execute_result"
    }
   ],
   "source": [
    "sorted_country_df"
   ]
  },
  {
   "cell_type": "code",
   "execution_count": 57,
   "id": "76838b4f-9098-43b0-8eb9-77652bb75f01",
   "metadata": {},
   "outputs": [
    {
     "data": {
      "text/html": [
       "<style type=\"text/css\">\n",
       "#T_60eba_row0_col4, #T_60eba_row1_col4, #T_60eba_row2_col4, #T_60eba_row3_col4, #T_60eba_row4_col4, #T_60eba_row5_col4, #T_60eba_row6_col4, #T_60eba_row7_col4, #T_60eba_row8_col4, #T_60eba_row9_col4 {\n",
       "  background-color: yellow;\n",
       "}\n",
       "#T_60eba_row0_col5, #T_60eba_row1_col5, #T_60eba_row2_col5, #T_60eba_row3_col5, #T_60eba_row4_col5, #T_60eba_row5_col5, #T_60eba_row6_col5, #T_60eba_row7_col5, #T_60eba_row8_col5, #T_60eba_row9_col5 {\n",
       "  background-color: red;\n",
       "}\n",
       "#T_60eba_row0_col6, #T_60eba_row1_col6, #T_60eba_row2_col6, #T_60eba_row3_col6, #T_60eba_row4_col6, #T_60eba_row5_col6, #T_60eba_row6_col6, #T_60eba_row7_col6, #T_60eba_row8_col6, #T_60eba_row9_col6 {\n",
       "  background-color: gray;\n",
       "}\n",
       "</style>\n",
       "<table id=\"T_60eba\">\n",
       "  <thead>\n",
       "    <tr>\n",
       "      <th class=\"blank level0\" >&nbsp;</th>\n",
       "      <th id=\"T_60eba_level0_col0\" class=\"col_heading level0 col0\" >country</th>\n",
       "      <th id=\"T_60eba_level0_col1\" class=\"col_heading level0 col1\" >last_update</th>\n",
       "      <th id=\"T_60eba_level0_col2\" class=\"col_heading level0 col2\" >lat</th>\n",
       "      <th id=\"T_60eba_level0_col3\" class=\"col_heading level0 col3\" >long_</th>\n",
       "      <th id=\"T_60eba_level0_col4\" class=\"col_heading level0 col4\" >confirmed</th>\n",
       "      <th id=\"T_60eba_level0_col5\" class=\"col_heading level0 col5\" >deaths</th>\n",
       "      <th id=\"T_60eba_level0_col6\" class=\"col_heading level0 col6\" >recovered</th>\n",
       "      <th id=\"T_60eba_level0_col7\" class=\"col_heading level0 col7\" >active</th>\n",
       "      <th id=\"T_60eba_level0_col8\" class=\"col_heading level0 col8\" >incident_rate</th>\n",
       "      <th id=\"T_60eba_level0_col9\" class=\"col_heading level0 col9\" >people_tested</th>\n",
       "      <th id=\"T_60eba_level0_col10\" class=\"col_heading level0 col10\" >people_hospitalized</th>\n",
       "      <th id=\"T_60eba_level0_col11\" class=\"col_heading level0 col11\" >mortality_rate</th>\n",
       "      <th id=\"T_60eba_level0_col12\" class=\"col_heading level0 col12\" >uid</th>\n",
       "      <th id=\"T_60eba_level0_col13\" class=\"col_heading level0 col13\" >iso3</th>\n",
       "      <th id=\"T_60eba_level0_col14\" class=\"col_heading level0 col14\" >cases_28_days</th>\n",
       "      <th id=\"T_60eba_level0_col15\" class=\"col_heading level0 col15\" >deaths_28_days</th>\n",
       "    </tr>\n",
       "  </thead>\n",
       "  <tbody>\n",
       "    <tr>\n",
       "      <th id=\"T_60eba_level0_row0\" class=\"row_heading level0 row0\" >186</th>\n",
       "      <td id=\"T_60eba_row0_col0\" class=\"data row0 col0\" >US</td>\n",
       "      <td id=\"T_60eba_row0_col1\" class=\"data row0 col1\" >2023-03-10 13:21:02</td>\n",
       "      <td id=\"T_60eba_row0_col2\" class=\"data row0 col2\" >40.000000</td>\n",
       "      <td id=\"T_60eba_row0_col3\" class=\"data row0 col3\" >-100.000000</td>\n",
       "      <td id=\"T_60eba_row0_col4\" class=\"data row0 col4\" >103804263</td>\n",
       "      <td id=\"T_60eba_row0_col5\" class=\"data row0 col5\" >1123836</td>\n",
       "      <td id=\"T_60eba_row0_col6\" class=\"data row0 col6\" >nan</td>\n",
       "      <td id=\"T_60eba_row0_col7\" class=\"data row0 col7\" >nan</td>\n",
       "      <td id=\"T_60eba_row0_col8\" class=\"data row0 col8\" >31506.793974</td>\n",
       "      <td id=\"T_60eba_row0_col9\" class=\"data row0 col9\" >nan</td>\n",
       "      <td id=\"T_60eba_row0_col10\" class=\"data row0 col10\" >nan</td>\n",
       "      <td id=\"T_60eba_row0_col11\" class=\"data row0 col11\" >1.082649</td>\n",
       "      <td id=\"T_60eba_row0_col12\" class=\"data row0 col12\" >840</td>\n",
       "      <td id=\"T_60eba_row0_col13\" class=\"data row0 col13\" >USA</td>\n",
       "      <td id=\"T_60eba_row0_col14\" class=\"data row0 col14\" >959794</td>\n",
       "      <td id=\"T_60eba_row0_col15\" class=\"data row0 col15\" >9451.000000</td>\n",
       "    </tr>\n",
       "    <tr>\n",
       "      <th id=\"T_60eba_level0_row1\" class=\"row_heading level0 row1\" >80</th>\n",
       "      <td id=\"T_60eba_row1_col0\" class=\"data row1 col0\" >India</td>\n",
       "      <td id=\"T_60eba_row1_col1\" class=\"data row1 col1\" >2023-03-10 13:21:02</td>\n",
       "      <td id=\"T_60eba_row1_col2\" class=\"data row1 col2\" >20.593684</td>\n",
       "      <td id=\"T_60eba_row1_col3\" class=\"data row1 col3\" >78.962880</td>\n",
       "      <td id=\"T_60eba_row1_col4\" class=\"data row1 col4\" >44690738</td>\n",
       "      <td id=\"T_60eba_row1_col5\" class=\"data row1 col5\" >530779</td>\n",
       "      <td id=\"T_60eba_row1_col6\" class=\"data row1 col6\" >nan</td>\n",
       "      <td id=\"T_60eba_row1_col7\" class=\"data row1 col7\" >nan</td>\n",
       "      <td id=\"T_60eba_row1_col8\" class=\"data row1 col8\" >3238.448985</td>\n",
       "      <td id=\"T_60eba_row1_col9\" class=\"data row1 col9\" >nan</td>\n",
       "      <td id=\"T_60eba_row1_col10\" class=\"data row1 col10\" >nan</td>\n",
       "      <td id=\"T_60eba_row1_col11\" class=\"data row1 col11\" >1.187671</td>\n",
       "      <td id=\"T_60eba_row1_col12\" class=\"data row1 col12\" >356</td>\n",
       "      <td id=\"T_60eba_row1_col13\" class=\"data row1 col13\" >IND</td>\n",
       "      <td id=\"T_60eba_row1_col14\" class=\"data row1 col14\" >5651</td>\n",
       "      <td id=\"T_60eba_row1_col15\" class=\"data row1 col15\" >29.000000</td>\n",
       "    </tr>\n",
       "    <tr>\n",
       "      <th id=\"T_60eba_level0_row2\" class=\"row_heading level0 row2\" >63</th>\n",
       "      <td id=\"T_60eba_row2_col0\" class=\"data row2 col0\" >France</td>\n",
       "      <td id=\"T_60eba_row2_col1\" class=\"data row2 col1\" >2023-03-10 13:21:02</td>\n",
       "      <td id=\"T_60eba_row2_col2\" class=\"data row2 col2\" >46.227600</td>\n",
       "      <td id=\"T_60eba_row2_col3\" class=\"data row2 col3\" >2.213700</td>\n",
       "      <td id=\"T_60eba_row2_col4\" class=\"data row2 col4\" >39866718</td>\n",
       "      <td id=\"T_60eba_row2_col5\" class=\"data row2 col5\" >166176</td>\n",
       "      <td id=\"T_60eba_row2_col6\" class=\"data row2 col6\" >nan</td>\n",
       "      <td id=\"T_60eba_row2_col7\" class=\"data row2 col7\" >nan</td>\n",
       "      <td id=\"T_60eba_row2_col8\" class=\"data row2 col8\" >61098.565402</td>\n",
       "      <td id=\"T_60eba_row2_col9\" class=\"data row2 col9\" >nan</td>\n",
       "      <td id=\"T_60eba_row2_col10\" class=\"data row2 col10\" >nan</td>\n",
       "      <td id=\"T_60eba_row2_col11\" class=\"data row2 col11\" >0.416829</td>\n",
       "      <td id=\"T_60eba_row2_col12\" class=\"data row2 col12\" >250</td>\n",
       "      <td id=\"T_60eba_row2_col13\" class=\"data row2 col13\" >FRA</td>\n",
       "      <td id=\"T_60eba_row2_col14\" class=\"data row2 col14\" >106042</td>\n",
       "      <td id=\"T_60eba_row2_col15\" class=\"data row2 col15\" >618.000000</td>\n",
       "    </tr>\n",
       "    <tr>\n",
       "      <th id=\"T_60eba_level0_row3\" class=\"row_heading level0 row3\" >67</th>\n",
       "      <td id=\"T_60eba_row3_col0\" class=\"data row3 col0\" >Germany</td>\n",
       "      <td id=\"T_60eba_row3_col1\" class=\"data row3 col1\" >2023-03-10 13:21:02</td>\n",
       "      <td id=\"T_60eba_row3_col2\" class=\"data row3 col2\" >51.165691</td>\n",
       "      <td id=\"T_60eba_row3_col3\" class=\"data row3 col3\" >10.451526</td>\n",
       "      <td id=\"T_60eba_row3_col4\" class=\"data row3 col4\" >38249060</td>\n",
       "      <td id=\"T_60eba_row3_col5\" class=\"data row3 col5\" >168935</td>\n",
       "      <td id=\"T_60eba_row3_col6\" class=\"data row3 col6\" >nan</td>\n",
       "      <td id=\"T_60eba_row3_col7\" class=\"data row3 col7\" >nan</td>\n",
       "      <td id=\"T_60eba_row3_col8\" class=\"data row3 col8\" >45997.289088</td>\n",
       "      <td id=\"T_60eba_row3_col9\" class=\"data row3 col9\" >nan</td>\n",
       "      <td id=\"T_60eba_row3_col10\" class=\"data row3 col10\" >nan</td>\n",
       "      <td id=\"T_60eba_row3_col11\" class=\"data row3 col11\" >0.441671</td>\n",
       "      <td id=\"T_60eba_row3_col12\" class=\"data row3 col12\" >276</td>\n",
       "      <td id=\"T_60eba_row3_col13\" class=\"data row3 col13\" >DEU</td>\n",
       "      <td id=\"T_60eba_row3_col14\" class=\"data row3 col14\" >355168</td>\n",
       "      <td id=\"T_60eba_row3_col15\" class=\"data row3 col15\" >2275.000000</td>\n",
       "    </tr>\n",
       "    <tr>\n",
       "      <th id=\"T_60eba_level0_row4\" class=\"row_heading level0 row4\" >24</th>\n",
       "      <td id=\"T_60eba_row4_col0\" class=\"data row4 col0\" >Brazil</td>\n",
       "      <td id=\"T_60eba_row4_col1\" class=\"data row4 col1\" >2023-03-10 13:21:02</td>\n",
       "      <td id=\"T_60eba_row4_col2\" class=\"data row4 col2\" >-14.235000</td>\n",
       "      <td id=\"T_60eba_row4_col3\" class=\"data row4 col3\" >-51.925300</td>\n",
       "      <td id=\"T_60eba_row4_col4\" class=\"data row4 col4\" >37085675</td>\n",
       "      <td id=\"T_60eba_row4_col5\" class=\"data row4 col5\" >699310</td>\n",
       "      <td id=\"T_60eba_row4_col6\" class=\"data row4 col6\" >nan</td>\n",
       "      <td id=\"T_60eba_row4_col7\" class=\"data row4 col7\" >nan</td>\n",
       "      <td id=\"T_60eba_row4_col8\" class=\"data row4 col8\" >17447.204607</td>\n",
       "      <td id=\"T_60eba_row4_col9\" class=\"data row4 col9\" >nan</td>\n",
       "      <td id=\"T_60eba_row4_col10\" class=\"data row4 col10\" >nan</td>\n",
       "      <td id=\"T_60eba_row4_col11\" class=\"data row4 col11\" >1.885661</td>\n",
       "      <td id=\"T_60eba_row4_col12\" class=\"data row4 col12\" >76</td>\n",
       "      <td id=\"T_60eba_row4_col13\" class=\"data row4 col13\" >BRA</td>\n",
       "      <td id=\"T_60eba_row4_col14\" class=\"data row4 col14\" >170852</td>\n",
       "      <td id=\"T_60eba_row4_col15\" class=\"data row4 col15\" >1613.000000</td>\n",
       "    </tr>\n",
       "    <tr>\n",
       "      <th id=\"T_60eba_level0_row5\" class=\"row_heading level0 row5\" >88</th>\n",
       "      <td id=\"T_60eba_row5_col0\" class=\"data row5 col0\" >Japan</td>\n",
       "      <td id=\"T_60eba_row5_col1\" class=\"data row5 col1\" >2023-03-10 13:21:02</td>\n",
       "      <td id=\"T_60eba_row5_col2\" class=\"data row5 col2\" >36.204824</td>\n",
       "      <td id=\"T_60eba_row5_col3\" class=\"data row5 col3\" >138.252924</td>\n",
       "      <td id=\"T_60eba_row5_col4\" class=\"data row5 col4\" >33329551</td>\n",
       "      <td id=\"T_60eba_row5_col5\" class=\"data row5 col5\" >73046</td>\n",
       "      <td id=\"T_60eba_row5_col6\" class=\"data row5 col6\" >nan</td>\n",
       "      <td id=\"T_60eba_row5_col7\" class=\"data row5 col7\" >nan</td>\n",
       "      <td id=\"T_60eba_row5_col8\" class=\"data row5 col8\" >26352.375396</td>\n",
       "      <td id=\"T_60eba_row5_col9\" class=\"data row5 col9\" >nan</td>\n",
       "      <td id=\"T_60eba_row5_col10\" class=\"data row5 col10\" >nan</td>\n",
       "      <td id=\"T_60eba_row5_col11\" class=\"data row5 col11\" >0.219163</td>\n",
       "      <td id=\"T_60eba_row5_col12\" class=\"data row5 col12\" >392</td>\n",
       "      <td id=\"T_60eba_row5_col13\" class=\"data row5 col13\" >JPN</td>\n",
       "      <td id=\"T_60eba_row5_col14\" class=\"data row5 col14\" >418671</td>\n",
       "      <td id=\"T_60eba_row5_col15\" class=\"data row5 col15\" >2804.000000</td>\n",
       "    </tr>\n",
       "    <tr>\n",
       "      <th id=\"T_60eba_level0_row6\" class=\"row_heading level0 row6\" >94</th>\n",
       "      <td id=\"T_60eba_row6_col0\" class=\"data row6 col0\" >Korea, South</td>\n",
       "      <td id=\"T_60eba_row6_col1\" class=\"data row6 col1\" >2023-03-10 13:21:02</td>\n",
       "      <td id=\"T_60eba_row6_col2\" class=\"data row6 col2\" >35.907757</td>\n",
       "      <td id=\"T_60eba_row6_col3\" class=\"data row6 col3\" >127.766922</td>\n",
       "      <td id=\"T_60eba_row6_col4\" class=\"data row6 col4\" >30615522</td>\n",
       "      <td id=\"T_60eba_row6_col5\" class=\"data row6 col5\" >34093</td>\n",
       "      <td id=\"T_60eba_row6_col6\" class=\"data row6 col6\" >nan</td>\n",
       "      <td id=\"T_60eba_row6_col7\" class=\"data row6 col7\" >nan</td>\n",
       "      <td id=\"T_60eba_row6_col8\" class=\"data row6 col8\" >59715.252338</td>\n",
       "      <td id=\"T_60eba_row6_col9\" class=\"data row6 col9\" >nan</td>\n",
       "      <td id=\"T_60eba_row6_col10\" class=\"data row6 col10\" >nan</td>\n",
       "      <td id=\"T_60eba_row6_col11\" class=\"data row6 col11\" >0.111359</td>\n",
       "      <td id=\"T_60eba_row6_col12\" class=\"data row6 col12\" >410</td>\n",
       "      <td id=\"T_60eba_row6_col13\" class=\"data row6 col13\" >KOR</td>\n",
       "      <td id=\"T_60eba_row6_col14\" class=\"data row6 col14\" >290039</td>\n",
       "      <td id=\"T_60eba_row6_col15\" class=\"data row6 col15\" >396.000000</td>\n",
       "    </tr>\n",
       "    <tr>\n",
       "      <th id=\"T_60eba_level0_row7\" class=\"row_heading level0 row7\" >86</th>\n",
       "      <td id=\"T_60eba_row7_col0\" class=\"data row7 col0\" >Italy</td>\n",
       "      <td id=\"T_60eba_row7_col1\" class=\"data row7 col1\" >2023-03-10 13:21:02</td>\n",
       "      <td id=\"T_60eba_row7_col2\" class=\"data row7 col2\" >41.871900</td>\n",
       "      <td id=\"T_60eba_row7_col3\" class=\"data row7 col3\" >12.567400</td>\n",
       "      <td id=\"T_60eba_row7_col4\" class=\"data row7 col4\" >25603510</td>\n",
       "      <td id=\"T_60eba_row7_col5\" class=\"data row7 col5\" >188322</td>\n",
       "      <td id=\"T_60eba_row7_col6\" class=\"data row7 col6\" >nan</td>\n",
       "      <td id=\"T_60eba_row7_col7\" class=\"data row7 col7\" >nan</td>\n",
       "      <td id=\"T_60eba_row7_col8\" class=\"data row7 col8\" >42346.569475</td>\n",
       "      <td id=\"T_60eba_row7_col9\" class=\"data row7 col9\" >nan</td>\n",
       "      <td id=\"T_60eba_row7_col10\" class=\"data row7 col10\" >nan</td>\n",
       "      <td id=\"T_60eba_row7_col11\" class=\"data row7 col11\" >0.735532</td>\n",
       "      <td id=\"T_60eba_row7_col12\" class=\"data row7 col12\" >380</td>\n",
       "      <td id=\"T_60eba_row7_col13\" class=\"data row7 col13\" >ITA</td>\n",
       "      <td id=\"T_60eba_row7_col14\" class=\"data row7 col14\" >115344</td>\n",
       "      <td id=\"T_60eba_row7_col15\" class=\"data row7 col15\" >1050.000000</td>\n",
       "    </tr>\n",
       "    <tr>\n",
       "      <th id=\"T_60eba_level0_row8\" class=\"row_heading level0 row8\" >190</th>\n",
       "      <td id=\"T_60eba_row8_col0\" class=\"data row8 col0\" >United Kingdom</td>\n",
       "      <td id=\"T_60eba_row8_col1\" class=\"data row8 col1\" >2023-03-10 13:21:02</td>\n",
       "      <td id=\"T_60eba_row8_col2\" class=\"data row8 col2\" >55.000000</td>\n",
       "      <td id=\"T_60eba_row8_col3\" class=\"data row8 col3\" >-3.000000</td>\n",
       "      <td id=\"T_60eba_row8_col4\" class=\"data row8 col4\" >24658705</td>\n",
       "      <td id=\"T_60eba_row8_col5\" class=\"data row8 col5\" >220721</td>\n",
       "      <td id=\"T_60eba_row8_col6\" class=\"data row8 col6\" >nan</td>\n",
       "      <td id=\"T_60eba_row8_col7\" class=\"data row8 col7\" >nan</td>\n",
       "      <td id=\"T_60eba_row8_col8\" class=\"data row8 col8\" >36323.694940</td>\n",
       "      <td id=\"T_60eba_row8_col9\" class=\"data row8 col9\" >nan</td>\n",
       "      <td id=\"T_60eba_row8_col10\" class=\"data row8 col10\" >nan</td>\n",
       "      <td id=\"T_60eba_row8_col11\" class=\"data row8 col11\" >0.895104</td>\n",
       "      <td id=\"T_60eba_row8_col12\" class=\"data row8 col12\" >826</td>\n",
       "      <td id=\"T_60eba_row8_col13\" class=\"data row8 col13\" >GBR</td>\n",
       "      <td id=\"T_60eba_row8_col14\" class=\"data row8 col14\" >109608</td>\n",
       "      <td id=\"T_60eba_row8_col15\" class=\"data row8 col15\" >70.000000</td>\n",
       "    </tr>\n",
       "    <tr>\n",
       "      <th id=\"T_60eba_level0_row9\" class=\"row_heading level0 row9\" >147</th>\n",
       "      <td id=\"T_60eba_row9_col0\" class=\"data row9 col0\" >Russia</td>\n",
       "      <td id=\"T_60eba_row9_col1\" class=\"data row9 col1\" >2023-03-10 13:21:02</td>\n",
       "      <td id=\"T_60eba_row9_col2\" class=\"data row9 col2\" >61.524000</td>\n",
       "      <td id=\"T_60eba_row9_col3\" class=\"data row9 col3\" >105.318800</td>\n",
       "      <td id=\"T_60eba_row9_col4\" class=\"data row9 col4\" >22086064</td>\n",
       "      <td id=\"T_60eba_row9_col5\" class=\"data row9 col5\" >388521</td>\n",
       "      <td id=\"T_60eba_row9_col6\" class=\"data row9 col6\" >nan</td>\n",
       "      <td id=\"T_60eba_row9_col7\" class=\"data row9 col7\" >nan</td>\n",
       "      <td id=\"T_60eba_row9_col8\" class=\"data row9 col8\" >15134.234916</td>\n",
       "      <td id=\"T_60eba_row9_col9\" class=\"data row9 col9\" >nan</td>\n",
       "      <td id=\"T_60eba_row9_col10\" class=\"data row9 col10\" >nan</td>\n",
       "      <td id=\"T_60eba_row9_col11\" class=\"data row9 col11\" >1.759123</td>\n",
       "      <td id=\"T_60eba_row9_col12\" class=\"data row9 col12\" >643</td>\n",
       "      <td id=\"T_60eba_row9_col13\" class=\"data row9 col13\" >RUS</td>\n",
       "      <td id=\"T_60eba_row9_col14\" class=\"data row9 col14\" >350549</td>\n",
       "      <td id=\"T_60eba_row9_col15\" class=\"data row9 col15\" >989.000000</td>\n",
       "    </tr>\n",
       "  </tbody>\n",
       "</table>\n"
      ],
      "text/plain": [
       "<pandas.io.formats.style.Styler at 0x259f62f8080>"
      ]
     },
     "execution_count": 57,
     "metadata": {},
     "output_type": "execute_result"
    }
   ],
   "source": [
    "def highlight_col(x):\n",
    "    r = 'background-color: red'\n",
    "    p = 'background-color: yellow'\n",
    "    g = 'background-color: gray'\n",
    "    temp_df = pd.DataFrame('', index=x.index, columns = x.columns)\n",
    "    temp_df.iloc[:,4] = p\n",
    "    temp_df.iloc[:,5] = r\n",
    "    temp_df.iloc[:,6] = g\n",
    "    return temp_df\n",
    "sorted_country_df.style.apply(highlight_col, axis=None)"
   ]
  },
  {
   "cell_type": "code",
   "execution_count": 58,
   "id": "ae27c3a1-ddf1-4110-9562-ba0ec6617215",
   "metadata": {},
   "outputs": [],
   "source": [
    "import plotly.express as px"
   ]
  },
  {
   "cell_type": "code",
   "execution_count": 60,
   "id": "9c776b35-e6dd-4573-beaf-06c13e94861e",
   "metadata": {},
   "outputs": [
    {
     "data": {
      "application/vnd.plotly.v1+json": {
       "config": {
        "plotlyServerURL": "https://plot.ly"
       },
       "data": [
        {
         "hovertemplate": "<b>%{hovertext}</b><br><br>country=%{x}<br>confirmed=%{marker.size}<extra></extra>",
         "hovertext": [
          "US"
         ],
         "legendgroup": "US",
         "marker": {
          "color": "#636efa",
          "size": [
           103804263
          ],
          "sizemode": "area",
          "sizeref": 28834.5175,
          "symbol": "circle"
         },
         "mode": "markers",
         "name": "US",
         "orientation": "v",
         "showlegend": true,
         "type": "scatter",
         "x": [
          "US"
         ],
         "xaxis": "x",
         "y": [
          103804263
         ],
         "yaxis": "y"
        },
        {
         "hovertemplate": "<b>%{hovertext}</b><br><br>country=%{x}<br>confirmed=%{marker.size}<extra></extra>",
         "hovertext": [
          "India"
         ],
         "legendgroup": "India",
         "marker": {
          "color": "#EF553B",
          "size": [
           44690738
          ],
          "sizemode": "area",
          "sizeref": 28834.5175,
          "symbol": "circle"
         },
         "mode": "markers",
         "name": "India",
         "orientation": "v",
         "showlegend": true,
         "type": "scatter",
         "x": [
          "India"
         ],
         "xaxis": "x",
         "y": [
          44690738
         ],
         "yaxis": "y"
        },
        {
         "hovertemplate": "<b>%{hovertext}</b><br><br>country=%{x}<br>confirmed=%{marker.size}<extra></extra>",
         "hovertext": [
          "France"
         ],
         "legendgroup": "France",
         "marker": {
          "color": "#00cc96",
          "size": [
           39866718
          ],
          "sizemode": "area",
          "sizeref": 28834.5175,
          "symbol": "circle"
         },
         "mode": "markers",
         "name": "France",
         "orientation": "v",
         "showlegend": true,
         "type": "scatter",
         "x": [
          "France"
         ],
         "xaxis": "x",
         "y": [
          39866718
         ],
         "yaxis": "y"
        },
        {
         "hovertemplate": "<b>%{hovertext}</b><br><br>country=%{x}<br>confirmed=%{marker.size}<extra></extra>",
         "hovertext": [
          "Germany"
         ],
         "legendgroup": "Germany",
         "marker": {
          "color": "#ab63fa",
          "size": [
           38249060
          ],
          "sizemode": "area",
          "sizeref": 28834.5175,
          "symbol": "circle"
         },
         "mode": "markers",
         "name": "Germany",
         "orientation": "v",
         "showlegend": true,
         "type": "scatter",
         "x": [
          "Germany"
         ],
         "xaxis": "x",
         "y": [
          38249060
         ],
         "yaxis": "y"
        },
        {
         "hovertemplate": "<b>%{hovertext}</b><br><br>country=%{x}<br>confirmed=%{marker.size}<extra></extra>",
         "hovertext": [
          "Brazil"
         ],
         "legendgroup": "Brazil",
         "marker": {
          "color": "#FFA15A",
          "size": [
           37085675
          ],
          "sizemode": "area",
          "sizeref": 28834.5175,
          "symbol": "circle"
         },
         "mode": "markers",
         "name": "Brazil",
         "orientation": "v",
         "showlegend": true,
         "type": "scatter",
         "x": [
          "Brazil"
         ],
         "xaxis": "x",
         "y": [
          37085675
         ],
         "yaxis": "y"
        },
        {
         "hovertemplate": "<b>%{hovertext}</b><br><br>country=%{x}<br>confirmed=%{marker.size}<extra></extra>",
         "hovertext": [
          "Japan"
         ],
         "legendgroup": "Japan",
         "marker": {
          "color": "#19d3f3",
          "size": [
           33329551
          ],
          "sizemode": "area",
          "sizeref": 28834.5175,
          "symbol": "circle"
         },
         "mode": "markers",
         "name": "Japan",
         "orientation": "v",
         "showlegend": true,
         "type": "scatter",
         "x": [
          "Japan"
         ],
         "xaxis": "x",
         "y": [
          33329551
         ],
         "yaxis": "y"
        },
        {
         "hovertemplate": "<b>%{hovertext}</b><br><br>country=%{x}<br>confirmed=%{marker.size}<extra></extra>",
         "hovertext": [
          "Korea, South"
         ],
         "legendgroup": "Korea, South",
         "marker": {
          "color": "#FF6692",
          "size": [
           30615522
          ],
          "sizemode": "area",
          "sizeref": 28834.5175,
          "symbol": "circle"
         },
         "mode": "markers",
         "name": "Korea, South",
         "orientation": "v",
         "showlegend": true,
         "type": "scatter",
         "x": [
          "Korea, South"
         ],
         "xaxis": "x",
         "y": [
          30615522
         ],
         "yaxis": "y"
        },
        {
         "hovertemplate": "<b>%{hovertext}</b><br><br>country=%{x}<br>confirmed=%{marker.size}<extra></extra>",
         "hovertext": [
          "Italy"
         ],
         "legendgroup": "Italy",
         "marker": {
          "color": "#B6E880",
          "size": [
           25603510
          ],
          "sizemode": "area",
          "sizeref": 28834.5175,
          "symbol": "circle"
         },
         "mode": "markers",
         "name": "Italy",
         "orientation": "v",
         "showlegend": true,
         "type": "scatter",
         "x": [
          "Italy"
         ],
         "xaxis": "x",
         "y": [
          25603510
         ],
         "yaxis": "y"
        },
        {
         "hovertemplate": "<b>%{hovertext}</b><br><br>country=%{x}<br>confirmed=%{marker.size}<extra></extra>",
         "hovertext": [
          "United Kingdom"
         ],
         "legendgroup": "United Kingdom",
         "marker": {
          "color": "#FF97FF",
          "size": [
           24658705
          ],
          "sizemode": "area",
          "sizeref": 28834.5175,
          "symbol": "circle"
         },
         "mode": "markers",
         "name": "United Kingdom",
         "orientation": "v",
         "showlegend": true,
         "type": "scatter",
         "x": [
          "United Kingdom"
         ],
         "xaxis": "x",
         "y": [
          24658705
         ],
         "yaxis": "y"
        },
        {
         "hovertemplate": "<b>%{hovertext}</b><br><br>country=%{x}<br>confirmed=%{marker.size}<extra></extra>",
         "hovertext": [
          "Russia"
         ],
         "legendgroup": "Russia",
         "marker": {
          "color": "#FECB52",
          "size": [
           22086064
          ],
          "sizemode": "area",
          "sizeref": 28834.5175,
          "symbol": "circle"
         },
         "mode": "markers",
         "name": "Russia",
         "orientation": "v",
         "showlegend": true,
         "type": "scatter",
         "x": [
          "Russia"
         ],
         "xaxis": "x",
         "y": [
          22086064
         ],
         "yaxis": "y"
        }
       ],
       "layout": {
        "autosize": true,
        "legend": {
         "itemsizing": "constant",
         "title": {
          "text": "country"
         },
         "tracegroupgap": 0
        },
        "margin": {
         "t": 60
        },
        "template": {
         "data": {
          "bar": [
           {
            "error_x": {
             "color": "#2a3f5f"
            },
            "error_y": {
             "color": "#2a3f5f"
            },
            "marker": {
             "line": {
              "color": "#E5ECF6",
              "width": 0.5
             },
             "pattern": {
              "fillmode": "overlay",
              "size": 10,
              "solidity": 0.2
             }
            },
            "type": "bar"
           }
          ],
          "barpolar": [
           {
            "marker": {
             "line": {
              "color": "#E5ECF6",
              "width": 0.5
             },
             "pattern": {
              "fillmode": "overlay",
              "size": 10,
              "solidity": 0.2
             }
            },
            "type": "barpolar"
           }
          ],
          "carpet": [
           {
            "aaxis": {
             "endlinecolor": "#2a3f5f",
             "gridcolor": "white",
             "linecolor": "white",
             "minorgridcolor": "white",
             "startlinecolor": "#2a3f5f"
            },
            "baxis": {
             "endlinecolor": "#2a3f5f",
             "gridcolor": "white",
             "linecolor": "white",
             "minorgridcolor": "white",
             "startlinecolor": "#2a3f5f"
            },
            "type": "carpet"
           }
          ],
          "choropleth": [
           {
            "colorbar": {
             "outlinewidth": 0,
             "ticks": ""
            },
            "type": "choropleth"
           }
          ],
          "contour": [
           {
            "colorbar": {
             "outlinewidth": 0,
             "ticks": ""
            },
            "colorscale": [
             [
              0,
              "#0d0887"
             ],
             [
              0.1111111111111111,
              "#46039f"
             ],
             [
              0.2222222222222222,
              "#7201a8"
             ],
             [
              0.3333333333333333,
              "#9c179e"
             ],
             [
              0.4444444444444444,
              "#bd3786"
             ],
             [
              0.5555555555555556,
              "#d8576b"
             ],
             [
              0.6666666666666666,
              "#ed7953"
             ],
             [
              0.7777777777777778,
              "#fb9f3a"
             ],
             [
              0.8888888888888888,
              "#fdca26"
             ],
             [
              1,
              "#f0f921"
             ]
            ],
            "type": "contour"
           }
          ],
          "contourcarpet": [
           {
            "colorbar": {
             "outlinewidth": 0,
             "ticks": ""
            },
            "type": "contourcarpet"
           }
          ],
          "heatmap": [
           {
            "colorbar": {
             "outlinewidth": 0,
             "ticks": ""
            },
            "colorscale": [
             [
              0,
              "#0d0887"
             ],
             [
              0.1111111111111111,
              "#46039f"
             ],
             [
              0.2222222222222222,
              "#7201a8"
             ],
             [
              0.3333333333333333,
              "#9c179e"
             ],
             [
              0.4444444444444444,
              "#bd3786"
             ],
             [
              0.5555555555555556,
              "#d8576b"
             ],
             [
              0.6666666666666666,
              "#ed7953"
             ],
             [
              0.7777777777777778,
              "#fb9f3a"
             ],
             [
              0.8888888888888888,
              "#fdca26"
             ],
             [
              1,
              "#f0f921"
             ]
            ],
            "type": "heatmap"
           }
          ],
          "heatmapgl": [
           {
            "colorbar": {
             "outlinewidth": 0,
             "ticks": ""
            },
            "colorscale": [
             [
              0,
              "#0d0887"
             ],
             [
              0.1111111111111111,
              "#46039f"
             ],
             [
              0.2222222222222222,
              "#7201a8"
             ],
             [
              0.3333333333333333,
              "#9c179e"
             ],
             [
              0.4444444444444444,
              "#bd3786"
             ],
             [
              0.5555555555555556,
              "#d8576b"
             ],
             [
              0.6666666666666666,
              "#ed7953"
             ],
             [
              0.7777777777777778,
              "#fb9f3a"
             ],
             [
              0.8888888888888888,
              "#fdca26"
             ],
             [
              1,
              "#f0f921"
             ]
            ],
            "type": "heatmapgl"
           }
          ],
          "histogram": [
           {
            "marker": {
             "pattern": {
              "fillmode": "overlay",
              "size": 10,
              "solidity": 0.2
             }
            },
            "type": "histogram"
           }
          ],
          "histogram2d": [
           {
            "colorbar": {
             "outlinewidth": 0,
             "ticks": ""
            },
            "colorscale": [
             [
              0,
              "#0d0887"
             ],
             [
              0.1111111111111111,
              "#46039f"
             ],
             [
              0.2222222222222222,
              "#7201a8"
             ],
             [
              0.3333333333333333,
              "#9c179e"
             ],
             [
              0.4444444444444444,
              "#bd3786"
             ],
             [
              0.5555555555555556,
              "#d8576b"
             ],
             [
              0.6666666666666666,
              "#ed7953"
             ],
             [
              0.7777777777777778,
              "#fb9f3a"
             ],
             [
              0.8888888888888888,
              "#fdca26"
             ],
             [
              1,
              "#f0f921"
             ]
            ],
            "type": "histogram2d"
           }
          ],
          "histogram2dcontour": [
           {
            "colorbar": {
             "outlinewidth": 0,
             "ticks": ""
            },
            "colorscale": [
             [
              0,
              "#0d0887"
             ],
             [
              0.1111111111111111,
              "#46039f"
             ],
             [
              0.2222222222222222,
              "#7201a8"
             ],
             [
              0.3333333333333333,
              "#9c179e"
             ],
             [
              0.4444444444444444,
              "#bd3786"
             ],
             [
              0.5555555555555556,
              "#d8576b"
             ],
             [
              0.6666666666666666,
              "#ed7953"
             ],
             [
              0.7777777777777778,
              "#fb9f3a"
             ],
             [
              0.8888888888888888,
              "#fdca26"
             ],
             [
              1,
              "#f0f921"
             ]
            ],
            "type": "histogram2dcontour"
           }
          ],
          "mesh3d": [
           {
            "colorbar": {
             "outlinewidth": 0,
             "ticks": ""
            },
            "type": "mesh3d"
           }
          ],
          "parcoords": [
           {
            "line": {
             "colorbar": {
              "outlinewidth": 0,
              "ticks": ""
             }
            },
            "type": "parcoords"
           }
          ],
          "pie": [
           {
            "automargin": true,
            "type": "pie"
           }
          ],
          "scatter": [
           {
            "fillpattern": {
             "fillmode": "overlay",
             "size": 10,
             "solidity": 0.2
            },
            "type": "scatter"
           }
          ],
          "scatter3d": [
           {
            "line": {
             "colorbar": {
              "outlinewidth": 0,
              "ticks": ""
             }
            },
            "marker": {
             "colorbar": {
              "outlinewidth": 0,
              "ticks": ""
             }
            },
            "type": "scatter3d"
           }
          ],
          "scattercarpet": [
           {
            "marker": {
             "colorbar": {
              "outlinewidth": 0,
              "ticks": ""
             }
            },
            "type": "scattercarpet"
           }
          ],
          "scattergeo": [
           {
            "marker": {
             "colorbar": {
              "outlinewidth": 0,
              "ticks": ""
             }
            },
            "type": "scattergeo"
           }
          ],
          "scattergl": [
           {
            "marker": {
             "colorbar": {
              "outlinewidth": 0,
              "ticks": ""
             }
            },
            "type": "scattergl"
           }
          ],
          "scattermapbox": [
           {
            "marker": {
             "colorbar": {
              "outlinewidth": 0,
              "ticks": ""
             }
            },
            "type": "scattermapbox"
           }
          ],
          "scatterpolar": [
           {
            "marker": {
             "colorbar": {
              "outlinewidth": 0,
              "ticks": ""
             }
            },
            "type": "scatterpolar"
           }
          ],
          "scatterpolargl": [
           {
            "marker": {
             "colorbar": {
              "outlinewidth": 0,
              "ticks": ""
             }
            },
            "type": "scatterpolargl"
           }
          ],
          "scatterternary": [
           {
            "marker": {
             "colorbar": {
              "outlinewidth": 0,
              "ticks": ""
             }
            },
            "type": "scatterternary"
           }
          ],
          "surface": [
           {
            "colorbar": {
             "outlinewidth": 0,
             "ticks": ""
            },
            "colorscale": [
             [
              0,
              "#0d0887"
             ],
             [
              0.1111111111111111,
              "#46039f"
             ],
             [
              0.2222222222222222,
              "#7201a8"
             ],
             [
              0.3333333333333333,
              "#9c179e"
             ],
             [
              0.4444444444444444,
              "#bd3786"
             ],
             [
              0.5555555555555556,
              "#d8576b"
             ],
             [
              0.6666666666666666,
              "#ed7953"
             ],
             [
              0.7777777777777778,
              "#fb9f3a"
             ],
             [
              0.8888888888888888,
              "#fdca26"
             ],
             [
              1,
              "#f0f921"
             ]
            ],
            "type": "surface"
           }
          ],
          "table": [
           {
            "cells": {
             "fill": {
              "color": "#EBF0F8"
             },
             "line": {
              "color": "white"
             }
            },
            "header": {
             "fill": {
              "color": "#C8D4E3"
             },
             "line": {
              "color": "white"
             }
            },
            "type": "table"
           }
          ]
         },
         "layout": {
          "annotationdefaults": {
           "arrowcolor": "#2a3f5f",
           "arrowhead": 0,
           "arrowwidth": 1
          },
          "autotypenumbers": "strict",
          "coloraxis": {
           "colorbar": {
            "outlinewidth": 0,
            "ticks": ""
           }
          },
          "colorscale": {
           "diverging": [
            [
             0,
             "#8e0152"
            ],
            [
             0.1,
             "#c51b7d"
            ],
            [
             0.2,
             "#de77ae"
            ],
            [
             0.3,
             "#f1b6da"
            ],
            [
             0.4,
             "#fde0ef"
            ],
            [
             0.5,
             "#f7f7f7"
            ],
            [
             0.6,
             "#e6f5d0"
            ],
            [
             0.7,
             "#b8e186"
            ],
            [
             0.8,
             "#7fbc41"
            ],
            [
             0.9,
             "#4d9221"
            ],
            [
             1,
             "#276419"
            ]
           ],
           "sequential": [
            [
             0,
             "#0d0887"
            ],
            [
             0.1111111111111111,
             "#46039f"
            ],
            [
             0.2222222222222222,
             "#7201a8"
            ],
            [
             0.3333333333333333,
             "#9c179e"
            ],
            [
             0.4444444444444444,
             "#bd3786"
            ],
            [
             0.5555555555555556,
             "#d8576b"
            ],
            [
             0.6666666666666666,
             "#ed7953"
            ],
            [
             0.7777777777777778,
             "#fb9f3a"
            ],
            [
             0.8888888888888888,
             "#fdca26"
            ],
            [
             1,
             "#f0f921"
            ]
           ],
           "sequentialminus": [
            [
             0,
             "#0d0887"
            ],
            [
             0.1111111111111111,
             "#46039f"
            ],
            [
             0.2222222222222222,
             "#7201a8"
            ],
            [
             0.3333333333333333,
             "#9c179e"
            ],
            [
             0.4444444444444444,
             "#bd3786"
            ],
            [
             0.5555555555555556,
             "#d8576b"
            ],
            [
             0.6666666666666666,
             "#ed7953"
            ],
            [
             0.7777777777777778,
             "#fb9f3a"
            ],
            [
             0.8888888888888888,
             "#fdca26"
            ],
            [
             1,
             "#f0f921"
            ]
           ]
          },
          "colorway": [
           "#636efa",
           "#EF553B",
           "#00cc96",
           "#ab63fa",
           "#FFA15A",
           "#19d3f3",
           "#FF6692",
           "#B6E880",
           "#FF97FF",
           "#FECB52"
          ],
          "font": {
           "color": "#2a3f5f"
          },
          "geo": {
           "bgcolor": "white",
           "lakecolor": "white",
           "landcolor": "#E5ECF6",
           "showlakes": true,
           "showland": true,
           "subunitcolor": "white"
          },
          "hoverlabel": {
           "align": "left"
          },
          "hovermode": "closest",
          "mapbox": {
           "style": "light"
          },
          "paper_bgcolor": "white",
          "plot_bgcolor": "#E5ECF6",
          "polar": {
           "angularaxis": {
            "gridcolor": "white",
            "linecolor": "white",
            "ticks": ""
           },
           "bgcolor": "#E5ECF6",
           "radialaxis": {
            "gridcolor": "white",
            "linecolor": "white",
            "ticks": ""
           }
          },
          "scene": {
           "xaxis": {
            "backgroundcolor": "#E5ECF6",
            "gridcolor": "white",
            "gridwidth": 2,
            "linecolor": "white",
            "showbackground": true,
            "ticks": "",
            "zerolinecolor": "white"
           },
           "yaxis": {
            "backgroundcolor": "#E5ECF6",
            "gridcolor": "white",
            "gridwidth": 2,
            "linecolor": "white",
            "showbackground": true,
            "ticks": "",
            "zerolinecolor": "white"
           },
           "zaxis": {
            "backgroundcolor": "#E5ECF6",
            "gridcolor": "white",
            "gridwidth": 2,
            "linecolor": "white",
            "showbackground": true,
            "ticks": "",
            "zerolinecolor": "white"
           }
          },
          "shapedefaults": {
           "line": {
            "color": "#2a3f5f"
           }
          },
          "ternary": {
           "aaxis": {
            "gridcolor": "white",
            "linecolor": "white",
            "ticks": ""
           },
           "baxis": {
            "gridcolor": "white",
            "linecolor": "white",
            "ticks": ""
           },
           "bgcolor": "#E5ECF6",
           "caxis": {
            "gridcolor": "white",
            "linecolor": "white",
            "ticks": ""
           }
          },
          "title": {
           "x": 0.05
          },
          "xaxis": {
           "automargin": true,
           "gridcolor": "white",
           "linecolor": "white",
           "ticks": "",
           "title": {
            "standoff": 15
           },
           "zerolinecolor": "white",
           "zerolinewidth": 2
          },
          "yaxis": {
           "automargin": true,
           "gridcolor": "white",
           "linecolor": "white",
           "ticks": "",
           "title": {
            "standoff": 15
           },
           "zerolinecolor": "white",
           "zerolinewidth": 2
          }
         }
        },
        "xaxis": {
         "anchor": "y",
         "autorange": true,
         "categoryarray": [
          "US",
          "India",
          "France",
          "Germany",
          "Brazil",
          "Japan",
          "Korea, South",
          "Italy",
          "United Kingdom",
          "Russia"
         ],
         "categoryorder": "array",
         "domain": [
          0,
          1
         ],
         "range": [
          -1.9780181079141608,
          10.241547453154409
         ],
         "title": {
          "text": "country"
         },
         "type": "category"
        },
        "yaxis": {
         "anchor": "x",
         "autorange": true,
         "domain": [
          0,
          1
         ],
         "range": [
          -1450392.7812920287,
          146207221.97518578
         ],
         "title": {
          "text": "confirmed"
         },
         "type": "linear"
        }
       }
      },
      "image/png": "[encoded data removed]",
      "text/html": [
       "<div>                            <div id=\"98eb6e14-85f3-440d-855d-35c307ced1b8\" class=\"plotly-graph-div\" style=\"height:525px; width:100%;\"></div>            <script type=\"text/javascript\">                require([\"plotly\"], function(Plotly) {                    window.PLOTLYENV=window.PLOTLYENV || {};                                    if (document.getElementById(\"98eb6e14-85f3-440d-855d-35c307ced1b8\")) {                    Plotly.newPlot(                        \"98eb6e14-85f3-440d-855d-35c307ced1b8\",                        [{\"hovertemplate\":\"\\u003cb\\u003e%{hovertext}\\u003c\\u002fb\\u003e\\u003cbr\\u003e\\u003cbr\\u003ecountry=%{x}\\u003cbr\\u003econfirmed=%{marker.size}\\u003cextra\\u003e\\u003c\\u002fextra\\u003e\",\"hovertext\":[\"US\"],\"legendgroup\":\"US\",\"marker\":{\"color\":\"#636efa\",\"size\":[103804263],\"sizemode\":\"area\",\"sizeref\":28834.5175,\"symbol\":\"circle\"},\"mode\":\"markers\",\"name\":\"US\",\"orientation\":\"v\",\"showlegend\":true,\"x\":[\"US\"],\"xaxis\":\"x\",\"y\":[103804263],\"yaxis\":\"y\",\"type\":\"scatter\"},{\"hovertemplate\":\"\\u003cb\\u003e%{hovertext}\\u003c\\u002fb\\u003e\\u003cbr\\u003e\\u003cbr\\u003ecountry=%{x}\\u003cbr\\u003econfirmed=%{marker.size}\\u003cextra\\u003e\\u003c\\u002fextra\\u003e\",\"hovertext\":[\"India\"],\"legendgroup\":\"India\",\"marker\":{\"color\":\"#EF553B\",\"size\":[44690738],\"sizemode\":\"area\",\"sizeref\":28834.5175,\"symbol\":\"circle\"},\"mode\":\"markers\",\"name\":\"India\",\"orientation\":\"v\",\"showlegend\":true,\"x\":[\"India\"],\"xaxis\":\"x\",\"y\":[44690738],\"yaxis\":\"y\",\"type\":\"scatter\"},{\"hovertemplate\":\"\\u003cb\\u003e%{hovertext}\\u003c\\u002fb\\u003e\\u003cbr\\u003e\\u003cbr\\u003ecountry=%{x}\\u003cbr\\u003econfirmed=%{marker.size}\\u003cextra\\u003e\\u003c\\u002fextra\\u003e\",\"hovertext\":[\"France\"],\"legendgroup\":\"France\",\"marker\":{\"color\":\"#00cc96\",\"size\":[39866718],\"sizemode\":\"area\",\"sizeref\":28834.5175,\"symbol\":\"circle\"},\"mode\":\"markers\",\"name\":\"France\",\"orientation\":\"v\",\"showlegend\":true,\"x\":[\"France\"],\"xaxis\":\"x\",\"y\":[39866718],\"yaxis\":\"y\",\"type\":\"scatter\"},{\"hovertemplate\":\"\\u003cb\\u003e%{hovertext}\\u003c\\u002fb\\u003e\\u003cbr\\u003e\\u003cbr\\u003ecountry=%{x}\\u003cbr\\u003econfirmed=%{marker.size}\\u003cextra\\u003e\\u003c\\u002fextra\\u003e\",\"hovertext\":[\"Germany\"],\"legendgroup\":\"Germany\",\"marker\":{\"color\":\"#ab63fa\",\"size\":[38249060],\"sizemode\":\"area\",\"sizeref\":28834.5175,\"symbol\":\"circle\"},\"mode\":\"markers\",\"name\":\"Germany\",\"orientation\":\"v\",\"showlegend\":true,\"x\":[\"Germany\"],\"xaxis\":\"x\",\"y\":[38249060],\"yaxis\":\"y\",\"type\":\"scatter\"},{\"hovertemplate\":\"\\u003cb\\u003e%{hovertext}\\u003c\\u002fb\\u003e\\u003cbr\\u003e\\u003cbr\\u003ecountry=%{x}\\u003cbr\\u003econfirmed=%{marker.size}\\u003cextra\\u003e\\u003c\\u002fextra\\u003e\",\"hovertext\":[\"Brazil\"],\"legendgroup\":\"Brazil\",\"marker\":{\"color\":\"#FFA15A\",\"size\":[37085675],\"sizemode\":\"area\",\"sizeref\":28834.5175,\"symbol\":\"circle\"},\"mode\":\"markers\",\"name\":\"Brazil\",\"orientation\":\"v\",\"showlegend\":true,\"x\":[\"Brazil\"],\"xaxis\":\"x\",\"y\":[37085675],\"yaxis\":\"y\",\"type\":\"scatter\"},{\"hovertemplate\":\"\\u003cb\\u003e%{hovertext}\\u003c\\u002fb\\u003e\\u003cbr\\u003e\\u003cbr\\u003ecountry=%{x}\\u003cbr\\u003econfirmed=%{marker.size}\\u003cextra\\u003e\\u003c\\u002fextra\\u003e\",\"hovertext\":[\"Japan\"],\"legendgroup\":\"Japan\",\"marker\":{\"color\":\"#19d3f3\",\"size\":[33329551],\"sizemode\":\"area\",\"sizeref\":28834.5175,\"symbol\":\"circle\"},\"mode\":\"markers\",\"name\":\"Japan\",\"orientation\":\"v\",\"showlegend\":true,\"x\":[\"Japan\"],\"xaxis\":\"x\",\"y\":[33329551],\"yaxis\":\"y\",\"type\":\"scatter\"},{\"hovertemplate\":\"\\u003cb\\u003e%{hovertext}\\u003c\\u002fb\\u003e\\u003cbr\\u003e\\u003cbr\\u003ecountry=%{x}\\u003cbr\\u003econfirmed=%{marker.size}\\u003cextra\\u003e\\u003c\\u002fextra\\u003e\",\"hovertext\":[\"Korea, South\"],\"legendgroup\":\"Korea, South\",\"marker\":{\"color\":\"#FF6692\",\"size\":[30615522],\"sizemode\":\"area\",\"sizeref\":28834.5175,\"symbol\":\"circle\"},\"mode\":\"markers\",\"name\":\"Korea, South\",\"orientation\":\"v\",\"showlegend\":true,\"x\":[\"Korea, South\"],\"xaxis\":\"x\",\"y\":[30615522],\"yaxis\":\"y\",\"type\":\"scatter\"},{\"hovertemplate\":\"\\u003cb\\u003e%{hovertext}\\u003c\\u002fb\\u003e\\u003cbr\\u003e\\u003cbr\\u003ecountry=%{x}\\u003cbr\\u003econfirmed=%{marker.size}\\u003cextra\\u003e\\u003c\\u002fextra\\u003e\",\"hovertext\":[\"Italy\"],\"legendgroup\":\"Italy\",\"marker\":{\"color\":\"#B6E880\",\"size\":[25603510],\"sizemode\":\"area\",\"sizeref\":28834.5175,\"symbol\":\"circle\"},\"mode\":\"markers\",\"name\":\"Italy\",\"orientation\":\"v\",\"showlegend\":true,\"x\":[\"Italy\"],\"xaxis\":\"x\",\"y\":[25603510],\"yaxis\":\"y\",\"type\":\"scatter\"},{\"hovertemplate\":\"\\u003cb\\u003e%{hovertext}\\u003c\\u002fb\\u003e\\u003cbr\\u003e\\u003cbr\\u003ecountry=%{x}\\u003cbr\\u003econfirmed=%{marker.size}\\u003cextra\\u003e\\u003c\\u002fextra\\u003e\",\"hovertext\":[\"United Kingdom\"],\"legendgroup\":\"United Kingdom\",\"marker\":{\"color\":\"#FF97FF\",\"size\":[24658705],\"sizemode\":\"area\",\"sizeref\":28834.5175,\"symbol\":\"circle\"},\"mode\":\"markers\",\"name\":\"United Kingdom\",\"orientation\":\"v\",\"showlegend\":true,\"x\":[\"United Kingdom\"],\"xaxis\":\"x\",\"y\":[24658705],\"yaxis\":\"y\",\"type\":\"scatter\"},{\"hovertemplate\":\"\\u003cb\\u003e%{hovertext}\\u003c\\u002fb\\u003e\\u003cbr\\u003e\\u003cbr\\u003ecountry=%{x}\\u003cbr\\u003econfirmed=%{marker.size}\\u003cextra\\u003e\\u003c\\u002fextra\\u003e\",\"hovertext\":[\"Russia\"],\"legendgroup\":\"Russia\",\"marker\":{\"color\":\"#FECB52\",\"size\":[22086064],\"sizemode\":\"area\",\"sizeref\":28834.5175,\"symbol\":\"circle\"},\"mode\":\"markers\",\"name\":\"Russia\",\"orientation\":\"v\",\"showlegend\":true,\"x\":[\"Russia\"],\"xaxis\":\"x\",\"y\":[22086064],\"yaxis\":\"y\",\"type\":\"scatter\"}],                        {\"template\":{\"data\":{\"histogram2dcontour\":[{\"type\":\"histogram2dcontour\",\"colorbar\":{\"outlinewidth\":0,\"ticks\":\"\"},\"colorscale\":[[0.0,\"#0d0887\"],[0.1111111111111111,\"#46039f\"],[0.2222222222222222,\"#7201a8\"],[0.3333333333333333,\"#9c179e\"],[0.4444444444444444,\"#bd3786\"],[0.5555555555555556,\"#d8576b\"],[0.6666666666666666,\"#ed7953\"],[0.7777777777777778,\"#fb9f3a\"],[0.8888888888888888,\"#fdca26\"],[1.0,\"#f0f921\"]]}],\"choropleth\":[{\"type\":\"choropleth\",\"colorbar\":{\"outlinewidth\":0,\"ticks\":\"\"}}],\"histogram2d\":[{\"type\":\"histogram2d\",\"colorbar\":{\"outlinewidth\":0,\"ticks\":\"\"},\"colorscale\":[[0.0,\"#0d0887\"],[0.1111111111111111,\"#46039f\"],[0.2222222222222222,\"#7201a8\"],[0.3333333333333333,\"#9c179e\"],[0.4444444444444444,\"#bd3786\"],[0.5555555555555556,\"#d8576b\"],[0.6666666666666666,\"#ed7953\"],[0.7777777777777778,\"#fb9f3a\"],[0.8888888888888888,\"#fdca26\"],[1.0,\"#f0f921\"]]}],\"heatmap\":[{\"type\":\"heatmap\",\"colorbar\":{\"outlinewidth\":0,\"ticks\":\"\"},\"colorscale\":[[0.0,\"#0d0887\"],[0.1111111111111111,\"#46039f\"],[0.2222222222222222,\"#7201a8\"],[0.3333333333333333,\"#9c179e\"],[0.4444444444444444,\"#bd3786\"],[0.5555555555555556,\"#d8576b\"],[0.6666666666666666,\"#ed7953\"],[0.7777777777777778,\"#fb9f3a\"],[0.8888888888888888,\"#fdca26\"],[1.0,\"#f0f921\"]]}],\"heatmapgl\":[{\"type\":\"heatmapgl\",\"colorbar\":{\"outlinewidth\":0,\"ticks\":\"\"},\"colorscale\":[[0.0,\"#0d0887\"],[0.1111111111111111,\"#46039f\"],[0.2222222222222222,\"#7201a8\"],[0.3333333333333333,\"#9c179e\"],[0.4444444444444444,\"#bd3786\"],[0.5555555555555556,\"#d8576b\"],[0.6666666666666666,\"#ed7953\"],[0.7777777777777778,\"#fb9f3a\"],[0.8888888888888888,\"#fdca26\"],[1.0,\"#f0f921\"]]}],\"contourcarpet\":[{\"type\":\"contourcarpet\",\"colorbar\":{\"outlinewidth\":0,\"ticks\":\"\"}}],\"contour\":[{\"type\":\"contour\",\"colorbar\":{\"outlinewidth\":0,\"ticks\":\"\"},\"colorscale\":[[0.0,\"#0d0887\"],[0.1111111111111111,\"#46039f\"],[0.2222222222222222,\"#7201a8\"],[0.3333333333333333,\"#9c179e\"],[0.4444444444444444,\"#bd3786\"],[0.5555555555555556,\"#d8576b\"],[0.6666666666666666,\"#ed7953\"],[0.7777777777777778,\"#fb9f3a\"],[0.8888888888888888,\"#fdca26\"],[1.0,\"#f0f921\"]]}],\"surface\":[{\"type\":\"surface\",\"colorbar\":{\"outlinewidth\":0,\"ticks\":\"\"},\"colorscale\":[[0.0,\"#0d0887\"],[0.1111111111111111,\"#46039f\"],[0.2222222222222222,\"#7201a8\"],[0.3333333333333333,\"#9c179e\"],[0.4444444444444444,\"#bd3786\"],[0.5555555555555556,\"#d8576b\"],[0.6666666666666666,\"#ed7953\"],[0.7777777777777778,\"#fb9f3a\"],[0.8888888888888888,\"#fdca26\"],[1.0,\"#f0f921\"]]}],\"mesh3d\":[{\"type\":\"mesh3d\",\"colorbar\":{\"outlinewidth\":0,\"ticks\":\"\"}}],\"scatter\":[{\"fillpattern\":{\"fillmode\":\"overlay\",\"size\":10,\"solidity\":0.2},\"type\":\"scatter\"}],\"parcoords\":[{\"type\":\"parcoords\",\"line\":{\"colorbar\":{\"outlinewidth\":0,\"ticks\":\"\"}}}],\"scatterpolargl\":[{\"type\":\"scatterpolargl\",\"marker\":{\"colorbar\":{\"outlinewidth\":0,\"ticks\":\"\"}}}],\"bar\":[{\"error_x\":{\"color\":\"#2a3f5f\"},\"error_y\":{\"color\":\"#2a3f5f\"},\"marker\":{\"line\":{\"color\":\"#E5ECF6\",\"width\":0.5},\"pattern\":{\"fillmode\":\"overlay\",\"size\":10,\"solidity\":0.2}},\"type\":\"bar\"}],\"scattergeo\":[{\"type\":\"scattergeo\",\"marker\":{\"colorbar\":{\"outlinewidth\":0,\"ticks\":\"\"}}}],\"scatterpolar\":[{\"type\":\"scatterpolar\",\"marker\":{\"colorbar\":{\"outlinewidth\":0,\"ticks\":\"\"}}}],\"histogram\":[{\"marker\":{\"pattern\":{\"fillmode\":\"overlay\",\"size\":10,\"solidity\":0.2}},\"type\":\"histogram\"}],\"scattergl\":[{\"type\":\"scattergl\",\"marker\":{\"colorbar\":{\"outlinewidth\":0,\"ticks\":\"\"}}}],\"scatter3d\":[{\"type\":\"scatter3d\",\"line\":{\"colorbar\":{\"outlinewidth\":0,\"ticks\":\"\"}},\"marker\":{\"colorbar\":{\"outlinewidth\":0,\"ticks\":\"\"}}}],\"scattermapbox\":[{\"type\":\"scattermapbox\",\"marker\":{\"colorbar\":{\"outlinewidth\":0,\"ticks\":\"\"}}}],\"scatterternary\":[{\"type\":\"scatterternary\",\"marker\":{\"colorbar\":{\"outlinewidth\":0,\"ticks\":\"\"}}}],\"scattercarpet\":[{\"type\":\"scattercarpet\",\"marker\":{\"colorbar\":{\"outlinewidth\":0,\"ticks\":\"\"}}}],\"carpet\":[{\"aaxis\":{\"endlinecolor\":\"#2a3f5f\",\"gridcolor\":\"white\",\"linecolor\":\"white\",\"minorgridcolor\":\"white\",\"startlinecolor\":\"#2a3f5f\"},\"baxis\":{\"endlinecolor\":\"#2a3f5f\",\"gridcolor\":\"white\",\"linecolor\":\"white\",\"minorgridcolor\":\"white\",\"startlinecolor\":\"#2a3f5f\"},\"type\":\"carpet\"}],\"table\":[{\"cells\":{\"fill\":{\"color\":\"#EBF0F8\"},\"line\":{\"color\":\"white\"}},\"header\":{\"fill\":{\"color\":\"#C8D4E3\"},\"line\":{\"color\":\"white\"}},\"type\":\"table\"}],\"barpolar\":[{\"marker\":{\"line\":{\"color\":\"#E5ECF6\",\"width\":0.5},\"pattern\":{\"fillmode\":\"overlay\",\"size\":10,\"solidity\":0.2}},\"type\":\"barpolar\"}],\"pie\":[{\"automargin\":true,\"type\":\"pie\"}]},\"layout\":{\"autotypenumbers\":\"strict\",\"colorway\":[\"#636efa\",\"#EF553B\",\"#00cc96\",\"#ab63fa\",\"#FFA15A\",\"#19d3f3\",\"#FF6692\",\"#B6E880\",\"#FF97FF\",\"#FECB52\"],\"font\":{\"color\":\"#2a3f5f\"},\"hovermode\":\"closest\",\"hoverlabel\":{\"align\":\"left\"},\"paper_bgcolor\":\"white\",\"plot_bgcolor\":\"#E5ECF6\",\"polar\":{\"bgcolor\":\"#E5ECF6\",\"angularaxis\":{\"gridcolor\":\"white\",\"linecolor\":\"white\",\"ticks\":\"\"},\"radialaxis\":{\"gridcolor\":\"white\",\"linecolor\":\"white\",\"ticks\":\"\"}},\"ternary\":{\"bgcolor\":\"#E5ECF6\",\"aaxis\":{\"gridcolor\":\"white\",\"linecolor\":\"white\",\"ticks\":\"\"},\"baxis\":{\"gridcolor\":\"white\",\"linecolor\":\"white\",\"ticks\":\"\"},\"caxis\":{\"gridcolor\":\"white\",\"linecolor\":\"white\",\"ticks\":\"\"}},\"coloraxis\":{\"colorbar\":{\"outlinewidth\":0,\"ticks\":\"\"}},\"colorscale\":{\"sequential\":[[0.0,\"#0d0887\"],[0.1111111111111111,\"#46039f\"],[0.2222222222222222,\"#7201a8\"],[0.3333333333333333,\"#9c179e\"],[0.4444444444444444,\"#bd3786\"],[0.5555555555555556,\"#d8576b\"],[0.6666666666666666,\"#ed7953\"],[0.7777777777777778,\"#fb9f3a\"],[0.8888888888888888,\"#fdca26\"],[1.0,\"#f0f921\"]],\"sequentialminus\":[[0.0,\"#0d0887\"],[0.1111111111111111,\"#46039f\"],[0.2222222222222222,\"#7201a8\"],[0.3333333333333333,\"#9c179e\"],[0.4444444444444444,\"#bd3786\"],[0.5555555555555556,\"#d8576b\"],[0.6666666666666666,\"#ed7953\"],[0.7777777777777778,\"#fb9f3a\"],[0.8888888888888888,\"#fdca26\"],[1.0,\"#f0f921\"]],\"diverging\":[[0,\"#8e0152\"],[0.1,\"#c51b7d\"],[0.2,\"#de77ae\"],[0.3,\"#f1b6da\"],[0.4,\"#fde0ef\"],[0.5,\"#f7f7f7\"],[0.6,\"#e6f5d0\"],[0.7,\"#b8e186\"],[0.8,\"#7fbc41\"],[0.9,\"#4d9221\"],[1,\"#276419\"]]},\"xaxis\":{\"gridcolor\":\"white\",\"linecolor\":\"white\",\"ticks\":\"\",\"title\":{\"standoff\":15},\"zerolinecolor\":\"white\",\"automargin\":true,\"zerolinewidth\":2},\"yaxis\":{\"gridcolor\":\"white\",\"linecolor\":\"white\",\"ticks\":\"\",\"title\":{\"standoff\":15},\"zerolinecolor\":\"white\",\"automargin\":true,\"zerolinewidth\":2},\"scene\":{\"xaxis\":{\"backgroundcolor\":\"#E5ECF6\",\"gridcolor\":\"white\",\"linecolor\":\"white\",\"showbackground\":true,\"ticks\":\"\",\"zerolinecolor\":\"white\",\"gridwidth\":2},\"yaxis\":{\"backgroundcolor\":\"#E5ECF6\",\"gridcolor\":\"white\",\"linecolor\":\"white\",\"showbackground\":true,\"ticks\":\"\",\"zerolinecolor\":\"white\",\"gridwidth\":2},\"zaxis\":{\"backgroundcolor\":\"#E5ECF6\",\"gridcolor\":\"white\",\"linecolor\":\"white\",\"showbackground\":true,\"ticks\":\"\",\"zerolinecolor\":\"white\",\"gridwidth\":2}},\"shapedefaults\":{\"line\":{\"color\":\"#2a3f5f\"}},\"annotationdefaults\":{\"arrowcolor\":\"#2a3f5f\",\"arrowhead\":0,\"arrowwidth\":1},\"geo\":{\"bgcolor\":\"white\",\"landcolor\":\"#E5ECF6\",\"subunitcolor\":\"white\",\"showland\":true,\"showlakes\":true,\"lakecolor\":\"white\"},\"title\":{\"x\":0.05},\"mapbox\":{\"style\":\"light\"}}},\"xaxis\":{\"anchor\":\"y\",\"domain\":[0.0,1.0],\"title\":{\"text\":\"country\"},\"categoryorder\":\"array\",\"categoryarray\":[\"US\",\"India\",\"France\",\"Germany\",\"Brazil\",\"Japan\",\"Korea, South\",\"Italy\",\"United Kingdom\",\"Russia\"]},\"yaxis\":{\"anchor\":\"x\",\"domain\":[0.0,1.0],\"title\":{\"text\":\"confirmed\"}},\"legend\":{\"title\":{\"text\":\"country\"},\"tracegroupgap\":0,\"itemsizing\":\"constant\"},\"margin\":{\"t\":60}},                        {\"responsive\": true}                    ).then(function(){\n",
       "                            \n",
       "var gd = document.getElementById('98eb6e14-85f3-440d-855d-35c307ced1b8');\n",
       "var x = new MutationObserver(function (mutations, observer) {{\n",
       "        var display = window.getComputedStyle(gd).display;\n",
       "        if (!display || display === 'none') {{\n",
       "            console.log([gd, 'removed!']);\n",
       "            Plotly.purge(gd);\n",
       "            observer.disconnect();\n",
       "        }}\n",
       "}});\n",
       "\n",
       "// Listen for the removal of the full notebook cells\n",
       "var notebookContainer = gd.closest('#notebook-container');\n",
       "if (notebookContainer) {{\n",
       "    x.observe(notebookContainer, {childList: true});\n",
       "}}\n",
       "\n",
       "// Listen for the clearing of the current output cell\n",
       "var outputEl = gd.closest('.output');\n",
       "if (outputEl) {{\n",
       "    x.observe(outputEl, {childList: true});\n",
       "}}\n",
       "\n",
       "                        })                };                });            </script>        </div>"
      ]
     },
     "metadata": {},
     "output_type": "display_data"
    }
   ],
   "source": [
    "fig = px.scatter(sorted_country_df.head(10), x='country', y='confirmed', size='confirmed',\n",
    "                color='country', hover_name=\"country\", size_max=60)\n",
    "fig.update_layout()\n",
    "fig.show()"
   ]
  },
  {
   "cell_type": "code",
   "execution_count": 99,
   "id": "ea2d1346-d7b1-4b2b-8f1b-23f8646cf93e",
   "metadata": {},
   "outputs": [
    {
     "data": {
      "application/vnd.jupyter.widget-view+json": {
       "model_id": "32277890d865439bb83638e43bbd769f",
       "version_major": 2,
       "version_minor": 0
      },
      "text/plain": [
       "interactive(children=(Text(value='World', description='country'), Output()), _dom_classes=('widget-interact',)…"
      ]
     },
     "metadata": {},
     "output_type": "display_data"
    }
   ],
   "source": [
    "import plotly.graph_objects as go\n",
    "\n",
    "def plot_cases_for_country(country):\n",
    "    labels = ['confirmed', 'deaths']\n",
    "    colors = ['blue', 'red']\n",
    "    mode_size = [6,8]\n",
    "    line_size = [4, 5]\n",
    "    \n",
    "    df_list = [confirmed_df, death_df]\n",
    "    fig = go.Figure()\n",
    "    for i, df in enumerate(df_list):\n",
    "        if country == 'World' or country == 'world':\n",
    "            x_data = np.array(list(df.iloc[:, 5:].columns))\n",
    "            y_data = np.sum(np.asarray(df.iloc[:, 5:]), axis=0)\n",
    "        else:\n",
    "            x_data = np.array(list(df.iloc[:, 5:].columns))\n",
    "            y_data = np.sum(np.asarray(df[df['country']==country].iloc[:, 5:]), axis=0)\n",
    "\n",
    "        fig.add_trace(go.Scatter(x=x_data, y=y_data, mode='lines+markers',\n",
    "                                name=labels[i],\n",
    "                                line = dict(color=colors[i], width=line_size[i]),\n",
    "                                connectgaps=True,\n",
    "                                text = \"Total \" + str(labels[i]) + \": \"+ str(y_data[-1])))\n",
    "    fig.show()\n",
    "#plot_cases_for_country('China')\n",
    "interact(plot_cases_for_country, country='World');"
   ]
  },
  {
   "cell_type": "code",
   "execution_count": 111,
   "id": "e0822d36-54a5-40af-b28a-7f50ae3e9863",
   "metadata": {},
   "outputs": [],
   "source": [
    "import folium"
   ]
  },
  {
   "cell_type": "code",
   "execution_count": 113,
   "id": "2acd1b9c-9c15-4030-98fc-6d4f0522959e",
   "metadata": {},
   "outputs": [
    {
     "name": "stderr",
     "output_type": "stream",
     "text": [
      "C:\\Users\\StupidDev\\AppData\\Local\\Temp\\ipykernel_32004\\334353999.py:1: FutureWarning:\n",
      "\n",
      "A value is trying to be set on a copy of a DataFrame or Series through chained assignment using an inplace method.\n",
      "The behavior will change in pandas 3.0. This inplace method will never work because the intermediate object on which we are setting values always behaves as a copy.\n",
      "\n",
      "For example, when doing 'df[col].method(value, inplace=True)', try using 'df.method({col: value}, inplace=True)' or df[col] = df[col].method(value) instead, to perform the operation inplace on the original object.\n",
      "\n",
      "\n",
      "\n",
      "C:\\Users\\StupidDev\\AppData\\Local\\Temp\\ipykernel_32004\\334353999.py:2: FutureWarning:\n",
      "\n",
      "A value is trying to be set on a copy of a DataFrame or Series through chained assignment using an inplace method.\n",
      "The behavior will change in pandas 3.0. This inplace method will never work because the intermediate object on which we are setting values always behaves as a copy.\n",
      "\n",
      "For example, when doing 'df[col].method(value, inplace=True)', try using 'df.method({col: value}, inplace=True)' or df[col] = df[col].method(value) instead, to perform the operation inplace on the original object.\n",
      "\n",
      "\n",
      "\n"
     ]
    },
    {
     "data": {
      "text/html": [
       "<div style=\"width:100%;\"><div style=\"position:relative;width:100%;height:0;padding-bottom:60%;\"><span style=\"color:#565656\">Make this Notebook Trusted to load map: File -> Trust Notebook</span><iframe srcdoc=\"&lt;!DOCTYPE html&gt;\n",
       "&lt;html&gt;\n",
       "&lt;head&gt;\n",
       "    \n",
       "    &lt;meta http-equiv=&quot;content-type&quot; content=&quot;text/html; charset=UTF-8&quot; /&gt;\n",
       "    \n",
       "        &lt;script&gt;\n",
       "            L_NO_TOUCH = false;\n",
       "            L_DISABLE_3D = false;\n",
       "        &lt;/script&gt;\n",
       "    \n",
       "    &lt;style&gt;html, body {width: 100%;height: 100%;margin: 0;padding: 0;}&lt;/style&gt;\n",
       "    &lt;style&gt;#map {position:absolute;top:0;bottom:0;right:0;left:0;}&lt;/style&gt;\n",
       "    &lt;script src=&quot;https://cdn.jsdelivr.net/npm/leaflet@1.9.3/dist/leaflet.js&quot;&gt;&lt;/script&gt;\n",
       "    &lt;script src=&quot;https://code.jquery.com/jquery-3.7.1.min.js&quot;&gt;&lt;/script&gt;\n",
       "    &lt;script src=&quot;https://cdn.jsdelivr.net/npm/bootstrap@5.2.2/dist/js/bootstrap.bundle.min.js&quot;&gt;&lt;/script&gt;\n",
       "    &lt;script src=&quot;https://cdnjs.cloudflare.com/ajax/libs/Leaflet.awesome-markers/2.0.2/leaflet.awesome-markers.js&quot;&gt;&lt;/script&gt;\n",
       "    &lt;link rel=&quot;stylesheet&quot; href=&quot;https://cdn.jsdelivr.net/npm/leaflet@1.9.3/dist/leaflet.css&quot;/&gt;\n",
       "    &lt;link rel=&quot;stylesheet&quot; href=&quot;https://cdn.jsdelivr.net/npm/bootstrap@5.2.2/dist/css/bootstrap.min.css&quot;/&gt;\n",
       "    &lt;link rel=&quot;stylesheet&quot; href=&quot;https://netdna.bootstrapcdn.com/bootstrap/3.0.0/css/bootstrap.min.css&quot;/&gt;\n",
       "    &lt;link rel=&quot;stylesheet&quot; href=&quot;https://cdn.jsdelivr.net/npm/@fortawesome/fontawesome-free@6.2.0/css/all.min.css&quot;/&gt;\n",
       "    &lt;link rel=&quot;stylesheet&quot; href=&quot;https://cdnjs.cloudflare.com/ajax/libs/Leaflet.awesome-markers/2.0.2/leaflet.awesome-markers.css&quot;/&gt;\n",
       "    &lt;link rel=&quot;stylesheet&quot; href=&quot;https://cdn.jsdelivr.net/gh/python-visualization/folium/folium/templates/leaflet.awesome.rotate.min.css&quot;/&gt;\n",
       "    \n",
       "            &lt;meta name=&quot;viewport&quot; content=&quot;width=device-width,\n",
       "                initial-scale=1.0, maximum-scale=1.0, user-scalable=no&quot; /&gt;\n",
       "            &lt;style&gt;\n",
       "                #map_458ec8e400112ec513386247fe175da8 {\n",
       "                    position: relative;\n",
       "                    width: 100.0%;\n",
       "                    height: 100.0%;\n",
       "                    left: 0.0%;\n",
       "                    top: 0.0%;\n",
       "                }\n",
       "                .leaflet-container { font-size: 1rem; }\n",
       "            &lt;/style&gt;\n",
       "        \n",
       "&lt;/head&gt;\n",
       "&lt;body&gt;\n",
       "    \n",
       "    \n",
       "            &lt;div class=&quot;folium-map&quot; id=&quot;map_458ec8e400112ec513386247fe175da8&quot; &gt;&lt;/div&gt;\n",
       "        \n",
       "&lt;/body&gt;\n",
       "&lt;script&gt;\n",
       "    \n",
       "    \n",
       "            var map_458ec8e400112ec513386247fe175da8 = L.map(\n",
       "                &quot;map_458ec8e400112ec513386247fe175da8&quot;,\n",
       "                {\n",
       "                    center: [11.0, 0.0],\n",
       "                    crs: L.CRS.EPSG3857,\n",
       "                    zoom: 2,\n",
       "                    zoomControl: true,\n",
       "                    preferCanvas: false,\n",
       "                }\n",
       "            );\n",
       "\n",
       "            \n",
       "\n",
       "        \n",
       "    \n",
       "            var tile_layer_6ae7c81857546cdce06f04143990c052 = L.tileLayer(\n",
       "                &quot;https://{s}.basemaps.cartocdn.com/light_all/{z}/{x}/{y}{r}.png&quot;,\n",
       "                {&quot;attribution&quot;: &quot;\\u0026copy; \\u003ca href=\\&quot;https://www.openstreetmap.org/copyright\\&quot;\\u003eOpenStreetMap\\u003c/a\\u003e contributors \\u0026copy; \\u003ca href=\\&quot;https://carto.com/attributions\\&quot;\\u003eCARTO\\u003c/a\\u003e&quot;, &quot;detectRetina&quot;: false, &quot;maxNativeZoom&quot;: 20, &quot;maxZoom&quot;: 20, &quot;minZoom&quot;: 2, &quot;noWrap&quot;: false, &quot;opacity&quot;: 1, &quot;subdomains&quot;: &quot;abcd&quot;, &quot;tms&quot;: false}\n",
       "            );\n",
       "        \n",
       "    \n",
       "            tile_layer_6ae7c81857546cdce06f04143990c052.addTo(map_458ec8e400112ec513386247fe175da8);\n",
       "        \n",
       "    \n",
       "            var circle_fc5fa3f16dba4aa7b99a81bc3ec5d94d = L.circle(\n",
       "                [33.93911, 67.709953],\n",
       "                {&quot;bubblingMouseEvents&quot;: true, &quot;color&quot;: &quot;red&quot;, &quot;dashArray&quot;: null, &quot;dashOffset&quot;: null, &quot;fill&quot;: true, &quot;fillColor&quot;: &quot;blue&quot;, &quot;fillOpacity&quot;: 0.2, &quot;fillRule&quot;: &quot;evenodd&quot;, &quot;lineCap&quot;: &quot;round&quot;, &quot;lineJoin&quot;: &quot;round&quot;, &quot;opacity&quot;: 1.0, &quot;radius&quot;: 610000.0, &quot;stroke&quot;: true, &quot;weight&quot;: 3}\n",
       "            ).addTo(map_458ec8e400112ec513386247fe175da8);\n",
       "        \n",
       "    \n",
       "            circle_fc5fa3f16dba4aa7b99a81bc3ec5d94d.bindTooltip(\n",
       "                `&lt;div&gt;\n",
       "                     &lt;div style=&#x27;margin: 0; background-color: black; color: white;&#x27;&gt;&lt;h4 style=&#x27;text-align:center;font-weight: bold&#x27;&gt;Afghanistan&lt;/h4&gt;&lt;hr style=&#x27;margin:10px;color: white;&#x27;&gt;&lt;ul style=&#x27;color: white;;list-style-type:circle;align-item:left;padding-left:20px;padding-right:20px&#x27;&gt;&lt;li&gt;Confirmed: 209451&lt;/li&gt;&lt;li&gt;Deaths:   7896&lt;/li&gt;&lt;li&gt;Death Rate: 3.77&lt;/li&gt;&lt;/ul&gt;&lt;/div&gt;\n",
       "                 &lt;/div&gt;`,\n",
       "                {&quot;sticky&quot;: true}\n",
       "            );\n",
       "        \n",
       "    \n",
       "            var circle_ad6eb60b354ff7472c99219bf30b65de = L.circle(\n",
       "                [41.1533, 20.1683],\n",
       "                {&quot;bubblingMouseEvents&quot;: true, &quot;color&quot;: &quot;red&quot;, &quot;dashArray&quot;: null, &quot;dashOffset&quot;: null, &quot;fill&quot;: true, &quot;fillColor&quot;: &quot;blue&quot;, &quot;fillOpacity&quot;: 0.2, &quot;fillRule&quot;: &quot;evenodd&quot;, &quot;lineCap&quot;: &quot;round&quot;, &quot;lineJoin&quot;: &quot;round&quot;, &quot;opacity&quot;: 1.0, &quot;radius&quot;: 610000.0, &quot;stroke&quot;: true, &quot;weight&quot;: 3}\n",
       "            ).addTo(map_458ec8e400112ec513386247fe175da8);\n",
       "        \n",
       "    \n",
       "            circle_ad6eb60b354ff7472c99219bf30b65de.bindTooltip(\n",
       "                `&lt;div&gt;\n",
       "                     &lt;div style=&#x27;margin: 0; background-color: black; color: white;&#x27;&gt;&lt;h4 style=&#x27;text-align:center;font-weight: bold&#x27;&gt;Albania&lt;/h4&gt;&lt;hr style=&#x27;margin:10px;color: white;&#x27;&gt;&lt;ul style=&#x27;color: white;;list-style-type:circle;align-item:left;padding-left:20px;padding-right:20px&#x27;&gt;&lt;li&gt;Confirmed: 334457&lt;/li&gt;&lt;li&gt;Deaths:   3598&lt;/li&gt;&lt;li&gt;Death Rate: 1.08&lt;/li&gt;&lt;/ul&gt;&lt;/div&gt;\n",
       "                 &lt;/div&gt;`,\n",
       "                {&quot;sticky&quot;: true}\n",
       "            );\n",
       "        \n",
       "    \n",
       "            var circle_7c26599a42e6bdfaa7158b12b552bd8c = L.circle(\n",
       "                [28.0339, 1.6596],\n",
       "                {&quot;bubblingMouseEvents&quot;: true, &quot;color&quot;: &quot;red&quot;, &quot;dashArray&quot;: null, &quot;dashOffset&quot;: null, &quot;fill&quot;: true, &quot;fillColor&quot;: &quot;blue&quot;, &quot;fillOpacity&quot;: 0.2, &quot;fillRule&quot;: &quot;evenodd&quot;, &quot;lineCap&quot;: &quot;round&quot;, &quot;lineJoin&quot;: &quot;round&quot;, &quot;opacity&quot;: 1.0, &quot;radius&quot;: 610000.0, &quot;stroke&quot;: true, &quot;weight&quot;: 3}\n",
       "            ).addTo(map_458ec8e400112ec513386247fe175da8);\n",
       "        \n",
       "    \n",
       "            circle_7c26599a42e6bdfaa7158b12b552bd8c.bindTooltip(\n",
       "                `&lt;div&gt;\n",
       "                     &lt;div style=&#x27;margin: 0; background-color: black; color: white;&#x27;&gt;&lt;h4 style=&#x27;text-align:center;font-weight: bold&#x27;&gt;Algeria&lt;/h4&gt;&lt;hr style=&#x27;margin:10px;color: white;&#x27;&gt;&lt;ul style=&#x27;color: white;;list-style-type:circle;align-item:left;padding-left:20px;padding-right:20px&#x27;&gt;&lt;li&gt;Confirmed: 271496&lt;/li&gt;&lt;li&gt;Deaths:   6881&lt;/li&gt;&lt;li&gt;Death Rate: 2.53&lt;/li&gt;&lt;/ul&gt;&lt;/div&gt;\n",
       "                 &lt;/div&gt;`,\n",
       "                {&quot;sticky&quot;: true}\n",
       "            );\n",
       "        \n",
       "    \n",
       "            var circle_e50f74237287ab86236e164cfa6d3382 = L.circle(\n",
       "                [42.5063, 1.5218],\n",
       "                {&quot;bubblingMouseEvents&quot;: true, &quot;color&quot;: &quot;red&quot;, &quot;dashArray&quot;: null, &quot;dashOffset&quot;: null, &quot;fill&quot;: true, &quot;fillColor&quot;: &quot;blue&quot;, &quot;fillOpacity&quot;: 0.2, &quot;fillRule&quot;: &quot;evenodd&quot;, &quot;lineCap&quot;: &quot;round&quot;, &quot;lineJoin&quot;: &quot;round&quot;, &quot;opacity&quot;: 1.0, &quot;radius&quot;: 509999.99999999994, &quot;stroke&quot;: true, &quot;weight&quot;: 3}\n",
       "            ).addTo(map_458ec8e400112ec513386247fe175da8);\n",
       "        \n",
       "    \n",
       "            circle_e50f74237287ab86236e164cfa6d3382.bindTooltip(\n",
       "                `&lt;div&gt;\n",
       "                     &lt;div style=&#x27;margin: 0; background-color: black; color: white;&#x27;&gt;&lt;h4 style=&#x27;text-align:center;font-weight: bold&#x27;&gt;Andorra&lt;/h4&gt;&lt;hr style=&#x27;margin:10px;color: white;&#x27;&gt;&lt;ul style=&#x27;color: white;;list-style-type:circle;align-item:left;padding-left:20px;padding-right:20px&#x27;&gt;&lt;li&gt;Confirmed: 47890&lt;/li&gt;&lt;li&gt;Deaths:   165&lt;/li&gt;&lt;li&gt;Death Rate: 0.34&lt;/li&gt;&lt;/ul&gt;&lt;/div&gt;\n",
       "                 &lt;/div&gt;`,\n",
       "                {&quot;sticky&quot;: true}\n",
       "            );\n",
       "        \n",
       "    \n",
       "            var circle_e094f97bf832c478960aacd5891a8f9a = L.circle(\n",
       "                [-11.2027, 17.8739],\n",
       "                {&quot;bubblingMouseEvents&quot;: true, &quot;color&quot;: &quot;red&quot;, &quot;dashArray&quot;: null, &quot;dashOffset&quot;: null, &quot;fill&quot;: true, &quot;fillColor&quot;: &quot;blue&quot;, &quot;fillOpacity&quot;: 0.2, &quot;fillRule&quot;: &quot;evenodd&quot;, &quot;lineCap&quot;: &quot;round&quot;, &quot;lineJoin&quot;: &quot;round&quot;, &quot;opacity&quot;: 1.0, &quot;radius&quot;: 560000.0, &quot;stroke&quot;: true, &quot;weight&quot;: 3}\n",
       "            ).addTo(map_458ec8e400112ec513386247fe175da8);\n",
       "        \n",
       "    \n",
       "            circle_e094f97bf832c478960aacd5891a8f9a.bindTooltip(\n",
       "                `&lt;div&gt;\n",
       "                     &lt;div style=&#x27;margin: 0; background-color: black; color: white;&#x27;&gt;&lt;h4 style=&#x27;text-align:center;font-weight: bold&#x27;&gt;Angola&lt;/h4&gt;&lt;hr style=&#x27;margin:10px;color: white;&#x27;&gt;&lt;ul style=&#x27;color: white;;list-style-type:circle;align-item:left;padding-left:20px;padding-right:20px&#x27;&gt;&lt;li&gt;Confirmed: 105288&lt;/li&gt;&lt;li&gt;Deaths:   1933&lt;/li&gt;&lt;li&gt;Death Rate: 1.84&lt;/li&gt;&lt;/ul&gt;&lt;/div&gt;\n",
       "                 &lt;/div&gt;`,\n",
       "                {&quot;sticky&quot;: true}\n",
       "            );\n",
       "        \n",
       "    \n",
       "            var circle_b0caa599c43ccc8b821267a84b556b68 = L.circle(\n",
       "                [-71.9499, 23.347],\n",
       "                {&quot;bubblingMouseEvents&quot;: true, &quot;color&quot;: &quot;red&quot;, &quot;dashArray&quot;: null, &quot;dashOffset&quot;: null, &quot;fill&quot;: true, &quot;fillColor&quot;: &quot;blue&quot;, &quot;fillOpacity&quot;: 0.2, &quot;fillRule&quot;: &quot;evenodd&quot;, &quot;lineCap&quot;: &quot;round&quot;, &quot;lineJoin&quot;: &quot;round&quot;, &quot;opacity&quot;: 1.0, &quot;radius&quot;: 110000.00000000001, &quot;stroke&quot;: true, &quot;weight&quot;: 3}\n",
       "            ).addTo(map_458ec8e400112ec513386247fe175da8);\n",
       "        \n",
       "    \n",
       "            circle_b0caa599c43ccc8b821267a84b556b68.bindTooltip(\n",
       "                `&lt;div&gt;\n",
       "                     &lt;div style=&#x27;margin: 0; background-color: black; color: white;&#x27;&gt;&lt;h4 style=&#x27;text-align:center;font-weight: bold&#x27;&gt;Antarctica&lt;/h4&gt;&lt;hr style=&#x27;margin:10px;color: white;&#x27;&gt;&lt;ul style=&#x27;color: white;;list-style-type:circle;align-item:left;padding-left:20px;padding-right:20px&#x27;&gt;&lt;li&gt;Confirmed: 11&lt;/li&gt;&lt;li&gt;Deaths:   0&lt;/li&gt;&lt;li&gt;Death Rate: 0.0&lt;/li&gt;&lt;/ul&gt;&lt;/div&gt;\n",
       "                 &lt;/div&gt;`,\n",
       "                {&quot;sticky&quot;: true}\n",
       "            );\n",
       "        \n",
       "    \n",
       "            var circle_af897dc04e18d3230afb3082d7d2aabd = L.circle(\n",
       "                [17.0608, -61.7964],\n",
       "                {&quot;bubblingMouseEvents&quot;: true, &quot;color&quot;: &quot;red&quot;, &quot;dashArray&quot;: null, &quot;dashOffset&quot;: null, &quot;fill&quot;: true, &quot;fillColor&quot;: &quot;blue&quot;, &quot;fillOpacity&quot;: 0.2, &quot;fillRule&quot;: &quot;evenodd&quot;, &quot;lineCap&quot;: &quot;round&quot;, &quot;lineJoin&quot;: &quot;round&quot;, &quot;opacity&quot;: 1.0, &quot;radius&quot;: 459999.99999999994, &quot;stroke&quot;: true, &quot;weight&quot;: 3}\n",
       "            ).addTo(map_458ec8e400112ec513386247fe175da8);\n",
       "        \n",
       "    \n",
       "            circle_af897dc04e18d3230afb3082d7d2aabd.bindTooltip(\n",
       "                `&lt;div&gt;\n",
       "                     &lt;div style=&#x27;margin: 0; background-color: black; color: white;&#x27;&gt;&lt;h4 style=&#x27;text-align:center;font-weight: bold&#x27;&gt;Antigua and Barbuda&lt;/h4&gt;&lt;hr style=&#x27;margin:10px;color: white;&#x27;&gt;&lt;ul style=&#x27;color: white;;list-style-type:circle;align-item:left;padding-left:20px;padding-right:20px&#x27;&gt;&lt;li&gt;Confirmed: 9106&lt;/li&gt;&lt;li&gt;Deaths:   146&lt;/li&gt;&lt;li&gt;Death Rate: 1.6&lt;/li&gt;&lt;/ul&gt;&lt;/div&gt;\n",
       "                 &lt;/div&gt;`,\n",
       "                {&quot;sticky&quot;: true}\n",
       "            );\n",
       "        \n",
       "    \n",
       "            var circle_7e544a9ad683fac17d11ca7e37e6f4d3 = L.circle(\n",
       "                [-38.4161, -63.6167],\n",
       "                {&quot;bubblingMouseEvents&quot;: true, &quot;color&quot;: &quot;red&quot;, &quot;dashArray&quot;: null, &quot;dashOffset&quot;: null, &quot;fill&quot;: true, &quot;fillColor&quot;: &quot;blue&quot;, &quot;fillOpacity&quot;: 0.2, &quot;fillRule&quot;: &quot;evenodd&quot;, &quot;lineCap&quot;: &quot;round&quot;, &quot;lineJoin&quot;: &quot;round&quot;, &quot;opacity&quot;: 1.0, &quot;radius&quot;: 810000.0, &quot;stroke&quot;: true, &quot;weight&quot;: 3}\n",
       "            ).addTo(map_458ec8e400112ec513386247fe175da8);\n",
       "        \n",
       "    \n",
       "            circle_7e544a9ad683fac17d11ca7e37e6f4d3.bindTooltip(\n",
       "                `&lt;div&gt;\n",
       "                     &lt;div style=&#x27;margin: 0; background-color: black; color: white;&#x27;&gt;&lt;h4 style=&#x27;text-align:center;font-weight: bold&#x27;&gt;Argentina&lt;/h4&gt;&lt;hr style=&#x27;margin:10px;color: white;&#x27;&gt;&lt;ul style=&#x27;color: white;;list-style-type:circle;align-item:left;padding-left:20px;padding-right:20px&#x27;&gt;&lt;li&gt;Confirmed: 10044957&lt;/li&gt;&lt;li&gt;Deaths:   130472&lt;/li&gt;&lt;li&gt;Death Rate: 1.3&lt;/li&gt;&lt;/ul&gt;&lt;/div&gt;\n",
       "                 &lt;/div&gt;`,\n",
       "                {&quot;sticky&quot;: true}\n",
       "            );\n",
       "        \n",
       "    \n",
       "            var circle_8072025e0cef37b3c3942f7c8c6fbc21 = L.circle(\n",
       "                [40.0691, 45.0382],\n",
       "                {&quot;bubblingMouseEvents&quot;: true, &quot;color&quot;: &quot;red&quot;, &quot;dashArray&quot;: null, &quot;dashOffset&quot;: null, &quot;fill&quot;: true, &quot;fillColor&quot;: &quot;blue&quot;, &quot;fillOpacity&quot;: 0.2, &quot;fillRule&quot;: &quot;evenodd&quot;, &quot;lineCap&quot;: &quot;round&quot;, &quot;lineJoin&quot;: &quot;round&quot;, &quot;opacity&quot;: 1.0, &quot;radius&quot;: 660000.0, &quot;stroke&quot;: true, &quot;weight&quot;: 3}\n",
       "            ).addTo(map_458ec8e400112ec513386247fe175da8);\n",
       "        \n",
       "    \n",
       "            circle_8072025e0cef37b3c3942f7c8c6fbc21.bindTooltip(\n",
       "                `&lt;div&gt;\n",
       "                     &lt;div style=&#x27;margin: 0; background-color: black; color: white;&#x27;&gt;&lt;h4 style=&#x27;text-align:center;font-weight: bold&#x27;&gt;Armenia&lt;/h4&gt;&lt;hr style=&#x27;margin:10px;color: white;&#x27;&gt;&lt;ul style=&#x27;color: white;;list-style-type:circle;align-item:left;padding-left:20px;padding-right:20px&#x27;&gt;&lt;li&gt;Confirmed: 447308&lt;/li&gt;&lt;li&gt;Deaths:   8727&lt;/li&gt;&lt;li&gt;Death Rate: 1.95&lt;/li&gt;&lt;/ul&gt;&lt;/div&gt;\n",
       "                 &lt;/div&gt;`,\n",
       "                {&quot;sticky&quot;: true}\n",
       "            );\n",
       "        \n",
       "    \n",
       "            var circle_4b019d16a162a43cbecff244734026cd = L.circle(\n",
       "                [-35.4735, 149.0124],\n",
       "                {&quot;bubblingMouseEvents&quot;: true, &quot;color&quot;: &quot;red&quot;, &quot;dashArray&quot;: null, &quot;dashOffset&quot;: null, &quot;fill&quot;: true, &quot;fillColor&quot;: &quot;blue&quot;, &quot;fillOpacity&quot;: 0.2, &quot;fillRule&quot;: &quot;evenodd&quot;, &quot;lineCap&quot;: &quot;round&quot;, &quot;lineJoin&quot;: &quot;round&quot;, &quot;opacity&quot;: 1.0, &quot;radius&quot;: 610000.0, &quot;stroke&quot;: true, &quot;weight&quot;: 3}\n",
       "            ).addTo(map_458ec8e400112ec513386247fe175da8);\n",
       "        \n",
       "    \n",
       "            circle_4b019d16a162a43cbecff244734026cd.bindTooltip(\n",
       "                `&lt;div&gt;\n",
       "                     &lt;div style=&#x27;margin: 0; background-color: black; color: white;&#x27;&gt;&lt;h4 style=&#x27;text-align:center;font-weight: bold&#x27;&gt;Australia&lt;/h4&gt;&lt;hr style=&#x27;margin:10px;color: white;&#x27;&gt;&lt;ul style=&#x27;color: white;;list-style-type:circle;align-item:left;padding-left:20px;padding-right:20px&#x27;&gt;&lt;li&gt;Confirmed: 232974&lt;/li&gt;&lt;li&gt;Deaths:   228&lt;/li&gt;&lt;li&gt;Death Rate: 0.1&lt;/li&gt;&lt;/ul&gt;&lt;/div&gt;\n",
       "                 &lt;/div&gt;`,\n",
       "                {&quot;sticky&quot;: true}\n",
       "            );\n",
       "        \n",
       "    \n",
       "            var circle_cd8d479c07ef744e7b2b048f20d10014 = L.circle(\n",
       "                [-33.8688, 151.2093],\n",
       "                {&quot;bubblingMouseEvents&quot;: true, &quot;color&quot;: &quot;red&quot;, &quot;dashArray&quot;: null, &quot;dashOffset&quot;: null, &quot;fill&quot;: true, &quot;fillColor&quot;: &quot;blue&quot;, &quot;fillOpacity&quot;: 0.2, &quot;fillRule&quot;: &quot;evenodd&quot;, &quot;lineCap&quot;: &quot;round&quot;, &quot;lineJoin&quot;: &quot;round&quot;, &quot;opacity&quot;: 1.0, &quot;radius&quot;: 760000.0, &quot;stroke&quot;: true, &quot;weight&quot;: 3}\n",
       "            ).addTo(map_458ec8e400112ec513386247fe175da8);\n",
       "        \n",
       "    \n",
       "            circle_cd8d479c07ef744e7b2b048f20d10014.bindTooltip(\n",
       "                `&lt;div&gt;\n",
       "                     &lt;div style=&#x27;margin: 0; background-color: black; color: white;&#x27;&gt;&lt;h4 style=&#x27;text-align:center;font-weight: bold&#x27;&gt;Australia&lt;/h4&gt;&lt;hr style=&#x27;margin:10px;color: white;&#x27;&gt;&lt;ul style=&#x27;color: white;;list-style-type:circle;align-item:left;padding-left:20px;padding-right:20px&#x27;&gt;&lt;li&gt;Confirmed: 3915992&lt;/li&gt;&lt;li&gt;Deaths:   6529&lt;/li&gt;&lt;li&gt;Death Rate: 0.17&lt;/li&gt;&lt;/ul&gt;&lt;/div&gt;\n",
       "                 &lt;/div&gt;`,\n",
       "                {&quot;sticky&quot;: true}\n",
       "            );\n",
       "        \n",
       "    \n",
       "            var circle_a859cdb78c5c961500531cf80375e779 = L.circle(\n",
       "                [-12.4634, 130.8456],\n",
       "                {&quot;bubblingMouseEvents&quot;: true, &quot;color&quot;: &quot;red&quot;, &quot;dashArray&quot;: null, &quot;dashOffset&quot;: null, &quot;fill&quot;: true, &quot;fillColor&quot;: &quot;blue&quot;, &quot;fillOpacity&quot;: 0.2, &quot;fillRule&quot;: &quot;evenodd&quot;, &quot;lineCap&quot;: &quot;round&quot;, &quot;lineJoin&quot;: &quot;round&quot;, &quot;opacity&quot;: 1.0, &quot;radius&quot;: 560000.0, &quot;stroke&quot;: true, &quot;weight&quot;: 3}\n",
       "            ).addTo(map_458ec8e400112ec513386247fe175da8);\n",
       "        \n",
       "    \n",
       "            circle_a859cdb78c5c961500531cf80375e779.bindTooltip(\n",
       "                `&lt;div&gt;\n",
       "                     &lt;div style=&#x27;margin: 0; background-color: black; color: white;&#x27;&gt;&lt;h4 style=&#x27;text-align:center;font-weight: bold&#x27;&gt;Australia&lt;/h4&gt;&lt;hr style=&#x27;margin:10px;color: white;&#x27;&gt;&lt;ul style=&#x27;color: white;;list-style-type:circle;align-item:left;padding-left:20px;padding-right:20px&#x27;&gt;&lt;li&gt;Confirmed: 105111&lt;/li&gt;&lt;li&gt;Deaths:   91&lt;/li&gt;&lt;li&gt;Death Rate: 0.09&lt;/li&gt;&lt;/ul&gt;&lt;/div&gt;\n",
       "                 &lt;/div&gt;`,\n",
       "                {&quot;sticky&quot;: true}\n",
       "            );\n",
       "        \n",
       "    \n",
       "            var circle_4ecb8eacfdddbdd1f0f837b1558f7d15 = L.circle(\n",
       "                [-27.4698, 153.0251],\n",
       "                {&quot;bubblingMouseEvents&quot;: true, &quot;color&quot;: &quot;red&quot;, &quot;dashArray&quot;: null, &quot;dashOffset&quot;: null, &quot;fill&quot;: true, &quot;fillColor&quot;: &quot;blue&quot;, &quot;fillOpacity&quot;: 0.2, &quot;fillRule&quot;: &quot;evenodd&quot;, &quot;lineCap&quot;: &quot;round&quot;, &quot;lineJoin&quot;: &quot;round&quot;, &quot;opacity&quot;: 1.0, &quot;radius&quot;: 710000.0, &quot;stroke&quot;: true, &quot;weight&quot;: 3}\n",
       "            ).addTo(map_458ec8e400112ec513386247fe175da8);\n",
       "        \n",
       "    \n",
       "            circle_4ecb8eacfdddbdd1f0f837b1558f7d15.bindTooltip(\n",
       "                `&lt;div&gt;\n",
       "                     &lt;div style=&#x27;margin: 0; background-color: black; color: white;&#x27;&gt;&lt;h4 style=&#x27;text-align:center;font-weight: bold&#x27;&gt;Australia&lt;/h4&gt;&lt;hr style=&#x27;margin:10px;color: white;&#x27;&gt;&lt;ul style=&#x27;color: white;;list-style-type:circle;align-item:left;padding-left:20px;padding-right:20px&#x27;&gt;&lt;li&gt;Confirmed: 1800236&lt;/li&gt;&lt;li&gt;Deaths:   2783&lt;/li&gt;&lt;li&gt;Death Rate: 0.15&lt;/li&gt;&lt;/ul&gt;&lt;/div&gt;\n",
       "                 &lt;/div&gt;`,\n",
       "                {&quot;sticky&quot;: true}\n",
       "            );\n",
       "        \n",
       "    \n",
       "            var circle_f03df1f92c97894ef6a595e3e1479e60 = L.circle(\n",
       "                [-34.9285, 138.6007],\n",
       "                {&quot;bubblingMouseEvents&quot;: true, &quot;color&quot;: &quot;red&quot;, &quot;dashArray&quot;: null, &quot;dashOffset&quot;: null, &quot;fill&quot;: true, &quot;fillColor&quot;: &quot;blue&quot;, &quot;fillOpacity&quot;: 0.2, &quot;fillRule&quot;: &quot;evenodd&quot;, &quot;lineCap&quot;: &quot;round&quot;, &quot;lineJoin&quot;: &quot;round&quot;, &quot;opacity&quot;: 1.0, &quot;radius&quot;: 660000.0, &quot;stroke&quot;: true, &quot;weight&quot;: 3}\n",
       "            ).addTo(map_458ec8e400112ec513386247fe175da8);\n",
       "        \n",
       "    \n",
       "            circle_f03df1f92c97894ef6a595e3e1479e60.bindTooltip(\n",
       "                `&lt;div&gt;\n",
       "                     &lt;div style=&#x27;margin: 0; background-color: black; color: white;&#x27;&gt;&lt;h4 style=&#x27;text-align:center;font-weight: bold&#x27;&gt;Australia&lt;/h4&gt;&lt;hr style=&#x27;margin:10px;color: white;&#x27;&gt;&lt;ul style=&#x27;color: white;;list-style-type:circle;align-item:left;padding-left:20px;padding-right:20px&#x27;&gt;&lt;li&gt;Confirmed: 883620&lt;/li&gt;&lt;li&gt;Deaths:   1365&lt;/li&gt;&lt;li&gt;Death Rate: 0.15&lt;/li&gt;&lt;/ul&gt;&lt;/div&gt;\n",
       "                 &lt;/div&gt;`,\n",
       "                {&quot;sticky&quot;: true}\n",
       "            );\n",
       "        \n",
       "    \n",
       "            var circle_ec2478b974ccbf8d7d832d561616412b = L.circle(\n",
       "                [-42.8821, 147.3272],\n",
       "                {&quot;bubblingMouseEvents&quot;: true, &quot;color&quot;: &quot;red&quot;, &quot;dashArray&quot;: null, &quot;dashOffset&quot;: null, &quot;fill&quot;: true, &quot;fillColor&quot;: &quot;blue&quot;, &quot;fillOpacity&quot;: 0.2, &quot;fillRule&quot;: &quot;evenodd&quot;, &quot;lineCap&quot;: &quot;round&quot;, &quot;lineJoin&quot;: &quot;round&quot;, &quot;opacity&quot;: 1.0, &quot;radius&quot;: 610000.0, &quot;stroke&quot;: true, &quot;weight&quot;: 3}\n",
       "            ).addTo(map_458ec8e400112ec513386247fe175da8);\n",
       "        \n",
       "    \n",
       "            circle_ec2478b974ccbf8d7d832d561616412b.bindTooltip(\n",
       "                `&lt;div&gt;\n",
       "                     &lt;div style=&#x27;margin: 0; background-color: black; color: white;&#x27;&gt;&lt;h4 style=&#x27;text-align:center;font-weight: bold&#x27;&gt;Australia&lt;/h4&gt;&lt;hr style=&#x27;margin:10px;color: white;&#x27;&gt;&lt;ul style=&#x27;color: white;;list-style-type:circle;align-item:left;padding-left:20px;padding-right:20px&#x27;&gt;&lt;li&gt;Confirmed: 287507&lt;/li&gt;&lt;li&gt;Deaths:   256&lt;/li&gt;&lt;li&gt;Death Rate: 0.09&lt;/li&gt;&lt;/ul&gt;&lt;/div&gt;\n",
       "                 &lt;/div&gt;`,\n",
       "                {&quot;sticky&quot;: true}\n",
       "            );\n",
       "        \n",
       "    \n",
       "            var circle_46b303648e3ca134e251b4941a266257 = L.circle(\n",
       "                [-37.8136, 144.9631],\n",
       "                {&quot;bubblingMouseEvents&quot;: true, &quot;color&quot;: &quot;red&quot;, &quot;dashArray&quot;: null, &quot;dashOffset&quot;: null, &quot;fill&quot;: true, &quot;fillColor&quot;: &quot;blue&quot;, &quot;fillOpacity&quot;: 0.2, &quot;fillRule&quot;: &quot;evenodd&quot;, &quot;lineCap&quot;: &quot;round&quot;, &quot;lineJoin&quot;: &quot;round&quot;, &quot;opacity&quot;: 1.0, &quot;radius&quot;: 710000.0, &quot;stroke&quot;: true, &quot;weight&quot;: 3}\n",
       "            ).addTo(map_458ec8e400112ec513386247fe175da8);\n",
       "        \n",
       "    \n",
       "            circle_46b303648e3ca134e251b4941a266257.bindTooltip(\n",
       "                `&lt;div&gt;\n",
       "                     &lt;div style=&#x27;margin: 0; background-color: black; color: white;&#x27;&gt;&lt;h4 style=&#x27;text-align:center;font-weight: bold&#x27;&gt;Australia&lt;/h4&gt;&lt;hr style=&#x27;margin:10px;color: white;&#x27;&gt;&lt;ul style=&#x27;color: white;;list-style-type:circle;align-item:left;padding-left:20px;padding-right:20px&#x27;&gt;&lt;li&gt;Confirmed: 2880559&lt;/li&gt;&lt;li&gt;Deaths:   7370&lt;/li&gt;&lt;li&gt;Death Rate: 0.26&lt;/li&gt;&lt;/ul&gt;&lt;/div&gt;\n",
       "                 &lt;/div&gt;`,\n",
       "                {&quot;sticky&quot;: true}\n",
       "            );\n",
       "        \n",
       "    \n",
       "            var circle_522cc78e845c6631e4ff091a2bdff26f = L.circle(\n",
       "                [-31.9505, 115.8605],\n",
       "                {&quot;bubblingMouseEvents&quot;: true, &quot;color&quot;: &quot;red&quot;, &quot;dashArray&quot;: null, &quot;dashOffset&quot;: null, &quot;fill&quot;: true, &quot;fillColor&quot;: &quot;blue&quot;, &quot;fillOpacity&quot;: 0.2, &quot;fillRule&quot;: &quot;evenodd&quot;, &quot;lineCap&quot;: &quot;round&quot;, &quot;lineJoin&quot;: &quot;round&quot;, &quot;opacity&quot;: 1.0, &quot;radius&quot;: 710000.0, &quot;stroke&quot;: true, &quot;weight&quot;: 3}\n",
       "            ).addTo(map_458ec8e400112ec513386247fe175da8);\n",
       "        \n",
       "    \n",
       "            circle_522cc78e845c6631e4ff091a2bdff26f.bindTooltip(\n",
       "                `&lt;div&gt;\n",
       "                     &lt;div style=&#x27;margin: 0; background-color: black; color: white;&#x27;&gt;&lt;h4 style=&#x27;text-align:center;font-weight: bold&#x27;&gt;Australia&lt;/h4&gt;&lt;hr style=&#x27;margin:10px;color: white;&#x27;&gt;&lt;ul style=&#x27;color: white;;list-style-type:circle;align-item:left;padding-left:20px;padding-right:20px&#x27;&gt;&lt;li&gt;Confirmed: 1293461&lt;/li&gt;&lt;li&gt;Deaths:   952&lt;/li&gt;&lt;li&gt;Death Rate: 0.07&lt;/li&gt;&lt;/ul&gt;&lt;/div&gt;\n",
       "                 &lt;/div&gt;`,\n",
       "                {&quot;sticky&quot;: true}\n",
       "            );\n",
       "        \n",
       "    \n",
       "            var circle_b056e75124be8d6de418707d8213e1e6 = L.circle(\n",
       "                [47.5162, 14.5501],\n",
       "                {&quot;bubblingMouseEvents&quot;: true, &quot;color&quot;: &quot;red&quot;, &quot;dashArray&quot;: null, &quot;dashOffset&quot;: null, &quot;fill&quot;: true, &quot;fillColor&quot;: &quot;blue&quot;, &quot;fillOpacity&quot;: 0.2, &quot;fillRule&quot;: &quot;evenodd&quot;, &quot;lineCap&quot;: &quot;round&quot;, &quot;lineJoin&quot;: &quot;round&quot;, &quot;opacity&quot;: 1.0, &quot;radius&quot;: 760000.0, &quot;stroke&quot;: true, &quot;weight&quot;: 3}\n",
       "            ).addTo(map_458ec8e400112ec513386247fe175da8);\n",
       "        \n",
       "    \n",
       "            circle_b056e75124be8d6de418707d8213e1e6.bindTooltip(\n",
       "                `&lt;div&gt;\n",
       "                     &lt;div style=&#x27;margin: 0; background-color: black; color: white;&#x27;&gt;&lt;h4 style=&#x27;text-align:center;font-weight: bold&#x27;&gt;Austria&lt;/h4&gt;&lt;hr style=&#x27;margin:10px;color: white;&#x27;&gt;&lt;ul style=&#x27;color: white;;list-style-type:circle;align-item:left;padding-left:20px;padding-right:20px&#x27;&gt;&lt;li&gt;Confirmed: 5961143&lt;/li&gt;&lt;li&gt;Deaths:   21970&lt;/li&gt;&lt;li&gt;Death Rate: 0.37&lt;/li&gt;&lt;/ul&gt;&lt;/div&gt;\n",
       "                 &lt;/div&gt;`,\n",
       "                {&quot;sticky&quot;: true}\n",
       "            );\n",
       "        \n",
       "    \n",
       "            var circle_1682262810cb00b0ebd5134ee59f8e8a = L.circle(\n",
       "                [40.1431, 47.5769],\n",
       "                {&quot;bubblingMouseEvents&quot;: true, &quot;color&quot;: &quot;red&quot;, &quot;dashArray&quot;: null, &quot;dashOffset&quot;: null, &quot;fill&quot;: true, &quot;fillColor&quot;: &quot;blue&quot;, &quot;fillOpacity&quot;: 0.2, &quot;fillRule&quot;: &quot;evenodd&quot;, &quot;lineCap&quot;: &quot;round&quot;, &quot;lineJoin&quot;: &quot;round&quot;, &quot;opacity&quot;: 1.0, &quot;radius&quot;: 660000.0, &quot;stroke&quot;: true, &quot;weight&quot;: 3}\n",
       "            ).addTo(map_458ec8e400112ec513386247fe175da8);\n",
       "        \n",
       "    \n",
       "            circle_1682262810cb00b0ebd5134ee59f8e8a.bindTooltip(\n",
       "                `&lt;div&gt;\n",
       "                     &lt;div style=&#x27;margin: 0; background-color: black; color: white;&#x27;&gt;&lt;h4 style=&#x27;text-align:center;font-weight: bold&#x27;&gt;Azerbaijan&lt;/h4&gt;&lt;hr style=&#x27;margin:10px;color: white;&#x27;&gt;&lt;ul style=&#x27;color: white;;list-style-type:circle;align-item:left;padding-left:20px;padding-right:20px&#x27;&gt;&lt;li&gt;Confirmed: 828825&lt;/li&gt;&lt;li&gt;Deaths:   10138&lt;/li&gt;&lt;li&gt;Death Rate: 1.22&lt;/li&gt;&lt;/ul&gt;&lt;/div&gt;\n",
       "                 &lt;/div&gt;`,\n",
       "                {&quot;sticky&quot;: true}\n",
       "            );\n",
       "        \n",
       "    \n",
       "            var circle_cb6887e08bb4b9bb84e9af91d51a7fde = L.circle(\n",
       "                [25.025885, -78.035889],\n",
       "                {&quot;bubblingMouseEvents&quot;: true, &quot;color&quot;: &quot;red&quot;, &quot;dashArray&quot;: null, &quot;dashOffset&quot;: null, &quot;fill&quot;: true, &quot;fillColor&quot;: &quot;blue&quot;, &quot;fillOpacity&quot;: 0.2, &quot;fillRule&quot;: &quot;evenodd&quot;, &quot;lineCap&quot;: &quot;round&quot;, &quot;lineJoin&quot;: &quot;round&quot;, &quot;opacity&quot;: 1.0, &quot;radius&quot;: 509999.99999999994, &quot;stroke&quot;: true, &quot;weight&quot;: 3}\n",
       "            ).addTo(map_458ec8e400112ec513386247fe175da8);\n",
       "        \n",
       "    \n",
       "            circle_cb6887e08bb4b9bb84e9af91d51a7fde.bindTooltip(\n",
       "                `&lt;div&gt;\n",
       "                     &lt;div style=&#x27;margin: 0; background-color: black; color: white;&#x27;&gt;&lt;h4 style=&#x27;text-align:center;font-weight: bold&#x27;&gt;Bahamas&lt;/h4&gt;&lt;hr style=&#x27;margin:10px;color: white;&#x27;&gt;&lt;ul style=&#x27;color: white;;list-style-type:circle;align-item:left;padding-left:20px;padding-right:20px&#x27;&gt;&lt;li&gt;Confirmed: 37491&lt;/li&gt;&lt;li&gt;Deaths:   833&lt;/li&gt;&lt;li&gt;Death Rate: 2.22&lt;/li&gt;&lt;/ul&gt;&lt;/div&gt;\n",
       "                 &lt;/div&gt;`,\n",
       "                {&quot;sticky&quot;: true}\n",
       "            );\n",
       "        \n",
       "    \n",
       "            var circle_b2024d18335f6ee99c4d70ec1ea2892b = L.circle(\n",
       "                [26.0275, 50.55],\n",
       "                {&quot;bubblingMouseEvents&quot;: true, &quot;color&quot;: &quot;red&quot;, &quot;dashArray&quot;: null, &quot;dashOffset&quot;: null, &quot;fill&quot;: true, &quot;fillColor&quot;: &quot;blue&quot;, &quot;fillOpacity&quot;: 0.2, &quot;fillRule&quot;: &quot;evenodd&quot;, &quot;lineCap&quot;: &quot;round&quot;, &quot;lineJoin&quot;: &quot;round&quot;, &quot;opacity&quot;: 1.0, &quot;radius&quot;: 660000.0, &quot;stroke&quot;: true, &quot;weight&quot;: 3}\n",
       "            ).addTo(map_458ec8e400112ec513386247fe175da8);\n",
       "        \n",
       "    \n",
       "            circle_b2024d18335f6ee99c4d70ec1ea2892b.bindTooltip(\n",
       "                `&lt;div&gt;\n",
       "                     &lt;div style=&#x27;margin: 0; background-color: black; color: white;&#x27;&gt;&lt;h4 style=&#x27;text-align:center;font-weight: bold&#x27;&gt;Bahrain&lt;/h4&gt;&lt;hr style=&#x27;margin:10px;color: white;&#x27;&gt;&lt;ul style=&#x27;color: white;;list-style-type:circle;align-item:left;padding-left:20px;padding-right:20px&#x27;&gt;&lt;li&gt;Confirmed: 710693&lt;/li&gt;&lt;li&gt;Deaths:   1553&lt;/li&gt;&lt;li&gt;Death Rate: 0.22&lt;/li&gt;&lt;/ul&gt;&lt;/div&gt;\n",
       "                 &lt;/div&gt;`,\n",
       "                {&quot;sticky&quot;: true}\n",
       "            );\n",
       "        \n",
       "    \n",
       "            var circle_ff4b699eadac028d54b4a431d83e369b = L.circle(\n",
       "                [23.685, 90.3563],\n",
       "                {&quot;bubblingMouseEvents&quot;: true, &quot;color&quot;: &quot;red&quot;, &quot;dashArray&quot;: null, &quot;dashOffset&quot;: null, &quot;fill&quot;: true, &quot;fillColor&quot;: &quot;blue&quot;, &quot;fillOpacity&quot;: 0.2, &quot;fillRule&quot;: &quot;evenodd&quot;, &quot;lineCap&quot;: &quot;round&quot;, &quot;lineJoin&quot;: &quot;round&quot;, &quot;opacity&quot;: 1.0, &quot;radius&quot;: 710000.0, &quot;stroke&quot;: true, &quot;weight&quot;: 3}\n",
       "            ).addTo(map_458ec8e400112ec513386247fe175da8);\n",
       "        \n",
       "    \n",
       "            circle_ff4b699eadac028d54b4a431d83e369b.bindTooltip(\n",
       "                `&lt;div&gt;\n",
       "                     &lt;div style=&#x27;margin: 0; background-color: black; color: white;&#x27;&gt;&lt;h4 style=&#x27;text-align:center;font-weight: bold&#x27;&gt;Bangladesh&lt;/h4&gt;&lt;hr style=&#x27;margin:10px;color: white;&#x27;&gt;&lt;ul style=&#x27;color: white;;list-style-type:circle;align-item:left;padding-left:20px;padding-right:20px&#x27;&gt;&lt;li&gt;Confirmed: 2037871&lt;/li&gt;&lt;li&gt;Deaths:   29445&lt;/li&gt;&lt;li&gt;Death Rate: 1.44&lt;/li&gt;&lt;/ul&gt;&lt;/div&gt;\n",
       "                 &lt;/div&gt;`,\n",
       "                {&quot;sticky&quot;: true}\n",
       "            );\n",
       "        \n",
       "    \n",
       "            var circle_292b57885a74b4355a5f9fe079eb5d43 = L.circle(\n",
       "                [13.1939, -59.5432],\n",
       "                {&quot;bubblingMouseEvents&quot;: true, &quot;color&quot;: &quot;red&quot;, &quot;dashArray&quot;: null, &quot;dashOffset&quot;: null, &quot;fill&quot;: true, &quot;fillColor&quot;: &quot;blue&quot;, &quot;fillOpacity&quot;: 0.2, &quot;fillRule&quot;: &quot;evenodd&quot;, &quot;lineCap&quot;: &quot;round&quot;, &quot;lineJoin&quot;: &quot;round&quot;, &quot;opacity&quot;: 1.0, &quot;radius&quot;: 560000.0, &quot;stroke&quot;: true, &quot;weight&quot;: 3}\n",
       "            ).addTo(map_458ec8e400112ec513386247fe175da8);\n",
       "        \n",
       "    \n",
       "            circle_292b57885a74b4355a5f9fe079eb5d43.bindTooltip(\n",
       "                `&lt;div&gt;\n",
       "                     &lt;div style=&#x27;margin: 0; background-color: black; color: white;&#x27;&gt;&lt;h4 style=&#x27;text-align:center;font-weight: bold&#x27;&gt;Barbados&lt;/h4&gt;&lt;hr style=&#x27;margin:10px;color: white;&#x27;&gt;&lt;ul style=&#x27;color: white;;list-style-type:circle;align-item:left;padding-left:20px;padding-right:20px&#x27;&gt;&lt;li&gt;Confirmed: 106798&lt;/li&gt;&lt;li&gt;Deaths:   579&lt;/li&gt;&lt;li&gt;Death Rate: 0.54&lt;/li&gt;&lt;/ul&gt;&lt;/div&gt;\n",
       "                 &lt;/div&gt;`,\n",
       "                {&quot;sticky&quot;: true}\n",
       "            );\n",
       "        \n",
       "    \n",
       "            var circle_0ba810be9c86fd493efbbf34c4552cc1 = L.circle(\n",
       "                [53.7098, 27.9534],\n",
       "                {&quot;bubblingMouseEvents&quot;: true, &quot;color&quot;: &quot;red&quot;, &quot;dashArray&quot;: null, &quot;dashOffset&quot;: null, &quot;fill&quot;: true, &quot;fillColor&quot;: &quot;blue&quot;, &quot;fillOpacity&quot;: 0.2, &quot;fillRule&quot;: &quot;evenodd&quot;, &quot;lineCap&quot;: &quot;round&quot;, &quot;lineJoin&quot;: &quot;round&quot;, &quot;opacity&quot;: 1.0, &quot;radius&quot;: 660000.0, &quot;stroke&quot;: true, &quot;weight&quot;: 3}\n",
       "            ).addTo(map_458ec8e400112ec513386247fe175da8);\n",
       "        \n",
       "    \n",
       "            circle_0ba810be9c86fd493efbbf34c4552cc1.bindTooltip(\n",
       "                `&lt;div&gt;\n",
       "                     &lt;div style=&#x27;margin: 0; background-color: black; color: white;&#x27;&gt;&lt;h4 style=&#x27;text-align:center;font-weight: bold&#x27;&gt;Belarus&lt;/h4&gt;&lt;hr style=&#x27;margin:10px;color: white;&#x27;&gt;&lt;ul style=&#x27;color: white;;list-style-type:circle;align-item:left;padding-left:20px;padding-right:20px&#x27;&gt;&lt;li&gt;Confirmed: 994037&lt;/li&gt;&lt;li&gt;Deaths:   7118&lt;/li&gt;&lt;li&gt;Death Rate: 0.72&lt;/li&gt;&lt;/ul&gt;&lt;/div&gt;\n",
       "                 &lt;/div&gt;`,\n",
       "                {&quot;sticky&quot;: true}\n",
       "            );\n",
       "        \n",
       "    \n",
       "            var circle_8317aa46d49eb7e2fd14b5556267964c = L.circle(\n",
       "                [50.8333, 4.469936],\n",
       "                {&quot;bubblingMouseEvents&quot;: true, &quot;color&quot;: &quot;red&quot;, &quot;dashArray&quot;: null, &quot;dashOffset&quot;: null, &quot;fill&quot;: true, &quot;fillColor&quot;: &quot;blue&quot;, &quot;fillOpacity&quot;: 0.2, &quot;fillRule&quot;: &quot;evenodd&quot;, &quot;lineCap&quot;: &quot;round&quot;, &quot;lineJoin&quot;: &quot;round&quot;, &quot;opacity&quot;: 1.0, &quot;radius&quot;: 760000.0, &quot;stroke&quot;: true, &quot;weight&quot;: 3}\n",
       "            ).addTo(map_458ec8e400112ec513386247fe175da8);\n",
       "        \n",
       "    \n",
       "            circle_8317aa46d49eb7e2fd14b5556267964c.bindTooltip(\n",
       "                `&lt;div&gt;\n",
       "                     &lt;div style=&#x27;margin: 0; background-color: black; color: white;&#x27;&gt;&lt;h4 style=&#x27;text-align:center;font-weight: bold&#x27;&gt;Belgium&lt;/h4&gt;&lt;hr style=&#x27;margin:10px;color: white;&#x27;&gt;&lt;ul style=&#x27;color: white;;list-style-type:circle;align-item:left;padding-left:20px;padding-right:20px&#x27;&gt;&lt;li&gt;Confirmed: 4739365&lt;/li&gt;&lt;li&gt;Deaths:   33814&lt;/li&gt;&lt;li&gt;Death Rate: 0.71&lt;/li&gt;&lt;/ul&gt;&lt;/div&gt;\n",
       "                 &lt;/div&gt;`,\n",
       "                {&quot;sticky&quot;: true}\n",
       "            );\n",
       "        \n",
       "    \n",
       "            var circle_715103bdd9262c9b26548453df7f2721 = L.circle(\n",
       "                [17.1899, -88.4976],\n",
       "                {&quot;bubblingMouseEvents&quot;: true, &quot;color&quot;: &quot;red&quot;, &quot;dashArray&quot;: null, &quot;dashOffset&quot;: null, &quot;fill&quot;: true, &quot;fillColor&quot;: &quot;blue&quot;, &quot;fillOpacity&quot;: 0.2, &quot;fillRule&quot;: &quot;evenodd&quot;, &quot;lineCap&quot;: &quot;round&quot;, &quot;lineJoin&quot;: &quot;round&quot;, &quot;opacity&quot;: 1.0, &quot;radius&quot;: 560000.0, &quot;stroke&quot;: true, &quot;weight&quot;: 3}\n",
       "            ).addTo(map_458ec8e400112ec513386247fe175da8);\n",
       "        \n",
       "    \n",
       "            circle_715103bdd9262c9b26548453df7f2721.bindTooltip(\n",
       "                `&lt;div&gt;\n",
       "                     &lt;div style=&#x27;margin: 0; background-color: black; color: white;&#x27;&gt;&lt;h4 style=&#x27;text-align:center;font-weight: bold&#x27;&gt;Belize&lt;/h4&gt;&lt;hr style=&#x27;margin:10px;color: white;&#x27;&gt;&lt;ul style=&#x27;color: white;;list-style-type:circle;align-item:left;padding-left:20px;padding-right:20px&#x27;&gt;&lt;li&gt;Confirmed: 70757&lt;/li&gt;&lt;li&gt;Deaths:   688&lt;/li&gt;&lt;li&gt;Death Rate: 0.97&lt;/li&gt;&lt;/ul&gt;&lt;/div&gt;\n",
       "                 &lt;/div&gt;`,\n",
       "                {&quot;sticky&quot;: true}\n",
       "            );\n",
       "        \n",
       "    \n",
       "            var circle_81821051ab6462f3e06dffa80aa646ca = L.circle(\n",
       "                [9.3077, 2.3158],\n",
       "                {&quot;bubblingMouseEvents&quot;: true, &quot;color&quot;: &quot;red&quot;, &quot;dashArray&quot;: null, &quot;dashOffset&quot;: null, &quot;fill&quot;: true, &quot;fillColor&quot;: &quot;blue&quot;, &quot;fillOpacity&quot;: 0.2, &quot;fillRule&quot;: &quot;evenodd&quot;, &quot;lineCap&quot;: &quot;round&quot;, &quot;lineJoin&quot;: &quot;round&quot;, &quot;opacity&quot;: 1.0, &quot;radius&quot;: 509999.99999999994, &quot;stroke&quot;: true, &quot;weight&quot;: 3}\n",
       "            ).addTo(map_458ec8e400112ec513386247fe175da8);\n",
       "        \n",
       "    \n",
       "            circle_81821051ab6462f3e06dffa80aa646ca.bindTooltip(\n",
       "                `&lt;div&gt;\n",
       "                     &lt;div style=&#x27;margin: 0; background-color: black; color: white;&#x27;&gt;&lt;h4 style=&#x27;text-align:center;font-weight: bold&#x27;&gt;Benin&lt;/h4&gt;&lt;hr style=&#x27;margin:10px;color: white;&#x27;&gt;&lt;ul style=&#x27;color: white;;list-style-type:circle;align-item:left;padding-left:20px;padding-right:20px&#x27;&gt;&lt;li&gt;Confirmed: 27999&lt;/li&gt;&lt;li&gt;Deaths:   163&lt;/li&gt;&lt;li&gt;Death Rate: 0.58&lt;/li&gt;&lt;/ul&gt;&lt;/div&gt;\n",
       "                 &lt;/div&gt;`,\n",
       "                {&quot;sticky&quot;: true}\n",
       "            );\n",
       "        \n",
       "    \n",
       "            var circle_782cbe8f024e2fa30eacc8416eadb025 = L.circle(\n",
       "                [27.5142, 90.4336],\n",
       "                {&quot;bubblingMouseEvents&quot;: true, &quot;color&quot;: &quot;red&quot;, &quot;dashArray&quot;: null, &quot;dashOffset&quot;: null, &quot;fill&quot;: true, &quot;fillColor&quot;: &quot;blue&quot;, &quot;fillOpacity&quot;: 0.2, &quot;fillRule&quot;: &quot;evenodd&quot;, &quot;lineCap&quot;: &quot;round&quot;, &quot;lineJoin&quot;: &quot;round&quot;, &quot;opacity&quot;: 1.0, &quot;radius&quot;: 560000.0, &quot;stroke&quot;: true, &quot;weight&quot;: 3}\n",
       "            ).addTo(map_458ec8e400112ec513386247fe175da8);\n",
       "        \n",
       "    \n",
       "            circle_782cbe8f024e2fa30eacc8416eadb025.bindTooltip(\n",
       "                `&lt;div&gt;\n",
       "                     &lt;div style=&#x27;margin: 0; background-color: black; color: white;&#x27;&gt;&lt;h4 style=&#x27;text-align:center;font-weight: bold&#x27;&gt;Bhutan&lt;/h4&gt;&lt;hr style=&#x27;margin:10px;color: white;&#x27;&gt;&lt;ul style=&#x27;color: white;;list-style-type:circle;align-item:left;padding-left:20px;padding-right:20px&#x27;&gt;&lt;li&gt;Confirmed: 62627&lt;/li&gt;&lt;li&gt;Deaths:   21&lt;/li&gt;&lt;li&gt;Death Rate: 0.03&lt;/li&gt;&lt;/ul&gt;&lt;/div&gt;\n",
       "                 &lt;/div&gt;`,\n",
       "                {&quot;sticky&quot;: true}\n",
       "            );\n",
       "        \n",
       "    \n",
       "            var circle_771895e04c669c999f9c2ea723690c5c = L.circle(\n",
       "                [-16.2902, -63.5887],\n",
       "                {&quot;bubblingMouseEvents&quot;: true, &quot;color&quot;: &quot;red&quot;, &quot;dashArray&quot;: null, &quot;dashOffset&quot;: null, &quot;fill&quot;: true, &quot;fillColor&quot;: &quot;blue&quot;, &quot;fillOpacity&quot;: 0.2, &quot;fillRule&quot;: &quot;evenodd&quot;, &quot;lineCap&quot;: &quot;round&quot;, &quot;lineJoin&quot;: &quot;round&quot;, &quot;opacity&quot;: 1.0, &quot;radius&quot;: 660000.0, &quot;stroke&quot;: true, &quot;weight&quot;: 3}\n",
       "            ).addTo(map_458ec8e400112ec513386247fe175da8);\n",
       "        \n",
       "    \n",
       "            circle_771895e04c669c999f9c2ea723690c5c.bindTooltip(\n",
       "                `&lt;div&gt;\n",
       "                     &lt;div style=&#x27;margin: 0; background-color: black; color: white;&#x27;&gt;&lt;h4 style=&#x27;text-align:center;font-weight: bold&#x27;&gt;Bolivia&lt;/h4&gt;&lt;hr style=&#x27;margin:10px;color: white;&#x27;&gt;&lt;ul style=&#x27;color: white;;list-style-type:circle;align-item:left;padding-left:20px;padding-right:20px&#x27;&gt;&lt;li&gt;Confirmed: 1194277&lt;/li&gt;&lt;li&gt;Deaths:   22365&lt;/li&gt;&lt;li&gt;Death Rate: 1.87&lt;/li&gt;&lt;/ul&gt;&lt;/div&gt;\n",
       "                 &lt;/div&gt;`,\n",
       "                {&quot;sticky&quot;: true}\n",
       "            );\n",
       "        \n",
       "    \n",
       "            var circle_685d5763a48c243b69dc60d9f61cdd89 = L.circle(\n",
       "                [43.9159, 17.6791],\n",
       "                {&quot;bubblingMouseEvents&quot;: true, &quot;color&quot;: &quot;red&quot;, &quot;dashArray&quot;: null, &quot;dashOffset&quot;: null, &quot;fill&quot;: true, &quot;fillColor&quot;: &quot;blue&quot;, &quot;fillOpacity&quot;: 0.2, &quot;fillRule&quot;: &quot;evenodd&quot;, &quot;lineCap&quot;: &quot;round&quot;, &quot;lineJoin&quot;: &quot;round&quot;, &quot;opacity&quot;: 1.0, &quot;radius&quot;: 610000.0, &quot;stroke&quot;: true, &quot;weight&quot;: 3}\n",
       "            ).addTo(map_458ec8e400112ec513386247fe175da8);\n",
       "        \n",
       "    \n",
       "            circle_685d5763a48c243b69dc60d9f61cdd89.bindTooltip(\n",
       "                `&lt;div&gt;\n",
       "                     &lt;div style=&#x27;margin: 0; background-color: black; color: white;&#x27;&gt;&lt;h4 style=&#x27;text-align:center;font-weight: bold&#x27;&gt;Bosnia and Herzegovina&lt;/h4&gt;&lt;hr style=&#x27;margin:10px;color: white;&#x27;&gt;&lt;ul style=&#x27;color: white;;list-style-type:circle;align-item:left;padding-left:20px;padding-right:20px&#x27;&gt;&lt;li&gt;Confirmed: 401729&lt;/li&gt;&lt;li&gt;Deaths:   16280&lt;/li&gt;&lt;li&gt;Death Rate: 4.05&lt;/li&gt;&lt;/ul&gt;&lt;/div&gt;\n",
       "                 &lt;/div&gt;`,\n",
       "                {&quot;sticky&quot;: true}\n",
       "            );\n",
       "        \n",
       "    \n",
       "            var circle_547e70b9fd4b8c6b8c22e0b5b87e027e = L.circle(\n",
       "                [-22.3285, 24.6849],\n",
       "                {&quot;bubblingMouseEvents&quot;: true, &quot;color&quot;: &quot;red&quot;, &quot;dashArray&quot;: null, &quot;dashOffset&quot;: null, &quot;fill&quot;: true, &quot;fillColor&quot;: &quot;blue&quot;, &quot;fillOpacity&quot;: 0.2, &quot;fillRule&quot;: &quot;evenodd&quot;, &quot;lineCap&quot;: &quot;round&quot;, &quot;lineJoin&quot;: &quot;round&quot;, &quot;opacity&quot;: 1.0, &quot;radius&quot;: 610000.0, &quot;stroke&quot;: true, &quot;weight&quot;: 3}\n",
       "            ).addTo(map_458ec8e400112ec513386247fe175da8);\n",
       "        \n",
       "    \n",
       "            circle_547e70b9fd4b8c6b8c22e0b5b87e027e.bindTooltip(\n",
       "                `&lt;div&gt;\n",
       "                     &lt;div style=&#x27;margin: 0; background-color: black; color: white;&#x27;&gt;&lt;h4 style=&#x27;text-align:center;font-weight: bold&#x27;&gt;Botswana&lt;/h4&gt;&lt;hr style=&#x27;margin:10px;color: white;&#x27;&gt;&lt;ul style=&#x27;color: white;;list-style-type:circle;align-item:left;padding-left:20px;padding-right:20px&#x27;&gt;&lt;li&gt;Confirmed: 329758&lt;/li&gt;&lt;li&gt;Deaths:   2801&lt;/li&gt;&lt;li&gt;Death Rate: 0.85&lt;/li&gt;&lt;/ul&gt;&lt;/div&gt;\n",
       "                 &lt;/div&gt;`,\n",
       "                {&quot;sticky&quot;: true}\n",
       "            );\n",
       "        \n",
       "    \n",
       "            var circle_eab1d594cdfec4a875e93c815cb41b32 = L.circle(\n",
       "                [-14.235, -51.9253],\n",
       "                {&quot;bubblingMouseEvents&quot;: true, &quot;color&quot;: &quot;red&quot;, &quot;dashArray&quot;: null, &quot;dashOffset&quot;: null, &quot;fill&quot;: true, &quot;fillColor&quot;: &quot;blue&quot;, &quot;fillOpacity&quot;: 0.2, &quot;fillRule&quot;: &quot;evenodd&quot;, &quot;lineCap&quot;: &quot;round&quot;, &quot;lineJoin&quot;: &quot;round&quot;, &quot;opacity&quot;: 1.0, &quot;radius&quot;: 860000.0, &quot;stroke&quot;: true, &quot;weight&quot;: 3}\n",
       "            ).addTo(map_458ec8e400112ec513386247fe175da8);\n",
       "        \n",
       "    \n",
       "            circle_eab1d594cdfec4a875e93c815cb41b32.bindTooltip(\n",
       "                `&lt;div&gt;\n",
       "                     &lt;div style=&#x27;margin: 0; background-color: black; color: white;&#x27;&gt;&lt;h4 style=&#x27;text-align:center;font-weight: bold&#x27;&gt;Brazil&lt;/h4&gt;&lt;hr style=&#x27;margin:10px;color: white;&#x27;&gt;&lt;ul style=&#x27;color: white;;list-style-type:circle;align-item:left;padding-left:20px;padding-right:20px&#x27;&gt;&lt;li&gt;Confirmed: 37076053&lt;/li&gt;&lt;li&gt;Deaths:   699276&lt;/li&gt;&lt;li&gt;Death Rate: 1.89&lt;/li&gt;&lt;/ul&gt;&lt;/div&gt;\n",
       "                 &lt;/div&gt;`,\n",
       "                {&quot;sticky&quot;: true}\n",
       "            );\n",
       "        \n",
       "    \n",
       "            var circle_ea5c66fffdacfb267b60b43c6729319b = L.circle(\n",
       "                [4.5353, 114.7277],\n",
       "                {&quot;bubblingMouseEvents&quot;: true, &quot;color&quot;: &quot;red&quot;, &quot;dashArray&quot;: null, &quot;dashOffset&quot;: null, &quot;fill&quot;: true, &quot;fillColor&quot;: &quot;blue&quot;, &quot;fillOpacity&quot;: 0.2, &quot;fillRule&quot;: &quot;evenodd&quot;, &quot;lineCap&quot;: &quot;round&quot;, &quot;lineJoin&quot;: &quot;round&quot;, &quot;opacity&quot;: 1.0, &quot;radius&quot;: 610000.0, &quot;stroke&quot;: true, &quot;weight&quot;: 3}\n",
       "            ).addTo(map_458ec8e400112ec513386247fe175da8);\n",
       "        \n",
       "    \n",
       "            circle_ea5c66fffdacfb267b60b43c6729319b.bindTooltip(\n",
       "                `&lt;div&gt;\n",
       "                     &lt;div style=&#x27;margin: 0; background-color: black; color: white;&#x27;&gt;&lt;h4 style=&#x27;text-align:center;font-weight: bold&#x27;&gt;Brunei&lt;/h4&gt;&lt;hr style=&#x27;margin:10px;color: white;&#x27;&gt;&lt;ul style=&#x27;color: white;;list-style-type:circle;align-item:left;padding-left:20px;padding-right:20px&#x27;&gt;&lt;li&gt;Confirmed: 279661&lt;/li&gt;&lt;li&gt;Deaths:   225&lt;/li&gt;&lt;li&gt;Death Rate: 0.08&lt;/li&gt;&lt;/ul&gt;&lt;/div&gt;\n",
       "                 &lt;/div&gt;`,\n",
       "                {&quot;sticky&quot;: true}\n",
       "            );\n",
       "        \n",
       "    \n",
       "            var circle_689ee83b01e12e0eaf88088a2991e1fb = L.circle(\n",
       "                [42.7339, 25.4858],\n",
       "                {&quot;bubblingMouseEvents&quot;: true, &quot;color&quot;: &quot;red&quot;, &quot;dashArray&quot;: null, &quot;dashOffset&quot;: null, &quot;fill&quot;: true, &quot;fillColor&quot;: &quot;blue&quot;, &quot;fillOpacity&quot;: 0.2, &quot;fillRule&quot;: &quot;evenodd&quot;, &quot;lineCap&quot;: &quot;round&quot;, &quot;lineJoin&quot;: &quot;round&quot;, &quot;opacity&quot;: 1.0, &quot;radius&quot;: 710000.0, &quot;stroke&quot;: true, &quot;weight&quot;: 3}\n",
       "            ).addTo(map_458ec8e400112ec513386247fe175da8);\n",
       "        \n",
       "    \n",
       "            circle_689ee83b01e12e0eaf88088a2991e1fb.bindTooltip(\n",
       "                `&lt;div&gt;\n",
       "                     &lt;div style=&#x27;margin: 0; background-color: black; color: white;&#x27;&gt;&lt;h4 style=&#x27;text-align:center;font-weight: bold&#x27;&gt;Bulgaria&lt;/h4&gt;&lt;hr style=&#x27;margin:10px;color: white;&#x27;&gt;&lt;ul style=&#x27;color: white;;list-style-type:circle;align-item:left;padding-left:20px;padding-right:20px&#x27;&gt;&lt;li&gt;Confirmed: 1297523&lt;/li&gt;&lt;li&gt;Deaths:   38228&lt;/li&gt;&lt;li&gt;Death Rate: 2.95&lt;/li&gt;&lt;/ul&gt;&lt;/div&gt;\n",
       "                 &lt;/div&gt;`,\n",
       "                {&quot;sticky&quot;: true}\n",
       "            );\n",
       "        \n",
       "    \n",
       "            var circle_d0f3b37d034bb7f3e9e1f2c13f0a62dd = L.circle(\n",
       "                [12.2383, -1.5616],\n",
       "                {&quot;bubblingMouseEvents&quot;: true, &quot;color&quot;: &quot;red&quot;, &quot;dashArray&quot;: null, &quot;dashOffset&quot;: null, &quot;fill&quot;: true, &quot;fillColor&quot;: &quot;blue&quot;, &quot;fillOpacity&quot;: 0.2, &quot;fillRule&quot;: &quot;evenodd&quot;, &quot;lineCap&quot;: &quot;round&quot;, &quot;lineJoin&quot;: &quot;round&quot;, &quot;opacity&quot;: 1.0, &quot;radius&quot;: 509999.99999999994, &quot;stroke&quot;: true, &quot;weight&quot;: 3}\n",
       "            ).addTo(map_458ec8e400112ec513386247fe175da8);\n",
       "        \n",
       "    \n",
       "            circle_d0f3b37d034bb7f3e9e1f2c13f0a62dd.bindTooltip(\n",
       "                `&lt;div&gt;\n",
       "                     &lt;div style=&#x27;margin: 0; background-color: black; color: white;&#x27;&gt;&lt;h4 style=&#x27;text-align:center;font-weight: bold&#x27;&gt;Burkina Faso&lt;/h4&gt;&lt;hr style=&#x27;margin:10px;color: white;&#x27;&gt;&lt;ul style=&#x27;color: white;;list-style-type:circle;align-item:left;padding-left:20px;padding-right:20px&#x27;&gt;&lt;li&gt;Confirmed: 22056&lt;/li&gt;&lt;li&gt;Deaths:   396&lt;/li&gt;&lt;li&gt;Death Rate: 1.8&lt;/li&gt;&lt;/ul&gt;&lt;/div&gt;\n",
       "                 &lt;/div&gt;`,\n",
       "                {&quot;sticky&quot;: true}\n",
       "            );\n",
       "        \n",
       "    \n",
       "            var circle_e76acfcb618cffc214e16a20312a15da = L.circle(\n",
       "                [21.9162, 95.956],\n",
       "                {&quot;bubblingMouseEvents&quot;: true, &quot;color&quot;: &quot;red&quot;, &quot;dashArray&quot;: null, &quot;dashOffset&quot;: null, &quot;fill&quot;: true, &quot;fillColor&quot;: &quot;blue&quot;, &quot;fillOpacity&quot;: 0.2, &quot;fillRule&quot;: &quot;evenodd&quot;, &quot;lineCap&quot;: &quot;round&quot;, &quot;lineJoin&quot;: &quot;round&quot;, &quot;opacity&quot;: 1.0, &quot;radius&quot;: 660000.0, &quot;stroke&quot;: true, &quot;weight&quot;: 3}\n",
       "            ).addTo(map_458ec8e400112ec513386247fe175da8);\n",
       "        \n",
       "    \n",
       "            circle_e76acfcb618cffc214e16a20312a15da.bindTooltip(\n",
       "                `&lt;div&gt;\n",
       "                     &lt;div style=&#x27;margin: 0; background-color: black; color: white;&#x27;&gt;&lt;h4 style=&#x27;text-align:center;font-weight: bold&#x27;&gt;Burma&lt;/h4&gt;&lt;hr style=&#x27;margin:10px;color: white;&#x27;&gt;&lt;ul style=&#x27;color: white;;list-style-type:circle;align-item:left;padding-left:20px;padding-right:20px&#x27;&gt;&lt;li&gt;Confirmed: 633950&lt;/li&gt;&lt;li&gt;Deaths:   19490&lt;/li&gt;&lt;li&gt;Death Rate: 3.07&lt;/li&gt;&lt;/ul&gt;&lt;/div&gt;\n",
       "                 &lt;/div&gt;`,\n",
       "                {&quot;sticky&quot;: true}\n",
       "            );\n",
       "        \n",
       "    \n",
       "            var circle_b7f98cf8cb050c34cc65975e19077387 = L.circle(\n",
       "                [-3.3731, 29.9189],\n",
       "                {&quot;bubblingMouseEvents&quot;: true, &quot;color&quot;: &quot;red&quot;, &quot;dashArray&quot;: null, &quot;dashOffset&quot;: null, &quot;fill&quot;: true, &quot;fillColor&quot;: &quot;blue&quot;, &quot;fillOpacity&quot;: 0.2, &quot;fillRule&quot;: &quot;evenodd&quot;, &quot;lineCap&quot;: &quot;round&quot;, &quot;lineJoin&quot;: &quot;round&quot;, &quot;opacity&quot;: 1.0, &quot;radius&quot;: 509999.99999999994, &quot;stroke&quot;: true, &quot;weight&quot;: 3}\n",
       "            ).addTo(map_458ec8e400112ec513386247fe175da8);\n",
       "        \n",
       "    \n",
       "            circle_b7f98cf8cb050c34cc65975e19077387.bindTooltip(\n",
       "                `&lt;div&gt;\n",
       "                     &lt;div style=&#x27;margin: 0; background-color: black; color: white;&#x27;&gt;&lt;h4 style=&#x27;text-align:center;font-weight: bold&#x27;&gt;Burundi&lt;/h4&gt;&lt;hr style=&#x27;margin:10px;color: white;&#x27;&gt;&lt;ul style=&#x27;color: white;;list-style-type:circle;align-item:left;padding-left:20px;padding-right:20px&#x27;&gt;&lt;li&gt;Confirmed: 53631&lt;/li&gt;&lt;li&gt;Deaths:   38&lt;/li&gt;&lt;li&gt;Death Rate: 0.07&lt;/li&gt;&lt;/ul&gt;&lt;/div&gt;\n",
       "                 &lt;/div&gt;`,\n",
       "                {&quot;sticky&quot;: true}\n",
       "            );\n",
       "        \n",
       "    \n",
       "            var circle_d3efdfbbef873bf3d28fd085dba6488d = L.circle(\n",
       "                [16.5388, -23.0418],\n",
       "                {&quot;bubblingMouseEvents&quot;: true, &quot;color&quot;: &quot;red&quot;, &quot;dashArray&quot;: null, &quot;dashOffset&quot;: null, &quot;fill&quot;: true, &quot;fillColor&quot;: &quot;blue&quot;, &quot;fillOpacity&quot;: 0.2, &quot;fillRule&quot;: &quot;evenodd&quot;, &quot;lineCap&quot;: &quot;round&quot;, &quot;lineJoin&quot;: &quot;round&quot;, &quot;opacity&quot;: 1.0, &quot;radius&quot;: 560000.0, &quot;stroke&quot;: true, &quot;weight&quot;: 3}\n",
       "            ).addTo(map_458ec8e400112ec513386247fe175da8);\n",
       "        \n",
       "    \n",
       "            circle_d3efdfbbef873bf3d28fd085dba6488d.bindTooltip(\n",
       "                `&lt;div&gt;\n",
       "                     &lt;div style=&#x27;margin: 0; background-color: black; color: white;&#x27;&gt;&lt;h4 style=&#x27;text-align:center;font-weight: bold&#x27;&gt;Cabo Verde&lt;/h4&gt;&lt;hr style=&#x27;margin:10px;color: white;&#x27;&gt;&lt;ul style=&#x27;color: white;;list-style-type:circle;align-item:left;padding-left:20px;padding-right:20px&#x27;&gt;&lt;li&gt;Confirmed: 63244&lt;/li&gt;&lt;li&gt;Deaths:   413&lt;/li&gt;&lt;li&gt;Death Rate: 0.65&lt;/li&gt;&lt;/ul&gt;&lt;/div&gt;\n",
       "                 &lt;/div&gt;`,\n",
       "                {&quot;sticky&quot;: true}\n",
       "            );\n",
       "        \n",
       "    \n",
       "            var circle_bd761552131a80824bec825bb4928a45 = L.circle(\n",
       "                [11.55, 104.9167],\n",
       "                {&quot;bubblingMouseEvents&quot;: true, &quot;color&quot;: &quot;red&quot;, &quot;dashArray&quot;: null, &quot;dashOffset&quot;: null, &quot;fill&quot;: true, &quot;fillColor&quot;: &quot;blue&quot;, &quot;fillOpacity&quot;: 0.2, &quot;fillRule&quot;: &quot;evenodd&quot;, &quot;lineCap&quot;: &quot;round&quot;, &quot;lineJoin&quot;: &quot;round&quot;, &quot;opacity&quot;: 1.0, &quot;radius&quot;: 560000.0, &quot;stroke&quot;: true, &quot;weight&quot;: 3}\n",
       "            ).addTo(map_458ec8e400112ec513386247fe175da8);\n",
       "        \n",
       "    \n",
       "            circle_bd761552131a80824bec825bb4928a45.bindTooltip(\n",
       "                `&lt;div&gt;\n",
       "                     &lt;div style=&#x27;margin: 0; background-color: black; color: white;&#x27;&gt;&lt;h4 style=&#x27;text-align:center;font-weight: bold&#x27;&gt;Cambodia&lt;/h4&gt;&lt;hr style=&#x27;margin:10px;color: white;&#x27;&gt;&lt;ul style=&#x27;color: white;;list-style-type:circle;align-item:left;padding-left:20px;padding-right:20px&#x27;&gt;&lt;li&gt;Confirmed: 138719&lt;/li&gt;&lt;li&gt;Deaths:   3056&lt;/li&gt;&lt;li&gt;Death Rate: 2.2&lt;/li&gt;&lt;/ul&gt;&lt;/div&gt;\n",
       "                 &lt;/div&gt;`,\n",
       "                {&quot;sticky&quot;: true}\n",
       "            );\n",
       "        \n",
       "    \n",
       "            var circle_e32ea2ba4c9295489fd7d675b5b59ee5 = L.circle(\n",
       "                [3.848, 11.5021],\n",
       "                {&quot;bubblingMouseEvents&quot;: true, &quot;color&quot;: &quot;red&quot;, &quot;dashArray&quot;: null, &quot;dashOffset&quot;: null, &quot;fill&quot;: true, &quot;fillColor&quot;: &quot;blue&quot;, &quot;fillOpacity&quot;: 0.2, &quot;fillRule&quot;: &quot;evenodd&quot;, &quot;lineCap&quot;: &quot;round&quot;, &quot;lineJoin&quot;: &quot;round&quot;, &quot;opacity&quot;: 1.0, &quot;radius&quot;: 560000.0, &quot;stroke&quot;: true, &quot;weight&quot;: 3}\n",
       "            ).addTo(map_458ec8e400112ec513386247fe175da8);\n",
       "        \n",
       "    \n",
       "            circle_e32ea2ba4c9295489fd7d675b5b59ee5.bindTooltip(\n",
       "                `&lt;div&gt;\n",
       "                     &lt;div style=&#x27;margin: 0; background-color: black; color: white;&#x27;&gt;&lt;h4 style=&#x27;text-align:center;font-weight: bold&#x27;&gt;Cameroon&lt;/h4&gt;&lt;hr style=&#x27;margin:10px;color: white;&#x27;&gt;&lt;ul style=&#x27;color: white;;list-style-type:circle;align-item:left;padding-left:20px;padding-right:20px&#x27;&gt;&lt;li&gt;Confirmed: 124392&lt;/li&gt;&lt;li&gt;Deaths:   1965&lt;/li&gt;&lt;li&gt;Death Rate: 1.58&lt;/li&gt;&lt;/ul&gt;&lt;/div&gt;\n",
       "                 &lt;/div&gt;`,\n",
       "                {&quot;sticky&quot;: true}\n",
       "            );\n",
       "        \n",
       "    \n",
       "            var circle_6aab716dc95feab7358631a00fc65aa6 = L.circle(\n",
       "                [53.9333, -116.5765],\n",
       "                {&quot;bubblingMouseEvents&quot;: true, &quot;color&quot;: &quot;red&quot;, &quot;dashArray&quot;: null, &quot;dashOffset&quot;: null, &quot;fill&quot;: true, &quot;fillColor&quot;: &quot;blue&quot;, &quot;fillOpacity&quot;: 0.2, &quot;fillRule&quot;: &quot;evenodd&quot;, &quot;lineCap&quot;: &quot;round&quot;, &quot;lineJoin&quot;: &quot;round&quot;, &quot;opacity&quot;: 1.0, &quot;radius&quot;: 660000.0, &quot;stroke&quot;: true, &quot;weight&quot;: 3}\n",
       "            ).addTo(map_458ec8e400112ec513386247fe175da8);\n",
       "        \n",
       "    \n",
       "            circle_6aab716dc95feab7358631a00fc65aa6.bindTooltip(\n",
       "                `&lt;div&gt;\n",
       "                     &lt;div style=&#x27;margin: 0; background-color: black; color: white;&#x27;&gt;&lt;h4 style=&#x27;text-align:center;font-weight: bold&#x27;&gt;Canada&lt;/h4&gt;&lt;hr style=&#x27;margin:10px;color: white;&#x27;&gt;&lt;ul style=&#x27;color: white;;list-style-type:circle;align-item:left;padding-left:20px;padding-right:20px&#x27;&gt;&lt;li&gt;Confirmed: 629269&lt;/li&gt;&lt;li&gt;Deaths:   5622&lt;/li&gt;&lt;li&gt;Death Rate: 0.89&lt;/li&gt;&lt;/ul&gt;&lt;/div&gt;\n",
       "                 &lt;/div&gt;`,\n",
       "                {&quot;sticky&quot;: true}\n",
       "            );\n",
       "        \n",
       "    \n",
       "            var circle_071cde7eaafee26c2f295cdcfd67f314 = L.circle(\n",
       "                [53.7267, -127.6476],\n",
       "                {&quot;bubblingMouseEvents&quot;: true, &quot;color&quot;: &quot;red&quot;, &quot;dashArray&quot;: null, &quot;dashOffset&quot;: null, &quot;fill&quot;: true, &quot;fillColor&quot;: &quot;blue&quot;, &quot;fillOpacity&quot;: 0.2, &quot;fillRule&quot;: &quot;evenodd&quot;, &quot;lineCap&quot;: &quot;round&quot;, &quot;lineJoin&quot;: &quot;round&quot;, &quot;opacity&quot;: 1.0, &quot;radius&quot;: 610000.0, &quot;stroke&quot;: true, &quot;weight&quot;: 3}\n",
       "            ).addTo(map_458ec8e400112ec513386247fe175da8);\n",
       "        \n",
       "    \n",
       "            circle_071cde7eaafee26c2f295cdcfd67f314.bindTooltip(\n",
       "                `&lt;div&gt;\n",
       "                     &lt;div style=&#x27;margin: 0; background-color: black; color: white;&#x27;&gt;&lt;h4 style=&#x27;text-align:center;font-weight: bold&#x27;&gt;Canada&lt;/h4&gt;&lt;hr style=&#x27;margin:10px;color: white;&#x27;&gt;&lt;ul style=&#x27;color: white;;list-style-type:circle;align-item:left;padding-left:20px;padding-right:20px&#x27;&gt;&lt;li&gt;Confirmed: 396817&lt;/li&gt;&lt;li&gt;Deaths:   5249&lt;/li&gt;&lt;li&gt;Death Rate: 1.32&lt;/li&gt;&lt;/ul&gt;&lt;/div&gt;\n",
       "                 &lt;/div&gt;`,\n",
       "                {&quot;sticky&quot;: true}\n",
       "            );\n",
       "        \n",
       "    \n",
       "            var circle_5d68fd06fc596475ccb73ec0a84443de = L.circle(\n",
       "                [0.0, 0.0],\n",
       "                {&quot;bubblingMouseEvents&quot;: true, &quot;color&quot;: &quot;red&quot;, &quot;dashArray&quot;: null, &quot;dashOffset&quot;: null, &quot;fill&quot;: true, &quot;fillColor&quot;: &quot;blue&quot;, &quot;fillOpacity&quot;: 0.2, &quot;fillRule&quot;: &quot;evenodd&quot;, &quot;lineCap&quot;: &quot;round&quot;, &quot;lineJoin&quot;: &quot;round&quot;, &quot;opacity&quot;: 1.0, &quot;radius&quot;: 10000.0, &quot;stroke&quot;: true, &quot;weight&quot;: 3}\n",
       "            ).addTo(map_458ec8e400112ec513386247fe175da8);\n",
       "        \n",
       "    \n",
       "            circle_5d68fd06fc596475ccb73ec0a84443de.bindTooltip(\n",
       "                `&lt;div&gt;\n",
       "                     &lt;div style=&#x27;margin: 0; background-color: black; color: white;&#x27;&gt;&lt;h4 style=&#x27;text-align:center;font-weight: bold&#x27;&gt;Canada&lt;/h4&gt;&lt;hr style=&#x27;margin:10px;color: white;&#x27;&gt;&lt;ul style=&#x27;color: white;;list-style-type:circle;align-item:left;padding-left:20px;padding-right:20px&#x27;&gt;&lt;li&gt;Confirmed: 0&lt;/li&gt;&lt;li&gt;Deaths:   1&lt;/li&gt;&lt;li&gt;Death Rate: 100.0&lt;/li&gt;&lt;/ul&gt;&lt;/div&gt;\n",
       "                 &lt;/div&gt;`,\n",
       "                {&quot;sticky&quot;: true}\n",
       "            );\n",
       "        \n",
       "    \n",
       "            var circle_09951c3bcfb0083376dcfe0b1a4a2a70 = L.circle(\n",
       "                [0.0, 0.0],\n",
       "                {&quot;bubblingMouseEvents&quot;: true, &quot;color&quot;: &quot;red&quot;, &quot;dashArray&quot;: null, &quot;dashOffset&quot;: null, &quot;fill&quot;: true, &quot;fillColor&quot;: &quot;blue&quot;, &quot;fillOpacity&quot;: 0.2, &quot;fillRule&quot;: &quot;evenodd&quot;, &quot;lineCap&quot;: &quot;round&quot;, &quot;lineJoin&quot;: &quot;round&quot;, &quot;opacity&quot;: 1.0, &quot;radius&quot;: 110000.00000000001, &quot;stroke&quot;: true, &quot;weight&quot;: 3}\n",
       "            ).addTo(map_458ec8e400112ec513386247fe175da8);\n",
       "        \n",
       "    \n",
       "            circle_09951c3bcfb0083376dcfe0b1a4a2a70.bindTooltip(\n",
       "                `&lt;div&gt;\n",
       "                     &lt;div style=&#x27;margin: 0; background-color: black; color: white;&#x27;&gt;&lt;h4 style=&#x27;text-align:center;font-weight: bold&#x27;&gt;Canada&lt;/h4&gt;&lt;hr style=&#x27;margin:10px;color: white;&#x27;&gt;&lt;ul style=&#x27;color: white;;list-style-type:circle;align-item:left;padding-left:20px;padding-right:20px&#x27;&gt;&lt;li&gt;Confirmed: 13&lt;/li&gt;&lt;li&gt;Deaths:   0&lt;/li&gt;&lt;li&gt;Death Rate: 0.0&lt;/li&gt;&lt;/ul&gt;&lt;/div&gt;\n",
       "                 &lt;/div&gt;`,\n",
       "                {&quot;sticky&quot;: true}\n",
       "            );\n",
       "        \n",
       "    \n",
       "            var circle_c76eb40a22e008bf278deb7df73153eb = L.circle(\n",
       "                [53.7609, -98.8139],\n",
       "                {&quot;bubblingMouseEvents&quot;: true, &quot;color&quot;: &quot;red&quot;, &quot;dashArray&quot;: null, &quot;dashOffset&quot;: null, &quot;fill&quot;: true, &quot;fillColor&quot;: &quot;blue&quot;, &quot;fillOpacity&quot;: 0.2, &quot;fillRule&quot;: &quot;evenodd&quot;, &quot;lineCap&quot;: &quot;round&quot;, &quot;lineJoin&quot;: &quot;round&quot;, &quot;opacity&quot;: 1.0, &quot;radius&quot;: 560000.0, &quot;stroke&quot;: true, &quot;weight&quot;: 3}\n",
       "            ).addTo(map_458ec8e400112ec513386247fe175da8);\n",
       "        \n",
       "    \n",
       "            circle_c76eb40a22e008bf278deb7df73153eb.bindTooltip(\n",
       "                `&lt;div&gt;\n",
       "                     &lt;div style=&#x27;margin: 0; background-color: black; color: white;&#x27;&gt;&lt;h4 style=&#x27;text-align:center;font-weight: bold&#x27;&gt;Canada&lt;/h4&gt;&lt;hr style=&#x27;margin:10px;color: white;&#x27;&gt;&lt;ul style=&#x27;color: white;;list-style-type:circle;align-item:left;padding-left:20px;padding-right:20px&#x27;&gt;&lt;li&gt;Confirmed: 154712&lt;/li&gt;&lt;li&gt;Deaths:   2464&lt;/li&gt;&lt;li&gt;Death Rate: 1.59&lt;/li&gt;&lt;/ul&gt;&lt;/div&gt;\n",
       "                 &lt;/div&gt;`,\n",
       "                {&quot;sticky&quot;: true}\n",
       "            );\n",
       "        \n",
       "    \n",
       "            var circle_73e4b639332593d4d0270b969df1a12d = L.circle(\n",
       "                [46.5653, -66.4619],\n",
       "                {&quot;bubblingMouseEvents&quot;: true, &quot;color&quot;: &quot;red&quot;, &quot;dashArray&quot;: null, &quot;dashOffset&quot;: null, &quot;fill&quot;: true, &quot;fillColor&quot;: &quot;blue&quot;, &quot;fillOpacity&quot;: 0.2, &quot;fillRule&quot;: &quot;evenodd&quot;, &quot;lineCap&quot;: &quot;round&quot;, &quot;lineJoin&quot;: &quot;round&quot;, &quot;opacity&quot;: 1.0, &quot;radius&quot;: 560000.0, &quot;stroke&quot;: true, &quot;weight&quot;: 3}\n",
       "            ).addTo(map_458ec8e400112ec513386247fe175da8);\n",
       "        \n",
       "    \n",
       "            circle_73e4b639332593d4d0270b969df1a12d.bindTooltip(\n",
       "                `&lt;div&gt;\n",
       "                     &lt;div style=&#x27;margin: 0; background-color: black; color: white;&#x27;&gt;&lt;h4 style=&#x27;text-align:center;font-weight: bold&#x27;&gt;Canada&lt;/h4&gt;&lt;hr style=&#x27;margin:10px;color: white;&#x27;&gt;&lt;ul style=&#x27;color: white;;list-style-type:circle;align-item:left;padding-left:20px;padding-right:20px&#x27;&gt;&lt;li&gt;Confirmed: 88866&lt;/li&gt;&lt;li&gt;Deaths:   834&lt;/li&gt;&lt;li&gt;Death Rate: 0.94&lt;/li&gt;&lt;/ul&gt;&lt;/div&gt;\n",
       "                 &lt;/div&gt;`,\n",
       "                {&quot;sticky&quot;: true}\n",
       "            );\n",
       "        \n",
       "    \n",
       "            var circle_e5b9ffa0ea1e7c0bf5acb9ac811f64dc = L.circle(\n",
       "                [53.1355, -57.6604],\n",
       "                {&quot;bubblingMouseEvents&quot;: true, &quot;color&quot;: &quot;red&quot;, &quot;dashArray&quot;: null, &quot;dashOffset&quot;: null, &quot;fill&quot;: true, &quot;fillColor&quot;: &quot;blue&quot;, &quot;fillOpacity&quot;: 0.2, &quot;fillRule&quot;: &quot;evenodd&quot;, &quot;lineCap&quot;: &quot;round&quot;, &quot;lineJoin&quot;: &quot;round&quot;, &quot;opacity&quot;: 1.0, &quot;radius&quot;: 509999.99999999994, &quot;stroke&quot;: true, &quot;weight&quot;: 3}\n",
       "            ).addTo(map_458ec8e400112ec513386247fe175da8);\n",
       "        \n",
       "    \n",
       "            circle_e5b9ffa0ea1e7c0bf5acb9ac811f64dc.bindTooltip(\n",
       "                `&lt;div&gt;\n",
       "                     &lt;div style=&#x27;margin: 0; background-color: black; color: white;&#x27;&gt;&lt;h4 style=&#x27;text-align:center;font-weight: bold&#x27;&gt;Canada&lt;/h4&gt;&lt;hr style=&#x27;margin:10px;color: white;&#x27;&gt;&lt;ul style=&#x27;color: white;;list-style-type:circle;align-item:left;padding-left:20px;padding-right:20px&#x27;&gt;&lt;li&gt;Confirmed: 54757&lt;/li&gt;&lt;li&gt;Deaths:   318&lt;/li&gt;&lt;li&gt;Death Rate: 0.58&lt;/li&gt;&lt;/ul&gt;&lt;/div&gt;\n",
       "                 &lt;/div&gt;`,\n",
       "                {&quot;sticky&quot;: true}\n",
       "            );\n",
       "        \n",
       "    \n",
       "            var circle_8811c24af1eb432ae4f6ca07fcc280ef = L.circle(\n",
       "                [64.8255, -124.8457],\n",
       "                {&quot;bubblingMouseEvents&quot;: true, &quot;color&quot;: &quot;red&quot;, &quot;dashArray&quot;: null, &quot;dashOffset&quot;: null, &quot;fill&quot;: true, &quot;fillColor&quot;: &quot;blue&quot;, &quot;fillOpacity&quot;: 0.2, &quot;fillRule&quot;: &quot;evenodd&quot;, &quot;lineCap&quot;: &quot;round&quot;, &quot;lineJoin&quot;: &quot;round&quot;, &quot;opacity&quot;: 1.0, &quot;radius&quot;: 459999.99999999994, &quot;stroke&quot;: true, &quot;weight&quot;: 3}\n",
       "            ).addTo(map_458ec8e400112ec513386247fe175da8);\n",
       "        \n",
       "    \n",
       "            circle_8811c24af1eb432ae4f6ca07fcc280ef.bindTooltip(\n",
       "                `&lt;div&gt;\n",
       "                     &lt;div style=&#x27;margin: 0; background-color: black; color: white;&#x27;&gt;&lt;h4 style=&#x27;text-align:center;font-weight: bold&#x27;&gt;Canada&lt;/h4&gt;&lt;hr style=&#x27;margin:10px;color: white;&#x27;&gt;&lt;ul style=&#x27;color: white;;list-style-type:circle;align-item:left;padding-left:20px;padding-right:20px&#x27;&gt;&lt;li&gt;Confirmed: 11511&lt;/li&gt;&lt;li&gt;Deaths:   22&lt;/li&gt;&lt;li&gt;Death Rate: 0.19&lt;/li&gt;&lt;/ul&gt;&lt;/div&gt;\n",
       "                 &lt;/div&gt;`,\n",
       "                {&quot;sticky&quot;: true}\n",
       "            );\n",
       "        \n",
       "    \n",
       "            var circle_9150c7c3072638d9a77d408d665ba5fd = L.circle(\n",
       "                [44.682, -63.7443],\n",
       "                {&quot;bubblingMouseEvents&quot;: true, &quot;color&quot;: &quot;red&quot;, &quot;dashArray&quot;: null, &quot;dashOffset&quot;: null, &quot;fill&quot;: true, &quot;fillColor&quot;: &quot;blue&quot;, &quot;fillOpacity&quot;: 0.2, &quot;fillRule&quot;: &quot;evenodd&quot;, &quot;lineCap&quot;: &quot;round&quot;, &quot;lineJoin&quot;: &quot;round&quot;, &quot;opacity&quot;: 1.0, &quot;radius&quot;: 560000.0, &quot;stroke&quot;: true, &quot;weight&quot;: 3}\n",
       "            ).addTo(map_458ec8e400112ec513386247fe175da8);\n",
       "        \n",
       "    \n",
       "            circle_9150c7c3072638d9a77d408d665ba5fd.bindTooltip(\n",
       "                `&lt;div&gt;\n",
       "                     &lt;div style=&#x27;margin: 0; background-color: black; color: white;&#x27;&gt;&lt;h4 style=&#x27;text-align:center;font-weight: bold&#x27;&gt;Canada&lt;/h4&gt;&lt;hr style=&#x27;margin:10px;color: white;&#x27;&gt;&lt;ul style=&#x27;color: white;;list-style-type:circle;align-item:left;padding-left:20px;padding-right:20px&#x27;&gt;&lt;li&gt;Confirmed: 140793&lt;/li&gt;&lt;li&gt;Deaths:   794&lt;/li&gt;&lt;li&gt;Death Rate: 0.56&lt;/li&gt;&lt;/ul&gt;&lt;/div&gt;\n",
       "                 &lt;/div&gt;`,\n",
       "                {&quot;sticky&quot;: true}\n",
       "            );\n",
       "        \n",
       "    \n",
       "            var circle_118cb1521814768777678f12eb457efe = L.circle(\n",
       "                [70.2998, -83.1076],\n",
       "                {&quot;bubblingMouseEvents&quot;: true, &quot;color&quot;: &quot;red&quot;, &quot;dashArray&quot;: null, &quot;dashOffset&quot;: null, &quot;fill&quot;: true, &quot;fillColor&quot;: &quot;blue&quot;, &quot;fillOpacity&quot;: 0.2, &quot;fillRule&quot;: &quot;evenodd&quot;, &quot;lineCap&quot;: &quot;round&quot;, &quot;lineJoin&quot;: &quot;round&quot;, &quot;opacity&quot;: 1.0, &quot;radius&quot;: 409999.99999999994, &quot;stroke&quot;: true, &quot;weight&quot;: 3}\n",
       "            ).addTo(map_458ec8e400112ec513386247fe175da8);\n",
       "        \n",
       "    \n",
       "            circle_118cb1521814768777678f12eb457efe.bindTooltip(\n",
       "                `&lt;div&gt;\n",
       "                     &lt;div style=&#x27;margin: 0; background-color: black; color: white;&#x27;&gt;&lt;h4 style=&#x27;text-align:center;font-weight: bold&#x27;&gt;Canada&lt;/h4&gt;&lt;hr style=&#x27;margin:10px;color: white;&#x27;&gt;&lt;ul style=&#x27;color: white;;list-style-type:circle;align-item:left;padding-left:20px;padding-right:20px&#x27;&gt;&lt;li&gt;Confirmed: 3531&lt;/li&gt;&lt;li&gt;Deaths:   7&lt;/li&gt;&lt;li&gt;Death Rate: 0.2&lt;/li&gt;&lt;/ul&gt;&lt;/div&gt;\n",
       "                 &lt;/div&gt;`,\n",
       "                {&quot;sticky&quot;: true}\n",
       "            );\n",
       "        \n",
       "    \n",
       "            var circle_3b3aeaf6e65ab2a3a5b63614a8eeb55e = L.circle(\n",
       "                [51.2538, -85.3232],\n",
       "                {&quot;bubblingMouseEvents&quot;: true, &quot;color&quot;: &quot;red&quot;, &quot;dashArray&quot;: null, &quot;dashOffset&quot;: null, &quot;fill&quot;: true, &quot;fillColor&quot;: &quot;blue&quot;, &quot;fillOpacity&quot;: 0.2, &quot;fillRule&quot;: &quot;evenodd&quot;, &quot;lineCap&quot;: &quot;round&quot;, &quot;lineJoin&quot;: &quot;round&quot;, &quot;opacity&quot;: 1.0, &quot;radius&quot;: 710000.0, &quot;stroke&quot;: true, &quot;weight&quot;: 3}\n",
       "            ).addTo(map_458ec8e400112ec513386247fe175da8);\n",
       "        \n",
       "    \n",
       "            circle_3b3aeaf6e65ab2a3a5b63614a8eeb55e.bindTooltip(\n",
       "                `&lt;div&gt;\n",
       "                     &lt;div style=&#x27;margin: 0; background-color: black; color: white;&#x27;&gt;&lt;h4 style=&#x27;text-align:center;font-weight: bold&#x27;&gt;Canada&lt;/h4&gt;&lt;hr style=&#x27;margin:10px;color: white;&#x27;&gt;&lt;ul style=&#x27;color: white;;list-style-type:circle;align-item:left;padding-left:20px;padding-right:20px&#x27;&gt;&lt;li&gt;Confirmed: 1601325&lt;/li&gt;&lt;li&gt;Deaths:   16234&lt;/li&gt;&lt;li&gt;Death Rate: 1.01&lt;/li&gt;&lt;/ul&gt;&lt;/div&gt;\n",
       "                 &lt;/div&gt;`,\n",
       "                {&quot;sticky&quot;: true}\n",
       "            );\n",
       "        \n",
       "    \n",
       "            var circle_21c125ece55c71738e02298d1785884e = L.circle(\n",
       "                [46.5107, -63.4168],\n",
       "                {&quot;bubblingMouseEvents&quot;: true, &quot;color&quot;: &quot;red&quot;, &quot;dashArray&quot;: null, &quot;dashOffset&quot;: null, &quot;fill&quot;: true, &quot;fillColor&quot;: &quot;blue&quot;, &quot;fillOpacity&quot;: 0.2, &quot;fillRule&quot;: &quot;evenodd&quot;, &quot;lineCap&quot;: &quot;round&quot;, &quot;lineJoin&quot;: &quot;round&quot;, &quot;opacity&quot;: 1.0, &quot;radius&quot;: 509999.99999999994, &quot;stroke&quot;: true, &quot;weight&quot;: 3}\n",
       "            ).addTo(map_458ec8e400112ec513386247fe175da8);\n",
       "        \n",
       "    \n",
       "            circle_21c125ece55c71738e02298d1785884e.bindTooltip(\n",
       "                `&lt;div&gt;\n",
       "                     &lt;div style=&#x27;margin: 0; background-color: black; color: white;&#x27;&gt;&lt;h4 style=&#x27;text-align:center;font-weight: bold&#x27;&gt;Canada&lt;/h4&gt;&lt;hr style=&#x27;margin:10px;color: white;&#x27;&gt;&lt;ul style=&#x27;color: white;;list-style-type:circle;align-item:left;padding-left:20px;padding-right:20px&#x27;&gt;&lt;li&gt;Confirmed: 56523&lt;/li&gt;&lt;li&gt;Deaths:   93&lt;/li&gt;&lt;li&gt;Death Rate: 0.16&lt;/li&gt;&lt;/ul&gt;&lt;/div&gt;\n",
       "                 &lt;/div&gt;`,\n",
       "                {&quot;sticky&quot;: true}\n",
       "            );\n",
       "        \n",
       "    \n",
       "            var circle_4d14b07e28c13fc6584fefdeac1d13f1 = L.circle(\n",
       "                [52.9399, -73.5491],\n",
       "                {&quot;bubblingMouseEvents&quot;: true, &quot;color&quot;: &quot;red&quot;, &quot;dashArray&quot;: null, &quot;dashOffset&quot;: null, &quot;fill&quot;: true, &quot;fillColor&quot;: &quot;blue&quot;, &quot;fillOpacity&quot;: 0.2, &quot;fillRule&quot;: &quot;evenodd&quot;, &quot;lineCap&quot;: &quot;round&quot;, &quot;lineJoin&quot;: &quot;round&quot;, &quot;opacity&quot;: 1.0, &quot;radius&quot;: 710000.0, &quot;stroke&quot;: true, &quot;weight&quot;: 3}\n",
       "            ).addTo(map_458ec8e400112ec513386247fe175da8);\n",
       "        \n",
       "    \n",
       "            circle_4d14b07e28c13fc6584fefdeac1d13f1.bindTooltip(\n",
       "                `&lt;div&gt;\n",
       "                     &lt;div style=&#x27;margin: 0; background-color: black; color: white;&#x27;&gt;&lt;h4 style=&#x27;text-align:center;font-weight: bold&#x27;&gt;Canada&lt;/h4&gt;&lt;hr style=&#x27;margin:10px;color: white;&#x27;&gt;&lt;ul style=&#x27;color: white;;list-style-type:circle;align-item:left;padding-left:20px;padding-right:20px&#x27;&gt;&lt;li&gt;Confirmed: 1320325&lt;/li&gt;&lt;li&gt;Deaths:   18160&lt;/li&gt;&lt;li&gt;Death Rate: 1.38&lt;/li&gt;&lt;/ul&gt;&lt;/div&gt;\n",
       "                 &lt;/div&gt;`,\n",
       "                {&quot;sticky&quot;: true}\n",
       "            );\n",
       "        \n",
       "    \n",
       "            var circle_bb3eaa324ba6100bdbee0a552ffefb29 = L.circle(\n",
       "                [0.0, 0.0],\n",
       "                {&quot;bubblingMouseEvents&quot;: true, &quot;color&quot;: &quot;red&quot;, &quot;dashArray&quot;: null, &quot;dashOffset&quot;: null, &quot;fill&quot;: true, &quot;fillColor&quot;: &quot;blue&quot;, &quot;fillOpacity&quot;: 0.2, &quot;fillRule&quot;: &quot;evenodd&quot;, &quot;lineCap&quot;: &quot;round&quot;, &quot;lineJoin&quot;: &quot;round&quot;, &quot;opacity&quot;: 1.0, &quot;radius&quot;: 110000.00000000001, &quot;stroke&quot;: true, &quot;weight&quot;: 3}\n",
       "            ).addTo(map_458ec8e400112ec513386247fe175da8);\n",
       "        \n",
       "    \n",
       "            circle_bb3eaa324ba6100bdbee0a552ffefb29.bindTooltip(\n",
       "                `&lt;div&gt;\n",
       "                     &lt;div style=&#x27;margin: 0; background-color: black; color: white;&#x27;&gt;&lt;h4 style=&#x27;text-align:center;font-weight: bold&#x27;&gt;Canada&lt;/h4&gt;&lt;hr style=&#x27;margin:10px;color: white;&#x27;&gt;&lt;ul style=&#x27;color: white;;list-style-type:circle;align-item:left;padding-left:20px;padding-right:20px&#x27;&gt;&lt;li&gt;Confirmed: 13&lt;/li&gt;&lt;li&gt;Deaths:   0&lt;/li&gt;&lt;li&gt;Death Rate: 0.0&lt;/li&gt;&lt;/ul&gt;&lt;/div&gt;\n",
       "                 &lt;/div&gt;`,\n",
       "                {&quot;sticky&quot;: true}\n",
       "            );\n",
       "        \n",
       "    \n",
       "            var circle_a0288e78470a9f0b7b168300d77fec62 = L.circle(\n",
       "                [52.9399, -106.4509],\n",
       "                {&quot;bubblingMouseEvents&quot;: true, &quot;color&quot;: &quot;red&quot;, &quot;dashArray&quot;: null, &quot;dashOffset&quot;: null, &quot;fill&quot;: true, &quot;fillColor&quot;: &quot;blue&quot;, &quot;fillOpacity&quot;: 0.2, &quot;fillRule&quot;: &quot;evenodd&quot;, &quot;lineCap&quot;: &quot;round&quot;, &quot;lineJoin&quot;: &quot;round&quot;, &quot;opacity&quot;: 1.0, &quot;radius&quot;: 560000.0, &quot;stroke&quot;: true, &quot;weight&quot;: 3}\n",
       "            ).addTo(map_458ec8e400112ec513386247fe175da8);\n",
       "        \n",
       "    \n",
       "            circle_a0288e78470a9f0b7b168300d77fec62.bindTooltip(\n",
       "                `&lt;div&gt;\n",
       "                     &lt;div style=&#x27;margin: 0; background-color: black; color: white;&#x27;&gt;&lt;h4 style=&#x27;text-align:center;font-weight: bold&#x27;&gt;Canada&lt;/h4&gt;&lt;hr style=&#x27;margin:10px;color: white;&#x27;&gt;&lt;ul style=&#x27;color: white;;list-style-type:circle;align-item:left;padding-left:20px;padding-right:20px&#x27;&gt;&lt;li&gt;Confirmed: 153651&lt;/li&gt;&lt;li&gt;Deaths:   1890&lt;/li&gt;&lt;li&gt;Death Rate: 1.23&lt;/li&gt;&lt;/ul&gt;&lt;/div&gt;\n",
       "                 &lt;/div&gt;`,\n",
       "                {&quot;sticky&quot;: true}\n",
       "            );\n",
       "        \n",
       "    \n",
       "            var circle_82b1728833dd5ba85cadc6ff4fb9c80d = L.circle(\n",
       "                [64.2823, -135.0],\n",
       "                {&quot;bubblingMouseEvents&quot;: true, &quot;color&quot;: &quot;red&quot;, &quot;dashArray&quot;: null, &quot;dashOffset&quot;: null, &quot;fill&quot;: true, &quot;fillColor&quot;: &quot;blue&quot;, &quot;fillOpacity&quot;: 0.2, &quot;fillRule&quot;: &quot;evenodd&quot;, &quot;lineCap&quot;: &quot;round&quot;, &quot;lineJoin&quot;: &quot;round&quot;, &quot;opacity&quot;: 1.0, &quot;radius&quot;: 409999.99999999994, &quot;stroke&quot;: true, &quot;weight&quot;: 3}\n",
       "            ).addTo(map_458ec8e400112ec513386247fe175da8);\n",
       "        \n",
       "    \n",
       "            circle_82b1728833dd5ba85cadc6ff4fb9c80d.bindTooltip(\n",
       "                `&lt;div&gt;\n",
       "                     &lt;div style=&#x27;margin: 0; background-color: black; color: white;&#x27;&gt;&lt;h4 style=&#x27;text-align:center;font-weight: bold&#x27;&gt;Canada&lt;/h4&gt;&lt;hr style=&#x27;margin:10px;color: white;&#x27;&gt;&lt;ul style=&#x27;color: white;;list-style-type:circle;align-item:left;padding-left:20px;padding-right:20px&#x27;&gt;&lt;li&gt;Confirmed: 4989&lt;/li&gt;&lt;li&gt;Deaths:   32&lt;/li&gt;&lt;li&gt;Death Rate: 0.64&lt;/li&gt;&lt;/ul&gt;&lt;/div&gt;\n",
       "                 &lt;/div&gt;`,\n",
       "                {&quot;sticky&quot;: true}\n",
       "            );\n",
       "        \n",
       "    \n",
       "            var circle_c952388ff6c9159dff03a52481541a8e = L.circle(\n",
       "                [6.6111, 20.9394],\n",
       "                {&quot;bubblingMouseEvents&quot;: true, &quot;color&quot;: &quot;red&quot;, &quot;dashArray&quot;: null, &quot;dashOffset&quot;: null, &quot;fill&quot;: true, &quot;fillColor&quot;: &quot;blue&quot;, &quot;fillOpacity&quot;: 0.2, &quot;fillRule&quot;: &quot;evenodd&quot;, &quot;lineCap&quot;: &quot;round&quot;, &quot;lineJoin&quot;: &quot;round&quot;, &quot;opacity&quot;: 1.0, &quot;radius&quot;: 459999.99999999994, &quot;stroke&quot;: true, &quot;weight&quot;: 3}\n",
       "            ).addTo(map_458ec8e400112ec513386247fe175da8);\n",
       "        \n",
       "    \n",
       "            circle_c952388ff6c9159dff03a52481541a8e.bindTooltip(\n",
       "                `&lt;div&gt;\n",
       "                     &lt;div style=&#x27;margin: 0; background-color: black; color: white;&#x27;&gt;&lt;h4 style=&#x27;text-align:center;font-weight: bold&#x27;&gt;Central African Republic&lt;/h4&gt;&lt;hr style=&#x27;margin:10px;color: white;&#x27;&gt;&lt;ul style=&#x27;color: white;;list-style-type:circle;align-item:left;padding-left:20px;padding-right:20px&#x27;&gt;&lt;li&gt;Confirmed: 15368&lt;/li&gt;&lt;li&gt;Deaths:   113&lt;/li&gt;&lt;li&gt;Death Rate: 0.74&lt;/li&gt;&lt;/ul&gt;&lt;/div&gt;\n",
       "                 &lt;/div&gt;`,\n",
       "                {&quot;sticky&quot;: true}\n",
       "            );\n",
       "        \n",
       "    \n",
       "            var circle_2f7dc34b51da15963a74e028e69f750c = L.circle(\n",
       "                [15.4542, 18.7322],\n",
       "                {&quot;bubblingMouseEvents&quot;: true, &quot;color&quot;: &quot;red&quot;, &quot;dashArray&quot;: null, &quot;dashOffset&quot;: null, &quot;fill&quot;: true, &quot;fillColor&quot;: &quot;blue&quot;, &quot;fillOpacity&quot;: 0.2, &quot;fillRule&quot;: &quot;evenodd&quot;, &quot;lineCap&quot;: &quot;round&quot;, &quot;lineJoin&quot;: &quot;round&quot;, &quot;opacity&quot;: 1.0, &quot;radius&quot;: 409999.99999999994, &quot;stroke&quot;: true, &quot;weight&quot;: 3}\n",
       "            ).addTo(map_458ec8e400112ec513386247fe175da8);\n",
       "        \n",
       "    \n",
       "            circle_2f7dc34b51da15963a74e028e69f750c.bindTooltip(\n",
       "                `&lt;div&gt;\n",
       "                     &lt;div style=&#x27;margin: 0; background-color: black; color: white;&#x27;&gt;&lt;h4 style=&#x27;text-align:center;font-weight: bold&#x27;&gt;Chad&lt;/h4&gt;&lt;hr style=&#x27;margin:10px;color: white;&#x27;&gt;&lt;ul style=&#x27;color: white;;list-style-type:circle;align-item:left;padding-left:20px;padding-right:20px&#x27;&gt;&lt;li&gt;Confirmed: 7679&lt;/li&gt;&lt;li&gt;Deaths:   194&lt;/li&gt;&lt;li&gt;Death Rate: 2.53&lt;/li&gt;&lt;/ul&gt;&lt;/div&gt;\n",
       "                 &lt;/div&gt;`,\n",
       "                {&quot;sticky&quot;: true}\n",
       "            );\n",
       "        \n",
       "    \n",
       "            var circle_0f17fce7eb2520f48956da86061a843f = L.circle(\n",
       "                [-35.6751, -71.543],\n",
       "                {&quot;bubblingMouseEvents&quot;: true, &quot;color&quot;: &quot;red&quot;, &quot;dashArray&quot;: null, &quot;dashOffset&quot;: null, &quot;fill&quot;: true, &quot;fillColor&quot;: &quot;blue&quot;, &quot;fillOpacity&quot;: 0.2, &quot;fillRule&quot;: &quot;evenodd&quot;, &quot;lineCap&quot;: &quot;round&quot;, &quot;lineJoin&quot;: &quot;round&quot;, &quot;opacity&quot;: 1.0, &quot;radius&quot;: 760000.0, &quot;stroke&quot;: true, &quot;weight&quot;: 3}\n",
       "            ).addTo(map_458ec8e400112ec513386247fe175da8);\n",
       "        \n",
       "    \n",
       "            circle_0f17fce7eb2520f48956da86061a843f.bindTooltip(\n",
       "                `&lt;div&gt;\n",
       "                     &lt;div style=&#x27;margin: 0; background-color: black; color: white;&#x27;&gt;&lt;h4 style=&#x27;text-align:center;font-weight: bold&#x27;&gt;Chile&lt;/h4&gt;&lt;hr style=&#x27;margin:10px;color: white;&#x27;&gt;&lt;ul style=&#x27;color: white;;list-style-type:circle;align-item:left;padding-left:20px;padding-right:20px&#x27;&gt;&lt;li&gt;Confirmed: 5192286&lt;/li&gt;&lt;li&gt;Deaths:   64273&lt;/li&gt;&lt;li&gt;Death Rate: 1.24&lt;/li&gt;&lt;/ul&gt;&lt;/div&gt;\n",
       "                 &lt;/div&gt;`,\n",
       "                {&quot;sticky&quot;: true}\n",
       "            );\n",
       "        \n",
       "    \n",
       "            var circle_481eb6e1af374d1fc144ff3ef5859477 = L.circle(\n",
       "                [31.8257, 117.2264],\n",
       "                {&quot;bubblingMouseEvents&quot;: true, &quot;color&quot;: &quot;red&quot;, &quot;dashArray&quot;: null, &quot;dashOffset&quot;: null, &quot;fill&quot;: true, &quot;fillColor&quot;: &quot;blue&quot;, &quot;fillOpacity&quot;: 0.2, &quot;fillRule&quot;: &quot;evenodd&quot;, &quot;lineCap&quot;: &quot;round&quot;, &quot;lineJoin&quot;: &quot;round&quot;, &quot;opacity&quot;: 1.0, &quot;radius&quot;: 360000.0, &quot;stroke&quot;: true, &quot;weight&quot;: 3}\n",
       "            ).addTo(map_458ec8e400112ec513386247fe175da8);\n",
       "        \n",
       "    \n",
       "            circle_481eb6e1af374d1fc144ff3ef5859477.bindTooltip(\n",
       "                `&lt;div&gt;\n",
       "                     &lt;div style=&#x27;margin: 0; background-color: black; color: white;&#x27;&gt;&lt;h4 style=&#x27;text-align:center;font-weight: bold&#x27;&gt;China&lt;/h4&gt;&lt;hr style=&#x27;margin:10px;color: white;&#x27;&gt;&lt;ul style=&#x27;color: white;;list-style-type:circle;align-item:left;padding-left:20px;padding-right:20px&#x27;&gt;&lt;li&gt;Confirmed: 2275&lt;/li&gt;&lt;li&gt;Deaths:   7&lt;/li&gt;&lt;li&gt;Death Rate: 0.31&lt;/li&gt;&lt;/ul&gt;&lt;/div&gt;\n",
       "                 &lt;/div&gt;`,\n",
       "                {&quot;sticky&quot;: true}\n",
       "            );\n",
       "        \n",
       "    \n",
       "            var circle_08dea35b1501da6abcb2b22cefa51db4 = L.circle(\n",
       "                [40.1824, 116.4142],\n",
       "                {&quot;bubblingMouseEvents&quot;: true, &quot;color&quot;: &quot;red&quot;, &quot;dashArray&quot;: null, &quot;dashOffset&quot;: null, &quot;fill&quot;: true, &quot;fillColor&quot;: &quot;blue&quot;, &quot;fillOpacity&quot;: 0.2, &quot;fillRule&quot;: &quot;evenodd&quot;, &quot;lineCap&quot;: &quot;round&quot;, &quot;lineJoin&quot;: &quot;round&quot;, &quot;opacity&quot;: 1.0, &quot;radius&quot;: 509999.99999999994, &quot;stroke&quot;: true, &quot;weight&quot;: 3}\n",
       "            ).addTo(map_458ec8e400112ec513386247fe175da8);\n",
       "        \n",
       "    \n",
       "            circle_08dea35b1501da6abcb2b22cefa51db4.bindTooltip(\n",
       "                `&lt;div&gt;\n",
       "                     &lt;div style=&#x27;margin: 0; background-color: black; color: white;&#x27;&gt;&lt;h4 style=&#x27;text-align:center;font-weight: bold&#x27;&gt;China&lt;/h4&gt;&lt;hr style=&#x27;margin:10px;color: white;&#x27;&gt;&lt;ul style=&#x27;color: white;;list-style-type:circle;align-item:left;padding-left:20px;padding-right:20px&#x27;&gt;&lt;li&gt;Confirmed: 40774&lt;/li&gt;&lt;li&gt;Deaths:   20&lt;/li&gt;&lt;li&gt;Death Rate: 0.05&lt;/li&gt;&lt;/ul&gt;&lt;/div&gt;\n",
       "                 &lt;/div&gt;`,\n",
       "                {&quot;sticky&quot;: true}\n",
       "            );\n",
       "        \n",
       "    \n",
       "            var circle_1a92f9ee055b33dd051eaba3b3997d74 = L.circle(\n",
       "                [30.0572, 107.874],\n",
       "                {&quot;bubblingMouseEvents&quot;: true, &quot;color&quot;: &quot;red&quot;, &quot;dashArray&quot;: null, &quot;dashOffset&quot;: null, &quot;fill&quot;: true, &quot;fillColor&quot;: &quot;blue&quot;, &quot;fillOpacity&quot;: 0.2, &quot;fillRule&quot;: &quot;evenodd&quot;, &quot;lineCap&quot;: &quot;round&quot;, &quot;lineJoin&quot;: &quot;round&quot;, &quot;opacity&quot;: 1.0, &quot;radius&quot;: 459999.99999999994, &quot;stroke&quot;: true, &quot;weight&quot;: 3}\n",
       "            ).addTo(map_458ec8e400112ec513386247fe175da8);\n",
       "        \n",
       "    \n",
       "            circle_1a92f9ee055b33dd051eaba3b3997d74.bindTooltip(\n",
       "                `&lt;div&gt;\n",
       "                     &lt;div style=&#x27;margin: 0; background-color: black; color: white;&#x27;&gt;&lt;h4 style=&#x27;text-align:center;font-weight: bold&#x27;&gt;China&lt;/h4&gt;&lt;hr style=&#x27;margin:10px;color: white;&#x27;&gt;&lt;ul style=&#x27;color: white;;list-style-type:circle;align-item:left;padding-left:20px;padding-right:20px&#x27;&gt;&lt;li&gt;Confirmed: 14715&lt;/li&gt;&lt;li&gt;Deaths:   11&lt;/li&gt;&lt;li&gt;Death Rate: 0.07&lt;/li&gt;&lt;/ul&gt;&lt;/div&gt;\n",
       "                 &lt;/div&gt;`,\n",
       "                {&quot;sticky&quot;: true}\n",
       "            );\n",
       "        \n",
       "    \n",
       "            var circle_96cdfb2b8d824408de825d04110b848b = L.circle(\n",
       "                [26.0789, 117.9874],\n",
       "                {&quot;bubblingMouseEvents&quot;: true, &quot;color&quot;: &quot;red&quot;, &quot;dashArray&quot;: null, &quot;dashOffset&quot;: null, &quot;fill&quot;: true, &quot;fillColor&quot;: &quot;blue&quot;, &quot;fillOpacity&quot;: 0.2, &quot;fillRule&quot;: &quot;evenodd&quot;, &quot;lineCap&quot;: &quot;round&quot;, &quot;lineJoin&quot;: &quot;round&quot;, &quot;opacity&quot;: 1.0, &quot;radius&quot;: 459999.99999999994, &quot;stroke&quot;: true, &quot;weight&quot;: 3}\n",
       "            ).addTo(map_458ec8e400112ec513386247fe175da8);\n",
       "        \n",
       "    \n",
       "            circle_96cdfb2b8d824408de825d04110b848b.bindTooltip(\n",
       "                `&lt;div&gt;\n",
       "                     &lt;div style=&#x27;margin: 0; background-color: black; color: white;&#x27;&gt;&lt;h4 style=&#x27;text-align:center;font-weight: bold&#x27;&gt;China&lt;/h4&gt;&lt;hr style=&#x27;margin:10px;color: white;&#x27;&gt;&lt;ul style=&#x27;color: white;;list-style-type:circle;align-item:left;padding-left:20px;padding-right:20px&#x27;&gt;&lt;li&gt;Confirmed: 17122&lt;/li&gt;&lt;li&gt;Deaths:   2&lt;/li&gt;&lt;li&gt;Death Rate: 0.01&lt;/li&gt;&lt;/ul&gt;&lt;/div&gt;\n",
       "                 &lt;/div&gt;`,\n",
       "                {&quot;sticky&quot;: true}\n",
       "            );\n",
       "        \n",
       "    \n",
       "            var circle_156f9f0afd448b6a535fe2b8a2dbe668 = L.circle(\n",
       "                [35.7518, 104.2861],\n",
       "                {&quot;bubblingMouseEvents&quot;: true, &quot;color&quot;: &quot;red&quot;, &quot;dashArray&quot;: null, &quot;dashOffset&quot;: null, &quot;fill&quot;: true, &quot;fillColor&quot;: &quot;blue&quot;, &quot;fillOpacity&quot;: 0.2, &quot;fillRule&quot;: &quot;evenodd&quot;, &quot;lineCap&quot;: &quot;round&quot;, &quot;lineJoin&quot;: &quot;round&quot;, &quot;opacity&quot;: 1.0, &quot;radius&quot;: 360000.0, &quot;stroke&quot;: true, &quot;weight&quot;: 3}\n",
       "            ).addTo(map_458ec8e400112ec513386247fe175da8);\n",
       "        \n",
       "    \n",
       "            circle_156f9f0afd448b6a535fe2b8a2dbe668.bindTooltip(\n",
       "                `&lt;div&gt;\n",
       "                     &lt;div style=&#x27;margin: 0; background-color: black; color: white;&#x27;&gt;&lt;h4 style=&#x27;text-align:center;font-weight: bold&#x27;&gt;China&lt;/h4&gt;&lt;hr style=&#x27;margin:10px;color: white;&#x27;&gt;&lt;ul style=&#x27;color: white;;list-style-type:circle;align-item:left;padding-left:20px;padding-right:20px&#x27;&gt;&lt;li&gt;Confirmed: 1742&lt;/li&gt;&lt;li&gt;Deaths:   2&lt;/li&gt;&lt;li&gt;Death Rate: 0.11&lt;/li&gt;&lt;/ul&gt;&lt;/div&gt;\n",
       "                 &lt;/div&gt;`,\n",
       "                {&quot;sticky&quot;: true}\n",
       "            );\n",
       "        \n",
       "    \n",
       "            var circle_9f703e4ed776555336453221e28bdf7f = L.circle(\n",
       "                [23.3417, 113.4244],\n",
       "                {&quot;bubblingMouseEvents&quot;: true, &quot;color&quot;: &quot;red&quot;, &quot;dashArray&quot;: null, &quot;dashOffset&quot;: null, &quot;fill&quot;: true, &quot;fillColor&quot;: &quot;blue&quot;, &quot;fillOpacity&quot;: 0.2, &quot;fillRule&quot;: &quot;evenodd&quot;, &quot;lineCap&quot;: &quot;round&quot;, &quot;lineJoin&quot;: &quot;round&quot;, &quot;opacity&quot;: 1.0, &quot;radius&quot;: 560000.0, &quot;stroke&quot;: true, &quot;weight&quot;: 3}\n",
       "            ).addTo(map_458ec8e400112ec513386247fe175da8);\n",
       "        \n",
       "    \n",
       "            circle_9f703e4ed776555336453221e28bdf7f.bindTooltip(\n",
       "                `&lt;div&gt;\n",
       "                     &lt;div style=&#x27;margin: 0; background-color: black; color: white;&#x27;&gt;&lt;h4 style=&#x27;text-align:center;font-weight: bold&#x27;&gt;China&lt;/h4&gt;&lt;hr style=&#x27;margin:10px;color: white;&#x27;&gt;&lt;ul style=&#x27;color: white;;list-style-type:circle;align-item:left;padding-left:20px;padding-right:20px&#x27;&gt;&lt;li&gt;Confirmed: 103248&lt;/li&gt;&lt;li&gt;Deaths:   10&lt;/li&gt;&lt;li&gt;Death Rate: 0.01&lt;/li&gt;&lt;/ul&gt;&lt;/div&gt;\n",
       "                 &lt;/div&gt;`,\n",
       "                {&quot;sticky&quot;: true}\n",
       "            );\n",
       "        \n",
       "    \n",
       "            var circle_0b6a73ba2d0aef666ff7978109d664c5 = L.circle(\n",
       "                [23.8298, 108.7881],\n",
       "                {&quot;bubblingMouseEvents&quot;: true, &quot;color&quot;: &quot;red&quot;, &quot;dashArray&quot;: null, &quot;dashOffset&quot;: null, &quot;fill&quot;: true, &quot;fillColor&quot;: &quot;blue&quot;, &quot;fillOpacity&quot;: 0.2, &quot;fillRule&quot;: &quot;evenodd&quot;, &quot;lineCap&quot;: &quot;round&quot;, &quot;lineJoin&quot;: &quot;round&quot;, &quot;opacity&quot;: 1.0, &quot;radius&quot;: 459999.99999999994, &quot;stroke&quot;: true, &quot;weight&quot;: 3}\n",
       "            ).addTo(map_458ec8e400112ec513386247fe175da8);\n",
       "        \n",
       "    \n",
       "            circle_0b6a73ba2d0aef666ff7978109d664c5.bindTooltip(\n",
       "                `&lt;div&gt;\n",
       "                     &lt;div style=&#x27;margin: 0; background-color: black; color: white;&#x27;&gt;&lt;h4 style=&#x27;text-align:center;font-weight: bold&#x27;&gt;China&lt;/h4&gt;&lt;hr style=&#x27;margin:10px;color: white;&#x27;&gt;&lt;ul style=&#x27;color: white;;list-style-type:circle;align-item:left;padding-left:20px;padding-right:20px&#x27;&gt;&lt;li&gt;Confirmed: 13371&lt;/li&gt;&lt;li&gt;Deaths:   2&lt;/li&gt;&lt;li&gt;Death Rate: 0.01&lt;/li&gt;&lt;/ul&gt;&lt;/div&gt;\n",
       "                 &lt;/div&gt;`,\n",
       "                {&quot;sticky&quot;: true}\n",
       "            );\n",
       "        \n",
       "    \n",
       "            var circle_d1f787e9ada67fb44169d95ac0505e37 = L.circle(\n",
       "                [26.8154, 106.8748],\n",
       "                {&quot;bubblingMouseEvents&quot;: true, &quot;color&quot;: &quot;red&quot;, &quot;dashArray&quot;: null, &quot;dashOffset&quot;: null, &quot;fill&quot;: true, &quot;fillColor&quot;: &quot;blue&quot;, &quot;fillOpacity&quot;: 0.2, &quot;fillRule&quot;: &quot;evenodd&quot;, &quot;lineCap&quot;: &quot;round&quot;, &quot;lineJoin&quot;: &quot;round&quot;, &quot;opacity&quot;: 1.0, &quot;radius&quot;: 360000.0, &quot;stroke&quot;: true, &quot;weight&quot;: 3}\n",
       "            ).addTo(map_458ec8e400112ec513386247fe175da8);\n",
       "        \n",
       "    \n",
       "            circle_d1f787e9ada67fb44169d95ac0505e37.bindTooltip(\n",
       "                `&lt;div&gt;\n",
       "                     &lt;div style=&#x27;margin: 0; background-color: black; color: white;&#x27;&gt;&lt;h4 style=&#x27;text-align:center;font-weight: bold&#x27;&gt;China&lt;/h4&gt;&lt;hr style=&#x27;margin:10px;color: white;&#x27;&gt;&lt;ul style=&#x27;color: white;;list-style-type:circle;align-item:left;padding-left:20px;padding-right:20px&#x27;&gt;&lt;li&gt;Confirmed: 2534&lt;/li&gt;&lt;li&gt;Deaths:   2&lt;/li&gt;&lt;li&gt;Death Rate: 0.08&lt;/li&gt;&lt;/ul&gt;&lt;/div&gt;\n",
       "                 &lt;/div&gt;`,\n",
       "                {&quot;sticky&quot;: true}\n",
       "            );\n",
       "        \n",
       "    \n",
       "            var circle_ba0af9f05adad24d319be1f697691e2f = L.circle(\n",
       "                [19.1959, 109.7453],\n",
       "                {&quot;bubblingMouseEvents&quot;: true, &quot;color&quot;: &quot;red&quot;, &quot;dashArray&quot;: null, &quot;dashOffset&quot;: null, &quot;fill&quot;: true, &quot;fillColor&quot;: &quot;blue&quot;, &quot;fillOpacity&quot;: 0.2, &quot;fillRule&quot;: &quot;evenodd&quot;, &quot;lineCap&quot;: &quot;round&quot;, &quot;lineJoin&quot;: &quot;round&quot;, &quot;opacity&quot;: 1.0, &quot;radius&quot;: 459999.99999999994, &quot;stroke&quot;: true, &quot;weight&quot;: 3}\n",
       "            ).addTo(map_458ec8e400112ec513386247fe175da8);\n",
       "        \n",
       "    \n",
       "            circle_ba0af9f05adad24d319be1f697691e2f.bindTooltip(\n",
       "                `&lt;div&gt;\n",
       "                     &lt;div style=&#x27;margin: 0; background-color: black; color: white;&#x27;&gt;&lt;h4 style=&#x27;text-align:center;font-weight: bold&#x27;&gt;China&lt;/h4&gt;&lt;hr style=&#x27;margin:10px;color: white;&#x27;&gt;&lt;ul style=&#x27;color: white;;list-style-type:circle;align-item:left;padding-left:20px;padding-right:20px&#x27;&gt;&lt;li&gt;Confirmed: 10483&lt;/li&gt;&lt;li&gt;Deaths:   6&lt;/li&gt;&lt;li&gt;Death Rate: 0.06&lt;/li&gt;&lt;/ul&gt;&lt;/div&gt;\n",
       "                 &lt;/div&gt;`,\n",
       "                {&quot;sticky&quot;: true}\n",
       "            );\n",
       "        \n",
       "    \n",
       "            var circle_21f60c138213569d8a02d355c94deff6 = L.circle(\n",
       "                [39.549, 116.1306],\n",
       "                {&quot;bubblingMouseEvents&quot;: true, &quot;color&quot;: &quot;red&quot;, &quot;dashArray&quot;: null, &quot;dashOffset&quot;: null, &quot;fill&quot;: true, &quot;fillColor&quot;: &quot;blue&quot;, &quot;fillOpacity&quot;: 0.2, &quot;fillRule&quot;: &quot;evenodd&quot;, &quot;lineCap&quot;: &quot;round&quot;, &quot;lineJoin&quot;: &quot;round&quot;, &quot;opacity&quot;: 1.0, &quot;radius&quot;: 409999.99999999994, &quot;stroke&quot;: true, &quot;weight&quot;: 3}\n",
       "            ).addTo(map_458ec8e400112ec513386247fe175da8);\n",
       "        \n",
       "    \n",
       "            circle_21f60c138213569d8a02d355c94deff6.bindTooltip(\n",
       "                `&lt;div&gt;\n",
       "                     &lt;div style=&#x27;margin: 0; background-color: black; color: white;&#x27;&gt;&lt;h4 style=&#x27;text-align:center;font-weight: bold&#x27;&gt;China&lt;/h4&gt;&lt;hr style=&#x27;margin:10px;color: white;&#x27;&gt;&lt;ul style=&#x27;color: white;;list-style-type:circle;align-item:left;padding-left:20px;padding-right:20px&#x27;&gt;&lt;li&gt;Confirmed: 3292&lt;/li&gt;&lt;li&gt;Deaths:   7&lt;/li&gt;&lt;li&gt;Death Rate: 0.21&lt;/li&gt;&lt;/ul&gt;&lt;/div&gt;\n",
       "                 &lt;/div&gt;`,\n",
       "                {&quot;sticky&quot;: true}\n",
       "            );\n",
       "        \n",
       "    \n",
       "            var circle_ed3fedce969822a33a02c5ee1d75c4d8 = L.circle(\n",
       "                [47.862, 127.7615],\n",
       "                {&quot;bubblingMouseEvents&quot;: true, &quot;color&quot;: &quot;red&quot;, &quot;dashArray&quot;: null, &quot;dashOffset&quot;: null, &quot;fill&quot;: true, &quot;fillColor&quot;: &quot;blue&quot;, &quot;fillOpacity&quot;: 0.2, &quot;fillRule&quot;: &quot;evenodd&quot;, &quot;lineCap&quot;: &quot;round&quot;, &quot;lineJoin&quot;: &quot;round&quot;, &quot;opacity&quot;: 1.0, &quot;radius&quot;: 409999.99999999994, &quot;stroke&quot;: true, &quot;weight&quot;: 3}\n",
       "            ).addTo(map_458ec8e400112ec513386247fe175da8);\n",
       "        \n",
       "    \n",
       "            circle_ed3fedce969822a33a02c5ee1d75c4d8.bindTooltip(\n",
       "                `&lt;div&gt;\n",
       "                     &lt;div style=&#x27;margin: 0; background-color: black; color: white;&#x27;&gt;&lt;h4 style=&#x27;text-align:center;font-weight: bold&#x27;&gt;China&lt;/h4&gt;&lt;hr style=&#x27;margin:10px;color: white;&#x27;&gt;&lt;ul style=&#x27;color: white;;list-style-type:circle;align-item:left;padding-left:20px;padding-right:20px&#x27;&gt;&lt;li&gt;Confirmed: 6603&lt;/li&gt;&lt;li&gt;Deaths:   18&lt;/li&gt;&lt;li&gt;Death Rate: 0.27&lt;/li&gt;&lt;/ul&gt;&lt;/div&gt;\n",
       "                 &lt;/div&gt;`,\n",
       "                {&quot;sticky&quot;: true}\n",
       "            );\n",
       "        \n",
       "    \n",
       "            var circle_d65c3468181576543d16f481da5f139a = L.circle(\n",
       "                [37.8957, 114.9042],\n",
       "                {&quot;bubblingMouseEvents&quot;: true, &quot;color&quot;: &quot;red&quot;, &quot;dashArray&quot;: null, &quot;dashOffset&quot;: null, &quot;fill&quot;: true, &quot;fillColor&quot;: &quot;blue&quot;, &quot;fillOpacity&quot;: 0.2, &quot;fillRule&quot;: &quot;evenodd&quot;, &quot;lineCap&quot;: &quot;round&quot;, &quot;lineJoin&quot;: &quot;round&quot;, &quot;opacity&quot;: 1.0, &quot;radius&quot;: 459999.99999999994, &quot;stroke&quot;: true, &quot;weight&quot;: 3}\n",
       "            ).addTo(map_458ec8e400112ec513386247fe175da8);\n",
       "        \n",
       "    \n",
       "            circle_d65c3468181576543d16f481da5f139a.bindTooltip(\n",
       "                `&lt;div&gt;\n",
       "                     &lt;div style=&#x27;margin: 0; background-color: black; color: white;&#x27;&gt;&lt;h4 style=&#x27;text-align:center;font-weight: bold&#x27;&gt;China&lt;/h4&gt;&lt;hr style=&#x27;margin:10px;color: white;&#x27;&gt;&lt;ul style=&#x27;color: white;;list-style-type:circle;align-item:left;padding-left:20px;padding-right:20px&#x27;&gt;&lt;li&gt;Confirmed: 9948&lt;/li&gt;&lt;li&gt;Deaths:   23&lt;/li&gt;&lt;li&gt;Death Rate: 0.23&lt;/li&gt;&lt;/ul&gt;&lt;/div&gt;\n",
       "                 &lt;/div&gt;`,\n",
       "                {&quot;sticky&quot;: true}\n",
       "            );\n",
       "        \n",
       "    \n",
       "            var circle_b485ae82815ef8ca8e5d8703ffe403ec = L.circle(\n",
       "                [22.3, 114.2],\n",
       "                {&quot;bubblingMouseEvents&quot;: true, &quot;color&quot;: &quot;red&quot;, &quot;dashArray&quot;: null, &quot;dashOffset&quot;: null, &quot;fill&quot;: true, &quot;fillColor&quot;: &quot;blue&quot;, &quot;fillOpacity&quot;: 0.2, &quot;fillRule&quot;: &quot;evenodd&quot;, &quot;lineCap&quot;: &quot;round&quot;, &quot;lineJoin&quot;: &quot;round&quot;, &quot;opacity&quot;: 1.0, &quot;radius&quot;: 710000.0, &quot;stroke&quot;: true, &quot;weight&quot;: 3}\n",
       "            ).addTo(map_458ec8e400112ec513386247fe175da8);\n",
       "        \n",
       "    \n",
       "            circle_b485ae82815ef8ca8e5d8703ffe403ec.bindTooltip(\n",
       "                `&lt;div&gt;\n",
       "                     &lt;div style=&#x27;margin: 0; background-color: black; color: white;&#x27;&gt;&lt;h4 style=&#x27;text-align:center;font-weight: bold&#x27;&gt;China&lt;/h4&gt;&lt;hr style=&#x27;margin:10px;color: white;&#x27;&gt;&lt;ul style=&#x27;color: white;;list-style-type:circle;align-item:left;padding-left:20px;padding-right:20px&#x27;&gt;&lt;li&gt;Confirmed: 2876106&lt;/li&gt;&lt;li&gt;Deaths:   13467&lt;/li&gt;&lt;li&gt;Death Rate: 0.47&lt;/li&gt;&lt;/ul&gt;&lt;/div&gt;\n",
       "                 &lt;/div&gt;`,\n",
       "                {&quot;sticky&quot;: true}\n",
       "            );\n",
       "        \n",
       "    \n",
       "            var circle_c71b1ca84cfe50a23585484e13410a83 = L.circle(\n",
       "                [30.9756, 112.2707],\n",
       "                {&quot;bubblingMouseEvents&quot;: true, &quot;color&quot;: &quot;red&quot;, &quot;dashArray&quot;: null, &quot;dashOffset&quot;: null, &quot;fill&quot;: true, &quot;fillColor&quot;: &quot;blue&quot;, &quot;fillOpacity&quot;: 0.2, &quot;fillRule&quot;: &quot;evenodd&quot;, &quot;lineCap&quot;: &quot;round&quot;, &quot;lineJoin&quot;: &quot;round&quot;, &quot;opacity&quot;: 1.0, &quot;radius&quot;: 560000.0, &quot;stroke&quot;: true, &quot;weight&quot;: 3}\n",
       "            ).addTo(map_458ec8e400112ec513386247fe175da8);\n",
       "        \n",
       "    \n",
       "            circle_c71b1ca84cfe50a23585484e13410a83.bindTooltip(\n",
       "                `&lt;div&gt;\n",
       "                     &lt;div style=&#x27;margin: 0; background-color: black; color: white;&#x27;&gt;&lt;h4 style=&#x27;text-align:center;font-weight: bold&#x27;&gt;China&lt;/h4&gt;&lt;hr style=&#x27;margin:10px;color: white;&#x27;&gt;&lt;ul style=&#x27;color: white;;list-style-type:circle;align-item:left;padding-left:20px;padding-right:20px&#x27;&gt;&lt;li&gt;Confirmed: 72131&lt;/li&gt;&lt;li&gt;Deaths:   4515&lt;/li&gt;&lt;li&gt;Death Rate: 6.26&lt;/li&gt;&lt;/ul&gt;&lt;/div&gt;\n",
       "                 &lt;/div&gt;`,\n",
       "                {&quot;sticky&quot;: true}\n",
       "            );\n",
       "        \n",
       "    \n",
       "            var circle_789fecb917ba11edd3731bdd6a1098ea = L.circle(\n",
       "                [27.6104, 111.7088],\n",
       "                {&quot;bubblingMouseEvents&quot;: true, &quot;color&quot;: &quot;red&quot;, &quot;dashArray&quot;: null, &quot;dashOffset&quot;: null, &quot;fill&quot;: true, &quot;fillColor&quot;: &quot;blue&quot;, &quot;fillOpacity&quot;: 0.2, &quot;fillRule&quot;: &quot;evenodd&quot;, &quot;lineCap&quot;: &quot;round&quot;, &quot;lineJoin&quot;: &quot;round&quot;, &quot;opacity&quot;: 1.0, &quot;radius&quot;: 409999.99999999994, &quot;stroke&quot;: true, &quot;weight&quot;: 3}\n",
       "            ).addTo(map_458ec8e400112ec513386247fe175da8);\n",
       "        \n",
       "    \n",
       "            circle_789fecb917ba11edd3731bdd6a1098ea.bindTooltip(\n",
       "                `&lt;div&gt;\n",
       "                     &lt;div style=&#x27;margin: 0; background-color: black; color: white;&#x27;&gt;&lt;h4 style=&#x27;text-align:center;font-weight: bold&#x27;&gt;China&lt;/h4&gt;&lt;hr style=&#x27;margin:10px;color: white;&#x27;&gt;&lt;ul style=&#x27;color: white;;list-style-type:circle;align-item:left;padding-left:20px;padding-right:20px&#x27;&gt;&lt;li&gt;Confirmed: 7437&lt;/li&gt;&lt;li&gt;Deaths:   4&lt;/li&gt;&lt;li&gt;Death Rate: 0.05&lt;/li&gt;&lt;/ul&gt;&lt;/div&gt;\n",
       "                 &lt;/div&gt;`,\n",
       "                {&quot;sticky&quot;: true}\n",
       "            );\n",
       "        \n",
       "    \n",
       "            var circle_7ecbc1d43ee990c625e29d28c25c38d2 = L.circle(\n",
       "                [44.0935, 113.9448],\n",
       "                {&quot;bubblingMouseEvents&quot;: true, &quot;color&quot;: &quot;red&quot;, &quot;dashArray&quot;: null, &quot;dashOffset&quot;: null, &quot;fill&quot;: true, &quot;fillColor&quot;: &quot;blue&quot;, &quot;fillOpacity&quot;: 0.2, &quot;fillRule&quot;: &quot;evenodd&quot;, &quot;lineCap&quot;: &quot;round&quot;, &quot;lineJoin&quot;: &quot;round&quot;, &quot;opacity&quot;: 1.0, &quot;radius&quot;: 459999.99999999994, &quot;stroke&quot;: true, &quot;weight&quot;: 3}\n",
       "            ).addTo(map_458ec8e400112ec513386247fe175da8);\n",
       "        \n",
       "    \n",
       "            circle_7ecbc1d43ee990c625e29d28c25c38d2.bindTooltip(\n",
       "                `&lt;div&gt;\n",
       "                     &lt;div style=&#x27;margin: 0; background-color: black; color: white;&#x27;&gt;&lt;h4 style=&#x27;text-align:center;font-weight: bold&#x27;&gt;China&lt;/h4&gt;&lt;hr style=&#x27;margin:10px;color: white;&#x27;&gt;&lt;ul style=&#x27;color: white;;list-style-type:circle;align-item:left;padding-left:20px;padding-right:20px&#x27;&gt;&lt;li&gt;Confirmed: 8847&lt;/li&gt;&lt;li&gt;Deaths:   1&lt;/li&gt;&lt;li&gt;Death Rate: 0.01&lt;/li&gt;&lt;/ul&gt;&lt;/div&gt;\n",
       "                 &lt;/div&gt;`,\n",
       "                {&quot;sticky&quot;: true}\n",
       "            );\n",
       "        \n",
       "    \n",
       "            var circle_67d7e38e6877399d59f8788e838ce2a3 = L.circle(\n",
       "                [32.9711, 119.455],\n",
       "                {&quot;bubblingMouseEvents&quot;: true, &quot;color&quot;: &quot;red&quot;, &quot;dashArray&quot;: null, &quot;dashOffset&quot;: null, &quot;fill&quot;: true, &quot;fillColor&quot;: &quot;blue&quot;, &quot;fillOpacity&quot;: 0.2, &quot;fillRule&quot;: &quot;evenodd&quot;, &quot;lineCap&quot;: &quot;round&quot;, &quot;lineJoin&quot;: &quot;round&quot;, &quot;opacity&quot;: 1.0, &quot;radius&quot;: 409999.99999999994, &quot;stroke&quot;: true, &quot;weight&quot;: 3}\n",
       "            ).addTo(map_458ec8e400112ec513386247fe175da8);\n",
       "        \n",
       "    \n",
       "            circle_67d7e38e6877399d59f8788e838ce2a3.bindTooltip(\n",
       "                `&lt;div&gt;\n",
       "                     &lt;div style=&#x27;margin: 0; background-color: black; color: white;&#x27;&gt;&lt;h4 style=&#x27;text-align:center;font-weight: bold&#x27;&gt;China&lt;/h4&gt;&lt;hr style=&#x27;margin:10px;color: white;&#x27;&gt;&lt;ul style=&#x27;color: white;;list-style-type:circle;align-item:left;padding-left:20px;padding-right:20px&#x27;&gt;&lt;li&gt;Confirmed: 5075&lt;/li&gt;&lt;li&gt;Deaths:   0&lt;/li&gt;&lt;li&gt;Death Rate: 0.0&lt;/li&gt;&lt;/ul&gt;&lt;/div&gt;\n",
       "                 &lt;/div&gt;`,\n",
       "                {&quot;sticky&quot;: true}\n",
       "            );\n",
       "        \n",
       "    \n",
       "            var circle_2894b8eadb15913b176b051f9abbd322 = L.circle(\n",
       "                [27.614, 115.7221],\n",
       "                {&quot;bubblingMouseEvents&quot;: true, &quot;color&quot;: &quot;red&quot;, &quot;dashArray&quot;: null, &quot;dashOffset&quot;: null, &quot;fill&quot;: true, &quot;fillColor&quot;: &quot;blue&quot;, &quot;fillOpacity&quot;: 0.2, &quot;fillRule&quot;: &quot;evenodd&quot;, &quot;lineCap&quot;: &quot;round&quot;, &quot;lineJoin&quot;: &quot;round&quot;, &quot;opacity&quot;: 1.0, &quot;radius&quot;: 409999.99999999994, &quot;stroke&quot;: true, &quot;weight&quot;: 3}\n",
       "            ).addTo(map_458ec8e400112ec513386247fe175da8);\n",
       "        \n",
       "    \n",
       "            circle_2894b8eadb15913b176b051f9abbd322.bindTooltip(\n",
       "                `&lt;div&gt;\n",
       "                     &lt;div style=&#x27;margin: 0; background-color: black; color: white;&#x27;&gt;&lt;h4 style=&#x27;text-align:center;font-weight: bold&#x27;&gt;China&lt;/h4&gt;&lt;hr style=&#x27;margin:10px;color: white;&#x27;&gt;&lt;ul style=&#x27;color: white;;list-style-type:circle;align-item:left;padding-left:20px;padding-right:20px&#x27;&gt;&lt;li&gt;Confirmed: 3423&lt;/li&gt;&lt;li&gt;Deaths:   2&lt;/li&gt;&lt;li&gt;Death Rate: 0.06&lt;/li&gt;&lt;/ul&gt;&lt;/div&gt;\n",
       "                 &lt;/div&gt;`,\n",
       "                {&quot;sticky&quot;: true}\n",
       "            );\n",
       "        \n",
       "    \n",
       "            var circle_7c0083dca3e6138a384217f6b5dddb02 = L.circle(\n",
       "                [43.6661, 126.1923],\n",
       "                {&quot;bubblingMouseEvents&quot;: true, &quot;color&quot;: &quot;red&quot;, &quot;dashArray&quot;: null, &quot;dashOffset&quot;: null, &quot;fill&quot;: true, &quot;fillColor&quot;: &quot;blue&quot;, &quot;fillOpacity&quot;: 0.2, &quot;fillRule&quot;: &quot;evenodd&quot;, &quot;lineCap&quot;: &quot;round&quot;, &quot;lineJoin&quot;: &quot;round&quot;, &quot;opacity&quot;: 1.0, &quot;radius&quot;: 509999.99999999994, &quot;stroke&quot;: true, &quot;weight&quot;: 3}\n",
       "            ).addTo(map_458ec8e400112ec513386247fe175da8);\n",
       "        \n",
       "    \n",
       "            circle_7c0083dca3e6138a384217f6b5dddb02.bindTooltip(\n",
       "                `&lt;div&gt;\n",
       "                     &lt;div style=&#x27;margin: 0; background-color: black; color: white;&#x27;&gt;&lt;h4 style=&#x27;text-align:center;font-weight: bold&#x27;&gt;China&lt;/h4&gt;&lt;hr style=&#x27;margin:10px;color: white;&#x27;&gt;&lt;ul style=&#x27;color: white;;list-style-type:circle;align-item:left;padding-left:20px;padding-right:20px&#x27;&gt;&lt;li&gt;Confirmed: 40764&lt;/li&gt;&lt;li&gt;Deaths:   5&lt;/li&gt;&lt;li&gt;Death Rate: 0.01&lt;/li&gt;&lt;/ul&gt;&lt;/div&gt;\n",
       "                 &lt;/div&gt;`,\n",
       "                {&quot;sticky&quot;: true}\n",
       "            );\n",
       "        \n",
       "    \n",
       "            var circle_fe827666420ed840ee9bd7b35f53f420 = L.circle(\n",
       "                [41.2956, 122.6085],\n",
       "                {&quot;bubblingMouseEvents&quot;: true, &quot;color&quot;: &quot;red&quot;, &quot;dashArray&quot;: null, &quot;dashOffset&quot;: null, &quot;fill&quot;: true, &quot;fillColor&quot;: &quot;blue&quot;, &quot;fillOpacity&quot;: 0.2, &quot;fillRule&quot;: &quot;evenodd&quot;, &quot;lineCap&quot;: &quot;round&quot;, &quot;lineJoin&quot;: &quot;round&quot;, &quot;opacity&quot;: 1.0, &quot;radius&quot;: 409999.99999999994, &quot;stroke&quot;: true, &quot;weight&quot;: 3}\n",
       "            ).addTo(map_458ec8e400112ec513386247fe175da8);\n",
       "        \n",
       "    \n",
       "            circle_fe827666420ed840ee9bd7b35f53f420.bindTooltip(\n",
       "                `&lt;div&gt;\n",
       "                     &lt;div style=&#x27;margin: 0; background-color: black; color: white;&#x27;&gt;&lt;h4 style=&#x27;text-align:center;font-weight: bold&#x27;&gt;China&lt;/h4&gt;&lt;hr style=&#x27;margin:10px;color: white;&#x27;&gt;&lt;ul style=&#x27;color: white;;list-style-type:circle;align-item:left;padding-left:20px;padding-right:20px&#x27;&gt;&lt;li&gt;Confirmed: 3547&lt;/li&gt;&lt;li&gt;Deaths:   2&lt;/li&gt;&lt;li&gt;Death Rate: 0.06&lt;/li&gt;&lt;/ul&gt;&lt;/div&gt;\n",
       "                 &lt;/div&gt;`,\n",
       "                {&quot;sticky&quot;: true}\n",
       "            );\n",
       "        \n",
       "    \n",
       "            var circle_3e833e0d9fae7eedceba90d6f58e8803 = L.circle(\n",
       "                [22.1667, 113.55],\n",
       "                {&quot;bubblingMouseEvents&quot;: true, &quot;color&quot;: &quot;red&quot;, &quot;dashArray&quot;: null, &quot;dashOffset&quot;: null, &quot;fill&quot;: true, &quot;fillColor&quot;: &quot;blue&quot;, &quot;fillOpacity&quot;: 0.2, &quot;fillRule&quot;: &quot;evenodd&quot;, &quot;lineCap&quot;: &quot;round&quot;, &quot;lineJoin&quot;: &quot;round&quot;, &quot;opacity&quot;: 1.0, &quot;radius&quot;: 409999.99999999994, &quot;stroke&quot;: true, &quot;weight&quot;: 3}\n",
       "            ).addTo(map_458ec8e400112ec513386247fe175da8);\n",
       "        \n",
       "    \n",
       "            circle_3e833e0d9fae7eedceba90d6f58e8803.bindTooltip(\n",
       "                `&lt;div&gt;\n",
       "                     &lt;div style=&#x27;margin: 0; background-color: black; color: white;&#x27;&gt;&lt;h4 style=&#x27;text-align:center;font-weight: bold&#x27;&gt;China&lt;/h4&gt;&lt;hr style=&#x27;margin:10px;color: white;&#x27;&gt;&lt;ul style=&#x27;color: white;;list-style-type:circle;align-item:left;padding-left:20px;padding-right:20px&#x27;&gt;&lt;li&gt;Confirmed: 3514&lt;/li&gt;&lt;li&gt;Deaths:   121&lt;/li&gt;&lt;li&gt;Death Rate: 3.44&lt;/li&gt;&lt;/ul&gt;&lt;/div&gt;\n",
       "                 &lt;/div&gt;`,\n",
       "                {&quot;sticky&quot;: true}\n",
       "            );\n",
       "        \n",
       "    \n",
       "            var circle_c4d19143ff5d058e9ad6c723ef51e440 = L.circle(\n",
       "                [37.2692, 106.1655],\n",
       "                {&quot;bubblingMouseEvents&quot;: true, &quot;color&quot;: &quot;red&quot;, &quot;dashArray&quot;: null, &quot;dashOffset&quot;: null, &quot;fill&quot;: true, &quot;fillColor&quot;: &quot;blue&quot;, &quot;fillOpacity&quot;: 0.2, &quot;fillRule&quot;: &quot;evenodd&quot;, &quot;lineCap&quot;: &quot;round&quot;, &quot;lineJoin&quot;: &quot;round&quot;, &quot;opacity&quot;: 1.0, &quot;radius&quot;: 360000.0, &quot;stroke&quot;: true, &quot;weight&quot;: 3}\n",
       "            ).addTo(map_458ec8e400112ec513386247fe175da8);\n",
       "        \n",
       "    \n",
       "            circle_c4d19143ff5d058e9ad6c723ef51e440.bindTooltip(\n",
       "                `&lt;div&gt;\n",
       "                     &lt;div style=&#x27;margin: 0; background-color: black; color: white;&#x27;&gt;&lt;h4 style=&#x27;text-align:center;font-weight: bold&#x27;&gt;China&lt;/h4&gt;&lt;hr style=&#x27;margin:10px;color: white;&#x27;&gt;&lt;ul style=&#x27;color: white;;list-style-type:circle;align-item:left;padding-left:20px;padding-right:20px&#x27;&gt;&lt;li&gt;Confirmed: 1276&lt;/li&gt;&lt;li&gt;Deaths:   0&lt;/li&gt;&lt;li&gt;Death Rate: 0.0&lt;/li&gt;&lt;/ul&gt;&lt;/div&gt;\n",
       "                 &lt;/div&gt;`,\n",
       "                {&quot;sticky&quot;: true}\n",
       "            );\n",
       "        \n",
       "    \n",
       "            var circle_792da2aadd4b4b20717426e1846509f3 = L.circle(\n",
       "                [35.7452, 95.9956],\n",
       "                {&quot;bubblingMouseEvents&quot;: true, &quot;color&quot;: &quot;red&quot;, &quot;dashArray&quot;: null, &quot;dashOffset&quot;: null, &quot;fill&quot;: true, &quot;fillColor&quot;: &quot;blue&quot;, &quot;fillOpacity&quot;: 0.2, &quot;fillRule&quot;: &quot;evenodd&quot;, &quot;lineCap&quot;: &quot;round&quot;, &quot;lineJoin&quot;: &quot;round&quot;, &quot;opacity&quot;: 1.0, &quot;radius&quot;: 310000.0, &quot;stroke&quot;: true, &quot;weight&quot;: 3}\n",
       "            ).addTo(map_458ec8e400112ec513386247fe175da8);\n",
       "        \n",
       "    \n",
       "            circle_792da2aadd4b4b20717426e1846509f3.bindTooltip(\n",
       "                `&lt;div&gt;\n",
       "                     &lt;div style=&#x27;margin: 0; background-color: black; color: white;&#x27;&gt;&lt;h4 style=&#x27;text-align:center;font-weight: bold&#x27;&gt;China&lt;/h4&gt;&lt;hr style=&#x27;margin:10px;color: white;&#x27;&gt;&lt;ul style=&#x27;color: white;;list-style-type:circle;align-item:left;padding-left:20px;padding-right:20px&#x27;&gt;&lt;li&gt;Confirmed: 782&lt;/li&gt;&lt;li&gt;Deaths:   0&lt;/li&gt;&lt;li&gt;Death Rate: 0.0&lt;/li&gt;&lt;/ul&gt;&lt;/div&gt;\n",
       "                 &lt;/div&gt;`,\n",
       "                {&quot;sticky&quot;: true}\n",
       "            );\n",
       "        \n",
       "    \n",
       "            var circle_b585d18e6c1e0958952f0055eede151c = L.circle(\n",
       "                [35.1917, 108.8701],\n",
       "                {&quot;bubblingMouseEvents&quot;: true, &quot;color&quot;: &quot;red&quot;, &quot;dashArray&quot;: null, &quot;dashOffset&quot;: null, &quot;fill&quot;: true, &quot;fillColor&quot;: &quot;blue&quot;, &quot;fillOpacity&quot;: 0.2, &quot;fillRule&quot;: &quot;evenodd&quot;, &quot;lineCap&quot;: &quot;round&quot;, &quot;lineJoin&quot;: &quot;round&quot;, &quot;opacity&quot;: 1.0, &quot;radius&quot;: 409999.99999999994, &quot;stroke&quot;: true, &quot;weight&quot;: 3}\n",
       "            ).addTo(map_458ec8e400112ec513386247fe175da8);\n",
       "        \n",
       "    \n",
       "            circle_b585d18e6c1e0958952f0055eede151c.bindTooltip(\n",
       "                `&lt;div&gt;\n",
       "                     &lt;div style=&#x27;margin: 0; background-color: black; color: white;&#x27;&gt;&lt;h4 style=&#x27;text-align:center;font-weight: bold&#x27;&gt;China&lt;/h4&gt;&lt;hr style=&#x27;margin:10px;color: white;&#x27;&gt;&lt;ul style=&#x27;color: white;;list-style-type:circle;align-item:left;padding-left:20px;padding-right:20px&#x27;&gt;&lt;li&gt;Confirmed: 7326&lt;/li&gt;&lt;li&gt;Deaths:   5&lt;/li&gt;&lt;li&gt;Death Rate: 0.07&lt;/li&gt;&lt;/ul&gt;&lt;/div&gt;\n",
       "                 &lt;/div&gt;`,\n",
       "                {&quot;sticky&quot;: true}\n",
       "            );\n",
       "        \n",
       "    \n",
       "            var circle_ea0653f9f9e71e43e6497cf3b3602a3d = L.circle(\n",
       "                [36.3427, 118.1498],\n",
       "                {&quot;bubblingMouseEvents&quot;: true, &quot;color&quot;: &quot;red&quot;, &quot;dashArray&quot;: null, &quot;dashOffset&quot;: null, &quot;fill&quot;: true, &quot;fillColor&quot;: &quot;blue&quot;, &quot;fillOpacity&quot;: 0.2, &quot;fillRule&quot;: &quot;evenodd&quot;, &quot;lineCap&quot;: &quot;round&quot;, &quot;lineJoin&quot;: &quot;round&quot;, &quot;opacity&quot;: 1.0, &quot;radius&quot;: 409999.99999999994, &quot;stroke&quot;: true, &quot;weight&quot;: 3}\n",
       "            ).addTo(map_458ec8e400112ec513386247fe175da8);\n",
       "        \n",
       "    \n",
       "            circle_ea0653f9f9e71e43e6497cf3b3602a3d.bindTooltip(\n",
       "                `&lt;div&gt;\n",
       "                     &lt;div style=&#x27;margin: 0; background-color: black; color: white;&#x27;&gt;&lt;h4 style=&#x27;text-align:center;font-weight: bold&#x27;&gt;China&lt;/h4&gt;&lt;hr style=&#x27;margin:10px;color: white;&#x27;&gt;&lt;ul style=&#x27;color: white;;list-style-type:circle;align-item:left;padding-left:20px;padding-right:20px&#x27;&gt;&lt;li&gt;Confirmed: 5880&lt;/li&gt;&lt;li&gt;Deaths:   10&lt;/li&gt;&lt;li&gt;Death Rate: 0.17&lt;/li&gt;&lt;/ul&gt;&lt;/div&gt;\n",
       "                 &lt;/div&gt;`,\n",
       "                {&quot;sticky&quot;: true}\n",
       "            );\n",
       "        \n",
       "    \n",
       "            var circle_8f0fda685354b8ba863f764f7308d82c = L.circle(\n",
       "                [31.202, 121.4491],\n",
       "                {&quot;bubblingMouseEvents&quot;: true, &quot;color&quot;: &quot;red&quot;, &quot;dashArray&quot;: null, &quot;dashOffset&quot;: null, &quot;fill&quot;: true, &quot;fillColor&quot;: &quot;blue&quot;, &quot;fillOpacity&quot;: 0.2, &quot;fillRule&quot;: &quot;evenodd&quot;, &quot;lineCap&quot;: &quot;round&quot;, &quot;lineJoin&quot;: &quot;round&quot;, &quot;opacity&quot;: 1.0, &quot;radius&quot;: 560000.0, &quot;stroke&quot;: true, &quot;weight&quot;: 3}\n",
       "            ).addTo(map_458ec8e400112ec513386247fe175da8);\n",
       "        \n",
       "    \n",
       "            circle_8f0fda685354b8ba863f764f7308d82c.bindTooltip(\n",
       "                `&lt;div&gt;\n",
       "                     &lt;div style=&#x27;margin: 0; background-color: black; color: white;&#x27;&gt;&lt;h4 style=&#x27;text-align:center;font-weight: bold&#x27;&gt;China&lt;/h4&gt;&lt;hr style=&#x27;margin:10px;color: white;&#x27;&gt;&lt;ul style=&#x27;color: white;;list-style-type:circle;align-item:left;padding-left:20px;padding-right:20px&#x27;&gt;&lt;li&gt;Confirmed: 67040&lt;/li&gt;&lt;li&gt;Deaths:   595&lt;/li&gt;&lt;li&gt;Death Rate: 0.89&lt;/li&gt;&lt;/ul&gt;&lt;/div&gt;\n",
       "                 &lt;/div&gt;`,\n",
       "                {&quot;sticky&quot;: true}\n",
       "            );\n",
       "        \n",
       "    \n",
       "            var circle_c62344028414b91c04a1b44ee2dc2755 = L.circle(\n",
       "                [37.5777, 112.2922],\n",
       "                {&quot;bubblingMouseEvents&quot;: true, &quot;color&quot;: &quot;red&quot;, &quot;dashArray&quot;: null, &quot;dashOffset&quot;: null, &quot;fill&quot;: true, &quot;fillColor&quot;: &quot;blue&quot;, &quot;fillOpacity&quot;: 0.2, &quot;fillRule&quot;: &quot;evenodd&quot;, &quot;lineCap&quot;: &quot;round&quot;, &quot;lineJoin&quot;: &quot;round&quot;, &quot;opacity&quot;: 1.0, &quot;radius&quot;: 409999.99999999994, &quot;stroke&quot;: true, &quot;weight&quot;: 3}\n",
       "            ).addTo(map_458ec8e400112ec513386247fe175da8);\n",
       "        \n",
       "    \n",
       "            circle_c62344028414b91c04a1b44ee2dc2755.bindTooltip(\n",
       "                `&lt;div&gt;\n",
       "                     &lt;div style=&#x27;margin: 0; background-color: black; color: white;&#x27;&gt;&lt;h4 style=&#x27;text-align:center;font-weight: bold&#x27;&gt;China&lt;/h4&gt;&lt;hr style=&#x27;margin:10px;color: white;&#x27;&gt;&lt;ul style=&#x27;color: white;;list-style-type:circle;align-item:left;padding-left:20px;padding-right:20px&#x27;&gt;&lt;li&gt;Confirmed: 7167&lt;/li&gt;&lt;li&gt;Deaths:   1&lt;/li&gt;&lt;li&gt;Death Rate: 0.01&lt;/li&gt;&lt;/ul&gt;&lt;/div&gt;\n",
       "                 &lt;/div&gt;`,\n",
       "                {&quot;sticky&quot;: true}\n",
       "            );\n",
       "        \n",
       "    \n",
       "            var circle_1235326d052caddacdeb7edb9aeb5916 = L.circle(\n",
       "                [30.6171, 102.7103],\n",
       "                {&quot;bubblingMouseEvents&quot;: true, &quot;color&quot;: &quot;red&quot;, &quot;dashArray&quot;: null, &quot;dashOffset&quot;: null, &quot;fill&quot;: true, &quot;fillColor&quot;: &quot;blue&quot;, &quot;fillOpacity&quot;: 0.2, &quot;fillRule&quot;: &quot;evenodd&quot;, &quot;lineCap&quot;: &quot;round&quot;, &quot;lineJoin&quot;: &quot;round&quot;, &quot;opacity&quot;: 1.0, &quot;radius&quot;: 459999.99999999994, &quot;stroke&quot;: true, &quot;weight&quot;: 3}\n",
       "            ).addTo(map_458ec8e400112ec513386247fe175da8);\n",
       "        \n",
       "    \n",
       "            circle_1235326d052caddacdeb7edb9aeb5916.bindTooltip(\n",
       "                `&lt;div&gt;\n",
       "                     &lt;div style=&#x27;margin: 0; background-color: black; color: white;&#x27;&gt;&lt;h4 style=&#x27;text-align:center;font-weight: bold&#x27;&gt;China&lt;/h4&gt;&lt;hr style=&#x27;margin:10px;color: white;&#x27;&gt;&lt;ul style=&#x27;color: white;;list-style-type:circle;align-item:left;padding-left:20px;padding-right:20px&#x27;&gt;&lt;li&gt;Confirmed: 14567&lt;/li&gt;&lt;li&gt;Deaths:   12&lt;/li&gt;&lt;li&gt;Death Rate: 0.08&lt;/li&gt;&lt;/ul&gt;&lt;/div&gt;\n",
       "                 &lt;/div&gt;`,\n",
       "                {&quot;sticky&quot;: true}\n",
       "            );\n",
       "        \n",
       "    \n",
       "            var circle_c2f3fb3d9dda2aa6458101e87c0b8291 = L.circle(\n",
       "                [39.3054, 117.323],\n",
       "                {&quot;bubblingMouseEvents&quot;: true, &quot;color&quot;: &quot;red&quot;, &quot;dashArray&quot;: null, &quot;dashOffset&quot;: null, &quot;fill&quot;: true, &quot;fillColor&quot;: &quot;blue&quot;, &quot;fillOpacity&quot;: 0.2, &quot;fillRule&quot;: &quot;evenodd&quot;, &quot;lineCap&quot;: &quot;round&quot;, &quot;lineJoin&quot;: &quot;round&quot;, &quot;opacity&quot;: 1.0, &quot;radius&quot;: 409999.99999999994, &quot;stroke&quot;: true, &quot;weight&quot;: 3}\n",
       "            ).addTo(map_458ec8e400112ec513386247fe175da8);\n",
       "        \n",
       "    \n",
       "            circle_c2f3fb3d9dda2aa6458101e87c0b8291.bindTooltip(\n",
       "                `&lt;div&gt;\n",
       "                     &lt;div style=&#x27;margin: 0; background-color: black; color: white;&#x27;&gt;&lt;h4 style=&#x27;text-align:center;font-weight: bold&#x27;&gt;China&lt;/h4&gt;&lt;hr style=&#x27;margin:10px;color: white;&#x27;&gt;&lt;ul style=&#x27;color: white;;list-style-type:circle;align-item:left;padding-left:20px;padding-right:20px&#x27;&gt;&lt;li&gt;Confirmed: 4392&lt;/li&gt;&lt;li&gt;Deaths:   3&lt;/li&gt;&lt;li&gt;Death Rate: 0.07&lt;/li&gt;&lt;/ul&gt;&lt;/div&gt;\n",
       "                 &lt;/div&gt;`,\n",
       "                {&quot;sticky&quot;: true}\n",
       "            );\n",
       "        \n",
       "    \n",
       "            var circle_7302fe035363420a95e8f3fb6403ce37 = L.circle(\n",
       "                [31.6927, 88.0924],\n",
       "                {&quot;bubblingMouseEvents&quot;: true, &quot;color&quot;: &quot;red&quot;, &quot;dashArray&quot;: null, &quot;dashOffset&quot;: null, &quot;fill&quot;: true, &quot;fillColor&quot;: &quot;blue&quot;, &quot;fillOpacity&quot;: 0.2, &quot;fillRule&quot;: &quot;evenodd&quot;, &quot;lineCap&quot;: &quot;round&quot;, &quot;lineJoin&quot;: &quot;round&quot;, &quot;opacity&quot;: 1.0, &quot;radius&quot;: 360000.0, &quot;stroke&quot;: true, &quot;weight&quot;: 3}\n",
       "            ).addTo(map_458ec8e400112ec513386247fe175da8);\n",
       "        \n",
       "    \n",
       "            circle_7302fe035363420a95e8f3fb6403ce37.bindTooltip(\n",
       "                `&lt;div&gt;\n",
       "                     &lt;div style=&#x27;margin: 0; background-color: black; color: white;&#x27;&gt;&lt;h4 style=&#x27;text-align:center;font-weight: bold&#x27;&gt;China&lt;/h4&gt;&lt;hr style=&#x27;margin:10px;color: white;&#x27;&gt;&lt;ul style=&#x27;color: white;;list-style-type:circle;align-item:left;padding-left:20px;padding-right:20px&#x27;&gt;&lt;li&gt;Confirmed: 1647&lt;/li&gt;&lt;li&gt;Deaths:   0&lt;/li&gt;&lt;li&gt;Death Rate: 0.0&lt;/li&gt;&lt;/ul&gt;&lt;/div&gt;\n",
       "                 &lt;/div&gt;`,\n",
       "                {&quot;sticky&quot;: true}\n",
       "            );\n",
       "        \n",
       "    \n",
       "            var circle_b8159a7dcb4d572ec9539d5447a0a96f = L.circle(\n",
       "                [0.0, 0.0],\n",
       "                {&quot;bubblingMouseEvents&quot;: true, &quot;color&quot;: &quot;red&quot;, &quot;dashArray&quot;: null, &quot;dashOffset&quot;: null, &quot;fill&quot;: true, &quot;fillColor&quot;: &quot;blue&quot;, &quot;fillOpacity&quot;: 0.2, &quot;fillRule&quot;: &quot;evenodd&quot;, &quot;lineCap&quot;: &quot;round&quot;, &quot;lineJoin&quot;: &quot;round&quot;, &quot;opacity&quot;: 1.0, &quot;radius&quot;: 710000.0, &quot;stroke&quot;: true, &quot;weight&quot;: 3}\n",
       "            ).addTo(map_458ec8e400112ec513386247fe175da8);\n",
       "        \n",
       "    \n",
       "            circle_b8159a7dcb4d572ec9539d5447a0a96f.bindTooltip(\n",
       "                `&lt;div&gt;\n",
       "                     &lt;div style=&#x27;margin: 0; background-color: black; color: white;&#x27;&gt;&lt;h4 style=&#x27;text-align:center;font-weight: bold&#x27;&gt;China&lt;/h4&gt;&lt;hr style=&#x27;margin:10px;color: white;&#x27;&gt;&lt;ul style=&#x27;color: white;;list-style-type:circle;align-item:left;padding-left:20px;padding-right:20px&#x27;&gt;&lt;li&gt;Confirmed: 1521816&lt;/li&gt;&lt;li&gt;Deaths:   82195&lt;/li&gt;&lt;li&gt;Death Rate: 5.4&lt;/li&gt;&lt;/ul&gt;&lt;/div&gt;\n",
       "                 &lt;/div&gt;`,\n",
       "                {&quot;sticky&quot;: true}\n",
       "            );\n",
       "        \n",
       "    \n",
       "            var circle_30a7f9e7137ace44dc7bac6e1d3065d2 = L.circle(\n",
       "                [41.1129, 85.2401],\n",
       "                {&quot;bubblingMouseEvents&quot;: true, &quot;color&quot;: &quot;red&quot;, &quot;dashArray&quot;: null, &quot;dashOffset&quot;: null, &quot;fill&quot;: true, &quot;fillColor&quot;: &quot;blue&quot;, &quot;fillOpacity&quot;: 0.2, &quot;fillRule&quot;: &quot;evenodd&quot;, &quot;lineCap&quot;: &quot;round&quot;, &quot;lineJoin&quot;: &quot;round&quot;, &quot;opacity&quot;: 1.0, &quot;radius&quot;: 409999.99999999994, &quot;stroke&quot;: true, &quot;weight&quot;: 3}\n",
       "            ).addTo(map_458ec8e400112ec513386247fe175da8);\n",
       "        \n",
       "    \n",
       "            circle_30a7f9e7137ace44dc7bac6e1d3065d2.bindTooltip(\n",
       "                `&lt;div&gt;\n",
       "                     &lt;div style=&#x27;margin: 0; background-color: black; color: white;&#x27;&gt;&lt;h4 style=&#x27;text-align:center;font-weight: bold&#x27;&gt;China&lt;/h4&gt;&lt;hr style=&#x27;margin:10px;color: white;&#x27;&gt;&lt;ul style=&#x27;color: white;;list-style-type:circle;align-item:left;padding-left:20px;padding-right:20px&#x27;&gt;&lt;li&gt;Confirmed: 3089&lt;/li&gt;&lt;li&gt;Deaths:   3&lt;/li&gt;&lt;li&gt;Death Rate: 0.1&lt;/li&gt;&lt;/ul&gt;&lt;/div&gt;\n",
       "                 &lt;/div&gt;`,\n",
       "                {&quot;sticky&quot;: true}\n",
       "            );\n",
       "        \n",
       "    \n",
       "            var circle_c7c3f2500da9566b30e37427d1389d20 = L.circle(\n",
       "                [24.974, 101.487],\n",
       "                {&quot;bubblingMouseEvents&quot;: true, &quot;color&quot;: &quot;red&quot;, &quot;dashArray&quot;: null, &quot;dashOffset&quot;: null, &quot;fill&quot;: true, &quot;fillColor&quot;: &quot;blue&quot;, &quot;fillOpacity&quot;: 0.2, &quot;fillRule&quot;: &quot;evenodd&quot;, &quot;lineCap&quot;: &quot;round&quot;, &quot;lineJoin&quot;: &quot;round&quot;, &quot;opacity&quot;: 1.0, &quot;radius&quot;: 459999.99999999994, &quot;stroke&quot;: true, &quot;weight&quot;: 3}\n",
       "            ).addTo(map_458ec8e400112ec513386247fe175da8);\n",
       "        \n",
       "    \n",
       "            circle_c7c3f2500da9566b30e37427d1389d20.bindTooltip(\n",
       "                `&lt;div&gt;\n",
       "                     &lt;div style=&#x27;margin: 0; background-color: black; color: white;&#x27;&gt;&lt;h4 style=&#x27;text-align:center;font-weight: bold&#x27;&gt;China&lt;/h4&gt;&lt;hr style=&#x27;margin:10px;color: white;&#x27;&gt;&lt;ul style=&#x27;color: white;;list-style-type:circle;align-item:left;padding-left:20px;padding-right:20px&#x27;&gt;&lt;li&gt;Confirmed: 9743&lt;/li&gt;&lt;li&gt;Deaths:   4&lt;/li&gt;&lt;li&gt;Death Rate: 0.04&lt;/li&gt;&lt;/ul&gt;&lt;/div&gt;\n",
       "                 &lt;/div&gt;`,\n",
       "                {&quot;sticky&quot;: true}\n",
       "            );\n",
       "        \n",
       "    \n",
       "            var circle_8b1fb43180d4bc91dae21242ca7a324c = L.circle(\n",
       "                [29.1832, 120.0934],\n",
       "                {&quot;bubblingMouseEvents&quot;: true, &quot;color&quot;: &quot;red&quot;, &quot;dashArray&quot;: null, &quot;dashOffset&quot;: null, &quot;fill&quot;: true, &quot;fillColor&quot;: &quot;blue&quot;, &quot;fillOpacity&quot;: 0.2, &quot;fillRule&quot;: &quot;evenodd&quot;, &quot;lineCap&quot;: &quot;round&quot;, &quot;lineJoin&quot;: &quot;round&quot;, &quot;opacity&quot;: 1.0, &quot;radius&quot;: 459999.99999999994, &quot;stroke&quot;: true, &quot;weight&quot;: 3}\n",
       "            ).addTo(map_458ec8e400112ec513386247fe175da8);\n",
       "        \n",
       "    \n",
       "            circle_8b1fb43180d4bc91dae21242ca7a324c.bindTooltip(\n",
       "                `&lt;div&gt;\n",
       "                     &lt;div style=&#x27;margin: 0; background-color: black; color: white;&#x27;&gt;&lt;h4 style=&#x27;text-align:center;font-weight: bold&#x27;&gt;China&lt;/h4&gt;&lt;hr style=&#x27;margin:10px;color: white;&#x27;&gt;&lt;ul style=&#x27;color: white;;list-style-type:circle;align-item:left;padding-left:20px;padding-right:20px&#x27;&gt;&lt;li&gt;Confirmed: 11848&lt;/li&gt;&lt;li&gt;Deaths:   1&lt;/li&gt;&lt;li&gt;Death Rate: 0.01&lt;/li&gt;&lt;/ul&gt;&lt;/div&gt;\n",
       "                 &lt;/div&gt;`,\n",
       "                {&quot;sticky&quot;: true}\n",
       "            );\n",
       "        \n",
       "    \n",
       "            var circle_cd712a2bd82ff293ad8fd807962b5a05 = L.circle(\n",
       "                [4.5709, -74.2973],\n",
       "                {&quot;bubblingMouseEvents&quot;: true, &quot;color&quot;: &quot;red&quot;, &quot;dashArray&quot;: null, &quot;dashOffset&quot;: null, &quot;fill&quot;: true, &quot;fillColor&quot;: &quot;blue&quot;, &quot;fillOpacity&quot;: 0.2, &quot;fillRule&quot;: &quot;evenodd&quot;, &quot;lineCap&quot;: &quot;round&quot;, &quot;lineJoin&quot;: &quot;round&quot;, &quot;opacity&quot;: 1.0, &quot;radius&quot;: 760000.0, &quot;stroke&quot;: true, &quot;weight&quot;: 3}\n",
       "            ).addTo(map_458ec8e400112ec513386247fe175da8);\n",
       "        \n",
       "    \n",
       "            circle_cd712a2bd82ff293ad8fd807962b5a05.bindTooltip(\n",
       "                `&lt;div&gt;\n",
       "                     &lt;div style=&#x27;margin: 0; background-color: black; color: white;&#x27;&gt;&lt;h4 style=&#x27;text-align:center;font-weight: bold&#x27;&gt;Colombia&lt;/h4&gt;&lt;hr style=&#x27;margin:10px;color: white;&#x27;&gt;&lt;ul style=&#x27;color: white;;list-style-type:circle;align-item:left;padding-left:20px;padding-right:20px&#x27;&gt;&lt;li&gt;Confirmed: 6359093&lt;/li&gt;&lt;li&gt;Deaths:   142339&lt;/li&gt;&lt;li&gt;Death Rate: 2.24&lt;/li&gt;&lt;/ul&gt;&lt;/div&gt;\n",
       "                 &lt;/div&gt;`,\n",
       "                {&quot;sticky&quot;: true}\n",
       "            );\n",
       "        \n",
       "    \n",
       "            var circle_afa39ac4629576fe28dec08ec99b70a7 = L.circle(\n",
       "                [-11.6455, 43.3333],\n",
       "                {&quot;bubblingMouseEvents&quot;: true, &quot;color&quot;: &quot;red&quot;, &quot;dashArray&quot;: null, &quot;dashOffset&quot;: null, &quot;fill&quot;: true, &quot;fillColor&quot;: &quot;blue&quot;, &quot;fillOpacity&quot;: 0.2, &quot;fillRule&quot;: &quot;evenodd&quot;, &quot;lineCap&quot;: &quot;round&quot;, &quot;lineJoin&quot;: &quot;round&quot;, &quot;opacity&quot;: 1.0, &quot;radius&quot;: 459999.99999999994, &quot;stroke&quot;: true, &quot;weight&quot;: 3}\n",
       "            ).addTo(map_458ec8e400112ec513386247fe175da8);\n",
       "        \n",
       "    \n",
       "            circle_afa39ac4629576fe28dec08ec99b70a7.bindTooltip(\n",
       "                `&lt;div&gt;\n",
       "                     &lt;div style=&#x27;margin: 0; background-color: black; color: white;&#x27;&gt;&lt;h4 style=&#x27;text-align:center;font-weight: bold&#x27;&gt;Comoros&lt;/h4&gt;&lt;hr style=&#x27;margin:10px;color: white;&#x27;&gt;&lt;ul style=&#x27;color: white;;list-style-type:circle;align-item:left;padding-left:20px;padding-right:20px&#x27;&gt;&lt;li&gt;Confirmed: 9008&lt;/li&gt;&lt;li&gt;Deaths:   161&lt;/li&gt;&lt;li&gt;Death Rate: 1.79&lt;/li&gt;&lt;/ul&gt;&lt;/div&gt;\n",
       "                 &lt;/div&gt;`,\n",
       "                {&quot;sticky&quot;: true}\n",
       "            );\n",
       "        \n",
       "    \n",
       "            var circle_26d1e5b4b504b7b3345b6acaf6dc27c9 = L.circle(\n",
       "                [-0.228, 15.8277],\n",
       "                {&quot;bubblingMouseEvents&quot;: true, &quot;color&quot;: &quot;red&quot;, &quot;dashArray&quot;: null, &quot;dashOffset&quot;: null, &quot;fill&quot;: true, &quot;fillColor&quot;: &quot;blue&quot;, &quot;fillOpacity&quot;: 0.2, &quot;fillRule&quot;: &quot;evenodd&quot;, &quot;lineCap&quot;: &quot;round&quot;, &quot;lineJoin&quot;: &quot;round&quot;, &quot;opacity&quot;: 1.0, &quot;radius&quot;: 509999.99999999994, &quot;stroke&quot;: true, &quot;weight&quot;: 3}\n",
       "            ).addTo(map_458ec8e400112ec513386247fe175da8);\n",
       "        \n",
       "    \n",
       "            circle_26d1e5b4b504b7b3345b6acaf6dc27c9.bindTooltip(\n",
       "                `&lt;div&gt;\n",
       "                     &lt;div style=&#x27;margin: 0; background-color: black; color: white;&#x27;&gt;&lt;h4 style=&#x27;text-align:center;font-weight: bold&#x27;&gt;Congo (Brazzaville)&lt;/h4&gt;&lt;hr style=&#x27;margin:10px;color: white;&#x27;&gt;&lt;ul style=&#x27;color: white;;list-style-type:circle;align-item:left;padding-left:20px;padding-right:20px&#x27;&gt;&lt;li&gt;Confirmed: 25087&lt;/li&gt;&lt;li&gt;Deaths:   388&lt;/li&gt;&lt;li&gt;Death Rate: 1.55&lt;/li&gt;&lt;/ul&gt;&lt;/div&gt;\n",
       "                 &lt;/div&gt;`,\n",
       "                {&quot;sticky&quot;: true}\n",
       "            );\n",
       "        \n",
       "    \n",
       "            var circle_f59b1eb0ca8c1e51f54a42c524a4a0e4 = L.circle(\n",
       "                [-4.0383, 21.7587],\n",
       "                {&quot;bubblingMouseEvents&quot;: true, &quot;color&quot;: &quot;red&quot;, &quot;dashArray&quot;: null, &quot;dashOffset&quot;: null, &quot;fill&quot;: true, &quot;fillColor&quot;: &quot;blue&quot;, &quot;fillOpacity&quot;: 0.2, &quot;fillRule&quot;: &quot;evenodd&quot;, &quot;lineCap&quot;: &quot;round&quot;, &quot;lineJoin&quot;: &quot;round&quot;, &quot;opacity&quot;: 1.0, &quot;radius&quot;: 560000.0, &quot;stroke&quot;: true, &quot;weight&quot;: 3}\n",
       "            ).addTo(map_458ec8e400112ec513386247fe175da8);\n",
       "        \n",
       "    \n",
       "            circle_f59b1eb0ca8c1e51f54a42c524a4a0e4.bindTooltip(\n",
       "                `&lt;div&gt;\n",
       "                     &lt;div style=&#x27;margin: 0; background-color: black; color: white;&#x27;&gt;&lt;h4 style=&#x27;text-align:center;font-weight: bold&#x27;&gt;Congo (Kinshasa)&lt;/h4&gt;&lt;hr style=&#x27;margin:10px;color: white;&#x27;&gt;&lt;ul style=&#x27;color: white;;list-style-type:circle;align-item:left;padding-left:20px;padding-right:20px&#x27;&gt;&lt;li&gt;Confirmed: 95749&lt;/li&gt;&lt;li&gt;Deaths:   1464&lt;/li&gt;&lt;li&gt;Death Rate: 1.53&lt;/li&gt;&lt;/ul&gt;&lt;/div&gt;\n",
       "                 &lt;/div&gt;`,\n",
       "                {&quot;sticky&quot;: true}\n",
       "            );\n",
       "        \n",
       "    \n",
       "            var circle_af4da4c00606988cf5cd845bd4d99971 = L.circle(\n",
       "                [9.7489, -83.7534],\n",
       "                {&quot;bubblingMouseEvents&quot;: true, &quot;color&quot;: &quot;red&quot;, &quot;dashArray&quot;: null, &quot;dashOffset&quot;: null, &quot;fill&quot;: true, &quot;fillColor&quot;: &quot;blue&quot;, &quot;fillOpacity&quot;: 0.2, &quot;fillRule&quot;: &quot;evenodd&quot;, &quot;lineCap&quot;: &quot;round&quot;, &quot;lineJoin&quot;: &quot;round&quot;, &quot;opacity&quot;: 1.0, &quot;radius&quot;: 710000.0, &quot;stroke&quot;: true, &quot;weight&quot;: 3}\n",
       "            ).addTo(map_458ec8e400112ec513386247fe175da8);\n",
       "        \n",
       "    \n",
       "            circle_af4da4c00606988cf5cd845bd4d99971.bindTooltip(\n",
       "                `&lt;div&gt;\n",
       "                     &lt;div style=&#x27;margin: 0; background-color: black; color: white;&#x27;&gt;&lt;h4 style=&#x27;text-align:center;font-weight: bold&#x27;&gt;Costa Rica&lt;/h4&gt;&lt;hr style=&#x27;margin:10px;color: white;&#x27;&gt;&lt;ul style=&#x27;color: white;;list-style-type:circle;align-item:left;padding-left:20px;padding-right:20px&#x27;&gt;&lt;li&gt;Confirmed: 1209725&lt;/li&gt;&lt;li&gt;Deaths:   9245&lt;/li&gt;&lt;li&gt;Death Rate: 0.76&lt;/li&gt;&lt;/ul&gt;&lt;/div&gt;\n",
       "                 &lt;/div&gt;`,\n",
       "                {&quot;sticky&quot;: true}\n",
       "            );\n",
       "        \n",
       "    \n",
       "            var circle_e8ac0dbc7fac902e4705ae3ebe707579 = L.circle(\n",
       "                [7.54, -5.5471],\n",
       "                {&quot;bubblingMouseEvents&quot;: true, &quot;color&quot;: &quot;red&quot;, &quot;dashArray&quot;: null, &quot;dashOffset&quot;: null, &quot;fill&quot;: true, &quot;fillColor&quot;: &quot;blue&quot;, &quot;fillOpacity&quot;: 0.2, &quot;fillRule&quot;: &quot;evenodd&quot;, &quot;lineCap&quot;: &quot;round&quot;, &quot;lineJoin&quot;: &quot;round&quot;, &quot;opacity&quot;: 1.0, &quot;radius&quot;: 560000.0, &quot;stroke&quot;: true, &quot;weight&quot;: 3}\n",
       "            ).addTo(map_458ec8e400112ec513386247fe175da8);\n",
       "        \n",
       "    \n",
       "            circle_e8ac0dbc7fac902e4705ae3ebe707579.bindTooltip(\n",
       "                `&lt;div&gt;\n",
       "                     &lt;div style=&#x27;margin: 0; background-color: black; color: white;&#x27;&gt;&lt;h4 style=&#x27;text-align:center;font-weight: bold&#x27;&gt;Cote d&#x27;Ivoire&lt;/h4&gt;&lt;hr style=&#x27;margin:10px;color: white;&#x27;&gt;&lt;ul style=&#x27;color: white;;list-style-type:circle;align-item:left;padding-left:20px;padding-right:20px&#x27;&gt;&lt;li&gt;Confirmed: 88263&lt;/li&gt;&lt;li&gt;Deaths:   834&lt;/li&gt;&lt;li&gt;Death Rate: 0.94&lt;/li&gt;&lt;/ul&gt;&lt;/div&gt;\n",
       "                 &lt;/div&gt;`,\n",
       "                {&quot;sticky&quot;: true}\n",
       "            );\n",
       "        \n",
       "    \n",
       "            var circle_03cf0bc4996a025ee9df49c4746ad86c = L.circle(\n",
       "                [45.1, 15.2],\n",
       "                {&quot;bubblingMouseEvents&quot;: true, &quot;color&quot;: &quot;red&quot;, &quot;dashArray&quot;: null, &quot;dashOffset&quot;: null, &quot;fill&quot;: true, &quot;fillColor&quot;: &quot;blue&quot;, &quot;fillOpacity&quot;: 0.2, &quot;fillRule&quot;: &quot;evenodd&quot;, &quot;lineCap&quot;: &quot;round&quot;, &quot;lineJoin&quot;: &quot;round&quot;, &quot;opacity&quot;: 1.0, &quot;radius&quot;: 710000.0, &quot;stroke&quot;: true, &quot;weight&quot;: 3}\n",
       "            ).addTo(map_458ec8e400112ec513386247fe175da8);\n",
       "        \n",
       "    \n",
       "            circle_03cf0bc4996a025ee9df49c4746ad86c.bindTooltip(\n",
       "                `&lt;div&gt;\n",
       "                     &lt;div style=&#x27;margin: 0; background-color: black; color: white;&#x27;&gt;&lt;h4 style=&#x27;text-align:center;font-weight: bold&#x27;&gt;Croatia&lt;/h4&gt;&lt;hr style=&#x27;margin:10px;color: white;&#x27;&gt;&lt;ul style=&#x27;color: white;;list-style-type:circle;align-item:left;padding-left:20px;padding-right:20px&#x27;&gt;&lt;li&gt;Confirmed: 1269326&lt;/li&gt;&lt;li&gt;Deaths:   17987&lt;/li&gt;&lt;li&gt;Death Rate: 1.42&lt;/li&gt;&lt;/ul&gt;&lt;/div&gt;\n",
       "                 &lt;/div&gt;`,\n",
       "                {&quot;sticky&quot;: true}\n",
       "            );\n",
       "        \n",
       "    \n",
       "            var circle_f40a047306ea5afaecd9a52c7a40eee9 = L.circle(\n",
       "                [21.521757, -77.781167],\n",
       "                {&quot;bubblingMouseEvents&quot;: true, &quot;color&quot;: &quot;red&quot;, &quot;dashArray&quot;: null, &quot;dashOffset&quot;: null, &quot;fill&quot;: true, &quot;fillColor&quot;: &quot;blue&quot;, &quot;fillOpacity&quot;: 0.2, &quot;fillRule&quot;: &quot;evenodd&quot;, &quot;lineCap&quot;: &quot;round&quot;, &quot;lineJoin&quot;: &quot;round&quot;, &quot;opacity&quot;: 1.0, &quot;radius&quot;: 660000.0, &quot;stroke&quot;: true, &quot;weight&quot;: 3}\n",
       "            ).addTo(map_458ec8e400112ec513386247fe175da8);\n",
       "        \n",
       "    \n",
       "            circle_f40a047306ea5afaecd9a52c7a40eee9.bindTooltip(\n",
       "                `&lt;div&gt;\n",
       "                     &lt;div style=&#x27;margin: 0; background-color: black; color: white;&#x27;&gt;&lt;h4 style=&#x27;text-align:center;font-weight: bold&#x27;&gt;Cuba&lt;/h4&gt;&lt;hr style=&#x27;margin:10px;color: white;&#x27;&gt;&lt;ul style=&#x27;color: white;;list-style-type:circle;align-item:left;padding-left:20px;padding-right:20px&#x27;&gt;&lt;li&gt;Confirmed: 1112643&lt;/li&gt;&lt;li&gt;Deaths:   8530&lt;/li&gt;&lt;li&gt;Death Rate: 0.77&lt;/li&gt;&lt;/ul&gt;&lt;/div&gt;\n",
       "                 &lt;/div&gt;`,\n",
       "                {&quot;sticky&quot;: true}\n",
       "            );\n",
       "        \n",
       "    \n",
       "            var circle_aff285718feded2792a9fb1b7388a5a6 = L.circle(\n",
       "                [35.1264, 33.4299],\n",
       "                {&quot;bubblingMouseEvents&quot;: true, &quot;color&quot;: &quot;red&quot;, &quot;dashArray&quot;: null, &quot;dashOffset&quot;: null, &quot;fill&quot;: true, &quot;fillColor&quot;: &quot;blue&quot;, &quot;fillOpacity&quot;: 0.2, &quot;fillRule&quot;: &quot;evenodd&quot;, &quot;lineCap&quot;: &quot;round&quot;, &quot;lineJoin&quot;: &quot;round&quot;, &quot;opacity&quot;: 1.0, &quot;radius&quot;: 660000.0, &quot;stroke&quot;: true, &quot;weight&quot;: 3}\n",
       "            ).addTo(map_458ec8e400112ec513386247fe175da8);\n",
       "        \n",
       "    \n",
       "            circle_aff285718feded2792a9fb1b7388a5a6.bindTooltip(\n",
       "                `&lt;div&gt;\n",
       "                     &lt;div style=&#x27;margin: 0; background-color: black; color: white;&#x27;&gt;&lt;h4 style=&#x27;text-align:center;font-weight: bold&#x27;&gt;Cyprus&lt;/h4&gt;&lt;hr style=&#x27;margin:10px;color: white;&#x27;&gt;&lt;ul style=&#x27;color: white;;list-style-type:circle;align-item:left;padding-left:20px;padding-right:20px&#x27;&gt;&lt;li&gt;Confirmed: 650685&lt;/li&gt;&lt;li&gt;Deaths:   1330&lt;/li&gt;&lt;li&gt;Death Rate: 0.2&lt;/li&gt;&lt;/ul&gt;&lt;/div&gt;\n",
       "                 &lt;/div&gt;`,\n",
       "                {&quot;sticky&quot;: true}\n",
       "            );\n",
       "        \n",
       "    \n",
       "            var circle_d0fd53653ad0ca01fc1e8ce59c7f6b0a = L.circle(\n",
       "                [49.8175, 15.473],\n",
       "                {&quot;bubblingMouseEvents&quot;: true, &quot;color&quot;: &quot;red&quot;, &quot;dashArray&quot;: null, &quot;dashOffset&quot;: null, &quot;fill&quot;: true, &quot;fillColor&quot;: &quot;blue&quot;, &quot;fillOpacity&quot;: 0.2, &quot;fillRule&quot;: &quot;evenodd&quot;, &quot;lineCap&quot;: &quot;round&quot;, &quot;lineJoin&quot;: &quot;round&quot;, &quot;opacity&quot;: 1.0, &quot;radius&quot;: 760000.0, &quot;stroke&quot;: true, &quot;weight&quot;: 3}\n",
       "            ).addTo(map_458ec8e400112ec513386247fe175da8);\n",
       "        \n",
       "    \n",
       "            circle_d0fd53653ad0ca01fc1e8ce59c7f6b0a.bindTooltip(\n",
       "                `&lt;div&gt;\n",
       "                     &lt;div style=&#x27;margin: 0; background-color: black; color: white;&#x27;&gt;&lt;h4 style=&#x27;text-align:center;font-weight: bold&#x27;&gt;Czechia&lt;/h4&gt;&lt;hr style=&#x27;margin:10px;color: white;&#x27;&gt;&lt;ul style=&#x27;color: white;;list-style-type:circle;align-item:left;padding-left:20px;padding-right:20px&#x27;&gt;&lt;li&gt;Confirmed: 4618256&lt;/li&gt;&lt;li&gt;Deaths:   42491&lt;/li&gt;&lt;li&gt;Death Rate: 0.92&lt;/li&gt;&lt;/ul&gt;&lt;/div&gt;\n",
       "                 &lt;/div&gt;`,\n",
       "                {&quot;sticky&quot;: true}\n",
       "            );\n",
       "        \n",
       "    \n",
       "            var circle_0241fe2f6b7d83c1538d9ab13606d215 = L.circle(\n",
       "                [61.8926, -6.9118],\n",
       "                {&quot;bubblingMouseEvents&quot;: true, &quot;color&quot;: &quot;red&quot;, &quot;dashArray&quot;: null, &quot;dashOffset&quot;: null, &quot;fill&quot;: true, &quot;fillColor&quot;: &quot;blue&quot;, &quot;fillOpacity&quot;: 0.2, &quot;fillRule&quot;: &quot;evenodd&quot;, &quot;lineCap&quot;: &quot;round&quot;, &quot;lineJoin&quot;: &quot;round&quot;, &quot;opacity&quot;: 1.0, &quot;radius&quot;: 509999.99999999994, &quot;stroke&quot;: true, &quot;weight&quot;: 3}\n",
       "            ).addTo(map_458ec8e400112ec513386247fe175da8);\n",
       "        \n",
       "    \n",
       "            circle_0241fe2f6b7d83c1538d9ab13606d215.bindTooltip(\n",
       "                `&lt;div&gt;\n",
       "                     &lt;div style=&#x27;margin: 0; background-color: black; color: white;&#x27;&gt;&lt;h4 style=&#x27;text-align:center;font-weight: bold&#x27;&gt;Denmark&lt;/h4&gt;&lt;hr style=&#x27;margin:10px;color: white;&#x27;&gt;&lt;ul style=&#x27;color: white;;list-style-type:circle;align-item:left;padding-left:20px;padding-right:20px&#x27;&gt;&lt;li&gt;Confirmed: 34658&lt;/li&gt;&lt;li&gt;Deaths:   28&lt;/li&gt;&lt;li&gt;Death Rate: 0.08&lt;/li&gt;&lt;/ul&gt;&lt;/div&gt;\n",
       "                 &lt;/div&gt;`,\n",
       "                {&quot;sticky&quot;: true}\n",
       "            );\n",
       "        \n",
       "    \n",
       "            var circle_a109ab86a03abbf80ed8d443a05ed7f1 = L.circle(\n",
       "                [71.7069, -42.6043],\n",
       "                {&quot;bubblingMouseEvents&quot;: true, &quot;color&quot;: &quot;red&quot;, &quot;dashArray&quot;: null, &quot;dashOffset&quot;: null, &quot;fill&quot;: true, &quot;fillColor&quot;: &quot;blue&quot;, &quot;fillOpacity&quot;: 0.2, &quot;fillRule&quot;: &quot;evenodd&quot;, &quot;lineCap&quot;: &quot;round&quot;, &quot;lineJoin&quot;: &quot;round&quot;, &quot;opacity&quot;: 1.0, &quot;radius&quot;: 459999.99999999994, &quot;stroke&quot;: true, &quot;weight&quot;: 3}\n",
       "            ).addTo(map_458ec8e400112ec513386247fe175da8);\n",
       "        \n",
       "    \n",
       "            circle_a109ab86a03abbf80ed8d443a05ed7f1.bindTooltip(\n",
       "                `&lt;div&gt;\n",
       "                     &lt;div style=&#x27;margin: 0; background-color: black; color: white;&#x27;&gt;&lt;h4 style=&#x27;text-align:center;font-weight: bold&#x27;&gt;Denmark&lt;/h4&gt;&lt;hr style=&#x27;margin:10px;color: white;&#x27;&gt;&lt;ul style=&#x27;color: white;;list-style-type:circle;align-item:left;padding-left:20px;padding-right:20px&#x27;&gt;&lt;li&gt;Confirmed: 11971&lt;/li&gt;&lt;li&gt;Deaths:   21&lt;/li&gt;&lt;li&gt;Death Rate: 0.18&lt;/li&gt;&lt;/ul&gt;&lt;/div&gt;\n",
       "                 &lt;/div&gt;`,\n",
       "                {&quot;sticky&quot;: true}\n",
       "            );\n",
       "        \n",
       "    \n",
       "            var circle_0f3118de7c23b33e891ec7ed21cf7156 = L.circle(\n",
       "                [56.2639, 9.5018],\n",
       "                {&quot;bubblingMouseEvents&quot;: true, &quot;color&quot;: &quot;red&quot;, &quot;dashArray&quot;: null, &quot;dashOffset&quot;: null, &quot;fill&quot;: true, &quot;fillColor&quot;: &quot;blue&quot;, &quot;fillOpacity&quot;: 0.2, &quot;fillRule&quot;: &quot;evenodd&quot;, &quot;lineCap&quot;: &quot;round&quot;, &quot;lineJoin&quot;: &quot;round&quot;, &quot;opacity&quot;: 1.0, &quot;radius&quot;: 760000.0, &quot;stroke&quot;: true, &quot;weight&quot;: 3}\n",
       "            ).addTo(map_458ec8e400112ec513386247fe175da8);\n",
       "        \n",
       "    \n",
       "            circle_0f3118de7c23b33e891ec7ed21cf7156.bindTooltip(\n",
       "                `&lt;div&gt;\n",
       "                     &lt;div style=&#x27;margin: 0; background-color: black; color: white;&#x27;&gt;&lt;h4 style=&#x27;text-align:center;font-weight: bold&#x27;&gt;Denmark&lt;/h4&gt;&lt;hr style=&#x27;margin:10px;color: white;&#x27;&gt;&lt;ul style=&#x27;color: white;;list-style-type:circle;align-item:left;padding-left:20px;padding-right:20px&#x27;&gt;&lt;li&gt;Confirmed: 3404407&lt;/li&gt;&lt;li&gt;Deaths:   8296&lt;/li&gt;&lt;li&gt;Death Rate: 0.24&lt;/li&gt;&lt;/ul&gt;&lt;/div&gt;\n",
       "                 &lt;/div&gt;`,\n",
       "                {&quot;sticky&quot;: true}\n",
       "            );\n",
       "        \n",
       "    \n",
       "            var circle_42849ef2559c9d79506097582bbaecb7 = L.circle(\n",
       "                [0.0, 0.0],\n",
       "                {&quot;bubblingMouseEvents&quot;: true, &quot;color&quot;: &quot;red&quot;, &quot;dashArray&quot;: null, &quot;dashOffset&quot;: null, &quot;fill&quot;: true, &quot;fillColor&quot;: &quot;blue&quot;, &quot;fillOpacity&quot;: 0.2, &quot;fillRule&quot;: &quot;evenodd&quot;, &quot;lineCap&quot;: &quot;round&quot;, &quot;lineJoin&quot;: &quot;round&quot;, &quot;opacity&quot;: 1.0, &quot;radius&quot;: 310000.0, &quot;stroke&quot;: true, &quot;weight&quot;: 3}\n",
       "            ).addTo(map_458ec8e400112ec513386247fe175da8);\n",
       "        \n",
       "    \n",
       "            circle_42849ef2559c9d79506097582bbaecb7.bindTooltip(\n",
       "                `&lt;div&gt;\n",
       "                     &lt;div style=&#x27;margin: 0; background-color: black; color: white;&#x27;&gt;&lt;h4 style=&#x27;text-align:center;font-weight: bold&#x27;&gt;Diamond Princess&lt;/h4&gt;&lt;hr style=&#x27;margin:10px;color: white;&#x27;&gt;&lt;ul style=&#x27;color: white;;list-style-type:circle;align-item:left;padding-left:20px;padding-right:20px&#x27;&gt;&lt;li&gt;Confirmed: 712&lt;/li&gt;&lt;li&gt;Deaths:   13&lt;/li&gt;&lt;li&gt;Death Rate: 1.82&lt;/li&gt;&lt;/ul&gt;&lt;/div&gt;\n",
       "                 &lt;/div&gt;`,\n",
       "                {&quot;sticky&quot;: true}\n",
       "            );\n",
       "        \n",
       "    \n",
       "            var circle_478cf7db74a4701e165373de527c9db6 = L.circle(\n",
       "                [11.8251, 42.5903],\n",
       "                {&quot;bubblingMouseEvents&quot;: true, &quot;color&quot;: &quot;red&quot;, &quot;dashArray&quot;: null, &quot;dashOffset&quot;: null, &quot;fill&quot;: true, &quot;fillColor&quot;: &quot;blue&quot;, &quot;fillOpacity&quot;: 0.2, &quot;fillRule&quot;: &quot;evenodd&quot;, &quot;lineCap&quot;: &quot;round&quot;, &quot;lineJoin&quot;: &quot;round&quot;, &quot;opacity&quot;: 1.0, &quot;radius&quot;: 459999.99999999994, &quot;stroke&quot;: true, &quot;weight&quot;: 3}\n",
       "            ).addTo(map_458ec8e400112ec513386247fe175da8);\n",
       "        \n",
       "    \n",
       "            circle_478cf7db74a4701e165373de527c9db6.bindTooltip(\n",
       "                `&lt;div&gt;\n",
       "                     &lt;div style=&#x27;margin: 0; background-color: black; color: white;&#x27;&gt;&lt;h4 style=&#x27;text-align:center;font-weight: bold&#x27;&gt;Djibouti&lt;/h4&gt;&lt;hr style=&#x27;margin:10px;color: white;&#x27;&gt;&lt;ul style=&#x27;color: white;;list-style-type:circle;align-item:left;padding-left:20px;padding-right:20px&#x27;&gt;&lt;li&gt;Confirmed: 15690&lt;/li&gt;&lt;li&gt;Deaths:   189&lt;/li&gt;&lt;li&gt;Death Rate: 1.2&lt;/li&gt;&lt;/ul&gt;&lt;/div&gt;\n",
       "                 &lt;/div&gt;`,\n",
       "                {&quot;sticky&quot;: true}\n",
       "            );\n",
       "        \n",
       "    \n",
       "            var circle_19de46ec7fb9ee70573bd97d409dd3db = L.circle(\n",
       "                [15.415, -61.371],\n",
       "                {&quot;bubblingMouseEvents&quot;: true, &quot;color&quot;: &quot;red&quot;, &quot;dashArray&quot;: null, &quot;dashOffset&quot;: null, &quot;fill&quot;: true, &quot;fillColor&quot;: &quot;blue&quot;, &quot;fillOpacity&quot;: 0.2, &quot;fillRule&quot;: &quot;evenodd&quot;, &quot;lineCap&quot;: &quot;round&quot;, &quot;lineJoin&quot;: &quot;round&quot;, &quot;opacity&quot;: 1.0, &quot;radius&quot;: 459999.99999999994, &quot;stroke&quot;: true, &quot;weight&quot;: 3}\n",
       "            ).addTo(map_458ec8e400112ec513386247fe175da8);\n",
       "        \n",
       "    \n",
       "            circle_19de46ec7fb9ee70573bd97d409dd3db.bindTooltip(\n",
       "                `&lt;div&gt;\n",
       "                     &lt;div style=&#x27;margin: 0; background-color: black; color: white;&#x27;&gt;&lt;h4 style=&#x27;text-align:center;font-weight: bold&#x27;&gt;Dominica&lt;/h4&gt;&lt;hr style=&#x27;margin:10px;color: white;&#x27;&gt;&lt;ul style=&#x27;color: white;;list-style-type:circle;align-item:left;padding-left:20px;padding-right:20px&#x27;&gt;&lt;li&gt;Confirmed: 15760&lt;/li&gt;&lt;li&gt;Deaths:   74&lt;/li&gt;&lt;li&gt;Death Rate: 0.47&lt;/li&gt;&lt;/ul&gt;&lt;/div&gt;\n",
       "                 &lt;/div&gt;`,\n",
       "                {&quot;sticky&quot;: true}\n",
       "            );\n",
       "        \n",
       "    \n",
       "            var circle_6e924dbd0eb326f867126da3e8ad1a72 = L.circle(\n",
       "                [18.7357, -70.1627],\n",
       "                {&quot;bubblingMouseEvents&quot;: true, &quot;color&quot;: &quot;red&quot;, &quot;dashArray&quot;: null, &quot;dashOffset&quot;: null, &quot;fill&quot;: true, &quot;fillColor&quot;: &quot;blue&quot;, &quot;fillOpacity&quot;: 0.2, &quot;fillRule&quot;: &quot;evenodd&quot;, &quot;lineCap&quot;: &quot;round&quot;, &quot;lineJoin&quot;: &quot;round&quot;, &quot;opacity&quot;: 1.0, &quot;radius&quot;: 660000.0, &quot;stroke&quot;: true, &quot;weight&quot;: 3}\n",
       "            ).addTo(map_458ec8e400112ec513386247fe175da8);\n",
       "        \n",
       "    \n",
       "            circle_6e924dbd0eb326f867126da3e8ad1a72.bindTooltip(\n",
       "                `&lt;div&gt;\n",
       "                     &lt;div style=&#x27;margin: 0; background-color: black; color: white;&#x27;&gt;&lt;h4 style=&#x27;text-align:center;font-weight: bold&#x27;&gt;Dominican Republic&lt;/h4&gt;&lt;hr style=&#x27;margin:10px;color: white;&#x27;&gt;&lt;ul style=&#x27;color: white;;list-style-type:circle;align-item:left;padding-left:20px;padding-right:20px&#x27;&gt;&lt;li&gt;Confirmed: 660790&lt;/li&gt;&lt;li&gt;Deaths:   4384&lt;/li&gt;&lt;li&gt;Death Rate: 0.66&lt;/li&gt;&lt;/ul&gt;&lt;/div&gt;\n",
       "                 &lt;/div&gt;`,\n",
       "                {&quot;sticky&quot;: true}\n",
       "            );\n",
       "        \n",
       "    \n",
       "            var circle_fa9642d88c75ed727a50abac03171ea1 = L.circle(\n",
       "                [-1.8312, -78.1834],\n",
       "                {&quot;bubblingMouseEvents&quot;: true, &quot;color&quot;: &quot;red&quot;, &quot;dashArray&quot;: null, &quot;dashOffset&quot;: null, &quot;fill&quot;: true, &quot;fillColor&quot;: &quot;blue&quot;, &quot;fillOpacity&quot;: 0.2, &quot;fillRule&quot;: &quot;evenodd&quot;, &quot;lineCap&quot;: &quot;round&quot;, &quot;lineJoin&quot;: &quot;round&quot;, &quot;opacity&quot;: 1.0, &quot;radius&quot;: 660000.0, &quot;stroke&quot;: true, &quot;weight&quot;: 3}\n",
       "            ).addTo(map_458ec8e400112ec513386247fe175da8);\n",
       "        \n",
       "    \n",
       "            circle_fa9642d88c75ed727a50abac03171ea1.bindTooltip(\n",
       "                `&lt;div&gt;\n",
       "                     &lt;div style=&#x27;margin: 0; background-color: black; color: white;&#x27;&gt;&lt;h4 style=&#x27;text-align:center;font-weight: bold&#x27;&gt;Ecuador&lt;/h4&gt;&lt;hr style=&#x27;margin:10px;color: white;&#x27;&gt;&lt;ul style=&#x27;color: white;;list-style-type:circle;align-item:left;padding-left:20px;padding-right:20px&#x27;&gt;&lt;li&gt;Confirmed: 1057121&lt;/li&gt;&lt;li&gt;Deaths:   36014&lt;/li&gt;&lt;li&gt;Death Rate: 3.41&lt;/li&gt;&lt;/ul&gt;&lt;/div&gt;\n",
       "                 &lt;/div&gt;`,\n",
       "                {&quot;sticky&quot;: true}\n",
       "            );\n",
       "        \n",
       "    \n",
       "            var circle_94e825043ba828df9e2258165673970d = L.circle(\n",
       "                [26.820553, 30.802498],\n",
       "                {&quot;bubblingMouseEvents&quot;: true, &quot;color&quot;: &quot;red&quot;, &quot;dashArray&quot;: null, &quot;dashOffset&quot;: null, &quot;fill&quot;: true, &quot;fillColor&quot;: &quot;blue&quot;, &quot;fillOpacity&quot;: 0.2, &quot;fillRule&quot;: &quot;evenodd&quot;, &quot;lineCap&quot;: &quot;round&quot;, &quot;lineJoin&quot;: &quot;round&quot;, &quot;opacity&quot;: 1.0, &quot;radius&quot;: 660000.0, &quot;stroke&quot;: true, &quot;weight&quot;: 3}\n",
       "            ).addTo(map_458ec8e400112ec513386247fe175da8);\n",
       "        \n",
       "    \n",
       "            circle_94e825043ba828df9e2258165673970d.bindTooltip(\n",
       "                `&lt;div&gt;\n",
       "                     &lt;div style=&#x27;margin: 0; background-color: black; color: white;&#x27;&gt;&lt;h4 style=&#x27;text-align:center;font-weight: bold&#x27;&gt;Egypt&lt;/h4&gt;&lt;hr style=&#x27;margin:10px;color: white;&#x27;&gt;&lt;ul style=&#x27;color: white;;list-style-type:circle;align-item:left;padding-left:20px;padding-right:20px&#x27;&gt;&lt;li&gt;Confirmed: 515759&lt;/li&gt;&lt;li&gt;Deaths:   24812&lt;/li&gt;&lt;li&gt;Death Rate: 4.81&lt;/li&gt;&lt;/ul&gt;&lt;/div&gt;\n",
       "                 &lt;/div&gt;`,\n",
       "                {&quot;sticky&quot;: true}\n",
       "            );\n",
       "        \n",
       "    \n",
       "            var circle_ad646175d26fe469d6a9488dc3cd8521 = L.circle(\n",
       "                [13.7942, -88.8965],\n",
       "                {&quot;bubblingMouseEvents&quot;: true, &quot;color&quot;: &quot;red&quot;, &quot;dashArray&quot;: null, &quot;dashOffset&quot;: null, &quot;fill&quot;: true, &quot;fillColor&quot;: &quot;blue&quot;, &quot;fillOpacity&quot;: 0.2, &quot;fillRule&quot;: &quot;evenodd&quot;, &quot;lineCap&quot;: &quot;round&quot;, &quot;lineJoin&quot;: &quot;round&quot;, &quot;opacity&quot;: 1.0, &quot;radius&quot;: 610000.0, &quot;stroke&quot;: true, &quot;weight&quot;: 3}\n",
       "            ).addTo(map_458ec8e400112ec513386247fe175da8);\n",
       "        \n",
       "    \n",
       "            circle_ad646175d26fe469d6a9488dc3cd8521.bindTooltip(\n",
       "                `&lt;div&gt;\n",
       "                     &lt;div style=&#x27;margin: 0; background-color: black; color: white;&#x27;&gt;&lt;h4 style=&#x27;text-align:center;font-weight: bold&#x27;&gt;El Salvador&lt;/h4&gt;&lt;hr style=&#x27;margin:10px;color: white;&#x27;&gt;&lt;ul style=&#x27;color: white;;list-style-type:circle;align-item:left;padding-left:20px;padding-right:20px&#x27;&gt;&lt;li&gt;Confirmed: 201785&lt;/li&gt;&lt;li&gt;Deaths:   4230&lt;/li&gt;&lt;li&gt;Death Rate: 2.1&lt;/li&gt;&lt;/ul&gt;&lt;/div&gt;\n",
       "                 &lt;/div&gt;`,\n",
       "                {&quot;sticky&quot;: true}\n",
       "            );\n",
       "        \n",
       "    \n",
       "            var circle_09d854184740f1eaa5a04bc754c7939b = L.circle(\n",
       "                [1.6508, 10.2679],\n",
       "                {&quot;bubblingMouseEvents&quot;: true, &quot;color&quot;: &quot;red&quot;, &quot;dashArray&quot;: null, &quot;dashOffset&quot;: null, &quot;fill&quot;: true, &quot;fillColor&quot;: &quot;blue&quot;, &quot;fillOpacity&quot;: 0.2, &quot;fillRule&quot;: &quot;evenodd&quot;, &quot;lineCap&quot;: &quot;round&quot;, &quot;lineJoin&quot;: &quot;round&quot;, &quot;opacity&quot;: 1.0, &quot;radius&quot;: 459999.99999999994, &quot;stroke&quot;: true, &quot;weight&quot;: 3}\n",
       "            ).addTo(map_458ec8e400112ec513386247fe175da8);\n",
       "        \n",
       "    \n",
       "            circle_09d854184740f1eaa5a04bc754c7939b.bindTooltip(\n",
       "                `&lt;div&gt;\n",
       "                     &lt;div style=&#x27;margin: 0; background-color: black; color: white;&#x27;&gt;&lt;h4 style=&#x27;text-align:center;font-weight: bold&#x27;&gt;Equatorial Guinea&lt;/h4&gt;&lt;hr style=&#x27;margin:10px;color: white;&#x27;&gt;&lt;ul style=&#x27;color: white;;list-style-type:circle;align-item:left;padding-left:20px;padding-right:20px&#x27;&gt;&lt;li&gt;Confirmed: 17229&lt;/li&gt;&lt;li&gt;Deaths:   183&lt;/li&gt;&lt;li&gt;Death Rate: 1.06&lt;/li&gt;&lt;/ul&gt;&lt;/div&gt;\n",
       "                 &lt;/div&gt;`,\n",
       "                {&quot;sticky&quot;: true}\n",
       "            );\n",
       "        \n",
       "    \n",
       "            var circle_c018e4633d076f3139a1d543b34293e3 = L.circle(\n",
       "                [15.1794, 39.7823],\n",
       "                {&quot;bubblingMouseEvents&quot;: true, &quot;color&quot;: &quot;red&quot;, &quot;dashArray&quot;: null, &quot;dashOffset&quot;: null, &quot;fill&quot;: true, &quot;fillColor&quot;: &quot;blue&quot;, &quot;fillOpacity&quot;: 0.2, &quot;fillRule&quot;: &quot;evenodd&quot;, &quot;lineCap&quot;: &quot;round&quot;, &quot;lineJoin&quot;: &quot;round&quot;, &quot;opacity&quot;: 1.0, &quot;radius&quot;: 459999.99999999994, &quot;stroke&quot;: true, &quot;weight&quot;: 3}\n",
       "            ).addTo(map_458ec8e400112ec513386247fe175da8);\n",
       "        \n",
       "    \n",
       "            circle_c018e4633d076f3139a1d543b34293e3.bindTooltip(\n",
       "                `&lt;div&gt;\n",
       "                     &lt;div style=&#x27;margin: 0; background-color: black; color: white;&#x27;&gt;&lt;h4 style=&#x27;text-align:center;font-weight: bold&#x27;&gt;Eritrea&lt;/h4&gt;&lt;hr style=&#x27;margin:10px;color: white;&#x27;&gt;&lt;ul style=&#x27;color: white;;list-style-type:circle;align-item:left;padding-left:20px;padding-right:20px&#x27;&gt;&lt;li&gt;Confirmed: 10189&lt;/li&gt;&lt;li&gt;Deaths:   103&lt;/li&gt;&lt;li&gt;Death Rate: 1.01&lt;/li&gt;&lt;/ul&gt;&lt;/div&gt;\n",
       "                 &lt;/div&gt;`,\n",
       "                {&quot;sticky&quot;: true}\n",
       "            );\n",
       "        \n",
       "    \n",
       "            var circle_375b286c4707567a5753fa4209d425d0 = L.circle(\n",
       "                [58.5953, 25.0136],\n",
       "                {&quot;bubblingMouseEvents&quot;: true, &quot;color&quot;: &quot;red&quot;, &quot;dashArray&quot;: null, &quot;dashOffset&quot;: null, &quot;fill&quot;: true, &quot;fillColor&quot;: &quot;blue&quot;, &quot;fillOpacity&quot;: 0.2, &quot;fillRule&quot;: &quot;evenodd&quot;, &quot;lineCap&quot;: &quot;round&quot;, &quot;lineJoin&quot;: &quot;round&quot;, &quot;opacity&quot;: 1.0, &quot;radius&quot;: 660000.0, &quot;stroke&quot;: true, &quot;weight&quot;: 3}\n",
       "            ).addTo(map_458ec8e400112ec513386247fe175da8);\n",
       "        \n",
       "    \n",
       "            circle_375b286c4707567a5753fa4209d425d0.bindTooltip(\n",
       "                `&lt;div&gt;\n",
       "                     &lt;div style=&#x27;margin: 0; background-color: black; color: white;&#x27;&gt;&lt;h4 style=&#x27;text-align:center;font-weight: bold&#x27;&gt;Estonia&lt;/h4&gt;&lt;hr style=&#x27;margin:10px;color: white;&#x27;&gt;&lt;ul style=&#x27;color: white;;list-style-type:circle;align-item:left;padding-left:20px;padding-right:20px&#x27;&gt;&lt;li&gt;Confirmed: 615433&lt;/li&gt;&lt;li&gt;Deaths:   2946&lt;/li&gt;&lt;li&gt;Death Rate: 0.48&lt;/li&gt;&lt;/ul&gt;&lt;/div&gt;\n",
       "                 &lt;/div&gt;`,\n",
       "                {&quot;sticky&quot;: true}\n",
       "            );\n",
       "        \n",
       "    \n",
       "            var circle_f9b2d51433c5179255b8392eac30ff09 = L.circle(\n",
       "                [-26.5225, 31.4659],\n",
       "                {&quot;bubblingMouseEvents&quot;: true, &quot;color&quot;: &quot;red&quot;, &quot;dashArray&quot;: null, &quot;dashOffset&quot;: null, &quot;fill&quot;: true, &quot;fillColor&quot;: &quot;blue&quot;, &quot;fillOpacity&quot;: 0.2, &quot;fillRule&quot;: &quot;evenodd&quot;, &quot;lineCap&quot;: &quot;round&quot;, &quot;lineJoin&quot;: &quot;round&quot;, &quot;opacity&quot;: 1.0, &quot;radius&quot;: 560000.0, &quot;stroke&quot;: true, &quot;weight&quot;: 3}\n",
       "            ).addTo(map_458ec8e400112ec513386247fe175da8);\n",
       "        \n",
       "    \n",
       "            circle_f9b2d51433c5179255b8392eac30ff09.bindTooltip(\n",
       "                `&lt;div&gt;\n",
       "                     &lt;div style=&#x27;margin: 0; background-color: black; color: white;&#x27;&gt;&lt;h4 style=&#x27;text-align:center;font-weight: bold&#x27;&gt;Eswatini&lt;/h4&gt;&lt;hr style=&#x27;margin:10px;color: white;&#x27;&gt;&lt;ul style=&#x27;color: white;;list-style-type:circle;align-item:left;padding-left:20px;padding-right:20px&#x27;&gt;&lt;li&gt;Confirmed: 74267&lt;/li&gt;&lt;li&gt;Deaths:   1425&lt;/li&gt;&lt;li&gt;Death Rate: 1.92&lt;/li&gt;&lt;/ul&gt;&lt;/div&gt;\n",
       "                 &lt;/div&gt;`,\n",
       "                {&quot;sticky&quot;: true}\n",
       "            );\n",
       "        \n",
       "    \n",
       "            var circle_df94fdbb3763b0993fb14746b4810592 = L.circle(\n",
       "                [9.145, 40.4897],\n",
       "                {&quot;bubblingMouseEvents&quot;: true, &quot;color&quot;: &quot;red&quot;, &quot;dashArray&quot;: null, &quot;dashOffset&quot;: null, &quot;fill&quot;: true, &quot;fillColor&quot;: &quot;blue&quot;, &quot;fillOpacity&quot;: 0.2, &quot;fillRule&quot;: &quot;evenodd&quot;, &quot;lineCap&quot;: &quot;round&quot;, &quot;lineJoin&quot;: &quot;round&quot;, &quot;opacity&quot;: 1.0, &quot;radius&quot;: 660000.0, &quot;stroke&quot;: true, &quot;weight&quot;: 3}\n",
       "            ).addTo(map_458ec8e400112ec513386247fe175da8);\n",
       "        \n",
       "    \n",
       "            circle_df94fdbb3763b0993fb14746b4810592.bindTooltip(\n",
       "                `&lt;div&gt;\n",
       "                     &lt;div style=&#x27;margin: 0; background-color: black; color: white;&#x27;&gt;&lt;h4 style=&#x27;text-align:center;font-weight: bold&#x27;&gt;Ethiopia&lt;/h4&gt;&lt;hr style=&#x27;margin:10px;color: white;&#x27;&gt;&lt;ul style=&#x27;color: white;;list-style-type:circle;align-item:left;padding-left:20px;padding-right:20px&#x27;&gt;&lt;li&gt;Confirmed: 500116&lt;/li&gt;&lt;li&gt;Deaths:   7572&lt;/li&gt;&lt;li&gt;Death Rate: 1.51&lt;/li&gt;&lt;/ul&gt;&lt;/div&gt;\n",
       "                 &lt;/div&gt;`,\n",
       "                {&quot;sticky&quot;: true}\n",
       "            );\n",
       "        \n",
       "    \n",
       "            var circle_87ee08a0ec580238e88e841c8e4e7e50 = L.circle(\n",
       "                [-17.7134, 178.065],\n",
       "                {&quot;bubblingMouseEvents&quot;: true, &quot;color&quot;: &quot;red&quot;, &quot;dashArray&quot;: null, &quot;dashOffset&quot;: null, &quot;fill&quot;: true, &quot;fillColor&quot;: &quot;blue&quot;, &quot;fillOpacity&quot;: 0.2, &quot;fillRule&quot;: &quot;evenodd&quot;, &quot;lineCap&quot;: &quot;round&quot;, &quot;lineJoin&quot;: &quot;round&quot;, &quot;opacity&quot;: 1.0, &quot;radius&quot;: 560000.0, &quot;stroke&quot;: true, &quot;weight&quot;: 3}\n",
       "            ).addTo(map_458ec8e400112ec513386247fe175da8);\n",
       "        \n",
       "    \n",
       "            circle_87ee08a0ec580238e88e841c8e4e7e50.bindTooltip(\n",
       "                `&lt;div&gt;\n",
       "                     &lt;div style=&#x27;margin: 0; background-color: black; color: white;&#x27;&gt;&lt;h4 style=&#x27;text-align:center;font-weight: bold&#x27;&gt;Fiji&lt;/h4&gt;&lt;hr style=&#x27;margin:10px;color: white;&#x27;&gt;&lt;ul style=&#x27;color: white;;list-style-type:circle;align-item:left;padding-left:20px;padding-right:20px&#x27;&gt;&lt;li&gt;Confirmed: 68898&lt;/li&gt;&lt;li&gt;Deaths:   883&lt;/li&gt;&lt;li&gt;Death Rate: 1.28&lt;/li&gt;&lt;/ul&gt;&lt;/div&gt;\n",
       "                 &lt;/div&gt;`,\n",
       "                {&quot;sticky&quot;: true}\n",
       "            );\n",
       "        \n",
       "    \n",
       "            var circle_ca719e8ef1af0c564f8929d1ac167ea9 = L.circle(\n",
       "                [61.92411, 25.748151],\n",
       "                {&quot;bubblingMouseEvents&quot;: true, &quot;color&quot;: &quot;red&quot;, &quot;dashArray&quot;: null, &quot;dashOffset&quot;: null, &quot;fill&quot;: true, &quot;fillColor&quot;: &quot;blue&quot;, &quot;fillOpacity&quot;: 0.2, &quot;fillRule&quot;: &quot;evenodd&quot;, &quot;lineCap&quot;: &quot;round&quot;, &quot;lineJoin&quot;: &quot;round&quot;, &quot;opacity&quot;: 1.0, &quot;radius&quot;: 710000.0, &quot;stroke&quot;: true, &quot;weight&quot;: 3}\n",
       "            ).addTo(map_458ec8e400112ec513386247fe175da8);\n",
       "        \n",
       "    \n",
       "            circle_ca719e8ef1af0c564f8929d1ac167ea9.bindTooltip(\n",
       "                `&lt;div&gt;\n",
       "                     &lt;div style=&#x27;margin: 0; background-color: black; color: white;&#x27;&gt;&lt;h4 style=&#x27;text-align:center;font-weight: bold&#x27;&gt;Finland&lt;/h4&gt;&lt;hr style=&#x27;margin:10px;color: white;&#x27;&gt;&lt;ul style=&#x27;color: white;;list-style-type:circle;align-item:left;padding-left:20px;padding-right:20px&#x27;&gt;&lt;li&gt;Confirmed: 1463644&lt;/li&gt;&lt;li&gt;Deaths:   8967&lt;/li&gt;&lt;li&gt;Death Rate: 0.61&lt;/li&gt;&lt;/ul&gt;&lt;/div&gt;\n",
       "                 &lt;/div&gt;`,\n",
       "                {&quot;sticky&quot;: true}\n",
       "            );\n",
       "        \n",
       "    \n",
       "            var circle_3a6a2b6cd8d83951656b7d4ff22cc0cb = L.circle(\n",
       "                [3.9339, -53.1258],\n",
       "                {&quot;bubblingMouseEvents&quot;: true, &quot;color&quot;: &quot;red&quot;, &quot;dashArray&quot;: null, &quot;dashOffset&quot;: null, &quot;fill&quot;: true, &quot;fillColor&quot;: &quot;blue&quot;, &quot;fillOpacity&quot;: 0.2, &quot;fillRule&quot;: &quot;evenodd&quot;, &quot;lineCap&quot;: &quot;round&quot;, &quot;lineJoin&quot;: &quot;round&quot;, &quot;opacity&quot;: 1.0, &quot;radius&quot;: 560000.0, &quot;stroke&quot;: true, &quot;weight&quot;: 3}\n",
       "            ).addTo(map_458ec8e400112ec513386247fe175da8);\n",
       "        \n",
       "    \n",
       "            circle_3a6a2b6cd8d83951656b7d4ff22cc0cb.bindTooltip(\n",
       "                `&lt;div&gt;\n",
       "                     &lt;div style=&#x27;margin: 0; background-color: black; color: white;&#x27;&gt;&lt;h4 style=&#x27;text-align:center;font-weight: bold&#x27;&gt;France&lt;/h4&gt;&lt;hr style=&#x27;margin:10px;color: white;&#x27;&gt;&lt;ul style=&#x27;color: white;;list-style-type:circle;align-item:left;padding-left:20px;padding-right:20px&#x27;&gt;&lt;li&gt;Confirmed: 98041&lt;/li&gt;&lt;li&gt;Deaths:   413&lt;/li&gt;&lt;li&gt;Death Rate: 0.42&lt;/li&gt;&lt;/ul&gt;&lt;/div&gt;\n",
       "                 &lt;/div&gt;`,\n",
       "                {&quot;sticky&quot;: true}\n",
       "            );\n",
       "        \n",
       "    \n",
       "            var circle_b9622d7d655b7d33bd0c6740a8f8e918 = L.circle(\n",
       "                [-17.6797, 149.4068],\n",
       "                {&quot;bubblingMouseEvents&quot;: true, &quot;color&quot;: &quot;red&quot;, &quot;dashArray&quot;: null, &quot;dashOffset&quot;: null, &quot;fill&quot;: true, &quot;fillColor&quot;: &quot;blue&quot;, &quot;fillOpacity&quot;: 0.2, &quot;fillRule&quot;: &quot;evenodd&quot;, &quot;lineCap&quot;: &quot;round&quot;, &quot;lineJoin&quot;: &quot;round&quot;, &quot;opacity&quot;: 1.0, &quot;radius&quot;: 560000.0, &quot;stroke&quot;: true, &quot;weight&quot;: 3}\n",
       "            ).addTo(map_458ec8e400112ec513386247fe175da8);\n",
       "        \n",
       "    \n",
       "            circle_b9622d7d655b7d33bd0c6740a8f8e918.bindTooltip(\n",
       "                `&lt;div&gt;\n",
       "                     &lt;div style=&#x27;margin: 0; background-color: black; color: white;&#x27;&gt;&lt;h4 style=&#x27;text-align:center;font-weight: bold&#x27;&gt;France&lt;/h4&gt;&lt;hr style=&#x27;margin:10px;color: white;&#x27;&gt;&lt;ul style=&#x27;color: white;;list-style-type:circle;align-item:left;padding-left:20px;padding-right:20px&#x27;&gt;&lt;li&gt;Confirmed: 78055&lt;/li&gt;&lt;li&gt;Deaths:   649&lt;/li&gt;&lt;li&gt;Death Rate: 0.83&lt;/li&gt;&lt;/ul&gt;&lt;/div&gt;\n",
       "                 &lt;/div&gt;`,\n",
       "                {&quot;sticky&quot;: true}\n",
       "            );\n",
       "        \n",
       "    \n",
       "            var circle_ad5c5647f0affe3d1a5828937d5a5e41 = L.circle(\n",
       "                [16.265, -61.551],\n",
       "                {&quot;bubblingMouseEvents&quot;: true, &quot;color&quot;: &quot;red&quot;, &quot;dashArray&quot;: null, &quot;dashOffset&quot;: null, &quot;fill&quot;: true, &quot;fillColor&quot;: &quot;blue&quot;, &quot;fillOpacity&quot;: 0.2, &quot;fillRule&quot;: &quot;evenodd&quot;, &quot;lineCap&quot;: &quot;round&quot;, &quot;lineJoin&quot;: &quot;round&quot;, &quot;opacity&quot;: 1.0, &quot;radius&quot;: 610000.0, &quot;stroke&quot;: true, &quot;weight&quot;: 3}\n",
       "            ).addTo(map_458ec8e400112ec513386247fe175da8);\n",
       "        \n",
       "    \n",
       "            circle_ad5c5647f0affe3d1a5828937d5a5e41.bindTooltip(\n",
       "                `&lt;div&gt;\n",
       "                     &lt;div style=&#x27;margin: 0; background-color: black; color: white;&#x27;&gt;&lt;h4 style=&#x27;text-align:center;font-weight: bold&#x27;&gt;France&lt;/h4&gt;&lt;hr style=&#x27;margin:10px;color: white;&#x27;&gt;&lt;ul style=&#x27;color: white;;list-style-type:circle;align-item:left;padding-left:20px;padding-right:20px&#x27;&gt;&lt;li&gt;Confirmed: 201886&lt;/li&gt;&lt;li&gt;Deaths:   1010&lt;/li&gt;&lt;li&gt;Death Rate: 0.5&lt;/li&gt;&lt;/ul&gt;&lt;/div&gt;\n",
       "                 &lt;/div&gt;`,\n",
       "                {&quot;sticky&quot;: true}\n",
       "            );\n",
       "        \n",
       "    \n",
       "            var circle_64481a526030eb32892edd5a4ed7f7dc = L.circle(\n",
       "                [14.6415, -61.0242],\n",
       "                {&quot;bubblingMouseEvents&quot;: true, &quot;color&quot;: &quot;red&quot;, &quot;dashArray&quot;: null, &quot;dashOffset&quot;: null, &quot;fill&quot;: true, &quot;fillColor&quot;: &quot;blue&quot;, &quot;fillOpacity&quot;: 0.2, &quot;fillRule&quot;: &quot;evenodd&quot;, &quot;lineCap&quot;: &quot;round&quot;, &quot;lineJoin&quot;: &quot;round&quot;, &quot;opacity&quot;: 1.0, &quot;radius&quot;: 610000.0, &quot;stroke&quot;: true, &quot;weight&quot;: 3}\n",
       "            ).addTo(map_458ec8e400112ec513386247fe175da8);\n",
       "        \n",
       "    \n",
       "            circle_64481a526030eb32892edd5a4ed7f7dc.bindTooltip(\n",
       "                `&lt;div&gt;\n",
       "                     &lt;div style=&#x27;margin: 0; background-color: black; color: white;&#x27;&gt;&lt;h4 style=&#x27;text-align:center;font-weight: bold&#x27;&gt;France&lt;/h4&gt;&lt;hr style=&#x27;margin:10px;color: white;&#x27;&gt;&lt;ul style=&#x27;color: white;;list-style-type:circle;align-item:left;padding-left:20px;padding-right:20px&#x27;&gt;&lt;li&gt;Confirmed: 229020&lt;/li&gt;&lt;li&gt;Deaths:   1092&lt;/li&gt;&lt;li&gt;Death Rate: 0.48&lt;/li&gt;&lt;/ul&gt;&lt;/div&gt;\n",
       "                 &lt;/div&gt;`,\n",
       "                {&quot;sticky&quot;: true}\n",
       "            );\n",
       "        \n",
       "    \n",
       "            var circle_4faa94c424de7fa6b768317078eecf86 = L.circle(\n",
       "                [-12.8275, 45.166244],\n",
       "                {&quot;bubblingMouseEvents&quot;: true, &quot;color&quot;: &quot;red&quot;, &quot;dashArray&quot;: null, &quot;dashOffset&quot;: null, &quot;fill&quot;: true, &quot;fillColor&quot;: &quot;blue&quot;, &quot;fillOpacity&quot;: 0.2, &quot;fillRule&quot;: &quot;evenodd&quot;, &quot;lineCap&quot;: &quot;round&quot;, &quot;lineJoin&quot;: &quot;round&quot;, &quot;opacity&quot;: 1.0, &quot;radius&quot;: 509999.99999999994, &quot;stroke&quot;: true, &quot;weight&quot;: 3}\n",
       "            ).addTo(map_458ec8e400112ec513386247fe175da8);\n",
       "        \n",
       "    \n",
       "            circle_4faa94c424de7fa6b768317078eecf86.bindTooltip(\n",
       "                `&lt;div&gt;\n",
       "                     &lt;div style=&#x27;margin: 0; background-color: black; color: white;&#x27;&gt;&lt;h4 style=&#x27;text-align:center;font-weight: bold&#x27;&gt;France&lt;/h4&gt;&lt;hr style=&#x27;margin:10px;color: white;&#x27;&gt;&lt;ul style=&#x27;color: white;;list-style-type:circle;align-item:left;padding-left:20px;padding-right:20px&#x27;&gt;&lt;li&gt;Confirmed: 42004&lt;/li&gt;&lt;li&gt;Deaths:   187&lt;/li&gt;&lt;li&gt;Death Rate: 0.45&lt;/li&gt;&lt;/ul&gt;&lt;/div&gt;\n",
       "                 &lt;/div&gt;`,\n",
       "                {&quot;sticky&quot;: true}\n",
       "            );\n",
       "        \n",
       "    \n",
       "            var circle_c9de3826da97d6c3fc559cb45339062b = L.circle(\n",
       "                [-20.904305, 165.618042],\n",
       "                {&quot;bubblingMouseEvents&quot;: true, &quot;color&quot;: &quot;red&quot;, &quot;dashArray&quot;: null, &quot;dashOffset&quot;: null, &quot;fill&quot;: true, &quot;fillColor&quot;: &quot;blue&quot;, &quot;fillOpacity&quot;: 0.2, &quot;fillRule&quot;: &quot;evenodd&quot;, &quot;lineCap&quot;: &quot;round&quot;, &quot;lineJoin&quot;: &quot;round&quot;, &quot;opacity&quot;: 1.0, &quot;radius&quot;: 560000.0, &quot;stroke&quot;: true, &quot;weight&quot;: 3}\n",
       "            ).addTo(map_458ec8e400112ec513386247fe175da8);\n",
       "        \n",
       "    \n",
       "            circle_c9de3826da97d6c3fc559cb45339062b.bindTooltip(\n",
       "                `&lt;div&gt;\n",
       "                     &lt;div style=&#x27;margin: 0; background-color: black; color: white;&#x27;&gt;&lt;h4 style=&#x27;text-align:center;font-weight: bold&#x27;&gt;France&lt;/h4&gt;&lt;hr style=&#x27;margin:10px;color: white;&#x27;&gt;&lt;ul style=&#x27;color: white;;list-style-type:circle;align-item:left;padding-left:20px;padding-right:20px&#x27;&gt;&lt;li&gt;Confirmed: 80017&lt;/li&gt;&lt;li&gt;Deaths:   314&lt;/li&gt;&lt;li&gt;Death Rate: 0.39&lt;/li&gt;&lt;/ul&gt;&lt;/div&gt;\n",
       "                 &lt;/div&gt;`,\n",
       "                {&quot;sticky&quot;: true}\n",
       "            );\n",
       "        \n",
       "    \n",
       "            var circle_4f5a1f331c7a7c0074902f5d8ebe9832 = L.circle(\n",
       "                [-21.1151, 55.5364],\n",
       "                {&quot;bubblingMouseEvents&quot;: true, &quot;color&quot;: &quot;red&quot;, &quot;dashArray&quot;: null, &quot;dashOffset&quot;: null, &quot;fill&quot;: true, &quot;fillColor&quot;: &quot;blue&quot;, &quot;fillOpacity&quot;: 0.2, &quot;fillRule&quot;: &quot;evenodd&quot;, &quot;lineCap&quot;: &quot;round&quot;, &quot;lineJoin&quot;: &quot;round&quot;, &quot;opacity&quot;: 1.0, &quot;radius&quot;: 660000.0, &quot;stroke&quot;: true, &quot;weight&quot;: 3}\n",
       "            ).addTo(map_458ec8e400112ec513386247fe175da8);\n",
       "        \n",
       "    \n",
       "            circle_4f5a1f331c7a7c0074902f5d8ebe9832.bindTooltip(\n",
       "                `&lt;div&gt;\n",
       "                     &lt;div style=&#x27;margin: 0; background-color: black; color: white;&#x27;&gt;&lt;h4 style=&#x27;text-align:center;font-weight: bold&#x27;&gt;France&lt;/h4&gt;&lt;hr style=&#x27;margin:10px;color: white;&#x27;&gt;&lt;ul style=&#x27;color: white;;list-style-type:circle;align-item:left;padding-left:20px;padding-right:20px&#x27;&gt;&lt;li&gt;Confirmed: 494595&lt;/li&gt;&lt;li&gt;Deaths:   921&lt;/li&gt;&lt;li&gt;Death Rate: 0.19&lt;/li&gt;&lt;/ul&gt;&lt;/div&gt;\n",
       "                 &lt;/div&gt;`,\n",
       "                {&quot;sticky&quot;: true}\n",
       "            );\n",
       "        \n",
       "    \n",
       "            var circle_1649ef03cc3d6df2e5e33935ad7fad22 = L.circle(\n",
       "                [17.9, -62.8333],\n",
       "                {&quot;bubblingMouseEvents&quot;: true, &quot;color&quot;: &quot;red&quot;, &quot;dashArray&quot;: null, &quot;dashOffset&quot;: null, &quot;fill&quot;: true, &quot;fillColor&quot;: &quot;blue&quot;, &quot;fillOpacity&quot;: 0.2, &quot;fillRule&quot;: &quot;evenodd&quot;, &quot;lineCap&quot;: &quot;round&quot;, &quot;lineJoin&quot;: &quot;round&quot;, &quot;opacity&quot;: 1.0, &quot;radius&quot;: 409999.99999999994, &quot;stroke&quot;: true, &quot;weight&quot;: 3}\n",
       "            ).addTo(map_458ec8e400112ec513386247fe175da8);\n",
       "        \n",
       "    \n",
       "            circle_1649ef03cc3d6df2e5e33935ad7fad22.bindTooltip(\n",
       "                `&lt;div&gt;\n",
       "                     &lt;div style=&#x27;margin: 0; background-color: black; color: white;&#x27;&gt;&lt;h4 style=&#x27;text-align:center;font-weight: bold&#x27;&gt;France&lt;/h4&gt;&lt;hr style=&#x27;margin:10px;color: white;&#x27;&gt;&lt;ul style=&#x27;color: white;;list-style-type:circle;align-item:left;padding-left:20px;padding-right:20px&#x27;&gt;&lt;li&gt;Confirmed: 5441&lt;/li&gt;&lt;li&gt;Deaths:   6&lt;/li&gt;&lt;li&gt;Death Rate: 0.11&lt;/li&gt;&lt;/ul&gt;&lt;/div&gt;\n",
       "                 &lt;/div&gt;`,\n",
       "                {&quot;sticky&quot;: true}\n",
       "            );\n",
       "        \n",
       "    \n",
       "            var circle_560b4acf40628b3508100f09538ee62d = L.circle(\n",
       "                [46.8852, -56.3159],\n",
       "                {&quot;bubblingMouseEvents&quot;: true, &quot;color&quot;: &quot;red&quot;, &quot;dashArray&quot;: null, &quot;dashOffset&quot;: null, &quot;fill&quot;: true, &quot;fillColor&quot;: &quot;blue&quot;, &quot;fillOpacity&quot;: 0.2, &quot;fillRule&quot;: &quot;evenodd&quot;, &quot;lineCap&quot;: &quot;round&quot;, &quot;lineJoin&quot;: &quot;round&quot;, &quot;opacity&quot;: 1.0, &quot;radius&quot;: 409999.99999999994, &quot;stroke&quot;: true, &quot;weight&quot;: 3}\n",
       "            ).addTo(map_458ec8e400112ec513386247fe175da8);\n",
       "        \n",
       "    \n",
       "            circle_560b4acf40628b3508100f09538ee62d.bindTooltip(\n",
       "                `&lt;div&gt;\n",
       "                     &lt;div style=&#x27;margin: 0; background-color: black; color: white;&#x27;&gt;&lt;h4 style=&#x27;text-align:center;font-weight: bold&#x27;&gt;France&lt;/h4&gt;&lt;hr style=&#x27;margin:10px;color: white;&#x27;&gt;&lt;ul style=&#x27;color: white;;list-style-type:circle;align-item:left;padding-left:20px;padding-right:20px&#x27;&gt;&lt;li&gt;Confirmed: 3452&lt;/li&gt;&lt;li&gt;Deaths:   2&lt;/li&gt;&lt;li&gt;Death Rate: 0.06&lt;/li&gt;&lt;/ul&gt;&lt;/div&gt;\n",
       "                 &lt;/div&gt;`,\n",
       "                {&quot;sticky&quot;: true}\n",
       "            );\n",
       "        \n",
       "    \n",
       "            var circle_cfa6211c6f4c44786b398472f1bc79b7 = L.circle(\n",
       "                [18.0708, -63.0501],\n",
       "                {&quot;bubblingMouseEvents&quot;: true, &quot;color&quot;: &quot;red&quot;, &quot;dashArray&quot;: null, &quot;dashOffset&quot;: null, &quot;fill&quot;: true, &quot;fillColor&quot;: &quot;blue&quot;, &quot;fillOpacity&quot;: 0.2, &quot;fillRule&quot;: &quot;evenodd&quot;, &quot;lineCap&quot;: &quot;round&quot;, &quot;lineJoin&quot;: &quot;round&quot;, &quot;opacity&quot;: 1.0, &quot;radius&quot;: 459999.99999999994, &quot;stroke&quot;: true, &quot;weight&quot;: 3}\n",
       "            ).addTo(map_458ec8e400112ec513386247fe175da8);\n",
       "        \n",
       "    \n",
       "            circle_cfa6211c6f4c44786b398472f1bc79b7.bindTooltip(\n",
       "                `&lt;div&gt;\n",
       "                     &lt;div style=&#x27;margin: 0; background-color: black; color: white;&#x27;&gt;&lt;h4 style=&#x27;text-align:center;font-weight: bold&#x27;&gt;France&lt;/h4&gt;&lt;hr style=&#x27;margin:10px;color: white;&#x27;&gt;&lt;ul style=&#x27;color: white;;list-style-type:circle;align-item:left;padding-left:20px;padding-right:20px&#x27;&gt;&lt;li&gt;Confirmed: 12271&lt;/li&gt;&lt;li&gt;Deaths:   63&lt;/li&gt;&lt;li&gt;Death Rate: 0.51&lt;/li&gt;&lt;/ul&gt;&lt;/div&gt;\n",
       "                 &lt;/div&gt;`,\n",
       "                {&quot;sticky&quot;: true}\n",
       "            );\n",
       "        \n",
       "    \n",
       "            var circle_1411b6b61d996f1e47d52ed0ca6cb04a = L.circle(\n",
       "                [-14.2938, -178.1165],\n",
       "                {&quot;bubblingMouseEvents&quot;: true, &quot;color&quot;: &quot;red&quot;, &quot;dashArray&quot;: null, &quot;dashOffset&quot;: null, &quot;fill&quot;: true, &quot;fillColor&quot;: &quot;blue&quot;, &quot;fillOpacity&quot;: 0.2, &quot;fillRule&quot;: &quot;evenodd&quot;, &quot;lineCap&quot;: &quot;round&quot;, &quot;lineJoin&quot;: &quot;round&quot;, &quot;opacity&quot;: 1.0, &quot;radius&quot;: 409999.99999999994, &quot;stroke&quot;: true, &quot;weight&quot;: 3}\n",
       "            ).addTo(map_458ec8e400112ec513386247fe175da8);\n",
       "        \n",
       "    \n",
       "            circle_1411b6b61d996f1e47d52ed0ca6cb04a.bindTooltip(\n",
       "                `&lt;div&gt;\n",
       "                     &lt;div style=&#x27;margin: 0; background-color: black; color: white;&#x27;&gt;&lt;h4 style=&#x27;text-align:center;font-weight: bold&#x27;&gt;France&lt;/h4&gt;&lt;hr style=&#x27;margin:10px;color: white;&#x27;&gt;&lt;ul style=&#x27;color: white;;list-style-type:circle;align-item:left;padding-left:20px;padding-right:20px&#x27;&gt;&lt;li&gt;Confirmed: 3427&lt;/li&gt;&lt;li&gt;Deaths:   7&lt;/li&gt;&lt;li&gt;Death Rate: 0.2&lt;/li&gt;&lt;/ul&gt;&lt;/div&gt;\n",
       "                 &lt;/div&gt;`,\n",
       "                {&quot;sticky&quot;: true}\n",
       "            );\n",
       "        \n",
       "    \n",
       "            var circle_10fc421477693a5e98c60aefc0f6847f = L.circle(\n",
       "                [46.2276, 2.2137],\n",
       "                {&quot;bubblingMouseEvents&quot;: true, &quot;color&quot;: &quot;red&quot;, &quot;dashArray&quot;: null, &quot;dashOffset&quot;: null, &quot;fill&quot;: true, &quot;fillColor&quot;: &quot;blue&quot;, &quot;fillOpacity&quot;: 0.2, &quot;fillRule&quot;: &quot;evenodd&quot;, &quot;lineCap&quot;: &quot;round&quot;, &quot;lineJoin&quot;: &quot;round&quot;, &quot;opacity&quot;: 1.0, &quot;radius&quot;: 860000.0, &quot;stroke&quot;: true, &quot;weight&quot;: 3}\n",
       "            ).addTo(map_458ec8e400112ec513386247fe175da8);\n",
       "        \n",
       "    \n",
       "            circle_10fc421477693a5e98c60aefc0f6847f.bindTooltip(\n",
       "                `&lt;div&gt;\n",
       "                     &lt;div style=&#x27;margin: 0; background-color: black; color: white;&#x27;&gt;&lt;h4 style=&#x27;text-align:center;font-weight: bold&#x27;&gt;France&lt;/h4&gt;&lt;hr style=&#x27;margin:10px;color: white;&#x27;&gt;&lt;ul style=&#x27;color: white;;list-style-type:circle;align-item:left;padding-left:20px;padding-right:20px&#x27;&gt;&lt;li&gt;Confirmed: 38618509&lt;/li&gt;&lt;li&gt;Deaths:   161512&lt;/li&gt;&lt;li&gt;Death Rate: 0.42&lt;/li&gt;&lt;/ul&gt;&lt;/div&gt;\n",
       "                 &lt;/div&gt;`,\n",
       "                {&quot;sticky&quot;: true}\n",
       "            );\n",
       "        \n",
       "    \n",
       "            var circle_53b8a077a4443dd0bb9e25a1a3fb3569 = L.circle(\n",
       "                [-0.8037, 11.6094],\n",
       "                {&quot;bubblingMouseEvents&quot;: true, &quot;color&quot;: &quot;red&quot;, &quot;dashArray&quot;: null, &quot;dashOffset&quot;: null, &quot;fill&quot;: true, &quot;fillColor&quot;: &quot;blue&quot;, &quot;fillOpacity&quot;: 0.2, &quot;fillRule&quot;: &quot;evenodd&quot;, &quot;lineCap&quot;: &quot;round&quot;, &quot;lineJoin&quot;: &quot;round&quot;, &quot;opacity&quot;: 1.0, &quot;radius&quot;: 509999.99999999994, &quot;stroke&quot;: true, &quot;weight&quot;: 3}\n",
       "            ).addTo(map_458ec8e400112ec513386247fe175da8);\n",
       "        \n",
       "    \n",
       "            circle_53b8a077a4443dd0bb9e25a1a3fb3569.bindTooltip(\n",
       "                `&lt;div&gt;\n",
       "                     &lt;div style=&#x27;margin: 0; background-color: black; color: white;&#x27;&gt;&lt;h4 style=&#x27;text-align:center;font-weight: bold&#x27;&gt;Gabon&lt;/h4&gt;&lt;hr style=&#x27;margin:10px;color: white;&#x27;&gt;&lt;ul style=&#x27;color: white;;list-style-type:circle;align-item:left;padding-left:20px;padding-right:20px&#x27;&gt;&lt;li&gt;Confirmed: 48981&lt;/li&gt;&lt;li&gt;Deaths:   306&lt;/li&gt;&lt;li&gt;Death Rate: 0.62&lt;/li&gt;&lt;/ul&gt;&lt;/div&gt;\n",
       "                 &lt;/div&gt;`,\n",
       "                {&quot;sticky&quot;: true}\n",
       "            );\n",
       "        \n",
       "    \n",
       "            var circle_9fabbdabb18362b77acb4350de7bf9d4 = L.circle(\n",
       "                [13.4432, -15.3101],\n",
       "                {&quot;bubblingMouseEvents&quot;: true, &quot;color&quot;: &quot;red&quot;, &quot;dashArray&quot;: null, &quot;dashOffset&quot;: null, &quot;fill&quot;: true, &quot;fillColor&quot;: &quot;blue&quot;, &quot;fillOpacity&quot;: 0.2, &quot;fillRule&quot;: &quot;evenodd&quot;, &quot;lineCap&quot;: &quot;round&quot;, &quot;lineJoin&quot;: &quot;round&quot;, &quot;opacity&quot;: 1.0, &quot;radius&quot;: 459999.99999999994, &quot;stroke&quot;: true, &quot;weight&quot;: 3}\n",
       "            ).addTo(map_458ec8e400112ec513386247fe175da8);\n",
       "        \n",
       "    \n",
       "            circle_9fabbdabb18362b77acb4350de7bf9d4.bindTooltip(\n",
       "                `&lt;div&gt;\n",
       "                     &lt;div style=&#x27;margin: 0; background-color: black; color: white;&#x27;&gt;&lt;h4 style=&#x27;text-align:center;font-weight: bold&#x27;&gt;Gambia&lt;/h4&gt;&lt;hr style=&#x27;margin:10px;color: white;&#x27;&gt;&lt;ul style=&#x27;color: white;;list-style-type:circle;align-item:left;padding-left:20px;padding-right:20px&#x27;&gt;&lt;li&gt;Confirmed: 12598&lt;/li&gt;&lt;li&gt;Deaths:   372&lt;/li&gt;&lt;li&gt;Death Rate: 2.95&lt;/li&gt;&lt;/ul&gt;&lt;/div&gt;\n",
       "                 &lt;/div&gt;`,\n",
       "                {&quot;sticky&quot;: true}\n",
       "            );\n",
       "        \n",
       "    \n",
       "            var circle_2852837baecb0c52c3db818e2f72e2b7 = L.circle(\n",
       "                [42.3154, 43.3569],\n",
       "                {&quot;bubblingMouseEvents&quot;: true, &quot;color&quot;: &quot;red&quot;, &quot;dashArray&quot;: null, &quot;dashOffset&quot;: null, &quot;fill&quot;: true, &quot;fillColor&quot;: &quot;blue&quot;, &quot;fillOpacity&quot;: 0.2, &quot;fillRule&quot;: &quot;evenodd&quot;, &quot;lineCap&quot;: &quot;round&quot;, &quot;lineJoin&quot;: &quot;round&quot;, &quot;opacity&quot;: 1.0, &quot;radius&quot;: 710000.0, &quot;stroke&quot;: true, &quot;weight&quot;: 3}\n",
       "            ).addTo(map_458ec8e400112ec513386247fe175da8);\n",
       "        \n",
       "    \n",
       "            circle_2852837baecb0c52c3db818e2f72e2b7.bindTooltip(\n",
       "                `&lt;div&gt;\n",
       "                     &lt;div style=&#x27;margin: 0; background-color: black; color: white;&#x27;&gt;&lt;h4 style=&#x27;text-align:center;font-weight: bold&#x27;&gt;Georgia&lt;/h4&gt;&lt;hr style=&#x27;margin:10px;color: white;&#x27;&gt;&lt;ul style=&#x27;color: white;;list-style-type:circle;align-item:left;padding-left:20px;padding-right:20px&#x27;&gt;&lt;li&gt;Confirmed: 1827537&lt;/li&gt;&lt;li&gt;Deaths:   16971&lt;/li&gt;&lt;li&gt;Death Rate: 0.93&lt;/li&gt;&lt;/ul&gt;&lt;/div&gt;\n",
       "                 &lt;/div&gt;`,\n",
       "                {&quot;sticky&quot;: true}\n",
       "            );\n",
       "        \n",
       "    \n",
       "            var circle_6b4ea6baf0dd5ccdd05d05b927008196 = L.circle(\n",
       "                [51.165691, 10.451526],\n",
       "                {&quot;bubblingMouseEvents&quot;: true, &quot;color&quot;: &quot;red&quot;, &quot;dashArray&quot;: null, &quot;dashOffset&quot;: null, &quot;fill&quot;: true, &quot;fillColor&quot;: &quot;blue&quot;, &quot;fillOpacity&quot;: 0.2, &quot;fillRule&quot;: &quot;evenodd&quot;, &quot;lineCap&quot;: &quot;round&quot;, &quot;lineJoin&quot;: &quot;round&quot;, &quot;opacity&quot;: 1.0, &quot;radius&quot;: 860000.0, &quot;stroke&quot;: true, &quot;weight&quot;: 3}\n",
       "            ).addTo(map_458ec8e400112ec513386247fe175da8);\n",
       "        \n",
       "    \n",
       "            circle_6b4ea6baf0dd5ccdd05d05b927008196.bindTooltip(\n",
       "                `&lt;div&gt;\n",
       "                     &lt;div style=&#x27;margin: 0; background-color: black; color: white;&#x27;&gt;&lt;h4 style=&#x27;text-align:center;font-weight: bold&#x27;&gt;Germany&lt;/h4&gt;&lt;hr style=&#x27;margin:10px;color: white;&#x27;&gt;&lt;ul style=&#x27;color: white;;list-style-type:circle;align-item:left;padding-left:20px;padding-right:20px&#x27;&gt;&lt;li&gt;Confirmed: 38249060&lt;/li&gt;&lt;li&gt;Deaths:   168935&lt;/li&gt;&lt;li&gt;Death Rate: 0.44&lt;/li&gt;&lt;/ul&gt;&lt;/div&gt;\n",
       "                 &lt;/div&gt;`,\n",
       "                {&quot;sticky&quot;: true}\n",
       "            );\n",
       "        \n",
       "    \n",
       "            var circle_084dc7352ce6d5c1ecf98b776868eb73 = L.circle(\n",
       "                [7.9465, -1.0232],\n",
       "                {&quot;bubblingMouseEvents&quot;: true, &quot;color&quot;: &quot;red&quot;, &quot;dashArray&quot;: null, &quot;dashOffset&quot;: null, &quot;fill&quot;: true, &quot;fillColor&quot;: &quot;blue&quot;, &quot;fillOpacity&quot;: 0.2, &quot;fillRule&quot;: &quot;evenodd&quot;, &quot;lineCap&quot;: &quot;round&quot;, &quot;lineJoin&quot;: &quot;round&quot;, &quot;opacity&quot;: 1.0, &quot;radius&quot;: 610000.0, &quot;stroke&quot;: true, &quot;weight&quot;: 3}\n",
       "            ).addTo(map_458ec8e400112ec513386247fe175da8);\n",
       "        \n",
       "    \n",
       "            circle_084dc7352ce6d5c1ecf98b776868eb73.bindTooltip(\n",
       "                `&lt;div&gt;\n",
       "                     &lt;div style=&#x27;margin: 0; background-color: black; color: white;&#x27;&gt;&lt;h4 style=&#x27;text-align:center;font-weight: bold&#x27;&gt;Ghana&lt;/h4&gt;&lt;hr style=&#x27;margin:10px;color: white;&#x27;&gt;&lt;ul style=&#x27;color: white;;list-style-type:circle;align-item:left;padding-left:20px;padding-right:20px&#x27;&gt;&lt;li&gt;Confirmed: 171229&lt;/li&gt;&lt;li&gt;Deaths:   1462&lt;/li&gt;&lt;li&gt;Death Rate: 0.85&lt;/li&gt;&lt;/ul&gt;&lt;/div&gt;\n",
       "                 &lt;/div&gt;`,\n",
       "                {&quot;sticky&quot;: true}\n",
       "            );\n",
       "        \n",
       "    \n",
       "            var circle_c3543691499a3ccc89bb7bccf30bab6a = L.circle(\n",
       "                [39.0742, 21.8243],\n",
       "                {&quot;bubblingMouseEvents&quot;: true, &quot;color&quot;: &quot;red&quot;, &quot;dashArray&quot;: null, &quot;dashOffset&quot;: null, &quot;fill&quot;: true, &quot;fillColor&quot;: &quot;blue&quot;, &quot;fillOpacity&quot;: 0.2, &quot;fillRule&quot;: &quot;evenodd&quot;, &quot;lineCap&quot;: &quot;round&quot;, &quot;lineJoin&quot;: &quot;round&quot;, &quot;opacity&quot;: 1.0, &quot;radius&quot;: 760000.0, &quot;stroke&quot;: true, &quot;weight&quot;: 3}\n",
       "            ).addTo(map_458ec8e400112ec513386247fe175da8);\n",
       "        \n",
       "    \n",
       "            circle_c3543691499a3ccc89bb7bccf30bab6a.bindTooltip(\n",
       "                `&lt;div&gt;\n",
       "                     &lt;div style=&#x27;margin: 0; background-color: black; color: white;&#x27;&gt;&lt;h4 style=&#x27;text-align:center;font-weight: bold&#x27;&gt;Greece&lt;/h4&gt;&lt;hr style=&#x27;margin:10px;color: white;&#x27;&gt;&lt;ul style=&#x27;color: white;;list-style-type:circle;align-item:left;padding-left:20px;padding-right:20px&#x27;&gt;&lt;li&gt;Confirmed: 5548487&lt;/li&gt;&lt;li&gt;Deaths:   34779&lt;/li&gt;&lt;li&gt;Death Rate: 0.63&lt;/li&gt;&lt;/ul&gt;&lt;/div&gt;\n",
       "                 &lt;/div&gt;`,\n",
       "                {&quot;sticky&quot;: true}\n",
       "            );\n",
       "        \n",
       "    \n",
       "            var circle_dd27a06f1d59e96679b86280b07c6acd = L.circle(\n",
       "                [12.1165, -61.679],\n",
       "                {&quot;bubblingMouseEvents&quot;: true, &quot;color&quot;: &quot;red&quot;, &quot;dashArray&quot;: null, &quot;dashOffset&quot;: null, &quot;fill&quot;: true, &quot;fillColor&quot;: &quot;blue&quot;, &quot;fillOpacity&quot;: 0.2, &quot;fillRule&quot;: &quot;evenodd&quot;, &quot;lineCap&quot;: &quot;round&quot;, &quot;lineJoin&quot;: &quot;round&quot;, &quot;opacity&quot;: 1.0, &quot;radius&quot;: 459999.99999999994, &quot;stroke&quot;: true, &quot;weight&quot;: 3}\n",
       "            ).addTo(map_458ec8e400112ec513386247fe175da8);\n",
       "        \n",
       "    \n",
       "            circle_dd27a06f1d59e96679b86280b07c6acd.bindTooltip(\n",
       "                `&lt;div&gt;\n",
       "                     &lt;div style=&#x27;margin: 0; background-color: black; color: white;&#x27;&gt;&lt;h4 style=&#x27;text-align:center;font-weight: bold&#x27;&gt;Grenada&lt;/h4&gt;&lt;hr style=&#x27;margin:10px;color: white;&#x27;&gt;&lt;ul style=&#x27;color: white;;list-style-type:circle;align-item:left;padding-left:20px;padding-right:20px&#x27;&gt;&lt;li&gt;Confirmed: 19680&lt;/li&gt;&lt;li&gt;Deaths:   238&lt;/li&gt;&lt;li&gt;Death Rate: 1.21&lt;/li&gt;&lt;/ul&gt;&lt;/div&gt;\n",
       "                 &lt;/div&gt;`,\n",
       "                {&quot;sticky&quot;: true}\n",
       "            );\n",
       "        \n",
       "    \n",
       "            var circle_28dc064e5a7ce9600434cb9d544bbc73 = L.circle(\n",
       "                [15.7835, -90.2308],\n",
       "                {&quot;bubblingMouseEvents&quot;: true, &quot;color&quot;: &quot;red&quot;, &quot;dashArray&quot;: null, &quot;dashOffset&quot;: null, &quot;fill&quot;: true, &quot;fillColor&quot;: &quot;blue&quot;, &quot;fillOpacity&quot;: 0.2, &quot;fillRule&quot;: &quot;evenodd&quot;, &quot;lineCap&quot;: &quot;round&quot;, &quot;lineJoin&quot;: &quot;round&quot;, &quot;opacity&quot;: 1.0, &quot;radius&quot;: 710000.0, &quot;stroke&quot;: true, &quot;weight&quot;: 3}\n",
       "            ).addTo(map_458ec8e400112ec513386247fe175da8);\n",
       "        \n",
       "    \n",
       "            circle_28dc064e5a7ce9600434cb9d544bbc73.bindTooltip(\n",
       "                `&lt;div&gt;\n",
       "                     &lt;div style=&#x27;margin: 0; background-color: black; color: white;&#x27;&gt;&lt;h4 style=&#x27;text-align:center;font-weight: bold&#x27;&gt;Guatemala&lt;/h4&gt;&lt;hr style=&#x27;margin:10px;color: white;&#x27;&gt;&lt;ul style=&#x27;color: white;;list-style-type:circle;align-item:left;padding-left:20px;padding-right:20px&#x27;&gt;&lt;li&gt;Confirmed: 1238247&lt;/li&gt;&lt;li&gt;Deaths:   20182&lt;/li&gt;&lt;li&gt;Death Rate: 1.63&lt;/li&gt;&lt;/ul&gt;&lt;/div&gt;\n",
       "                 &lt;/div&gt;`,\n",
       "                {&quot;sticky&quot;: true}\n",
       "            );\n",
       "        \n",
       "    \n",
       "            var circle_b1e3d2d9eb69af9f5480a62bb3b55c56 = L.circle(\n",
       "                [9.9456, -9.6966],\n",
       "                {&quot;bubblingMouseEvents&quot;: true, &quot;color&quot;: &quot;red&quot;, &quot;dashArray&quot;: null, &quot;dashOffset&quot;: null, &quot;fill&quot;: true, &quot;fillColor&quot;: &quot;blue&quot;, &quot;fillOpacity&quot;: 0.2, &quot;fillRule&quot;: &quot;evenodd&quot;, &quot;lineCap&quot;: &quot;round&quot;, &quot;lineJoin&quot;: &quot;round&quot;, &quot;opacity&quot;: 1.0, &quot;radius&quot;: 509999.99999999994, &quot;stroke&quot;: true, &quot;weight&quot;: 3}\n",
       "            ).addTo(map_458ec8e400112ec513386247fe175da8);\n",
       "        \n",
       "    \n",
       "            circle_b1e3d2d9eb69af9f5480a62bb3b55c56.bindTooltip(\n",
       "                `&lt;div&gt;\n",
       "                     &lt;div style=&#x27;margin: 0; background-color: black; color: white;&#x27;&gt;&lt;h4 style=&#x27;text-align:center;font-weight: bold&#x27;&gt;Guinea&lt;/h4&gt;&lt;hr style=&#x27;margin:10px;color: white;&#x27;&gt;&lt;ul style=&#x27;color: white;;list-style-type:circle;align-item:left;padding-left:20px;padding-right:20px&#x27;&gt;&lt;li&gt;Confirmed: 38267&lt;/li&gt;&lt;li&gt;Deaths:   467&lt;/li&gt;&lt;li&gt;Death Rate: 1.22&lt;/li&gt;&lt;/ul&gt;&lt;/div&gt;\n",
       "                 &lt;/div&gt;`,\n",
       "                {&quot;sticky&quot;: true}\n",
       "            );\n",
       "        \n",
       "    \n",
       "            var circle_82610900b0f59e8b18f965274f3cc8d4 = L.circle(\n",
       "                [11.8037, -15.1804],\n",
       "                {&quot;bubblingMouseEvents&quot;: true, &quot;color&quot;: &quot;red&quot;, &quot;dashArray&quot;: null, &quot;dashOffset&quot;: null, &quot;fill&quot;: true, &quot;fillColor&quot;: &quot;blue&quot;, &quot;fillOpacity&quot;: 0.2, &quot;fillRule&quot;: &quot;evenodd&quot;, &quot;lineCap&quot;: &quot;round&quot;, &quot;lineJoin&quot;: &quot;round&quot;, &quot;opacity&quot;: 1.0, &quot;radius&quot;: 459999.99999999994, &quot;stroke&quot;: true, &quot;weight&quot;: 3}\n",
       "            ).addTo(map_458ec8e400112ec513386247fe175da8);\n",
       "        \n",
       "    \n",
       "            circle_82610900b0f59e8b18f965274f3cc8d4.bindTooltip(\n",
       "                `&lt;div&gt;\n",
       "                     &lt;div style=&#x27;margin: 0; background-color: black; color: white;&#x27;&gt;&lt;h4 style=&#x27;text-align:center;font-weight: bold&#x27;&gt;Guinea-Bissau&lt;/h4&gt;&lt;hr style=&#x27;margin:10px;color: white;&#x27;&gt;&lt;ul style=&#x27;color: white;;list-style-type:circle;align-item:left;padding-left:20px;padding-right:20px&#x27;&gt;&lt;li&gt;Confirmed: 8960&lt;/li&gt;&lt;li&gt;Deaths:   176&lt;/li&gt;&lt;li&gt;Death Rate: 1.96&lt;/li&gt;&lt;/ul&gt;&lt;/div&gt;\n",
       "                 &lt;/div&gt;`,\n",
       "                {&quot;sticky&quot;: true}\n",
       "            );\n",
       "        \n",
       "    \n",
       "            var circle_3018f6c64ade487ec10b86dadc9257a3 = L.circle(\n",
       "                [4.860416, -58.93018],\n",
       "                {&quot;bubblingMouseEvents&quot;: true, &quot;color&quot;: &quot;red&quot;, &quot;dashArray&quot;: null, &quot;dashOffset&quot;: null, &quot;fill&quot;: true, &quot;fillColor&quot;: &quot;blue&quot;, &quot;fillOpacity&quot;: 0.2, &quot;fillRule&quot;: &quot;evenodd&quot;, &quot;lineCap&quot;: &quot;round&quot;, &quot;lineJoin&quot;: &quot;round&quot;, &quot;opacity&quot;: 1.0, &quot;radius&quot;: 560000.0, &quot;stroke&quot;: true, &quot;weight&quot;: 3}\n",
       "            ).addTo(map_458ec8e400112ec513386247fe175da8);\n",
       "        \n",
       "    \n",
       "            circle_3018f6c64ade487ec10b86dadc9257a3.bindTooltip(\n",
       "                `&lt;div&gt;\n",
       "                     &lt;div style=&#x27;margin: 0; background-color: black; color: white;&#x27;&gt;&lt;h4 style=&#x27;text-align:center;font-weight: bold&#x27;&gt;Guyana&lt;/h4&gt;&lt;hr style=&#x27;margin:10px;color: white;&#x27;&gt;&lt;ul style=&#x27;color: white;;list-style-type:circle;align-item:left;padding-left:20px;padding-right:20px&#x27;&gt;&lt;li&gt;Confirmed: 73075&lt;/li&gt;&lt;li&gt;Deaths:   1298&lt;/li&gt;&lt;li&gt;Death Rate: 1.78&lt;/li&gt;&lt;/ul&gt;&lt;/div&gt;\n",
       "                 &lt;/div&gt;`,\n",
       "                {&quot;sticky&quot;: true}\n",
       "            );\n",
       "        \n",
       "    \n",
       "            var circle_74a52b68a08cf45def76cf13b513e0df = L.circle(\n",
       "                [18.9712, -72.2852],\n",
       "                {&quot;bubblingMouseEvents&quot;: true, &quot;color&quot;: &quot;red&quot;, &quot;dashArray&quot;: null, &quot;dashOffset&quot;: null, &quot;fill&quot;: true, &quot;fillColor&quot;: &quot;blue&quot;, &quot;fillOpacity&quot;: 0.2, &quot;fillRule&quot;: &quot;evenodd&quot;, &quot;lineCap&quot;: &quot;round&quot;, &quot;lineJoin&quot;: &quot;round&quot;, &quot;opacity&quot;: 1.0, &quot;radius&quot;: 509999.99999999994, &quot;stroke&quot;: true, &quot;weight&quot;: 3}\n",
       "            ).addTo(map_458ec8e400112ec513386247fe175da8);\n",
       "        \n",
       "    \n",
       "            circle_74a52b68a08cf45def76cf13b513e0df.bindTooltip(\n",
       "                `&lt;div&gt;\n",
       "                     &lt;div style=&#x27;margin: 0; background-color: black; color: white;&#x27;&gt;&lt;h4 style=&#x27;text-align:center;font-weight: bold&#x27;&gt;Haiti&lt;/h4&gt;&lt;hr style=&#x27;margin:10px;color: white;&#x27;&gt;&lt;ul style=&#x27;color: white;;list-style-type:circle;align-item:left;padding-left:20px;padding-right:20px&#x27;&gt;&lt;li&gt;Confirmed: 34202&lt;/li&gt;&lt;li&gt;Deaths:   860&lt;/li&gt;&lt;li&gt;Death Rate: 2.51&lt;/li&gt;&lt;/ul&gt;&lt;/div&gt;\n",
       "                 &lt;/div&gt;`,\n",
       "                {&quot;sticky&quot;: true}\n",
       "            );\n",
       "        \n",
       "    \n",
       "            var circle_3f2c150e65b80925fc7f253633f13355 = L.circle(\n",
       "                [41.9029, 12.4534],\n",
       "                {&quot;bubblingMouseEvents&quot;: true, &quot;color&quot;: &quot;red&quot;, &quot;dashArray&quot;: null, &quot;dashOffset&quot;: null, &quot;fill&quot;: true, &quot;fillColor&quot;: &quot;blue&quot;, &quot;fillOpacity&quot;: 0.2, &quot;fillRule&quot;: &quot;evenodd&quot;, &quot;lineCap&quot;: &quot;round&quot;, &quot;lineJoin&quot;: &quot;round&quot;, &quot;opacity&quot;: 1.0, &quot;radius&quot;: 160000.0, &quot;stroke&quot;: true, &quot;weight&quot;: 3}\n",
       "            ).addTo(map_458ec8e400112ec513386247fe175da8);\n",
       "        \n",
       "    \n",
       "            circle_3f2c150e65b80925fc7f253633f13355.bindTooltip(\n",
       "                `&lt;div&gt;\n",
       "                     &lt;div style=&#x27;margin: 0; background-color: black; color: white;&#x27;&gt;&lt;h4 style=&#x27;text-align:center;font-weight: bold&#x27;&gt;Holy See&lt;/h4&gt;&lt;hr style=&#x27;margin:10px;color: white;&#x27;&gt;&lt;ul style=&#x27;color: white;;list-style-type:circle;align-item:left;padding-left:20px;padding-right:20px&#x27;&gt;&lt;li&gt;Confirmed: 29&lt;/li&gt;&lt;li&gt;Deaths:   0&lt;/li&gt;&lt;li&gt;Death Rate: 0.0&lt;/li&gt;&lt;/ul&gt;&lt;/div&gt;\n",
       "                 &lt;/div&gt;`,\n",
       "                {&quot;sticky&quot;: true}\n",
       "            );\n",
       "        \n",
       "    \n",
       "            var circle_d15ef01212803f7878be9d161f379a25 = L.circle(\n",
       "                [15.2, -86.2419],\n",
       "                {&quot;bubblingMouseEvents&quot;: true, &quot;color&quot;: &quot;red&quot;, &quot;dashArray&quot;: null, &quot;dashOffset&quot;: null, &quot;fill&quot;: true, &quot;fillColor&quot;: &quot;blue&quot;, &quot;fillOpacity&quot;: 0.2, &quot;fillRule&quot;: &quot;evenodd&quot;, &quot;lineCap&quot;: &quot;round&quot;, &quot;lineJoin&quot;: &quot;round&quot;, &quot;opacity&quot;: 1.0, &quot;radius&quot;: 660000.0, &quot;stroke&quot;: true, &quot;weight&quot;: 3}\n",
       "            ).addTo(map_458ec8e400112ec513386247fe175da8);\n",
       "        \n",
       "    \n",
       "            circle_d15ef01212803f7878be9d161f379a25.bindTooltip(\n",
       "                `&lt;div&gt;\n",
       "                     &lt;div style=&#x27;margin: 0; background-color: black; color: white;&#x27;&gt;&lt;h4 style=&#x27;text-align:center;font-weight: bold&#x27;&gt;Honduras&lt;/h4&gt;&lt;hr style=&#x27;margin:10px;color: white;&#x27;&gt;&lt;ul style=&#x27;color: white;;list-style-type:circle;align-item:left;padding-left:20px;padding-right:20px&#x27;&gt;&lt;li&gt;Confirmed: 472250&lt;/li&gt;&lt;li&gt;Deaths:   11111&lt;/li&gt;&lt;li&gt;Death Rate: 2.35&lt;/li&gt;&lt;/ul&gt;&lt;/div&gt;\n",
       "                 &lt;/div&gt;`,\n",
       "                {&quot;sticky&quot;: true}\n",
       "            );\n",
       "        \n",
       "    \n",
       "            var circle_3df44e0e8228ebdf54e31d9c1471a934 = L.circle(\n",
       "                [47.1625, 19.5033],\n",
       "                {&quot;bubblingMouseEvents&quot;: true, &quot;color&quot;: &quot;red&quot;, &quot;dashArray&quot;: null, &quot;dashOffset&quot;: null, &quot;fill&quot;: true, &quot;fillColor&quot;: &quot;blue&quot;, &quot;fillOpacity&quot;: 0.2, &quot;fillRule&quot;: &quot;evenodd&quot;, &quot;lineCap&quot;: &quot;round&quot;, &quot;lineJoin&quot;: &quot;round&quot;, &quot;opacity&quot;: 1.0, &quot;radius&quot;: 710000.0, &quot;stroke&quot;: true, &quot;weight&quot;: 3}\n",
       "            ).addTo(map_458ec8e400112ec513386247fe175da8);\n",
       "        \n",
       "    \n",
       "            circle_3df44e0e8228ebdf54e31d9c1471a934.bindTooltip(\n",
       "                `&lt;div&gt;\n",
       "                     &lt;div style=&#x27;margin: 0; background-color: black; color: white;&#x27;&gt;&lt;h4 style=&#x27;text-align:center;font-weight: bold&#x27;&gt;Hungary&lt;/h4&gt;&lt;hr style=&#x27;margin:10px;color: white;&#x27;&gt;&lt;ul style=&#x27;color: white;;list-style-type:circle;align-item:left;padding-left:20px;padding-right:20px&#x27;&gt;&lt;li&gt;Confirmed: 2196804&lt;/li&gt;&lt;li&gt;Deaths:   48762&lt;/li&gt;&lt;li&gt;Death Rate: 2.22&lt;/li&gt;&lt;/ul&gt;&lt;/div&gt;\n",
       "                 &lt;/div&gt;`,\n",
       "                {&quot;sticky&quot;: true}\n",
       "            );\n",
       "        \n",
       "    \n",
       "            var circle_c02b8ea5939e0b1d07cd924458688c5d = L.circle(\n",
       "                [64.9631, -19.0208],\n",
       "                {&quot;bubblingMouseEvents&quot;: true, &quot;color&quot;: &quot;red&quot;, &quot;dashArray&quot;: null, &quot;dashOffset&quot;: null, &quot;fill&quot;: true, &quot;fillColor&quot;: &quot;blue&quot;, &quot;fillOpacity&quot;: 0.2, &quot;fillRule&quot;: &quot;evenodd&quot;, &quot;lineCap&quot;: &quot;round&quot;, &quot;lineJoin&quot;: &quot;round&quot;, &quot;opacity&quot;: 1.0, &quot;radius&quot;: 610000.0, &quot;stroke&quot;: true, &quot;weight&quot;: 3}\n",
       "            ).addTo(map_458ec8e400112ec513386247fe175da8);\n",
       "        \n",
       "    \n",
       "            circle_c02b8ea5939e0b1d07cd924458688c5d.bindTooltip(\n",
       "                `&lt;div&gt;\n",
       "                     &lt;div style=&#x27;margin: 0; background-color: black; color: white;&#x27;&gt;&lt;h4 style=&#x27;text-align:center;font-weight: bold&#x27;&gt;Iceland&lt;/h4&gt;&lt;hr style=&#x27;margin:10px;color: white;&#x27;&gt;&lt;ul style=&#x27;color: white;;list-style-type:circle;align-item:left;padding-left:20px;padding-right:20px&#x27;&gt;&lt;li&gt;Confirmed: 209137&lt;/li&gt;&lt;li&gt;Deaths:   263&lt;/li&gt;&lt;li&gt;Death Rate: 0.13&lt;/li&gt;&lt;/ul&gt;&lt;/div&gt;\n",
       "                 &lt;/div&gt;`,\n",
       "                {&quot;sticky&quot;: true}\n",
       "            );\n",
       "        \n",
       "    \n",
       "            var circle_c0481c668e8280c8aee8a881494754c7 = L.circle(\n",
       "                [20.593684, 78.96288],\n",
       "                {&quot;bubblingMouseEvents&quot;: true, &quot;color&quot;: &quot;red&quot;, &quot;dashArray&quot;: null, &quot;dashOffset&quot;: null, &quot;fill&quot;: true, &quot;fillColor&quot;: &quot;blue&quot;, &quot;fillOpacity&quot;: 0.2, &quot;fillRule&quot;: &quot;evenodd&quot;, &quot;lineCap&quot;: &quot;round&quot;, &quot;lineJoin&quot;: &quot;round&quot;, &quot;opacity&quot;: 1.0, &quot;radius&quot;: 860000.0, &quot;stroke&quot;: true, &quot;weight&quot;: 3}\n",
       "            ).addTo(map_458ec8e400112ec513386247fe175da8);\n",
       "        \n",
       "    \n",
       "            circle_c0481c668e8280c8aee8a881494754c7.bindTooltip(\n",
       "                `&lt;div&gt;\n",
       "                     &lt;div style=&#x27;margin: 0; background-color: black; color: white;&#x27;&gt;&lt;h4 style=&#x27;text-align:center;font-weight: bold&#x27;&gt;India&lt;/h4&gt;&lt;hr style=&#x27;margin:10px;color: white;&#x27;&gt;&lt;ul style=&#x27;color: white;;list-style-type:circle;align-item:left;padding-left:20px;padding-right:20px&#x27;&gt;&lt;li&gt;Confirmed: 44690738&lt;/li&gt;&lt;li&gt;Deaths:   530779&lt;/li&gt;&lt;li&gt;Death Rate: 1.19&lt;/li&gt;&lt;/ul&gt;&lt;/div&gt;\n",
       "                 &lt;/div&gt;`,\n",
       "                {&quot;sticky&quot;: true}\n",
       "            );\n",
       "        \n",
       "    \n",
       "            var circle_a1bcb57a3ce05f44d1a1c3e6231e8c6b = L.circle(\n",
       "                [-0.7893, 113.9213],\n",
       "                {&quot;bubblingMouseEvents&quot;: true, &quot;color&quot;: &quot;red&quot;, &quot;dashArray&quot;: null, &quot;dashOffset&quot;: null, &quot;fill&quot;: true, &quot;fillColor&quot;: &quot;blue&quot;, &quot;fillOpacity&quot;: 0.2, &quot;fillRule&quot;: &quot;evenodd&quot;, &quot;lineCap&quot;: &quot;round&quot;, &quot;lineJoin&quot;: &quot;round&quot;, &quot;opacity&quot;: 1.0, &quot;radius&quot;: 760000.0, &quot;stroke&quot;: true, &quot;weight&quot;: 3}\n",
       "            ).addTo(map_458ec8e400112ec513386247fe175da8);\n",
       "        \n",
       "    \n",
       "            circle_a1bcb57a3ce05f44d1a1c3e6231e8c6b.bindTooltip(\n",
       "                `&lt;div&gt;\n",
       "                     &lt;div style=&#x27;margin: 0; background-color: black; color: white;&#x27;&gt;&lt;h4 style=&#x27;text-align:center;font-weight: bold&#x27;&gt;Indonesia&lt;/h4&gt;&lt;hr style=&#x27;margin:10px;color: white;&#x27;&gt;&lt;ul style=&#x27;color: white;;list-style-type:circle;align-item:left;padding-left:20px;padding-right:20px&#x27;&gt;&lt;li&gt;Confirmed: 6738225&lt;/li&gt;&lt;li&gt;Deaths:   160941&lt;/li&gt;&lt;li&gt;Death Rate: 2.39&lt;/li&gt;&lt;/ul&gt;&lt;/div&gt;\n",
       "                 &lt;/div&gt;`,\n",
       "                {&quot;sticky&quot;: true}\n",
       "            );\n",
       "        \n",
       "    \n",
       "            var circle_7ee07fa3f38310c5837187ee4abf3ed2 = L.circle(\n",
       "                [32.427908, 53.688046],\n",
       "                {&quot;bubblingMouseEvents&quot;: true, &quot;color&quot;: &quot;red&quot;, &quot;dashArray&quot;: null, &quot;dashOffset&quot;: null, &quot;fill&quot;: true, &quot;fillColor&quot;: &quot;blue&quot;, &quot;fillOpacity&quot;: 0.2, &quot;fillRule&quot;: &quot;evenodd&quot;, &quot;lineCap&quot;: &quot;round&quot;, &quot;lineJoin&quot;: &quot;round&quot;, &quot;opacity&quot;: 1.0, &quot;radius&quot;: 760000.0, &quot;stroke&quot;: true, &quot;weight&quot;: 3}\n",
       "            ).addTo(map_458ec8e400112ec513386247fe175da8);\n",
       "        \n",
       "    \n",
       "            circle_7ee07fa3f38310c5837187ee4abf3ed2.bindTooltip(\n",
       "                `&lt;div&gt;\n",
       "                     &lt;div style=&#x27;margin: 0; background-color: black; color: white;&#x27;&gt;&lt;h4 style=&#x27;text-align:center;font-weight: bold&#x27;&gt;Iran&lt;/h4&gt;&lt;hr style=&#x27;margin:10px;color: white;&#x27;&gt;&lt;ul style=&#x27;color: white;;list-style-type:circle;align-item:left;padding-left:20px;padding-right:20px&#x27;&gt;&lt;li&gt;Confirmed: 7572311&lt;/li&gt;&lt;li&gt;Deaths:   144933&lt;/li&gt;&lt;li&gt;Death Rate: 1.91&lt;/li&gt;&lt;/ul&gt;&lt;/div&gt;\n",
       "                 &lt;/div&gt;`,\n",
       "                {&quot;sticky&quot;: true}\n",
       "            );\n",
       "        \n",
       "    \n",
       "            var circle_2adf29f37a0e62b7a8cd03c40fc3e69f = L.circle(\n",
       "                [33.223191, 43.679291],\n",
       "                {&quot;bubblingMouseEvents&quot;: true, &quot;color&quot;: &quot;red&quot;, &quot;dashArray&quot;: null, &quot;dashOffset&quot;: null, &quot;fill&quot;: true, &quot;fillColor&quot;: &quot;blue&quot;, &quot;fillOpacity&quot;: 0.2, &quot;fillRule&quot;: &quot;evenodd&quot;, &quot;lineCap&quot;: &quot;round&quot;, &quot;lineJoin&quot;: &quot;round&quot;, &quot;opacity&quot;: 1.0, &quot;radius&quot;: 710000.0, &quot;stroke&quot;: true, &quot;weight&quot;: 3}\n",
       "            ).addTo(map_458ec8e400112ec513386247fe175da8);\n",
       "        \n",
       "    \n",
       "            circle_2adf29f37a0e62b7a8cd03c40fc3e69f.bindTooltip(\n",
       "                `&lt;div&gt;\n",
       "                     &lt;div style=&#x27;margin: 0; background-color: black; color: white;&#x27;&gt;&lt;h4 style=&#x27;text-align:center;font-weight: bold&#x27;&gt;Iraq&lt;/h4&gt;&lt;hr style=&#x27;margin:10px;color: white;&#x27;&gt;&lt;ul style=&#x27;color: white;;list-style-type:circle;align-item:left;padding-left:20px;padding-right:20px&#x27;&gt;&lt;li&gt;Confirmed: 2465545&lt;/li&gt;&lt;li&gt;Deaths:   25375&lt;/li&gt;&lt;li&gt;Death Rate: 1.03&lt;/li&gt;&lt;/ul&gt;&lt;/div&gt;\n",
       "                 &lt;/div&gt;`,\n",
       "                {&quot;sticky&quot;: true}\n",
       "            );\n",
       "        \n",
       "    \n",
       "            var circle_1f44e2e36b8cdc71f72e1bfeb396c151 = L.circle(\n",
       "                [53.1424, -7.6921],\n",
       "                {&quot;bubblingMouseEvents&quot;: true, &quot;color&quot;: &quot;red&quot;, &quot;dashArray&quot;: null, &quot;dashOffset&quot;: null, &quot;fill&quot;: true, &quot;fillColor&quot;: &quot;blue&quot;, &quot;fillOpacity&quot;: 0.2, &quot;fillRule&quot;: &quot;evenodd&quot;, &quot;lineCap&quot;: &quot;round&quot;, &quot;lineJoin&quot;: &quot;round&quot;, &quot;opacity&quot;: 1.0, &quot;radius&quot;: 710000.0, &quot;stroke&quot;: true, &quot;weight&quot;: 3}\n",
       "            ).addTo(map_458ec8e400112ec513386247fe175da8);\n",
       "        \n",
       "    \n",
       "            circle_1f44e2e36b8cdc71f72e1bfeb396c151.bindTooltip(\n",
       "                `&lt;div&gt;\n",
       "                     &lt;div style=&#x27;margin: 0; background-color: black; color: white;&#x27;&gt;&lt;h4 style=&#x27;text-align:center;font-weight: bold&#x27;&gt;Ireland&lt;/h4&gt;&lt;hr style=&#x27;margin:10px;color: white;&#x27;&gt;&lt;ul style=&#x27;color: white;;list-style-type:circle;align-item:left;padding-left:20px;padding-right:20px&#x27;&gt;&lt;li&gt;Confirmed: 1704502&lt;/li&gt;&lt;li&gt;Deaths:   8708&lt;/li&gt;&lt;li&gt;Death Rate: 0.51&lt;/li&gt;&lt;/ul&gt;&lt;/div&gt;\n",
       "                 &lt;/div&gt;`,\n",
       "                {&quot;sticky&quot;: true}\n",
       "            );\n",
       "        \n",
       "    \n",
       "            var circle_58d0321849f187a4097afa2a35649e7d = L.circle(\n",
       "                [31.046051, 34.851612],\n",
       "                {&quot;bubblingMouseEvents&quot;: true, &quot;color&quot;: &quot;red&quot;, &quot;dashArray&quot;: null, &quot;dashOffset&quot;: null, &quot;fill&quot;: true, &quot;fillColor&quot;: &quot;blue&quot;, &quot;fillOpacity&quot;: 0.2, &quot;fillRule&quot;: &quot;evenodd&quot;, &quot;lineCap&quot;: &quot;round&quot;, &quot;lineJoin&quot;: &quot;round&quot;, &quot;opacity&quot;: 1.0, &quot;radius&quot;: 760000.0, &quot;stroke&quot;: true, &quot;weight&quot;: 3}\n",
       "            ).addTo(map_458ec8e400112ec513386247fe175da8);\n",
       "        \n",
       "    \n",
       "            circle_58d0321849f187a4097afa2a35649e7d.bindTooltip(\n",
       "                `&lt;div&gt;\n",
       "                     &lt;div style=&#x27;margin: 0; background-color: black; color: white;&#x27;&gt;&lt;h4 style=&#x27;text-align:center;font-weight: bold&#x27;&gt;Israel&lt;/h4&gt;&lt;hr style=&#x27;margin:10px;color: white;&#x27;&gt;&lt;ul style=&#x27;color: white;;list-style-type:circle;align-item:left;padding-left:20px;padding-right:20px&#x27;&gt;&lt;li&gt;Confirmed: 4803824&lt;/li&gt;&lt;li&gt;Deaths:   12329&lt;/li&gt;&lt;li&gt;Death Rate: 0.26&lt;/li&gt;&lt;/ul&gt;&lt;/div&gt;\n",
       "                 &lt;/div&gt;`,\n",
       "                {&quot;sticky&quot;: true}\n",
       "            );\n",
       "        \n",
       "    \n",
       "            var circle_f272d2dd74cebf60193dfbd2a47be84b = L.circle(\n",
       "                [41.87194, 12.56738],\n",
       "                {&quot;bubblingMouseEvents&quot;: true, &quot;color&quot;: &quot;red&quot;, &quot;dashArray&quot;: null, &quot;dashOffset&quot;: null, &quot;fill&quot;: true, &quot;fillColor&quot;: &quot;blue&quot;, &quot;fillOpacity&quot;: 0.2, &quot;fillRule&quot;: &quot;evenodd&quot;, &quot;lineCap&quot;: &quot;round&quot;, &quot;lineJoin&quot;: &quot;round&quot;, &quot;opacity&quot;: 1.0, &quot;radius&quot;: 860000.0, &quot;stroke&quot;: true, &quot;weight&quot;: 3}\n",
       "            ).addTo(map_458ec8e400112ec513386247fe175da8);\n",
       "        \n",
       "    \n",
       "            circle_f272d2dd74cebf60193dfbd2a47be84b.bindTooltip(\n",
       "                `&lt;div&gt;\n",
       "                     &lt;div style=&#x27;margin: 0; background-color: black; color: white;&#x27;&gt;&lt;h4 style=&#x27;text-align:center;font-weight: bold&#x27;&gt;Italy&lt;/h4&gt;&lt;hr style=&#x27;margin:10px;color: white;&#x27;&gt;&lt;ul style=&#x27;color: white;;list-style-type:circle;align-item:left;padding-left:20px;padding-right:20px&#x27;&gt;&lt;li&gt;Confirmed: 25603510&lt;/li&gt;&lt;li&gt;Deaths:   188322&lt;/li&gt;&lt;li&gt;Death Rate: 0.74&lt;/li&gt;&lt;/ul&gt;&lt;/div&gt;\n",
       "                 &lt;/div&gt;`,\n",
       "                {&quot;sticky&quot;: true}\n",
       "            );\n",
       "        \n",
       "    \n",
       "            var circle_3f5afb8dc1926086bd331c90c7de5087 = L.circle(\n",
       "                [18.1096, -77.2975],\n",
       "                {&quot;bubblingMouseEvents&quot;: true, &quot;color&quot;: &quot;red&quot;, &quot;dashArray&quot;: null, &quot;dashOffset&quot;: null, &quot;fill&quot;: true, &quot;fillColor&quot;: &quot;blue&quot;, &quot;fillOpacity&quot;: 0.2, &quot;fillRule&quot;: &quot;evenodd&quot;, &quot;lineCap&quot;: &quot;round&quot;, &quot;lineJoin&quot;: &quot;round&quot;, &quot;opacity&quot;: 1.0, &quot;radius&quot;: 560000.0, &quot;stroke&quot;: true, &quot;weight&quot;: 3}\n",
       "            ).addTo(map_458ec8e400112ec513386247fe175da8);\n",
       "        \n",
       "    \n",
       "            circle_3f5afb8dc1926086bd331c90c7de5087.bindTooltip(\n",
       "                `&lt;div&gt;\n",
       "                     &lt;div style=&#x27;margin: 0; background-color: black; color: white;&#x27;&gt;&lt;h4 style=&#x27;text-align:center;font-weight: bold&#x27;&gt;Jamaica&lt;/h4&gt;&lt;hr style=&#x27;margin:10px;color: white;&#x27;&gt;&lt;ul style=&#x27;color: white;;list-style-type:circle;align-item:left;padding-left:20px;padding-right:20px&#x27;&gt;&lt;li&gt;Confirmed: 154416&lt;/li&gt;&lt;li&gt;Deaths:   3514&lt;/li&gt;&lt;li&gt;Death Rate: 2.28&lt;/li&gt;&lt;/ul&gt;&lt;/div&gt;\n",
       "                 &lt;/div&gt;`,\n",
       "                {&quot;sticky&quot;: true}\n",
       "            );\n",
       "        \n",
       "    \n",
       "            var circle_381ecd46271ce9afa6d423d05b68580e = L.circle(\n",
       "                [36.204824, 138.252924],\n",
       "                {&quot;bubblingMouseEvents&quot;: true, &quot;color&quot;: &quot;red&quot;, &quot;dashArray&quot;: null, &quot;dashOffset&quot;: null, &quot;fill&quot;: true, &quot;fillColor&quot;: &quot;blue&quot;, &quot;fillOpacity&quot;: 0.2, &quot;fillRule&quot;: &quot;evenodd&quot;, &quot;lineCap&quot;: &quot;round&quot;, &quot;lineJoin&quot;: &quot;round&quot;, &quot;opacity&quot;: 1.0, &quot;radius&quot;: 860000.0, &quot;stroke&quot;: true, &quot;weight&quot;: 3}\n",
       "            ).addTo(map_458ec8e400112ec513386247fe175da8);\n",
       "        \n",
       "    \n",
       "            circle_381ecd46271ce9afa6d423d05b68580e.bindTooltip(\n",
       "                `&lt;div&gt;\n",
       "                     &lt;div style=&#x27;margin: 0; background-color: black; color: white;&#x27;&gt;&lt;h4 style=&#x27;text-align:center;font-weight: bold&#x27;&gt;Japan&lt;/h4&gt;&lt;hr style=&#x27;margin:10px;color: white;&#x27;&gt;&lt;ul style=&#x27;color: white;;list-style-type:circle;align-item:left;padding-left:20px;padding-right:20px&#x27;&gt;&lt;li&gt;Confirmed: 33320438&lt;/li&gt;&lt;li&gt;Deaths:   72997&lt;/li&gt;&lt;li&gt;Death Rate: 0.22&lt;/li&gt;&lt;/ul&gt;&lt;/div&gt;\n",
       "                 &lt;/div&gt;`,\n",
       "                {&quot;sticky&quot;: true}\n",
       "            );\n",
       "        \n",
       "    \n",
       "            var circle_621a60a1b2e916d62b9859a5b27510a7 = L.circle(\n",
       "                [31.24, 36.51],\n",
       "                {&quot;bubblingMouseEvents&quot;: true, &quot;color&quot;: &quot;red&quot;, &quot;dashArray&quot;: null, &quot;dashOffset&quot;: null, &quot;fill&quot;: true, &quot;fillColor&quot;: &quot;blue&quot;, &quot;fillOpacity&quot;: 0.2, &quot;fillRule&quot;: &quot;evenodd&quot;, &quot;lineCap&quot;: &quot;round&quot;, &quot;lineJoin&quot;: &quot;round&quot;, &quot;opacity&quot;: 1.0, &quot;radius&quot;: 710000.0, &quot;stroke&quot;: true, &quot;weight&quot;: 3}\n",
       "            ).addTo(map_458ec8e400112ec513386247fe175da8);\n",
       "        \n",
       "    \n",
       "            circle_621a60a1b2e916d62b9859a5b27510a7.bindTooltip(\n",
       "                `&lt;div&gt;\n",
       "                     &lt;div style=&#x27;margin: 0; background-color: black; color: white;&#x27;&gt;&lt;h4 style=&#x27;text-align:center;font-weight: bold&#x27;&gt;Jordan&lt;/h4&gt;&lt;hr style=&#x27;margin:10px;color: white;&#x27;&gt;&lt;ul style=&#x27;color: white;;list-style-type:circle;align-item:left;padding-left:20px;padding-right:20px&#x27;&gt;&lt;li&gt;Confirmed: 1746997&lt;/li&gt;&lt;li&gt;Deaths:   14122&lt;/li&gt;&lt;li&gt;Death Rate: 0.81&lt;/li&gt;&lt;/ul&gt;&lt;/div&gt;\n",
       "                 &lt;/div&gt;`,\n",
       "                {&quot;sticky&quot;: true}\n",
       "            );\n",
       "        \n",
       "    \n",
       "            var circle_3815da6055dcdb4e102f81f0459ac354 = L.circle(\n",
       "                [48.0196, 66.9237],\n",
       "                {&quot;bubblingMouseEvents&quot;: true, &quot;color&quot;: &quot;red&quot;, &quot;dashArray&quot;: null, &quot;dashOffset&quot;: null, &quot;fill&quot;: true, &quot;fillColor&quot;: &quot;blue&quot;, &quot;fillOpacity&quot;: 0.2, &quot;fillRule&quot;: &quot;evenodd&quot;, &quot;lineCap&quot;: &quot;round&quot;, &quot;lineJoin&quot;: &quot;round&quot;, &quot;opacity&quot;: 1.0, &quot;radius&quot;: 710000.0, &quot;stroke&quot;: true, &quot;weight&quot;: 3}\n",
       "            ).addTo(map_458ec8e400112ec513386247fe175da8);\n",
       "        \n",
       "    \n",
       "            circle_3815da6055dcdb4e102f81f0459ac354.bindTooltip(\n",
       "                `&lt;div&gt;\n",
       "                     &lt;div style=&#x27;margin: 0; background-color: black; color: white;&#x27;&gt;&lt;h4 style=&#x27;text-align:center;font-weight: bold&#x27;&gt;Kazakhstan&lt;/h4&gt;&lt;hr style=&#x27;margin:10px;color: white;&#x27;&gt;&lt;ul style=&#x27;color: white;;list-style-type:circle;align-item:left;padding-left:20px;padding-right:20px&#x27;&gt;&lt;li&gt;Confirmed: 1498668&lt;/li&gt;&lt;li&gt;Deaths:   19071&lt;/li&gt;&lt;li&gt;Death Rate: 1.27&lt;/li&gt;&lt;/ul&gt;&lt;/div&gt;\n",
       "                 &lt;/div&gt;`,\n",
       "                {&quot;sticky&quot;: true}\n",
       "            );\n",
       "        \n",
       "    \n",
       "            var circle_dff1d83bbc29687dacb6744fc48a43bc = L.circle(\n",
       "                [-0.0236, 37.9062],\n",
       "                {&quot;bubblingMouseEvents&quot;: true, &quot;color&quot;: &quot;red&quot;, &quot;dashArray&quot;: null, &quot;dashOffset&quot;: null, &quot;fill&quot;: true, &quot;fillColor&quot;: &quot;blue&quot;, &quot;fillOpacity&quot;: 0.2, &quot;fillRule&quot;: &quot;evenodd&quot;, &quot;lineCap&quot;: &quot;round&quot;, &quot;lineJoin&quot;: &quot;round&quot;, &quot;opacity&quot;: 1.0, &quot;radius&quot;: 610000.0, &quot;stroke&quot;: true, &quot;weight&quot;: 3}\n",
       "            ).addTo(map_458ec8e400112ec513386247fe175da8);\n",
       "        \n",
       "    \n",
       "            circle_dff1d83bbc29687dacb6744fc48a43bc.bindTooltip(\n",
       "                `&lt;div&gt;\n",
       "                     &lt;div style=&#x27;margin: 0; background-color: black; color: white;&#x27;&gt;&lt;h4 style=&#x27;text-align:center;font-weight: bold&#x27;&gt;Kenya&lt;/h4&gt;&lt;hr style=&#x27;margin:10px;color: white;&#x27;&gt;&lt;ul style=&#x27;color: white;;list-style-type:circle;align-item:left;padding-left:20px;padding-right:20px&#x27;&gt;&lt;li&gt;Confirmed: 342937&lt;/li&gt;&lt;li&gt;Deaths:   5688&lt;/li&gt;&lt;li&gt;Death Rate: 1.66&lt;/li&gt;&lt;/ul&gt;&lt;/div&gt;\n",
       "                 &lt;/div&gt;`,\n",
       "                {&quot;sticky&quot;: true}\n",
       "            );\n",
       "        \n",
       "    \n",
       "            var circle_30ab19586840f5569e81a354a72768fe = L.circle(\n",
       "                [-3.3704, -168.734],\n",
       "                {&quot;bubblingMouseEvents&quot;: true, &quot;color&quot;: &quot;red&quot;, &quot;dashArray&quot;: null, &quot;dashOffset&quot;: null, &quot;fill&quot;: true, &quot;fillColor&quot;: &quot;blue&quot;, &quot;fillOpacity&quot;: 0.2, &quot;fillRule&quot;: &quot;evenodd&quot;, &quot;lineCap&quot;: &quot;round&quot;, &quot;lineJoin&quot;: &quot;round&quot;, &quot;opacity&quot;: 1.0, &quot;radius&quot;: 409999.99999999994, &quot;stroke&quot;: true, &quot;weight&quot;: 3}\n",
       "            ).addTo(map_458ec8e400112ec513386247fe175da8);\n",
       "        \n",
       "    \n",
       "            circle_30ab19586840f5569e81a354a72768fe.bindTooltip(\n",
       "                `&lt;div&gt;\n",
       "                     &lt;div style=&#x27;margin: 0; background-color: black; color: white;&#x27;&gt;&lt;h4 style=&#x27;text-align:center;font-weight: bold&#x27;&gt;Kiribati&lt;/h4&gt;&lt;hr style=&#x27;margin:10px;color: white;&#x27;&gt;&lt;ul style=&#x27;color: white;;list-style-type:circle;align-item:left;padding-left:20px;padding-right:20px&#x27;&gt;&lt;li&gt;Confirmed: 5014&lt;/li&gt;&lt;li&gt;Deaths:   18&lt;/li&gt;&lt;li&gt;Death Rate: 0.36&lt;/li&gt;&lt;/ul&gt;&lt;/div&gt;\n",
       "                 &lt;/div&gt;`,\n",
       "                {&quot;sticky&quot;: true}\n",
       "            );\n",
       "        \n",
       "    \n",
       "            var circle_92a24c72112a09c7c160298550437cd8 = L.circle(\n",
       "                [40.3399, 127.5101],\n",
       "                {&quot;bubblingMouseEvents&quot;: true, &quot;color&quot;: &quot;red&quot;, &quot;dashArray&quot;: null, &quot;dashOffset&quot;: null, &quot;fill&quot;: true, &quot;fillColor&quot;: &quot;blue&quot;, &quot;fillOpacity&quot;: 0.2, &quot;fillRule&quot;: &quot;evenodd&quot;, &quot;lineCap&quot;: &quot;round&quot;, &quot;lineJoin&quot;: &quot;round&quot;, &quot;opacity&quot;: 1.0, &quot;radius&quot;: 10000.0, &quot;stroke&quot;: true, &quot;weight&quot;: 3}\n",
       "            ).addTo(map_458ec8e400112ec513386247fe175da8);\n",
       "        \n",
       "    \n",
       "            circle_92a24c72112a09c7c160298550437cd8.bindTooltip(\n",
       "                `&lt;div&gt;\n",
       "                     &lt;div style=&#x27;margin: 0; background-color: black; color: white;&#x27;&gt;&lt;h4 style=&#x27;text-align:center;font-weight: bold&#x27;&gt;Korea, North&lt;/h4&gt;&lt;hr style=&#x27;margin:10px;color: white;&#x27;&gt;&lt;ul style=&#x27;color: white;;list-style-type:circle;align-item:left;padding-left:20px;padding-right:20px&#x27;&gt;&lt;li&gt;Confirmed: 1&lt;/li&gt;&lt;li&gt;Deaths:   6&lt;/li&gt;&lt;li&gt;Death Rate: 300.0&lt;/li&gt;&lt;/ul&gt;&lt;/div&gt;\n",
       "                 &lt;/div&gt;`,\n",
       "                {&quot;sticky&quot;: true}\n",
       "            );\n",
       "        \n",
       "    \n",
       "            var circle_8af9d52f57ddf55bcf894dcc33a91df3 = L.circle(\n",
       "                [35.907757, 127.766922],\n",
       "                {&quot;bubblingMouseEvents&quot;: true, &quot;color&quot;: &quot;red&quot;, &quot;dashArray&quot;: null, &quot;dashOffset&quot;: null, &quot;fill&quot;: true, &quot;fillColor&quot;: &quot;blue&quot;, &quot;fillOpacity&quot;: 0.2, &quot;fillRule&quot;: &quot;evenodd&quot;, &quot;lineCap&quot;: &quot;round&quot;, &quot;lineJoin&quot;: &quot;round&quot;, &quot;opacity&quot;: 1.0, &quot;radius&quot;: 860000.0, &quot;stroke&quot;: true, &quot;weight&quot;: 3}\n",
       "            ).addTo(map_458ec8e400112ec513386247fe175da8);\n",
       "        \n",
       "    \n",
       "            circle_8af9d52f57ddf55bcf894dcc33a91df3.bindTooltip(\n",
       "                `&lt;div&gt;\n",
       "                     &lt;div style=&#x27;margin: 0; background-color: black; color: white;&#x27;&gt;&lt;h4 style=&#x27;text-align:center;font-weight: bold&#x27;&gt;Korea, South&lt;/h4&gt;&lt;hr style=&#x27;margin:10px;color: white;&#x27;&gt;&lt;ul style=&#x27;color: white;;list-style-type:circle;align-item:left;padding-left:20px;padding-right:20px&#x27;&gt;&lt;li&gt;Confirmed: 30615522&lt;/li&gt;&lt;li&gt;Deaths:   34093&lt;/li&gt;&lt;li&gt;Death Rate: 0.11&lt;/li&gt;&lt;/ul&gt;&lt;/div&gt;\n",
       "                 &lt;/div&gt;`,\n",
       "                {&quot;sticky&quot;: true}\n",
       "            );\n",
       "        \n",
       "    \n",
       "            var circle_751fbeceb31653acedf200ba771c9848 = L.circle(\n",
       "                [42.602636, 20.902977],\n",
       "                {&quot;bubblingMouseEvents&quot;: true, &quot;color&quot;: &quot;red&quot;, &quot;dashArray&quot;: null, &quot;dashOffset&quot;: null, &quot;fill&quot;: true, &quot;fillColor&quot;: &quot;blue&quot;, &quot;fillOpacity&quot;: 0.2, &quot;fillRule&quot;: &quot;evenodd&quot;, &quot;lineCap&quot;: &quot;round&quot;, &quot;lineJoin&quot;: &quot;round&quot;, &quot;opacity&quot;: 1.0, &quot;radius&quot;: 610000.0, &quot;stroke&quot;: true, &quot;weight&quot;: 3}\n",
       "            ).addTo(map_458ec8e400112ec513386247fe175da8);\n",
       "        \n",
       "    \n",
       "            circle_751fbeceb31653acedf200ba771c9848.bindTooltip(\n",
       "                `&lt;div&gt;\n",
       "                     &lt;div style=&#x27;margin: 0; background-color: black; color: white;&#x27;&gt;&lt;h4 style=&#x27;text-align:center;font-weight: bold&#x27;&gt;Kosovo&lt;/h4&gt;&lt;hr style=&#x27;margin:10px;color: white;&#x27;&gt;&lt;ul style=&#x27;color: white;;list-style-type:circle;align-item:left;padding-left:20px;padding-right:20px&#x27;&gt;&lt;li&gt;Confirmed: 273312&lt;/li&gt;&lt;li&gt;Deaths:   3211&lt;/li&gt;&lt;li&gt;Death Rate: 1.17&lt;/li&gt;&lt;/ul&gt;&lt;/div&gt;\n",
       "                 &lt;/div&gt;`,\n",
       "                {&quot;sticky&quot;: true}\n",
       "            );\n",
       "        \n",
       "    \n",
       "            var circle_c4084a50289399f85d849faebdad09e7 = L.circle(\n",
       "                [29.31166, 47.481766],\n",
       "                {&quot;bubblingMouseEvents&quot;: true, &quot;color&quot;: &quot;red&quot;, &quot;dashArray&quot;: null, &quot;dashOffset&quot;: null, &quot;fill&quot;: true, &quot;fillColor&quot;: &quot;blue&quot;, &quot;fillOpacity&quot;: 0.2, &quot;fillRule&quot;: &quot;evenodd&quot;, &quot;lineCap&quot;: &quot;round&quot;, &quot;lineJoin&quot;: &quot;round&quot;, &quot;opacity&quot;: 1.0, &quot;radius&quot;: 660000.0, &quot;stroke&quot;: true, &quot;weight&quot;: 3}\n",
       "            ).addTo(map_458ec8e400112ec513386247fe175da8);\n",
       "        \n",
       "    \n",
       "            circle_c4084a50289399f85d849faebdad09e7.bindTooltip(\n",
       "                `&lt;div&gt;\n",
       "                     &lt;div style=&#x27;margin: 0; background-color: black; color: white;&#x27;&gt;&lt;h4 style=&#x27;text-align:center;font-weight: bold&#x27;&gt;Kuwait&lt;/h4&gt;&lt;hr style=&#x27;margin:10px;color: white;&#x27;&gt;&lt;ul style=&#x27;color: white;;list-style-type:circle;align-item:left;padding-left:20px;padding-right:20px&#x27;&gt;&lt;li&gt;Confirmed: 663860&lt;/li&gt;&lt;li&gt;Deaths:   2570&lt;/li&gt;&lt;li&gt;Death Rate: 0.39&lt;/li&gt;&lt;/ul&gt;&lt;/div&gt;\n",
       "                 &lt;/div&gt;`,\n",
       "                {&quot;sticky&quot;: true}\n",
       "            );\n",
       "        \n",
       "    \n",
       "            var circle_0dce669638aecc1fc44f6447d7e29471 = L.circle(\n",
       "                [41.20438, 74.766098],\n",
       "                {&quot;bubblingMouseEvents&quot;: true, &quot;color&quot;: &quot;red&quot;, &quot;dashArray&quot;: null, &quot;dashOffset&quot;: null, &quot;fill&quot;: true, &quot;fillColor&quot;: &quot;blue&quot;, &quot;fillOpacity&quot;: 0.2, &quot;fillRule&quot;: &quot;evenodd&quot;, &quot;lineCap&quot;: &quot;round&quot;, &quot;lineJoin&quot;: &quot;round&quot;, &quot;opacity&quot;: 1.0, &quot;radius&quot;: 610000.0, &quot;stroke&quot;: true, &quot;weight&quot;: 3}\n",
       "            ).addTo(map_458ec8e400112ec513386247fe175da8);\n",
       "        \n",
       "    \n",
       "            circle_0dce669638aecc1fc44f6447d7e29471.bindTooltip(\n",
       "                `&lt;div&gt;\n",
       "                     &lt;div style=&#x27;margin: 0; background-color: black; color: white;&#x27;&gt;&lt;h4 style=&#x27;text-align:center;font-weight: bold&#x27;&gt;Kyrgyzstan&lt;/h4&gt;&lt;hr style=&#x27;margin:10px;color: white;&#x27;&gt;&lt;ul style=&#x27;color: white;;list-style-type:circle;align-item:left;padding-left:20px;padding-right:20px&#x27;&gt;&lt;li&gt;Confirmed: 206708&lt;/li&gt;&lt;li&gt;Deaths:   2991&lt;/li&gt;&lt;li&gt;Death Rate: 1.45&lt;/li&gt;&lt;/ul&gt;&lt;/div&gt;\n",
       "                 &lt;/div&gt;`,\n",
       "                {&quot;sticky&quot;: true}\n",
       "            );\n",
       "        \n",
       "    \n",
       "            var circle_0d118168e8cbb4fd166d9b2bce507c4b = L.circle(\n",
       "                [19.85627, 102.495496],\n",
       "                {&quot;bubblingMouseEvents&quot;: true, &quot;color&quot;: &quot;red&quot;, &quot;dashArray&quot;: null, &quot;dashOffset&quot;: null, &quot;fill&quot;: true, &quot;fillColor&quot;: &quot;blue&quot;, &quot;fillOpacity&quot;: 0.2, &quot;fillRule&quot;: &quot;evenodd&quot;, &quot;lineCap&quot;: &quot;round&quot;, &quot;lineJoin&quot;: &quot;round&quot;, &quot;opacity&quot;: 1.0, &quot;radius&quot;: 610000.0, &quot;stroke&quot;: true, &quot;weight&quot;: 3}\n",
       "            ).addTo(map_458ec8e400112ec513386247fe175da8);\n",
       "        \n",
       "    \n",
       "            circle_0d118168e8cbb4fd166d9b2bce507c4b.bindTooltip(\n",
       "                `&lt;div&gt;\n",
       "                     &lt;div style=&#x27;margin: 0; background-color: black; color: white;&#x27;&gt;&lt;h4 style=&#x27;text-align:center;font-weight: bold&#x27;&gt;Laos&lt;/h4&gt;&lt;hr style=&#x27;margin:10px;color: white;&#x27;&gt;&lt;ul style=&#x27;color: white;;list-style-type:circle;align-item:left;padding-left:20px;padding-right:20px&#x27;&gt;&lt;li&gt;Confirmed: 218023&lt;/li&gt;&lt;li&gt;Deaths:   758&lt;/li&gt;&lt;li&gt;Death Rate: 0.35&lt;/li&gt;&lt;/ul&gt;&lt;/div&gt;\n",
       "                 &lt;/div&gt;`,\n",
       "                {&quot;sticky&quot;: true}\n",
       "            );\n",
       "        \n",
       "    \n",
       "            var circle_df6fb19a844292ef3b2c6598daafa86e = L.circle(\n",
       "                [56.8796, 24.6032],\n",
       "                {&quot;bubblingMouseEvents&quot;: true, &quot;color&quot;: &quot;red&quot;, &quot;dashArray&quot;: null, &quot;dashOffset&quot;: null, &quot;fill&quot;: true, &quot;fillColor&quot;: &quot;blue&quot;, &quot;fillOpacity&quot;: 0.2, &quot;fillRule&quot;: &quot;evenodd&quot;, &quot;lineCap&quot;: &quot;round&quot;, &quot;lineJoin&quot;: &quot;round&quot;, &quot;opacity&quot;: 1.0, &quot;radius&quot;: 660000.0, &quot;stroke&quot;: true, &quot;weight&quot;: 3}\n",
       "            ).addTo(map_458ec8e400112ec513386247fe175da8);\n",
       "        \n",
       "    \n",
       "            circle_df6fb19a844292ef3b2c6598daafa86e.bindTooltip(\n",
       "                `&lt;div&gt;\n",
       "                     &lt;div style=&#x27;margin: 0; background-color: black; color: white;&#x27;&gt;&lt;h4 style=&#x27;text-align:center;font-weight: bold&#x27;&gt;Latvia&lt;/h4&gt;&lt;hr style=&#x27;margin:10px;color: white;&#x27;&gt;&lt;ul style=&#x27;color: white;;list-style-type:circle;align-item:left;padding-left:20px;padding-right:20px&#x27;&gt;&lt;li&gt;Confirmed: 976255&lt;/li&gt;&lt;li&gt;Deaths:   6269&lt;/li&gt;&lt;li&gt;Death Rate: 0.64&lt;/li&gt;&lt;/ul&gt;&lt;/div&gt;\n",
       "                 &lt;/div&gt;`,\n",
       "                {&quot;sticky&quot;: true}\n",
       "            );\n",
       "        \n",
       "    \n",
       "            var circle_5bdc9276825afb546786e33210568a95 = L.circle(\n",
       "                [33.8547, 35.8623],\n",
       "                {&quot;bubblingMouseEvents&quot;: true, &quot;color&quot;: &quot;red&quot;, &quot;dashArray&quot;: null, &quot;dashOffset&quot;: null, &quot;fill&quot;: true, &quot;fillColor&quot;: &quot;blue&quot;, &quot;fillOpacity&quot;: 0.2, &quot;fillRule&quot;: &quot;evenodd&quot;, &quot;lineCap&quot;: &quot;round&quot;, &quot;lineJoin&quot;: &quot;round&quot;, &quot;opacity&quot;: 1.0, &quot;radius&quot;: 710000.0, &quot;stroke&quot;: true, &quot;weight&quot;: 3}\n",
       "            ).addTo(map_458ec8e400112ec513386247fe175da8);\n",
       "        \n",
       "    \n",
       "            circle_5bdc9276825afb546786e33210568a95.bindTooltip(\n",
       "                `&lt;div&gt;\n",
       "                     &lt;div style=&#x27;margin: 0; background-color: black; color: white;&#x27;&gt;&lt;h4 style=&#x27;text-align:center;font-weight: bold&#x27;&gt;Lebanon&lt;/h4&gt;&lt;hr style=&#x27;margin:10px;color: white;&#x27;&gt;&lt;ul style=&#x27;color: white;;list-style-type:circle;align-item:left;padding-left:20px;padding-right:20px&#x27;&gt;&lt;li&gt;Confirmed: 1232828&lt;/li&gt;&lt;li&gt;Deaths:   10841&lt;/li&gt;&lt;li&gt;Death Rate: 0.88&lt;/li&gt;&lt;/ul&gt;&lt;/div&gt;\n",
       "                 &lt;/div&gt;`,\n",
       "                {&quot;sticky&quot;: true}\n",
       "            );\n",
       "        \n",
       "    \n",
       "            var circle_a962e4f85ccb28df899cac30e17582f3 = L.circle(\n",
       "                [-29.61, 28.2336],\n",
       "                {&quot;bubblingMouseEvents&quot;: true, &quot;color&quot;: &quot;red&quot;, &quot;dashArray&quot;: null, &quot;dashOffset&quot;: null, &quot;fill&quot;: true, &quot;fillColor&quot;: &quot;blue&quot;, &quot;fillOpacity&quot;: 0.2, &quot;fillRule&quot;: &quot;evenodd&quot;, &quot;lineCap&quot;: &quot;round&quot;, &quot;lineJoin&quot;: &quot;round&quot;, &quot;opacity&quot;: 1.0, &quot;radius&quot;: 509999.99999999994, &quot;stroke&quot;: true, &quot;weight&quot;: 3}\n",
       "            ).addTo(map_458ec8e400112ec513386247fe175da8);\n",
       "        \n",
       "    \n",
       "            circle_a962e4f85ccb28df899cac30e17582f3.bindTooltip(\n",
       "                `&lt;div&gt;\n",
       "                     &lt;div style=&#x27;margin: 0; background-color: black; color: white;&#x27;&gt;&lt;h4 style=&#x27;text-align:center;font-weight: bold&#x27;&gt;Lesotho&lt;/h4&gt;&lt;hr style=&#x27;margin:10px;color: white;&#x27;&gt;&lt;ul style=&#x27;color: white;;list-style-type:circle;align-item:left;padding-left:20px;padding-right:20px&#x27;&gt;&lt;li&gt;Confirmed: 34790&lt;/li&gt;&lt;li&gt;Deaths:   723&lt;/li&gt;&lt;li&gt;Death Rate: 2.08&lt;/li&gt;&lt;/ul&gt;&lt;/div&gt;\n",
       "                 &lt;/div&gt;`,\n",
       "                {&quot;sticky&quot;: true}\n",
       "            );\n",
       "        \n",
       "    \n",
       "            var circle_77d372f410ac1a2f09f814d21c8a0c93 = L.circle(\n",
       "                [6.428055, -9.429499],\n",
       "                {&quot;bubblingMouseEvents&quot;: true, &quot;color&quot;: &quot;red&quot;, &quot;dashArray&quot;: null, &quot;dashOffset&quot;: null, &quot;fill&quot;: true, &quot;fillColor&quot;: &quot;blue&quot;, &quot;fillOpacity&quot;: 0.2, &quot;fillRule&quot;: &quot;evenodd&quot;, &quot;lineCap&quot;: &quot;round&quot;, &quot;lineJoin&quot;: &quot;round&quot;, &quot;opacity&quot;: 1.0, &quot;radius&quot;: 409999.99999999994, &quot;stroke&quot;: true, &quot;weight&quot;: 3}\n",
       "            ).addTo(map_458ec8e400112ec513386247fe175da8);\n",
       "        \n",
       "    \n",
       "            circle_77d372f410ac1a2f09f814d21c8a0c93.bindTooltip(\n",
       "                `&lt;div&gt;\n",
       "                     &lt;div style=&#x27;margin: 0; background-color: black; color: white;&#x27;&gt;&lt;h4 style=&#x27;text-align:center;font-weight: bold&#x27;&gt;Liberia&lt;/h4&gt;&lt;hr style=&#x27;margin:10px;color: white;&#x27;&gt;&lt;ul style=&#x27;color: white;;list-style-type:circle;align-item:left;padding-left:20px;padding-right:20px&#x27;&gt;&lt;li&gt;Confirmed: 8090&lt;/li&gt;&lt;li&gt;Deaths:   295&lt;/li&gt;&lt;li&gt;Death Rate: 3.65&lt;/li&gt;&lt;/ul&gt;&lt;/div&gt;\n",
       "                 &lt;/div&gt;`,\n",
       "                {&quot;sticky&quot;: true}\n",
       "            );\n",
       "        \n",
       "    \n",
       "            var circle_47c14049ed52bc1a3f5f25a6fb558d92 = L.circle(\n",
       "                [26.3351, 17.228331],\n",
       "                {&quot;bubblingMouseEvents&quot;: true, &quot;color&quot;: &quot;red&quot;, &quot;dashArray&quot;: null, &quot;dashOffset&quot;: null, &quot;fill&quot;: true, &quot;fillColor&quot;: &quot;blue&quot;, &quot;fillOpacity&quot;: 0.2, &quot;fillRule&quot;: &quot;evenodd&quot;, &quot;lineCap&quot;: &quot;round&quot;, &quot;lineJoin&quot;: &quot;round&quot;, &quot;opacity&quot;: 1.0, &quot;radius&quot;: 660000.0, &quot;stroke&quot;: true, &quot;weight&quot;: 3}\n",
       "            ).addTo(map_458ec8e400112ec513386247fe175da8);\n",
       "        \n",
       "    \n",
       "            circle_47c14049ed52bc1a3f5f25a6fb558d92.bindTooltip(\n",
       "                `&lt;div&gt;\n",
       "                     &lt;div style=&#x27;margin: 0; background-color: black; color: white;&#x27;&gt;&lt;h4 style=&#x27;text-align:center;font-weight: bold&#x27;&gt;Libya&lt;/h4&gt;&lt;hr style=&#x27;margin:10px;color: white;&#x27;&gt;&lt;ul style=&#x27;color: white;;list-style-type:circle;align-item:left;padding-left:20px;padding-right:20px&#x27;&gt;&lt;li&gt;Confirmed: 507187&lt;/li&gt;&lt;li&gt;Deaths:   6437&lt;/li&gt;&lt;li&gt;Death Rate: 1.27&lt;/li&gt;&lt;/ul&gt;&lt;/div&gt;\n",
       "                 &lt;/div&gt;`,\n",
       "                {&quot;sticky&quot;: true}\n",
       "            );\n",
       "        \n",
       "    \n",
       "            var circle_8093522c8dcfcdd99a0de02d5ccbb42a = L.circle(\n",
       "                [47.14, 9.55],\n",
       "                {&quot;bubblingMouseEvents&quot;: true, &quot;color&quot;: &quot;red&quot;, &quot;dashArray&quot;: null, &quot;dashOffset&quot;: null, &quot;fill&quot;: true, &quot;fillColor&quot;: &quot;blue&quot;, &quot;fillOpacity&quot;: 0.2, &quot;fillRule&quot;: &quot;evenodd&quot;, &quot;lineCap&quot;: &quot;round&quot;, &quot;lineJoin&quot;: &quot;round&quot;, &quot;opacity&quot;: 1.0, &quot;radius&quot;: 459999.99999999994, &quot;stroke&quot;: true, &quot;weight&quot;: 3}\n",
       "            ).addTo(map_458ec8e400112ec513386247fe175da8);\n",
       "        \n",
       "    \n",
       "            circle_8093522c8dcfcdd99a0de02d5ccbb42a.bindTooltip(\n",
       "                `&lt;div&gt;\n",
       "                     &lt;div style=&#x27;margin: 0; background-color: black; color: white;&#x27;&gt;&lt;h4 style=&#x27;text-align:center;font-weight: bold&#x27;&gt;Liechtenstein&lt;/h4&gt;&lt;hr style=&#x27;margin:10px;color: white;&#x27;&gt;&lt;ul style=&#x27;color: white;;list-style-type:circle;align-item:left;padding-left:20px;padding-right:20px&#x27;&gt;&lt;li&gt;Confirmed: 21432&lt;/li&gt;&lt;li&gt;Deaths:   89&lt;/li&gt;&lt;li&gt;Death Rate: 0.42&lt;/li&gt;&lt;/ul&gt;&lt;/div&gt;\n",
       "                 &lt;/div&gt;`,\n",
       "                {&quot;sticky&quot;: true}\n",
       "            );\n",
       "        \n",
       "    \n",
       "            var circle_cc313c333728951219530e409acaad9e = L.circle(\n",
       "                [55.1694, 23.8813],\n",
       "                {&quot;bubblingMouseEvents&quot;: true, &quot;color&quot;: &quot;red&quot;, &quot;dashArray&quot;: null, &quot;dashOffset&quot;: null, &quot;fill&quot;: true, &quot;fillColor&quot;: &quot;blue&quot;, &quot;fillOpacity&quot;: 0.2, &quot;fillRule&quot;: &quot;evenodd&quot;, &quot;lineCap&quot;: &quot;round&quot;, &quot;lineJoin&quot;: &quot;round&quot;, &quot;opacity&quot;: 1.0, &quot;radius&quot;: 710000.0, &quot;stroke&quot;: true, &quot;weight&quot;: 3}\n",
       "            ).addTo(map_458ec8e400112ec513386247fe175da8);\n",
       "        \n",
       "    \n",
       "            circle_cc313c333728951219530e409acaad9e.bindTooltip(\n",
       "                `&lt;div&gt;\n",
       "                     &lt;div style=&#x27;margin: 0; background-color: black; color: white;&#x27;&gt;&lt;h4 style=&#x27;text-align:center;font-weight: bold&#x27;&gt;Lithuania&lt;/h4&gt;&lt;hr style=&#x27;margin:10px;color: white;&#x27;&gt;&lt;ul style=&#x27;color: white;;list-style-type:circle;align-item:left;padding-left:20px;padding-right:20px&#x27;&gt;&lt;li&gt;Confirmed: 1307448&lt;/li&gt;&lt;li&gt;Deaths:   9596&lt;/li&gt;&lt;li&gt;Death Rate: 0.73&lt;/li&gt;&lt;/ul&gt;&lt;/div&gt;\n",
       "                 &lt;/div&gt;`,\n",
       "                {&quot;sticky&quot;: true}\n",
       "            );\n",
       "        \n",
       "    \n",
       "            var circle_f7ee45a9072d2343f3a1cfc825ff4cc0 = L.circle(\n",
       "                [49.8153, 6.1296],\n",
       "                {&quot;bubblingMouseEvents&quot;: true, &quot;color&quot;: &quot;red&quot;, &quot;dashArray&quot;: null, &quot;dashOffset&quot;: null, &quot;fill&quot;: true, &quot;fillColor&quot;: &quot;blue&quot;, &quot;fillOpacity&quot;: 0.2, &quot;fillRule&quot;: &quot;evenodd&quot;, &quot;lineCap&quot;: &quot;round&quot;, &quot;lineJoin&quot;: &quot;round&quot;, &quot;opacity&quot;: 1.0, &quot;radius&quot;: 610000.0, &quot;stroke&quot;: true, &quot;weight&quot;: 3}\n",
       "            ).addTo(map_458ec8e400112ec513386247fe175da8);\n",
       "        \n",
       "    \n",
       "            circle_f7ee45a9072d2343f3a1cfc825ff4cc0.bindTooltip(\n",
       "                `&lt;div&gt;\n",
       "                     &lt;div style=&#x27;margin: 0; background-color: black; color: white;&#x27;&gt;&lt;h4 style=&#x27;text-align:center;font-weight: bold&#x27;&gt;Luxembourg&lt;/h4&gt;&lt;hr style=&#x27;margin:10px;color: white;&#x27;&gt;&lt;ul style=&#x27;color: white;;list-style-type:circle;align-item:left;padding-left:20px;padding-right:20px&#x27;&gt;&lt;li&gt;Confirmed: 317367&lt;/li&gt;&lt;li&gt;Deaths:   1220&lt;/li&gt;&lt;li&gt;Death Rate: 0.38&lt;/li&gt;&lt;/ul&gt;&lt;/div&gt;\n",
       "                 &lt;/div&gt;`,\n",
       "                {&quot;sticky&quot;: true}\n",
       "            );\n",
       "        \n",
       "    \n",
       "            var circle_dabf302a93c7292263af545a73be45e8 = L.circle(\n",
       "                [0.0, 0.0],\n",
       "                {&quot;bubblingMouseEvents&quot;: true, &quot;color&quot;: &quot;red&quot;, &quot;dashArray&quot;: null, &quot;dashOffset&quot;: null, &quot;fill&quot;: true, &quot;fillColor&quot;: &quot;blue&quot;, &quot;fillOpacity&quot;: 0.2, &quot;fillRule&quot;: &quot;evenodd&quot;, &quot;lineCap&quot;: &quot;round&quot;, &quot;lineJoin&quot;: &quot;round&quot;, &quot;opacity&quot;: 1.0, &quot;radius&quot;: 110000.00000000001, &quot;stroke&quot;: true, &quot;weight&quot;: 3}\n",
       "            ).addTo(map_458ec8e400112ec513386247fe175da8);\n",
       "        \n",
       "    \n",
       "            circle_dabf302a93c7292263af545a73be45e8.bindTooltip(\n",
       "                `&lt;div&gt;\n",
       "                     &lt;div style=&#x27;margin: 0; background-color: black; color: white;&#x27;&gt;&lt;h4 style=&#x27;text-align:center;font-weight: bold&#x27;&gt;MS Zaandam&lt;/h4&gt;&lt;hr style=&#x27;margin:10px;color: white;&#x27;&gt;&lt;ul style=&#x27;color: white;;list-style-type:circle;align-item:left;padding-left:20px;padding-right:20px&#x27;&gt;&lt;li&gt;Confirmed: 9&lt;/li&gt;&lt;li&gt;Deaths:   2&lt;/li&gt;&lt;li&gt;Death Rate: 20.0&lt;/li&gt;&lt;/ul&gt;&lt;/div&gt;\n",
       "                 &lt;/div&gt;`,\n",
       "                {&quot;sticky&quot;: true}\n",
       "            );\n",
       "        \n",
       "    \n",
       "            var circle_e7266d4dea77bd92df1ca1aca5b287e1 = L.circle(\n",
       "                [-18.766947, 46.869107],\n",
       "                {&quot;bubblingMouseEvents&quot;: true, &quot;color&quot;: &quot;red&quot;, &quot;dashArray&quot;: null, &quot;dashOffset&quot;: null, &quot;fill&quot;: true, &quot;fillColor&quot;: &quot;blue&quot;, &quot;fillOpacity&quot;: 0.2, &quot;fillRule&quot;: &quot;evenodd&quot;, &quot;lineCap&quot;: &quot;round&quot;, &quot;lineJoin&quot;: &quot;round&quot;, &quot;opacity&quot;: 1.0, &quot;radius&quot;: 560000.0, &quot;stroke&quot;: true, &quot;weight&quot;: 3}\n",
       "            ).addTo(map_458ec8e400112ec513386247fe175da8);\n",
       "        \n",
       "    \n",
       "            circle_e7266d4dea77bd92df1ca1aca5b287e1.bindTooltip(\n",
       "                `&lt;div&gt;\n",
       "                     &lt;div style=&#x27;margin: 0; background-color: black; color: white;&#x27;&gt;&lt;h4 style=&#x27;text-align:center;font-weight: bold&#x27;&gt;Madagascar&lt;/h4&gt;&lt;hr style=&#x27;margin:10px;color: white;&#x27;&gt;&lt;ul style=&#x27;color: white;;list-style-type:circle;align-item:left;padding-left:20px;padding-right:20px&#x27;&gt;&lt;li&gt;Confirmed: 67889&lt;/li&gt;&lt;li&gt;Deaths:   1423&lt;/li&gt;&lt;li&gt;Death Rate: 2.1&lt;/li&gt;&lt;/ul&gt;&lt;/div&gt;\n",
       "                 &lt;/div&gt;`,\n",
       "                {&quot;sticky&quot;: true}\n",
       "            );\n",
       "        \n",
       "    \n",
       "            var circle_d168e7e0241c3a68819a33e5741b7d44 = L.circle(\n",
       "                [-13.2543, 34.3015],\n",
       "                {&quot;bubblingMouseEvents&quot;: true, &quot;color&quot;: &quot;red&quot;, &quot;dashArray&quot;: null, &quot;dashOffset&quot;: null, &quot;fill&quot;: true, &quot;fillColor&quot;: &quot;blue&quot;, &quot;fillOpacity&quot;: 0.2, &quot;fillRule&quot;: &quot;evenodd&quot;, &quot;lineCap&quot;: &quot;round&quot;, &quot;lineJoin&quot;: &quot;round&quot;, &quot;opacity&quot;: 1.0, &quot;radius&quot;: 560000.0, &quot;stroke&quot;: true, &quot;weight&quot;: 3}\n",
       "            ).addTo(map_458ec8e400112ec513386247fe175da8);\n",
       "        \n",
       "    \n",
       "            circle_d168e7e0241c3a68819a33e5741b7d44.bindTooltip(\n",
       "                `&lt;div&gt;\n",
       "                     &lt;div style=&#x27;margin: 0; background-color: black; color: white;&#x27;&gt;&lt;h4 style=&#x27;text-align:center;font-weight: bold&#x27;&gt;Malawi&lt;/h4&gt;&lt;hr style=&#x27;margin:10px;color: white;&#x27;&gt;&lt;ul style=&#x27;color: white;;list-style-type:circle;align-item:left;padding-left:20px;padding-right:20px&#x27;&gt;&lt;li&gt;Confirmed: 88707&lt;/li&gt;&lt;li&gt;Deaths:   2686&lt;/li&gt;&lt;li&gt;Death Rate: 3.03&lt;/li&gt;&lt;/ul&gt;&lt;/div&gt;\n",
       "                 &lt;/div&gt;`,\n",
       "                {&quot;sticky&quot;: true}\n",
       "            );\n",
       "        \n",
       "    \n",
       "            var circle_931b01a2d3275118baaa90cee2e2a1cf = L.circle(\n",
       "                [4.210484, 101.975766],\n",
       "                {&quot;bubblingMouseEvents&quot;: true, &quot;color&quot;: &quot;red&quot;, &quot;dashArray&quot;: null, &quot;dashOffset&quot;: null, &quot;fill&quot;: true, &quot;fillColor&quot;: &quot;blue&quot;, &quot;fillOpacity&quot;: 0.2, &quot;fillRule&quot;: &quot;evenodd&quot;, &quot;lineCap&quot;: &quot;round&quot;, &quot;lineJoin&quot;: &quot;round&quot;, &quot;opacity&quot;: 1.0, &quot;radius&quot;: 760000.0, &quot;stroke&quot;: true, &quot;weight&quot;: 3}\n",
       "            ).addTo(map_458ec8e400112ec513386247fe175da8);\n",
       "        \n",
       "    \n",
       "            circle_931b01a2d3275118baaa90cee2e2a1cf.bindTooltip(\n",
       "                `&lt;div&gt;\n",
       "                     &lt;div style=&#x27;margin: 0; background-color: black; color: white;&#x27;&gt;&lt;h4 style=&#x27;text-align:center;font-weight: bold&#x27;&gt;Malaysia&lt;/h4&gt;&lt;hr style=&#x27;margin:10px;color: white;&#x27;&gt;&lt;ul style=&#x27;color: white;;list-style-type:circle;align-item:left;padding-left:20px;padding-right:20px&#x27;&gt;&lt;li&gt;Confirmed: 5044718&lt;/li&gt;&lt;li&gt;Deaths:   36967&lt;/li&gt;&lt;li&gt;Death Rate: 0.73&lt;/li&gt;&lt;/ul&gt;&lt;/div&gt;\n",
       "                 &lt;/div&gt;`,\n",
       "                {&quot;sticky&quot;: true}\n",
       "            );\n",
       "        \n",
       "    \n",
       "            var circle_274c16da7a0e532e8bbbf0ea75edd520 = L.circle(\n",
       "                [3.2028, 73.2207],\n",
       "                {&quot;bubblingMouseEvents&quot;: true, &quot;color&quot;: &quot;red&quot;, &quot;dashArray&quot;: null, &quot;dashOffset&quot;: null, &quot;fill&quot;: true, &quot;fillColor&quot;: &quot;blue&quot;, &quot;fillOpacity&quot;: 0.2, &quot;fillRule&quot;: &quot;evenodd&quot;, &quot;lineCap&quot;: &quot;round&quot;, &quot;lineJoin&quot;: &quot;round&quot;, &quot;opacity&quot;: 1.0, &quot;radius&quot;: 610000.0, &quot;stroke&quot;: true, &quot;weight&quot;: 3}\n",
       "            ).addTo(map_458ec8e400112ec513386247fe175da8);\n",
       "        \n",
       "    \n",
       "            circle_274c16da7a0e532e8bbbf0ea75edd520.bindTooltip(\n",
       "                `&lt;div&gt;\n",
       "                     &lt;div style=&#x27;margin: 0; background-color: black; color: white;&#x27;&gt;&lt;h4 style=&#x27;text-align:center;font-weight: bold&#x27;&gt;Maldives&lt;/h4&gt;&lt;hr style=&#x27;margin:10px;color: white;&#x27;&gt;&lt;ul style=&#x27;color: white;;list-style-type:circle;align-item:left;padding-left:20px;padding-right:20px&#x27;&gt;&lt;li&gt;Confirmed: 185738&lt;/li&gt;&lt;li&gt;Deaths:   311&lt;/li&gt;&lt;li&gt;Death Rate: 0.17&lt;/li&gt;&lt;/ul&gt;&lt;/div&gt;\n",
       "                 &lt;/div&gt;`,\n",
       "                {&quot;sticky&quot;: true}\n",
       "            );\n",
       "        \n",
       "    \n",
       "            var circle_5007b3e4686a936a87eb6db806455464 = L.circle(\n",
       "                [17.570692, -3.996166],\n",
       "                {&quot;bubblingMouseEvents&quot;: true, &quot;color&quot;: &quot;red&quot;, &quot;dashArray&quot;: null, &quot;dashOffset&quot;: null, &quot;fill&quot;: true, &quot;fillColor&quot;: &quot;blue&quot;, &quot;fillOpacity&quot;: 0.2, &quot;fillRule&quot;: &quot;evenodd&quot;, &quot;lineCap&quot;: &quot;round&quot;, &quot;lineJoin&quot;: &quot;round&quot;, &quot;opacity&quot;: 1.0, &quot;radius&quot;: 509999.99999999994, &quot;stroke&quot;: true, &quot;weight&quot;: 3}\n",
       "            ).addTo(map_458ec8e400112ec513386247fe175da8);\n",
       "        \n",
       "    \n",
       "            circle_5007b3e4686a936a87eb6db806455464.bindTooltip(\n",
       "                `&lt;div&gt;\n",
       "                     &lt;div style=&#x27;margin: 0; background-color: black; color: white;&#x27;&gt;&lt;h4 style=&#x27;text-align:center;font-weight: bold&#x27;&gt;Mali&lt;/h4&gt;&lt;hr style=&#x27;margin:10px;color: white;&#x27;&gt;&lt;ul style=&#x27;color: white;;list-style-type:circle;align-item:left;padding-left:20px;padding-right:20px&#x27;&gt;&lt;li&gt;Confirmed: 33062&lt;/li&gt;&lt;li&gt;Deaths:   743&lt;/li&gt;&lt;li&gt;Death Rate: 2.25&lt;/li&gt;&lt;/ul&gt;&lt;/div&gt;\n",
       "                 &lt;/div&gt;`,\n",
       "                {&quot;sticky&quot;: true}\n",
       "            );\n",
       "        \n",
       "    \n",
       "            var circle_2099b7c3dcf8108d047288d56e64b63f = L.circle(\n",
       "                [35.9375, 14.3754],\n",
       "                {&quot;bubblingMouseEvents&quot;: true, &quot;color&quot;: &quot;red&quot;, &quot;dashArray&quot;: null, &quot;dashOffset&quot;: null, &quot;fill&quot;: true, &quot;fillColor&quot;: &quot;blue&quot;, &quot;fillOpacity&quot;: 0.2, &quot;fillRule&quot;: &quot;evenodd&quot;, &quot;lineCap&quot;: &quot;round&quot;, &quot;lineJoin&quot;: &quot;round&quot;, &quot;opacity&quot;: 1.0, &quot;radius&quot;: 560000.0, &quot;stroke&quot;: true, &quot;weight&quot;: 3}\n",
       "            ).addTo(map_458ec8e400112ec513386247fe175da8);\n",
       "        \n",
       "    \n",
       "            circle_2099b7c3dcf8108d047288d56e64b63f.bindTooltip(\n",
       "                `&lt;div&gt;\n",
       "                     &lt;div style=&#x27;margin: 0; background-color: black; color: white;&#x27;&gt;&lt;h4 style=&#x27;text-align:center;font-weight: bold&#x27;&gt;Malta&lt;/h4&gt;&lt;hr style=&#x27;margin:10px;color: white;&#x27;&gt;&lt;ul style=&#x27;color: white;;list-style-type:circle;align-item:left;padding-left:20px;padding-right:20px&#x27;&gt;&lt;li&gt;Confirmed: 117610&lt;/li&gt;&lt;li&gt;Deaths:   828&lt;/li&gt;&lt;li&gt;Death Rate: 0.7&lt;/li&gt;&lt;/ul&gt;&lt;/div&gt;\n",
       "                 &lt;/div&gt;`,\n",
       "                {&quot;sticky&quot;: true}\n",
       "            );\n",
       "        \n",
       "    \n",
       "            var circle_e245ab071da513e9f8dfbc5712c47836 = L.circle(\n",
       "                [7.1315, 171.1845],\n",
       "                {&quot;bubblingMouseEvents&quot;: true, &quot;color&quot;: &quot;red&quot;, &quot;dashArray&quot;: null, &quot;dashOffset&quot;: null, &quot;fill&quot;: true, &quot;fillColor&quot;: &quot;blue&quot;, &quot;fillOpacity&quot;: 0.2, &quot;fillRule&quot;: &quot;evenodd&quot;, &quot;lineCap&quot;: &quot;round&quot;, &quot;lineJoin&quot;: &quot;round&quot;, &quot;opacity&quot;: 1.0, &quot;radius&quot;: 459999.99999999994, &quot;stroke&quot;: true, &quot;weight&quot;: 3}\n",
       "            ).addTo(map_458ec8e400112ec513386247fe175da8);\n",
       "        \n",
       "    \n",
       "            circle_e245ab071da513e9f8dfbc5712c47836.bindTooltip(\n",
       "                `&lt;div&gt;\n",
       "                     &lt;div style=&#x27;margin: 0; background-color: black; color: white;&#x27;&gt;&lt;h4 style=&#x27;text-align:center;font-weight: bold&#x27;&gt;Marshall Islands&lt;/h4&gt;&lt;hr style=&#x27;margin:10px;color: white;&#x27;&gt;&lt;ul style=&#x27;color: white;;list-style-type:circle;align-item:left;padding-left:20px;padding-right:20px&#x27;&gt;&lt;li&gt;Confirmed: 15649&lt;/li&gt;&lt;li&gt;Deaths:   17&lt;/li&gt;&lt;li&gt;Death Rate: 0.11&lt;/li&gt;&lt;/ul&gt;&lt;/div&gt;\n",
       "                 &lt;/div&gt;`,\n",
       "                {&quot;sticky&quot;: true}\n",
       "            );\n",
       "        \n",
       "    \n",
       "            var circle_ab1a8cf9e66a6e16887930bba2898f51 = L.circle(\n",
       "                [21.0079, -10.9408],\n",
       "                {&quot;bubblingMouseEvents&quot;: true, &quot;color&quot;: &quot;red&quot;, &quot;dashArray&quot;: null, &quot;dashOffset&quot;: null, &quot;fill&quot;: true, &quot;fillColor&quot;: &quot;blue&quot;, &quot;fillOpacity&quot;: 0.2, &quot;fillRule&quot;: &quot;evenodd&quot;, &quot;lineCap&quot;: &quot;round&quot;, &quot;lineJoin&quot;: &quot;round&quot;, &quot;opacity&quot;: 1.0, &quot;radius&quot;: 560000.0, &quot;stroke&quot;: true, &quot;weight&quot;: 3}\n",
       "            ).addTo(map_458ec8e400112ec513386247fe175da8);\n",
       "        \n",
       "    \n",
       "            circle_ab1a8cf9e66a6e16887930bba2898f51.bindTooltip(\n",
       "                `&lt;div&gt;\n",
       "                     &lt;div style=&#x27;margin: 0; background-color: black; color: white;&#x27;&gt;&lt;h4 style=&#x27;text-align:center;font-weight: bold&#x27;&gt;Mauritania&lt;/h4&gt;&lt;hr style=&#x27;margin:10px;color: white;&#x27;&gt;&lt;ul style=&#x27;color: white;;list-style-type:circle;align-item:left;padding-left:20px;padding-right:20px&#x27;&gt;&lt;li&gt;Confirmed: 63668&lt;/li&gt;&lt;li&gt;Deaths:   997&lt;/li&gt;&lt;li&gt;Death Rate: 1.57&lt;/li&gt;&lt;/ul&gt;&lt;/div&gt;\n",
       "                 &lt;/div&gt;`,\n",
       "                {&quot;sticky&quot;: true}\n",
       "            );\n",
       "        \n",
       "    \n",
       "            var circle_c357c2b369bca696e0672157e19bf100 = L.circle(\n",
       "                [-20.348404, 57.552152],\n",
       "                {&quot;bubblingMouseEvents&quot;: true, &quot;color&quot;: &quot;red&quot;, &quot;dashArray&quot;: null, &quot;dashOffset&quot;: null, &quot;fill&quot;: true, &quot;fillColor&quot;: &quot;blue&quot;, &quot;fillOpacity&quot;: 0.2, &quot;fillRule&quot;: &quot;evenodd&quot;, &quot;lineCap&quot;: &quot;round&quot;, &quot;lineJoin&quot;: &quot;round&quot;, &quot;opacity&quot;: 1.0, &quot;radius&quot;: 610000.0, &quot;stroke&quot;: true, &quot;weight&quot;: 3}\n",
       "            ).addTo(map_458ec8e400112ec513386247fe175da8);\n",
       "        \n",
       "    \n",
       "            circle_c357c2b369bca696e0672157e19bf100.bindTooltip(\n",
       "                `&lt;div&gt;\n",
       "                     &lt;div style=&#x27;margin: 0; background-color: black; color: white;&#x27;&gt;&lt;h4 style=&#x27;text-align:center;font-weight: bold&#x27;&gt;Mauritius&lt;/h4&gt;&lt;hr style=&#x27;margin:10px;color: white;&#x27;&gt;&lt;ul style=&#x27;color: white;;list-style-type:circle;align-item:left;padding-left:20px;padding-right:20px&#x27;&gt;&lt;li&gt;Confirmed: 296042&lt;/li&gt;&lt;li&gt;Deaths:   1044&lt;/li&gt;&lt;li&gt;Death Rate: 0.35&lt;/li&gt;&lt;/ul&gt;&lt;/div&gt;\n",
       "                 &lt;/div&gt;`,\n",
       "                {&quot;sticky&quot;: true}\n",
       "            );\n",
       "        \n",
       "    \n",
       "            var circle_20060c61635c48dd6da767c99fb84d48 = L.circle(\n",
       "                [23.6345, -102.5528],\n",
       "                {&quot;bubblingMouseEvents&quot;: true, &quot;color&quot;: &quot;red&quot;, &quot;dashArray&quot;: null, &quot;dashOffset&quot;: null, &quot;fill&quot;: true, &quot;fillColor&quot;: &quot;blue&quot;, &quot;fillOpacity&quot;: 0.2, &quot;fillRule&quot;: &quot;evenodd&quot;, &quot;lineCap&quot;: &quot;round&quot;, &quot;lineJoin&quot;: &quot;round&quot;, &quot;opacity&quot;: 1.0, &quot;radius&quot;: 760000.0, &quot;stroke&quot;: true, &quot;weight&quot;: 3}\n",
       "            ).addTo(map_458ec8e400112ec513386247fe175da8);\n",
       "        \n",
       "    \n",
       "            circle_20060c61635c48dd6da767c99fb84d48.bindTooltip(\n",
       "                `&lt;div&gt;\n",
       "                     &lt;div style=&#x27;margin: 0; background-color: black; color: white;&#x27;&gt;&lt;h4 style=&#x27;text-align:center;font-weight: bold&#x27;&gt;Mexico&lt;/h4&gt;&lt;hr style=&#x27;margin:10px;color: white;&#x27;&gt;&lt;ul style=&#x27;color: white;;list-style-type:circle;align-item:left;padding-left:20px;padding-right:20px&#x27;&gt;&lt;li&gt;Confirmed: 7483444&lt;/li&gt;&lt;li&gt;Deaths:   333188&lt;/li&gt;&lt;li&gt;Death Rate: 4.45&lt;/li&gt;&lt;/ul&gt;&lt;/div&gt;\n",
       "                 &lt;/div&gt;`,\n",
       "                {&quot;sticky&quot;: true}\n",
       "            );\n",
       "        \n",
       "    \n",
       "            var circle_26f4f637a3387e5be4df881d8f26cca5 = L.circle(\n",
       "                [7.4256, 150.5508],\n",
       "                {&quot;bubblingMouseEvents&quot;: true, &quot;color&quot;: &quot;red&quot;, &quot;dashArray&quot;: null, &quot;dashOffset&quot;: null, &quot;fill&quot;: true, &quot;fillColor&quot;: &quot;blue&quot;, &quot;fillOpacity&quot;: 0.2, &quot;fillRule&quot;: &quot;evenodd&quot;, &quot;lineCap&quot;: &quot;round&quot;, &quot;lineJoin&quot;: &quot;round&quot;, &quot;opacity&quot;: 1.0, &quot;radius&quot;: 509999.99999999994, &quot;stroke&quot;: true, &quot;weight&quot;: 3}\n",
       "            ).addTo(map_458ec8e400112ec513386247fe175da8);\n",
       "        \n",
       "    \n",
       "            circle_26f4f637a3387e5be4df881d8f26cca5.bindTooltip(\n",
       "                `&lt;div&gt;\n",
       "                     &lt;div style=&#x27;margin: 0; background-color: black; color: white;&#x27;&gt;&lt;h4 style=&#x27;text-align:center;font-weight: bold&#x27;&gt;Micronesia&lt;/h4&gt;&lt;hr style=&#x27;margin:10px;color: white;&#x27;&gt;&lt;ul style=&#x27;color: white;;list-style-type:circle;align-item:left;padding-left:20px;padding-right:20px&#x27;&gt;&lt;li&gt;Confirmed: 23948&lt;/li&gt;&lt;li&gt;Deaths:   61&lt;/li&gt;&lt;li&gt;Death Rate: 0.25&lt;/li&gt;&lt;/ul&gt;&lt;/div&gt;\n",
       "                 &lt;/div&gt;`,\n",
       "                {&quot;sticky&quot;: true}\n",
       "            );\n",
       "        \n",
       "    \n",
       "            var circle_c94faa4197b66fa5d3184f721b1ad3a2 = L.circle(\n",
       "                [47.4116, 28.3699],\n",
       "                {&quot;bubblingMouseEvents&quot;: true, &quot;color&quot;: &quot;red&quot;, &quot;dashArray&quot;: null, &quot;dashOffset&quot;: null, &quot;fill&quot;: true, &quot;fillColor&quot;: &quot;blue&quot;, &quot;fillOpacity&quot;: 0.2, &quot;fillRule&quot;: &quot;evenodd&quot;, &quot;lineCap&quot;: &quot;round&quot;, &quot;lineJoin&quot;: &quot;round&quot;, &quot;opacity&quot;: 1.0, &quot;radius&quot;: 660000.0, &quot;stroke&quot;: true, &quot;weight&quot;: 3}\n",
       "            ).addTo(map_458ec8e400112ec513386247fe175da8);\n",
       "        \n",
       "    \n",
       "            circle_c94faa4197b66fa5d3184f721b1ad3a2.bindTooltip(\n",
       "                `&lt;div&gt;\n",
       "                     &lt;div style=&#x27;margin: 0; background-color: black; color: white;&#x27;&gt;&lt;h4 style=&#x27;text-align:center;font-weight: bold&#x27;&gt;Moldova&lt;/h4&gt;&lt;hr style=&#x27;margin:10px;color: white;&#x27;&gt;&lt;ul style=&#x27;color: white;;list-style-type:circle;align-item:left;padding-left:20px;padding-right:20px&#x27;&gt;&lt;li&gt;Confirmed: 611140&lt;/li&gt;&lt;li&gt;Deaths:   12003&lt;/li&gt;&lt;li&gt;Death Rate: 1.96&lt;/li&gt;&lt;/ul&gt;&lt;/div&gt;\n",
       "                 &lt;/div&gt;`,\n",
       "                {&quot;sticky&quot;: true}\n",
       "            );\n",
       "        \n",
       "    \n",
       "            var circle_08520fe9f7e1f55bd1cecc6acfa0c93c = L.circle(\n",
       "                [43.7333, 7.4167],\n",
       "                {&quot;bubblingMouseEvents&quot;: true, &quot;color&quot;: &quot;red&quot;, &quot;dashArray&quot;: null, &quot;dashOffset&quot;: null, &quot;fill&quot;: true, &quot;fillColor&quot;: &quot;blue&quot;, &quot;fillOpacity&quot;: 0.2, &quot;fillRule&quot;: &quot;evenodd&quot;, &quot;lineCap&quot;: &quot;round&quot;, &quot;lineJoin&quot;: &quot;round&quot;, &quot;opacity&quot;: 1.0, &quot;radius&quot;: 459999.99999999994, &quot;stroke&quot;: true, &quot;weight&quot;: 3}\n",
       "            ).addTo(map_458ec8e400112ec513386247fe175da8);\n",
       "        \n",
       "    \n",
       "            circle_08520fe9f7e1f55bd1cecc6acfa0c93c.bindTooltip(\n",
       "                `&lt;div&gt;\n",
       "                     &lt;div style=&#x27;margin: 0; background-color: black; color: white;&#x27;&gt;&lt;h4 style=&#x27;text-align:center;font-weight: bold&#x27;&gt;Monaco&lt;/h4&gt;&lt;hr style=&#x27;margin:10px;color: white;&#x27;&gt;&lt;ul style=&#x27;color: white;;list-style-type:circle;align-item:left;padding-left:20px;padding-right:20px&#x27;&gt;&lt;li&gt;Confirmed: 16121&lt;/li&gt;&lt;li&gt;Deaths:   67&lt;/li&gt;&lt;li&gt;Death Rate: 0.42&lt;/li&gt;&lt;/ul&gt;&lt;/div&gt;\n",
       "                 &lt;/div&gt;`,\n",
       "                {&quot;sticky&quot;: true}\n",
       "            );\n",
       "        \n",
       "    \n",
       "            var circle_1186e92176eb02ab6aa3a985d15d1453 = L.circle(\n",
       "                [46.8625, 103.8467],\n",
       "                {&quot;bubblingMouseEvents&quot;: true, &quot;color&quot;: &quot;red&quot;, &quot;dashArray&quot;: null, &quot;dashOffset&quot;: null, &quot;fill&quot;: true, &quot;fillColor&quot;: &quot;blue&quot;, &quot;fillOpacity&quot;: 0.2, &quot;fillRule&quot;: &quot;evenodd&quot;, &quot;lineCap&quot;: &quot;round&quot;, &quot;lineJoin&quot;: &quot;round&quot;, &quot;opacity&quot;: 1.0, &quot;radius&quot;: 660000.0, &quot;stroke&quot;: true, &quot;weight&quot;: 3}\n",
       "            ).addTo(map_458ec8e400112ec513386247fe175da8);\n",
       "        \n",
       "    \n",
       "            circle_1186e92176eb02ab6aa3a985d15d1453.bindTooltip(\n",
       "                `&lt;div&gt;\n",
       "                     &lt;div style=&#x27;margin: 0; background-color: black; color: white;&#x27;&gt;&lt;h4 style=&#x27;text-align:center;font-weight: bold&#x27;&gt;Mongolia&lt;/h4&gt;&lt;hr style=&#x27;margin:10px;color: white;&#x27;&gt;&lt;ul style=&#x27;color: white;;list-style-type:circle;align-item:left;padding-left:20px;padding-right:20px&#x27;&gt;&lt;li&gt;Confirmed: 1007900&lt;/li&gt;&lt;li&gt;Deaths:   2136&lt;/li&gt;&lt;li&gt;Death Rate: 0.21&lt;/li&gt;&lt;/ul&gt;&lt;/div&gt;\n",
       "                 &lt;/div&gt;`,\n",
       "                {&quot;sticky&quot;: true}\n",
       "            );\n",
       "        \n",
       "    \n",
       "            var circle_c62d372e7272ca88425604597935f25e = L.circle(\n",
       "                [42.708678, 19.37439],\n",
       "                {&quot;bubblingMouseEvents&quot;: true, &quot;color&quot;: &quot;red&quot;, &quot;dashArray&quot;: null, &quot;dashOffset&quot;: null, &quot;fill&quot;: true, &quot;fillColor&quot;: &quot;blue&quot;, &quot;fillOpacity&quot;: 0.2, &quot;fillRule&quot;: &quot;evenodd&quot;, &quot;lineCap&quot;: &quot;round&quot;, &quot;lineJoin&quot;: &quot;round&quot;, &quot;opacity&quot;: 1.0, &quot;radius&quot;: 610000.0, &quot;stroke&quot;: true, &quot;weight&quot;: 3}\n",
       "            ).addTo(map_458ec8e400112ec513386247fe175da8);\n",
       "        \n",
       "    \n",
       "            circle_c62d372e7272ca88425604597935f25e.bindTooltip(\n",
       "                `&lt;div&gt;\n",
       "                     &lt;div style=&#x27;margin: 0; background-color: black; color: white;&#x27;&gt;&lt;h4 style=&#x27;text-align:center;font-weight: bold&#x27;&gt;Montenegro&lt;/h4&gt;&lt;hr style=&#x27;margin:10px;color: white;&#x27;&gt;&lt;ul style=&#x27;color: white;;list-style-type:circle;align-item:left;padding-left:20px;padding-right:20px&#x27;&gt;&lt;li&gt;Confirmed: 288808&lt;/li&gt;&lt;li&gt;Deaths:   2808&lt;/li&gt;&lt;li&gt;Death Rate: 0.97&lt;/li&gt;&lt;/ul&gt;&lt;/div&gt;\n",
       "                 &lt;/div&gt;`,\n",
       "                {&quot;sticky&quot;: true}\n",
       "            );\n",
       "        \n",
       "    \n",
       "            var circle_1c3b74d423734efa93e9e4c9da5195ea = L.circle(\n",
       "                [31.7917, -7.0926],\n",
       "                {&quot;bubblingMouseEvents&quot;: true, &quot;color&quot;: &quot;red&quot;, &quot;dashArray&quot;: null, &quot;dashOffset&quot;: null, &quot;fill&quot;: true, &quot;fillColor&quot;: &quot;blue&quot;, &quot;fillOpacity&quot;: 0.2, &quot;fillRule&quot;: &quot;evenodd&quot;, &quot;lineCap&quot;: &quot;round&quot;, &quot;lineJoin&quot;: &quot;round&quot;, &quot;opacity&quot;: 1.0, &quot;radius&quot;: 710000.0, &quot;stroke&quot;: true, &quot;weight&quot;: 3}\n",
       "            ).addTo(map_458ec8e400112ec513386247fe175da8);\n",
       "        \n",
       "    \n",
       "            circle_1c3b74d423734efa93e9e4c9da5195ea.bindTooltip(\n",
       "                `&lt;div&gt;\n",
       "                     &lt;div style=&#x27;margin: 0; background-color: black; color: white;&#x27;&gt;&lt;h4 style=&#x27;text-align:center;font-weight: bold&#x27;&gt;Morocco&lt;/h4&gt;&lt;hr style=&#x27;margin:10px;color: white;&#x27;&gt;&lt;ul style=&#x27;color: white;;list-style-type:circle;align-item:left;padding-left:20px;padding-right:20px&#x27;&gt;&lt;li&gt;Confirmed: 1272490&lt;/li&gt;&lt;li&gt;Deaths:   16296&lt;/li&gt;&lt;li&gt;Death Rate: 1.28&lt;/li&gt;&lt;/ul&gt;&lt;/div&gt;\n",
       "                 &lt;/div&gt;`,\n",
       "                {&quot;sticky&quot;: true}\n",
       "            );\n",
       "        \n",
       "    \n",
       "            var circle_f3a301ce17209db9dd30af988de8dfd3 = L.circle(\n",
       "                [-18.665695, 35.529562],\n",
       "                {&quot;bubblingMouseEvents&quot;: true, &quot;color&quot;: &quot;red&quot;, &quot;dashArray&quot;: null, &quot;dashOffset&quot;: null, &quot;fill&quot;: true, &quot;fillColor&quot;: &quot;blue&quot;, &quot;fillOpacity&quot;: 0.2, &quot;fillRule&quot;: &quot;evenodd&quot;, &quot;lineCap&quot;: &quot;round&quot;, &quot;lineJoin&quot;: &quot;round&quot;, &quot;opacity&quot;: 1.0, &quot;radius&quot;: 610000.0, &quot;stroke&quot;: true, &quot;weight&quot;: 3}\n",
       "            ).addTo(map_458ec8e400112ec513386247fe175da8);\n",
       "        \n",
       "    \n",
       "            circle_f3a301ce17209db9dd30af988de8dfd3.bindTooltip(\n",
       "                `&lt;div&gt;\n",
       "                     &lt;div style=&#x27;margin: 0; background-color: black; color: white;&#x27;&gt;&lt;h4 style=&#x27;text-align:center;font-weight: bold&#x27;&gt;Mozambique&lt;/h4&gt;&lt;hr style=&#x27;margin:10px;color: white;&#x27;&gt;&lt;ul style=&#x27;color: white;;list-style-type:circle;align-item:left;padding-left:20px;padding-right:20px&#x27;&gt;&lt;li&gt;Confirmed: 233214&lt;/li&gt;&lt;li&gt;Deaths:   2242&lt;/li&gt;&lt;li&gt;Death Rate: 0.96&lt;/li&gt;&lt;/ul&gt;&lt;/div&gt;\n",
       "                 &lt;/div&gt;`,\n",
       "                {&quot;sticky&quot;: true}\n",
       "            );\n",
       "        \n",
       "    \n",
       "            var circle_3ec081a7000fc1bf395923e544730ba5 = L.circle(\n",
       "                [-22.9576, 18.4904],\n",
       "                {&quot;bubblingMouseEvents&quot;: true, &quot;color&quot;: &quot;red&quot;, &quot;dashArray&quot;: null, &quot;dashOffset&quot;: null, &quot;fill&quot;: true, &quot;fillColor&quot;: &quot;blue&quot;, &quot;fillOpacity&quot;: 0.2, &quot;fillRule&quot;: &quot;evenodd&quot;, &quot;lineCap&quot;: &quot;round&quot;, &quot;lineJoin&quot;: &quot;round&quot;, &quot;opacity&quot;: 1.0, &quot;radius&quot;: 610000.0, &quot;stroke&quot;: true, &quot;weight&quot;: 3}\n",
       "            ).addTo(map_458ec8e400112ec513386247fe175da8);\n",
       "        \n",
       "    \n",
       "            circle_3ec081a7000fc1bf395923e544730ba5.bindTooltip(\n",
       "                `&lt;div&gt;\n",
       "                     &lt;div style=&#x27;margin: 0; background-color: black; color: white;&#x27;&gt;&lt;h4 style=&#x27;text-align:center;font-weight: bold&#x27;&gt;Namibia&lt;/h4&gt;&lt;hr style=&#x27;margin:10px;color: white;&#x27;&gt;&lt;ul style=&#x27;color: white;;list-style-type:circle;align-item:left;padding-left:20px;padding-right:20px&#x27;&gt;&lt;li&gt;Confirmed: 171156&lt;/li&gt;&lt;li&gt;Deaths:   4090&lt;/li&gt;&lt;li&gt;Death Rate: 2.39&lt;/li&gt;&lt;/ul&gt;&lt;/div&gt;\n",
       "                 &lt;/div&gt;`,\n",
       "                {&quot;sticky&quot;: true}\n",
       "            );\n",
       "        \n",
       "    \n",
       "            var circle_ba2563f7f218c5a265c05570820cd8f5 = L.circle(\n",
       "                [-0.5228, 166.9315],\n",
       "                {&quot;bubblingMouseEvents&quot;: true, &quot;color&quot;: &quot;red&quot;, &quot;dashArray&quot;: null, &quot;dashOffset&quot;: null, &quot;fill&quot;: true, &quot;fillColor&quot;: &quot;blue&quot;, &quot;fillOpacity&quot;: 0.2, &quot;fillRule&quot;: &quot;evenodd&quot;, &quot;lineCap&quot;: &quot;round&quot;, &quot;lineJoin&quot;: &quot;round&quot;, &quot;opacity&quot;: 1.0, &quot;radius&quot;: 409999.99999999994, &quot;stroke&quot;: true, &quot;weight&quot;: 3}\n",
       "            ).addTo(map_458ec8e400112ec513386247fe175da8);\n",
       "        \n",
       "    \n",
       "            circle_ba2563f7f218c5a265c05570820cd8f5.bindTooltip(\n",
       "                `&lt;div&gt;\n",
       "                     &lt;div style=&#x27;margin: 0; background-color: black; color: white;&#x27;&gt;&lt;h4 style=&#x27;text-align:center;font-weight: bold&#x27;&gt;Nauru&lt;/h4&gt;&lt;hr style=&#x27;margin:10px;color: white;&#x27;&gt;&lt;ul style=&#x27;color: white;;list-style-type:circle;align-item:left;padding-left:20px;padding-right:20px&#x27;&gt;&lt;li&gt;Confirmed: 5247&lt;/li&gt;&lt;li&gt;Deaths:   1&lt;/li&gt;&lt;li&gt;Death Rate: 0.02&lt;/li&gt;&lt;/ul&gt;&lt;/div&gt;\n",
       "                 &lt;/div&gt;`,\n",
       "                {&quot;sticky&quot;: true}\n",
       "            );\n",
       "        \n",
       "    \n",
       "            var circle_9f01ef7e0764e29976e88d8101c138c8 = L.circle(\n",
       "                [28.1667, 84.25],\n",
       "                {&quot;bubblingMouseEvents&quot;: true, &quot;color&quot;: &quot;red&quot;, &quot;dashArray&quot;: null, &quot;dashOffset&quot;: null, &quot;fill&quot;: true, &quot;fillColor&quot;: &quot;blue&quot;, &quot;fillOpacity&quot;: 0.2, &quot;fillRule&quot;: &quot;evenodd&quot;, &quot;lineCap&quot;: &quot;round&quot;, &quot;lineJoin&quot;: &quot;round&quot;, &quot;opacity&quot;: 1.0, &quot;radius&quot;: 660000.0, &quot;stroke&quot;: true, &quot;weight&quot;: 3}\n",
       "            ).addTo(map_458ec8e400112ec513386247fe175da8);\n",
       "        \n",
       "    \n",
       "            circle_9f01ef7e0764e29976e88d8101c138c8.bindTooltip(\n",
       "                `&lt;div&gt;\n",
       "                     &lt;div style=&#x27;margin: 0; background-color: black; color: white;&#x27;&gt;&lt;h4 style=&#x27;text-align:center;font-weight: bold&#x27;&gt;Nepal&lt;/h4&gt;&lt;hr style=&#x27;margin:10px;color: white;&#x27;&gt;&lt;ul style=&#x27;color: white;;list-style-type:circle;align-item:left;padding-left:20px;padding-right:20px&#x27;&gt;&lt;li&gt;Confirmed: 1001154&lt;/li&gt;&lt;li&gt;Deaths:   12020&lt;/li&gt;&lt;li&gt;Death Rate: 1.2&lt;/li&gt;&lt;/ul&gt;&lt;/div&gt;\n",
       "                 &lt;/div&gt;`,\n",
       "                {&quot;sticky&quot;: true}\n",
       "            );\n",
       "        \n",
       "    \n",
       "            var circle_6f5d041cb45a2bb50d08b85c56994796 = L.circle(\n",
       "                [12.5211, -69.9683],\n",
       "                {&quot;bubblingMouseEvents&quot;: true, &quot;color&quot;: &quot;red&quot;, &quot;dashArray&quot;: null, &quot;dashOffset&quot;: null, &quot;fill&quot;: true, &quot;fillColor&quot;: &quot;blue&quot;, &quot;fillOpacity&quot;: 0.2, &quot;fillRule&quot;: &quot;evenodd&quot;, &quot;lineCap&quot;: &quot;round&quot;, &quot;lineJoin&quot;: &quot;round&quot;, &quot;opacity&quot;: 1.0, &quot;radius&quot;: 509999.99999999994, &quot;stroke&quot;: true, &quot;weight&quot;: 3}\n",
       "            ).addTo(map_458ec8e400112ec513386247fe175da8);\n",
       "        \n",
       "    \n",
       "            circle_6f5d041cb45a2bb50d08b85c56994796.bindTooltip(\n",
       "                `&lt;div&gt;\n",
       "                     &lt;div style=&#x27;margin: 0; background-color: black; color: white;&#x27;&gt;&lt;h4 style=&#x27;text-align:center;font-weight: bold&#x27;&gt;Netherlands&lt;/h4&gt;&lt;hr style=&#x27;margin:10px;color: white;&#x27;&gt;&lt;ul style=&#x27;color: white;;list-style-type:circle;align-item:left;padding-left:20px;padding-right:20px&#x27;&gt;&lt;li&gt;Confirmed: 44044&lt;/li&gt;&lt;li&gt;Deaths:   282&lt;/li&gt;&lt;li&gt;Death Rate: 0.64&lt;/li&gt;&lt;/ul&gt;&lt;/div&gt;\n",
       "                 &lt;/div&gt;`,\n",
       "                {&quot;sticky&quot;: true}\n",
       "            );\n",
       "        \n",
       "    \n",
       "            var circle_699c73254e50557ca4e1d63ca06cd1f9 = L.circle(\n",
       "                [12.1784, -68.2385],\n",
       "                {&quot;bubblingMouseEvents&quot;: true, &quot;color&quot;: &quot;red&quot;, &quot;dashArray&quot;: null, &quot;dashOffset&quot;: null, &quot;fill&quot;: true, &quot;fillColor&quot;: &quot;blue&quot;, &quot;fillOpacity&quot;: 0.2, &quot;fillRule&quot;: &quot;evenodd&quot;, &quot;lineCap&quot;: &quot;round&quot;, &quot;lineJoin&quot;: &quot;round&quot;, &quot;opacity&quot;: 1.0, &quot;radius&quot;: 459999.99999999994, &quot;stroke&quot;: true, &quot;weight&quot;: 3}\n",
       "            ).addTo(map_458ec8e400112ec513386247fe175da8);\n",
       "        \n",
       "    \n",
       "            circle_699c73254e50557ca4e1d63ca06cd1f9.bindTooltip(\n",
       "                `&lt;div&gt;\n",
       "                     &lt;div style=&#x27;margin: 0; background-color: black; color: white;&#x27;&gt;&lt;h4 style=&#x27;text-align:center;font-weight: bold&#x27;&gt;Netherlands&lt;/h4&gt;&lt;hr style=&#x27;margin:10px;color: white;&#x27;&gt;&lt;ul style=&#x27;color: white;;list-style-type:circle;align-item:left;padding-left:20px;padding-right:20px&#x27;&gt;&lt;li&gt;Confirmed: 11804&lt;/li&gt;&lt;li&gt;Deaths:   41&lt;/li&gt;&lt;li&gt;Death Rate: 0.35&lt;/li&gt;&lt;/ul&gt;&lt;/div&gt;\n",
       "                 &lt;/div&gt;`,\n",
       "                {&quot;sticky&quot;: true}\n",
       "            );\n",
       "        \n",
       "    \n",
       "            var circle_3519ec3f26d0fd6fed30c6bccb3157f3 = L.circle(\n",
       "                [12.1696, -68.99],\n",
       "                {&quot;bubblingMouseEvents&quot;: true, &quot;color&quot;: &quot;red&quot;, &quot;dashArray&quot;: null, &quot;dashOffset&quot;: null, &quot;fill&quot;: true, &quot;fillColor&quot;: &quot;blue&quot;, &quot;fillOpacity&quot;: 0.2, &quot;fillRule&quot;: &quot;evenodd&quot;, &quot;lineCap&quot;: &quot;round&quot;, &quot;lineJoin&quot;: &quot;round&quot;, &quot;opacity&quot;: 1.0, &quot;radius&quot;: 509999.99999999994, &quot;stroke&quot;: true, &quot;weight&quot;: 3}\n",
       "            ).addTo(map_458ec8e400112ec513386247fe175da8);\n",
       "        \n",
       "    \n",
       "            circle_3519ec3f26d0fd6fed30c6bccb3157f3.bindTooltip(\n",
       "                `&lt;div&gt;\n",
       "                     &lt;div style=&#x27;margin: 0; background-color: black; color: white;&#x27;&gt;&lt;h4 style=&#x27;text-align:center;font-weight: bold&#x27;&gt;Netherlands&lt;/h4&gt;&lt;hr style=&#x27;margin:10px;color: white;&#x27;&gt;&lt;ul style=&#x27;color: white;;list-style-type:circle;align-item:left;padding-left:20px;padding-right:20px&#x27;&gt;&lt;li&gt;Confirmed: 45986&lt;/li&gt;&lt;li&gt;Deaths:   301&lt;/li&gt;&lt;li&gt;Death Rate: 0.65&lt;/li&gt;&lt;/ul&gt;&lt;/div&gt;\n",
       "                 &lt;/div&gt;`,\n",
       "                {&quot;sticky&quot;: true}\n",
       "            );\n",
       "        \n",
       "    \n",
       "            var circle_7b829c386f839f34ad8a18cdd5f63de5 = L.circle(\n",
       "                [18.0425, -63.0548],\n",
       "                {&quot;bubblingMouseEvents&quot;: true, &quot;color&quot;: &quot;red&quot;, &quot;dashArray&quot;: null, &quot;dashOffset&quot;: null, &quot;fill&quot;: true, &quot;fillColor&quot;: &quot;blue&quot;, &quot;fillOpacity&quot;: 0.2, &quot;fillRule&quot;: &quot;evenodd&quot;, &quot;lineCap&quot;: &quot;round&quot;, &quot;lineJoin&quot;: &quot;round&quot;, &quot;opacity&quot;: 1.0, &quot;radius&quot;: 459999.99999999994, &quot;stroke&quot;: true, &quot;weight&quot;: 3}\n",
       "            ).addTo(map_458ec8e400112ec513386247fe175da8);\n",
       "        \n",
       "    \n",
       "            circle_7b829c386f839f34ad8a18cdd5f63de5.bindTooltip(\n",
       "                `&lt;div&gt;\n",
       "                     &lt;div style=&#x27;margin: 0; background-color: black; color: white;&#x27;&gt;&lt;h4 style=&#x27;text-align:center;font-weight: bold&#x27;&gt;Netherlands&lt;/h4&gt;&lt;hr style=&#x27;margin:10px;color: white;&#x27;&gt;&lt;ul style=&#x27;color: white;;list-style-type:circle;align-item:left;padding-left:20px;padding-right:20px&#x27;&gt;&lt;li&gt;Confirmed: 11020&lt;/li&gt;&lt;li&gt;Deaths:   91&lt;/li&gt;&lt;li&gt;Death Rate: 0.83&lt;/li&gt;&lt;/ul&gt;&lt;/div&gt;\n",
       "                 &lt;/div&gt;`,\n",
       "                {&quot;sticky&quot;: true}\n",
       "            );\n",
       "        \n",
       "    \n",
       "            var circle_f1f46e26d27bcece469326e0e21c0a2f = L.circle(\n",
       "                [52.1326, 5.2913],\n",
       "                {&quot;bubblingMouseEvents&quot;: true, &quot;color&quot;: &quot;red&quot;, &quot;dashArray&quot;: null, &quot;dashOffset&quot;: null, &quot;fill&quot;: true, &quot;fillColor&quot;: &quot;blue&quot;, &quot;fillOpacity&quot;: 0.2, &quot;fillRule&quot;: &quot;evenodd&quot;, &quot;lineCap&quot;: &quot;round&quot;, &quot;lineJoin&quot;: &quot;round&quot;, &quot;opacity&quot;: 1.0, &quot;radius&quot;: 760000.0, &quot;stroke&quot;: true, &quot;weight&quot;: 3}\n",
       "            ).addTo(map_458ec8e400112ec513386247fe175da8);\n",
       "        \n",
       "    \n",
       "            circle_f1f46e26d27bcece469326e0e21c0a2f.bindTooltip(\n",
       "                `&lt;div&gt;\n",
       "                     &lt;div style=&#x27;margin: 0; background-color: black; color: white;&#x27;&gt;&lt;h4 style=&#x27;text-align:center;font-weight: bold&#x27;&gt;Netherlands&lt;/h4&gt;&lt;hr style=&#x27;margin:10px;color: white;&#x27;&gt;&lt;ul style=&#x27;color: white;;list-style-type:circle;align-item:left;padding-left:20px;padding-right:20px&#x27;&gt;&lt;li&gt;Confirmed: 8599981&lt;/li&gt;&lt;li&gt;Deaths:   22990&lt;/li&gt;&lt;li&gt;Death Rate: 0.27&lt;/li&gt;&lt;/ul&gt;&lt;/div&gt;\n",
       "                 &lt;/div&gt;`,\n",
       "                {&quot;sticky&quot;: true}\n",
       "            );\n",
       "        \n",
       "    \n",
       "            var circle_f676eb0708600a73948b29813f3b2efa = L.circle(\n",
       "                [-21.2367, -159.7777],\n",
       "                {&quot;bubblingMouseEvents&quot;: true, &quot;color&quot;: &quot;red&quot;, &quot;dashArray&quot;: null, &quot;dashOffset&quot;: null, &quot;fill&quot;: true, &quot;fillColor&quot;: &quot;blue&quot;, &quot;fillOpacity&quot;: 0.2, &quot;fillRule&quot;: &quot;evenodd&quot;, &quot;lineCap&quot;: &quot;round&quot;, &quot;lineJoin&quot;: &quot;round&quot;, &quot;opacity&quot;: 1.0, &quot;radius&quot;: 409999.99999999994, &quot;stroke&quot;: true, &quot;weight&quot;: 3}\n",
       "            ).addTo(map_458ec8e400112ec513386247fe175da8);\n",
       "        \n",
       "    \n",
       "            circle_f676eb0708600a73948b29813f3b2efa.bindTooltip(\n",
       "                `&lt;div&gt;\n",
       "                     &lt;div style=&#x27;margin: 0; background-color: black; color: white;&#x27;&gt;&lt;h4 style=&#x27;text-align:center;font-weight: bold&#x27;&gt;New Zealand&lt;/h4&gt;&lt;hr style=&#x27;margin:10px;color: white;&#x27;&gt;&lt;ul style=&#x27;color: white;;list-style-type:circle;align-item:left;padding-left:20px;padding-right:20px&#x27;&gt;&lt;li&gt;Confirmed: 7031&lt;/li&gt;&lt;li&gt;Deaths:   2&lt;/li&gt;&lt;li&gt;Death Rate: 0.03&lt;/li&gt;&lt;/ul&gt;&lt;/div&gt;\n",
       "                 &lt;/div&gt;`,\n",
       "                {&quot;sticky&quot;: true}\n",
       "            );\n",
       "        \n",
       "    \n",
       "            var circle_c7eac608a4ec38164014790a3fcd8f64 = L.circle(\n",
       "                [-19.0544, -169.8672],\n",
       "                {&quot;bubblingMouseEvents&quot;: true, &quot;color&quot;: &quot;red&quot;, &quot;dashArray&quot;: null, &quot;dashOffset&quot;: null, &quot;fill&quot;: true, &quot;fillColor&quot;: &quot;blue&quot;, &quot;fillOpacity&quot;: 0.2, &quot;fillRule&quot;: &quot;evenodd&quot;, &quot;lineCap&quot;: &quot;round&quot;, &quot;lineJoin&quot;: &quot;round&quot;, &quot;opacity&quot;: 1.0, &quot;radius&quot;: 310000.0, &quot;stroke&quot;: true, &quot;weight&quot;: 3}\n",
       "            ).addTo(map_458ec8e400112ec513386247fe175da8);\n",
       "        \n",
       "    \n",
       "            circle_c7eac608a4ec38164014790a3fcd8f64.bindTooltip(\n",
       "                `&lt;div&gt;\n",
       "                     &lt;div style=&#x27;margin: 0; background-color: black; color: white;&#x27;&gt;&lt;h4 style=&#x27;text-align:center;font-weight: bold&#x27;&gt;New Zealand&lt;/h4&gt;&lt;hr style=&#x27;margin:10px;color: white;&#x27;&gt;&lt;ul style=&#x27;color: white;;list-style-type:circle;align-item:left;padding-left:20px;padding-right:20px&#x27;&gt;&lt;li&gt;Confirmed: 792&lt;/li&gt;&lt;li&gt;Deaths:   0&lt;/li&gt;&lt;li&gt;Death Rate: 0.0&lt;/li&gt;&lt;/ul&gt;&lt;/div&gt;\n",
       "                 &lt;/div&gt;`,\n",
       "                {&quot;sticky&quot;: true}\n",
       "            );\n",
       "        \n",
       "    \n",
       "            var circle_890263336cfbe7f5204d4aec7e874597 = L.circle(\n",
       "                [-40.9006, 174.886],\n",
       "                {&quot;bubblingMouseEvents&quot;: true, &quot;color&quot;: &quot;red&quot;, &quot;dashArray&quot;: null, &quot;dashOffset&quot;: null, &quot;fill&quot;: true, &quot;fillColor&quot;: &quot;blue&quot;, &quot;fillOpacity&quot;: 0.2, &quot;fillRule&quot;: &quot;evenodd&quot;, &quot;lineCap&quot;: &quot;round&quot;, &quot;lineJoin&quot;: &quot;round&quot;, &quot;opacity&quot;: 1.0, &quot;radius&quot;: 710000.0, &quot;stroke&quot;: true, &quot;weight&quot;: 3}\n",
       "            ).addTo(map_458ec8e400112ec513386247fe175da8);\n",
       "        \n",
       "    \n",
       "            circle_890263336cfbe7f5204d4aec7e874597.bindTooltip(\n",
       "                `&lt;div&gt;\n",
       "                     &lt;div style=&#x27;margin: 0; background-color: black; color: white;&#x27;&gt;&lt;h4 style=&#x27;text-align:center;font-weight: bold&#x27;&gt;New Zealand&lt;/h4&gt;&lt;hr style=&#x27;margin:10px;color: white;&#x27;&gt;&lt;ul style=&#x27;color: white;;list-style-type:circle;align-item:left;padding-left:20px;padding-right:20px&#x27;&gt;&lt;li&gt;Confirmed: 2228291&lt;/li&gt;&lt;li&gt;Deaths:   2548&lt;/li&gt;&lt;li&gt;Death Rate: 0.11&lt;/li&gt;&lt;/ul&gt;&lt;/div&gt;\n",
       "                 &lt;/div&gt;`,\n",
       "                {&quot;sticky&quot;: true}\n",
       "            );\n",
       "        \n",
       "    \n",
       "            var circle_d01d3be5ff1fdd4f2e9c63cc72715fab = L.circle(\n",
       "                [12.865416, -85.207229],\n",
       "                {&quot;bubblingMouseEvents&quot;: true, &quot;color&quot;: &quot;red&quot;, &quot;dashArray&quot;: null, &quot;dashOffset&quot;: null, &quot;fill&quot;: true, &quot;fillColor&quot;: &quot;blue&quot;, &quot;fillOpacity&quot;: 0.2, &quot;fillRule&quot;: &quot;evenodd&quot;, &quot;lineCap&quot;: &quot;round&quot;, &quot;lineJoin&quot;: &quot;round&quot;, &quot;opacity&quot;: 1.0, &quot;radius&quot;: 459999.99999999994, &quot;stroke&quot;: true, &quot;weight&quot;: 3}\n",
       "            ).addTo(map_458ec8e400112ec513386247fe175da8);\n",
       "        \n",
       "    \n",
       "            circle_d01d3be5ff1fdd4f2e9c63cc72715fab.bindTooltip(\n",
       "                `&lt;div&gt;\n",
       "                     &lt;div style=&#x27;margin: 0; background-color: black; color: white;&#x27;&gt;&lt;h4 style=&#x27;text-align:center;font-weight: bold&#x27;&gt;Nicaragua&lt;/h4&gt;&lt;hr style=&#x27;margin:10px;color: white;&#x27;&gt;&lt;ul style=&#x27;color: white;;list-style-type:circle;align-item:left;padding-left:20px;padding-right:20px&#x27;&gt;&lt;li&gt;Confirmed: 15655&lt;/li&gt;&lt;li&gt;Deaths:   245&lt;/li&gt;&lt;li&gt;Death Rate: 1.56&lt;/li&gt;&lt;/ul&gt;&lt;/div&gt;\n",
       "                 &lt;/div&gt;`,\n",
       "                {&quot;sticky&quot;: true}\n",
       "            );\n",
       "        \n",
       "    \n",
       "            var circle_8fd9a6968a9c76388caf8abb53bb7425 = L.circle(\n",
       "                [17.607789, 8.081666],\n",
       "                {&quot;bubblingMouseEvents&quot;: true, &quot;color&quot;: &quot;red&quot;, &quot;dashArray&quot;: null, &quot;dashOffset&quot;: null, &quot;fill&quot;: true, &quot;fillColor&quot;: &quot;blue&quot;, &quot;fillOpacity&quot;: 0.2, &quot;fillRule&quot;: &quot;evenodd&quot;, &quot;lineCap&quot;: &quot;round&quot;, &quot;lineJoin&quot;: &quot;round&quot;, &quot;opacity&quot;: 1.0, &quot;radius&quot;: 459999.99999999994, &quot;stroke&quot;: true, &quot;weight&quot;: 3}\n",
       "            ).addTo(map_458ec8e400112ec513386247fe175da8);\n",
       "        \n",
       "    \n",
       "            circle_8fd9a6968a9c76388caf8abb53bb7425.bindTooltip(\n",
       "                `&lt;div&gt;\n",
       "                     &lt;div style=&#x27;margin: 0; background-color: black; color: white;&#x27;&gt;&lt;h4 style=&#x27;text-align:center;font-weight: bold&#x27;&gt;Niger&lt;/h4&gt;&lt;hr style=&#x27;margin:10px;color: white;&#x27;&gt;&lt;ul style=&#x27;color: white;;list-style-type:circle;align-item:left;padding-left:20px;padding-right:20px&#x27;&gt;&lt;li&gt;Confirmed: 9508&lt;/li&gt;&lt;li&gt;Deaths:   315&lt;/li&gt;&lt;li&gt;Death Rate: 3.31&lt;/li&gt;&lt;/ul&gt;&lt;/div&gt;\n",
       "                 &lt;/div&gt;`,\n",
       "                {&quot;sticky&quot;: true}\n",
       "            );\n",
       "        \n",
       "    \n",
       "            var circle_bdbabb919aba7092e93566beaa940061 = L.circle(\n",
       "                [9.082, 8.6753],\n",
       "                {&quot;bubblingMouseEvents&quot;: true, &quot;color&quot;: &quot;red&quot;, &quot;dashArray&quot;: null, &quot;dashOffset&quot;: null, &quot;fill&quot;: true, &quot;fillColor&quot;: &quot;blue&quot;, &quot;fillOpacity&quot;: 0.2, &quot;fillRule&quot;: &quot;evenodd&quot;, &quot;lineCap&quot;: &quot;round&quot;, &quot;lineJoin&quot;: &quot;round&quot;, &quot;opacity&quot;: 1.0, &quot;radius&quot;: 610000.0, &quot;stroke&quot;: true, &quot;weight&quot;: 3}\n",
       "            ).addTo(map_458ec8e400112ec513386247fe175da8);\n",
       "        \n",
       "    \n",
       "            circle_bdbabb919aba7092e93566beaa940061.bindTooltip(\n",
       "                `&lt;div&gt;\n",
       "                     &lt;div style=&#x27;margin: 0; background-color: black; color: white;&#x27;&gt;&lt;h4 style=&#x27;text-align:center;font-weight: bold&#x27;&gt;Nigeria&lt;/h4&gt;&lt;hr style=&#x27;margin:10px;color: white;&#x27;&gt;&lt;ul style=&#x27;color: white;;list-style-type:circle;align-item:left;padding-left:20px;padding-right:20px&#x27;&gt;&lt;li&gt;Confirmed: 266598&lt;/li&gt;&lt;li&gt;Deaths:   3155&lt;/li&gt;&lt;li&gt;Death Rate: 1.18&lt;/li&gt;&lt;/ul&gt;&lt;/div&gt;\n",
       "                 &lt;/div&gt;`,\n",
       "                {&quot;sticky&quot;: true}\n",
       "            );\n",
       "        \n",
       "    \n",
       "            var circle_6a12e9f1ddcb7352c6afdc99a7bbcb10 = L.circle(\n",
       "                [41.6086, 21.7453],\n",
       "                {&quot;bubblingMouseEvents&quot;: true, &quot;color&quot;: &quot;red&quot;, &quot;dashArray&quot;: null, &quot;dashOffset&quot;: null, &quot;fill&quot;: true, &quot;fillColor&quot;: &quot;blue&quot;, &quot;fillOpacity&quot;: 0.2, &quot;fillRule&quot;: &quot;evenodd&quot;, &quot;lineCap&quot;: &quot;round&quot;, &quot;lineJoin&quot;: &quot;round&quot;, &quot;opacity&quot;: 1.0, &quot;radius&quot;: 610000.0, &quot;stroke&quot;: true, &quot;weight&quot;: 3}\n",
       "            ).addTo(map_458ec8e400112ec513386247fe175da8);\n",
       "        \n",
       "    \n",
       "            circle_6a12e9f1ddcb7352c6afdc99a7bbcb10.bindTooltip(\n",
       "                `&lt;div&gt;\n",
       "                     &lt;div style=&#x27;margin: 0; background-color: black; color: white;&#x27;&gt;&lt;h4 style=&#x27;text-align:center;font-weight: bold&#x27;&gt;North Macedonia&lt;/h4&gt;&lt;hr style=&#x27;margin:10px;color: white;&#x27;&gt;&lt;ul style=&#x27;color: white;;list-style-type:circle;align-item:left;padding-left:20px;padding-right:20px&#x27;&gt;&lt;li&gt;Confirmed: 346852&lt;/li&gt;&lt;li&gt;Deaths:   9662&lt;/li&gt;&lt;li&gt;Death Rate: 2.79&lt;/li&gt;&lt;/ul&gt;&lt;/div&gt;\n",
       "                 &lt;/div&gt;`,\n",
       "                {&quot;sticky&quot;: true}\n",
       "            );\n",
       "        \n",
       "    \n",
       "            var circle_b7c78af89291c0e756a028a160101790 = L.circle(\n",
       "                [60.472, 8.4689],\n",
       "                {&quot;bubblingMouseEvents&quot;: true, &quot;color&quot;: &quot;red&quot;, &quot;dashArray&quot;: null, &quot;dashOffset&quot;: null, &quot;fill&quot;: true, &quot;fillColor&quot;: &quot;blue&quot;, &quot;fillOpacity&quot;: 0.2, &quot;fillRule&quot;: &quot;evenodd&quot;, &quot;lineCap&quot;: &quot;round&quot;, &quot;lineJoin&quot;: &quot;round&quot;, &quot;opacity&quot;: 1.0, &quot;radius&quot;: 710000.0, &quot;stroke&quot;: true, &quot;weight&quot;: 3}\n",
       "            ).addTo(map_458ec8e400112ec513386247fe175da8);\n",
       "        \n",
       "    \n",
       "            circle_b7c78af89291c0e756a028a160101790.bindTooltip(\n",
       "                `&lt;div&gt;\n",
       "                     &lt;div style=&#x27;margin: 0; background-color: black; color: white;&#x27;&gt;&lt;h4 style=&#x27;text-align:center;font-weight: bold&#x27;&gt;Norway&lt;/h4&gt;&lt;hr style=&#x27;margin:10px;color: white;&#x27;&gt;&lt;ul style=&#x27;color: white;;list-style-type:circle;align-item:left;padding-left:20px;padding-right:20px&#x27;&gt;&lt;li&gt;Confirmed: 1479506&lt;/li&gt;&lt;li&gt;Deaths:   5213&lt;/li&gt;&lt;li&gt;Death Rate: 0.35&lt;/li&gt;&lt;/ul&gt;&lt;/div&gt;\n",
       "                 &lt;/div&gt;`,\n",
       "                {&quot;sticky&quot;: true}\n",
       "            );\n",
       "        \n",
       "    \n",
       "            var circle_31fa2c3bc27756a32a19c5d0981e28d7 = L.circle(\n",
       "                [21.512583, 55.923255],\n",
       "                {&quot;bubblingMouseEvents&quot;: true, &quot;color&quot;: &quot;red&quot;, &quot;dashArray&quot;: null, &quot;dashOffset&quot;: null, &quot;fill&quot;: true, &quot;fillColor&quot;: &quot;blue&quot;, &quot;fillOpacity&quot;: 0.2, &quot;fillRule&quot;: &quot;evenodd&quot;, &quot;lineCap&quot;: &quot;round&quot;, &quot;lineJoin&quot;: &quot;round&quot;, &quot;opacity&quot;: 1.0, &quot;radius&quot;: 610000.0, &quot;stroke&quot;: true, &quot;weight&quot;: 3}\n",
       "            ).addTo(map_458ec8e400112ec513386247fe175da8);\n",
       "        \n",
       "    \n",
       "            circle_31fa2c3bc27756a32a19c5d0981e28d7.bindTooltip(\n",
       "                `&lt;div&gt;\n",
       "                     &lt;div style=&#x27;margin: 0; background-color: black; color: white;&#x27;&gt;&lt;h4 style=&#x27;text-align:center;font-weight: bold&#x27;&gt;Oman&lt;/h4&gt;&lt;hr style=&#x27;margin:10px;color: white;&#x27;&gt;&lt;ul style=&#x27;color: white;;list-style-type:circle;align-item:left;padding-left:20px;padding-right:20px&#x27;&gt;&lt;li&gt;Confirmed: 399449&lt;/li&gt;&lt;li&gt;Deaths:   4628&lt;/li&gt;&lt;li&gt;Death Rate: 1.16&lt;/li&gt;&lt;/ul&gt;&lt;/div&gt;\n",
       "                 &lt;/div&gt;`,\n",
       "                {&quot;sticky&quot;: true}\n",
       "            );\n",
       "        \n",
       "    \n",
       "            var circle_b52ba8ca3fcf47c8a964836d477b14d2 = L.circle(\n",
       "                [30.3753, 69.3451],\n",
       "                {&quot;bubblingMouseEvents&quot;: true, &quot;color&quot;: &quot;red&quot;, &quot;dashArray&quot;: null, &quot;dashOffset&quot;: null, &quot;fill&quot;: true, &quot;fillColor&quot;: &quot;blue&quot;, &quot;fillOpacity&quot;: 0.2, &quot;fillRule&quot;: &quot;evenodd&quot;, &quot;lineCap&quot;: &quot;round&quot;, &quot;lineJoin&quot;: &quot;round&quot;, &quot;opacity&quot;: 1.0, &quot;radius&quot;: 710000.0, &quot;stroke&quot;: true, &quot;weight&quot;: 3}\n",
       "            ).addTo(map_458ec8e400112ec513386247fe175da8);\n",
       "        \n",
       "    \n",
       "            circle_b52ba8ca3fcf47c8a964836d477b14d2.bindTooltip(\n",
       "                `&lt;div&gt;\n",
       "                     &lt;div style=&#x27;margin: 0; background-color: black; color: white;&#x27;&gt;&lt;h4 style=&#x27;text-align:center;font-weight: bold&#x27;&gt;Pakistan&lt;/h4&gt;&lt;hr style=&#x27;margin:10px;color: white;&#x27;&gt;&lt;ul style=&#x27;color: white;;list-style-type:circle;align-item:left;padding-left:20px;padding-right:20px&#x27;&gt;&lt;li&gt;Confirmed: 1577411&lt;/li&gt;&lt;li&gt;Deaths:   30644&lt;/li&gt;&lt;li&gt;Death Rate: 1.94&lt;/li&gt;&lt;/ul&gt;&lt;/div&gt;\n",
       "                 &lt;/div&gt;`,\n",
       "                {&quot;sticky&quot;: true}\n",
       "            );\n",
       "        \n",
       "    \n",
       "            var circle_656f8b340777310277d0f05236a1fd3f = L.circle(\n",
       "                [7.515, 134.5825],\n",
       "                {&quot;bubblingMouseEvents&quot;: true, &quot;color&quot;: &quot;red&quot;, &quot;dashArray&quot;: null, &quot;dashOffset&quot;: null, &quot;fill&quot;: true, &quot;fillColor&quot;: &quot;blue&quot;, &quot;fillOpacity&quot;: 0.2, &quot;fillRule&quot;: &quot;evenodd&quot;, &quot;lineCap&quot;: &quot;round&quot;, &quot;lineJoin&quot;: &quot;round&quot;, &quot;opacity&quot;: 1.0, &quot;radius&quot;: 409999.99999999994, &quot;stroke&quot;: true, &quot;weight&quot;: 3}\n",
       "            ).addTo(map_458ec8e400112ec513386247fe175da8);\n",
       "        \n",
       "    \n",
       "            circle_656f8b340777310277d0f05236a1fd3f.bindTooltip(\n",
       "                `&lt;div&gt;\n",
       "                     &lt;div style=&#x27;margin: 0; background-color: black; color: white;&#x27;&gt;&lt;h4 style=&#x27;text-align:center;font-weight: bold&#x27;&gt;Palau&lt;/h4&gt;&lt;hr style=&#x27;margin:10px;color: white;&#x27;&gt;&lt;ul style=&#x27;color: white;;list-style-type:circle;align-item:left;padding-left:20px;padding-right:20px&#x27;&gt;&lt;li&gt;Confirmed: 5991&lt;/li&gt;&lt;li&gt;Deaths:   9&lt;/li&gt;&lt;li&gt;Death Rate: 0.15&lt;/li&gt;&lt;/ul&gt;&lt;/div&gt;\n",
       "                 &lt;/div&gt;`,\n",
       "                {&quot;sticky&quot;: true}\n",
       "            );\n",
       "        \n",
       "    \n",
       "            var circle_5ff27feb1457d4b02dd0b0f569707550 = L.circle(\n",
       "                [8.538, -80.7821],\n",
       "                {&quot;bubblingMouseEvents&quot;: true, &quot;color&quot;: &quot;red&quot;, &quot;dashArray&quot;: null, &quot;dashOffset&quot;: null, &quot;fill&quot;: true, &quot;fillColor&quot;: &quot;blue&quot;, &quot;fillOpacity&quot;: 0.2, &quot;fillRule&quot;: &quot;evenodd&quot;, &quot;lineCap&quot;: &quot;round&quot;, &quot;lineJoin&quot;: &quot;round&quot;, &quot;opacity&quot;: 1.0, &quot;radius&quot;: 660000.0, &quot;stroke&quot;: true, &quot;weight&quot;: 3}\n",
       "            ).addTo(map_458ec8e400112ec513386247fe175da8);\n",
       "        \n",
       "    \n",
       "            circle_5ff27feb1457d4b02dd0b0f569707550.bindTooltip(\n",
       "                `&lt;div&gt;\n",
       "                     &lt;div style=&#x27;margin: 0; background-color: black; color: white;&#x27;&gt;&lt;h4 style=&#x27;text-align:center;font-weight: bold&#x27;&gt;Panama&lt;/h4&gt;&lt;hr style=&#x27;margin:10px;color: white;&#x27;&gt;&lt;ul style=&#x27;color: white;;list-style-type:circle;align-item:left;padding-left:20px;padding-right:20px&#x27;&gt;&lt;li&gt;Confirmed: 1031731&lt;/li&gt;&lt;li&gt;Deaths:   8609&lt;/li&gt;&lt;li&gt;Death Rate: 0.83&lt;/li&gt;&lt;/ul&gt;&lt;/div&gt;\n",
       "                 &lt;/div&gt;`,\n",
       "                {&quot;sticky&quot;: true}\n",
       "            );\n",
       "        \n",
       "    \n",
       "            var circle_78b9b86eab1da37b2ed51c87714485ca = L.circle(\n",
       "                [-6.314993, 143.95555],\n",
       "                {&quot;bubblingMouseEvents&quot;: true, &quot;color&quot;: &quot;red&quot;, &quot;dashArray&quot;: null, &quot;dashOffset&quot;: null, &quot;fill&quot;: true, &quot;fillColor&quot;: &quot;blue&quot;, &quot;fillOpacity&quot;: 0.2, &quot;fillRule&quot;: &quot;evenodd&quot;, &quot;lineCap&quot;: &quot;round&quot;, &quot;lineJoin&quot;: &quot;round&quot;, &quot;opacity&quot;: 1.0, &quot;radius&quot;: 509999.99999999994, &quot;stroke&quot;: true, &quot;weight&quot;: 3}\n",
       "            ).addTo(map_458ec8e400112ec513386247fe175da8);\n",
       "        \n",
       "    \n",
       "            circle_78b9b86eab1da37b2ed51c87714485ca.bindTooltip(\n",
       "                `&lt;div&gt;\n",
       "                     &lt;div style=&#x27;margin: 0; background-color: black; color: white;&#x27;&gt;&lt;h4 style=&#x27;text-align:center;font-weight: bold&#x27;&gt;Papua New Guinea&lt;/h4&gt;&lt;hr style=&#x27;margin:10px;color: white;&#x27;&gt;&lt;ul style=&#x27;color: white;;list-style-type:circle;align-item:left;padding-left:20px;padding-right:20px&#x27;&gt;&lt;li&gt;Confirmed: 46825&lt;/li&gt;&lt;li&gt;Deaths:   670&lt;/li&gt;&lt;li&gt;Death Rate: 1.43&lt;/li&gt;&lt;/ul&gt;&lt;/div&gt;\n",
       "                 &lt;/div&gt;`,\n",
       "                {&quot;sticky&quot;: true}\n",
       "            );\n",
       "        \n",
       "    \n",
       "            var circle_17befef3aaee8d90166c157a4ed3e182 = L.circle(\n",
       "                [-23.4425, -58.4438],\n",
       "                {&quot;bubblingMouseEvents&quot;: true, &quot;color&quot;: &quot;red&quot;, &quot;dashArray&quot;: null, &quot;dashOffset&quot;: null, &quot;fill&quot;: true, &quot;fillColor&quot;: &quot;blue&quot;, &quot;fillOpacity&quot;: 0.2, &quot;fillRule&quot;: &quot;evenodd&quot;, &quot;lineCap&quot;: &quot;round&quot;, &quot;lineJoin&quot;: &quot;round&quot;, &quot;opacity&quot;: 1.0, &quot;radius&quot;: 660000.0, &quot;stroke&quot;: true, &quot;weight&quot;: 3}\n",
       "            ).addTo(map_458ec8e400112ec513386247fe175da8);\n",
       "        \n",
       "    \n",
       "            circle_17befef3aaee8d90166c157a4ed3e182.bindTooltip(\n",
       "                `&lt;div&gt;\n",
       "                     &lt;div style=&#x27;margin: 0; background-color: black; color: white;&#x27;&gt;&lt;h4 style=&#x27;text-align:center;font-weight: bold&#x27;&gt;Paraguay&lt;/h4&gt;&lt;hr style=&#x27;margin:10px;color: white;&#x27;&gt;&lt;ul style=&#x27;color: white;;list-style-type:circle;align-item:left;padding-left:20px;padding-right:20px&#x27;&gt;&lt;li&gt;Confirmed: 808401&lt;/li&gt;&lt;li&gt;Deaths:   19878&lt;/li&gt;&lt;li&gt;Death Rate: 2.46&lt;/li&gt;&lt;/ul&gt;&lt;/div&gt;\n",
       "                 &lt;/div&gt;`,\n",
       "                {&quot;sticky&quot;: true}\n",
       "            );\n",
       "        \n",
       "    \n",
       "            var circle_dd0c410e933b29e12161ac28ca76d899 = L.circle(\n",
       "                [-9.19, -75.0152],\n",
       "                {&quot;bubblingMouseEvents&quot;: true, &quot;color&quot;: &quot;red&quot;, &quot;dashArray&quot;: null, &quot;dashOffset&quot;: null, &quot;fill&quot;: true, &quot;fillColor&quot;: &quot;blue&quot;, &quot;fillOpacity&quot;: 0.2, &quot;fillRule&quot;: &quot;evenodd&quot;, &quot;lineCap&quot;: &quot;round&quot;, &quot;lineJoin&quot;: &quot;round&quot;, &quot;opacity&quot;: 1.0, &quot;radius&quot;: 760000.0, &quot;stroke&quot;: true, &quot;weight&quot;: 3}\n",
       "            ).addTo(map_458ec8e400112ec513386247fe175da8);\n",
       "        \n",
       "    \n",
       "            circle_dd0c410e933b29e12161ac28ca76d899.bindTooltip(\n",
       "                `&lt;div&gt;\n",
       "                     &lt;div style=&#x27;margin: 0; background-color: black; color: white;&#x27;&gt;&lt;h4 style=&#x27;text-align:center;font-weight: bold&#x27;&gt;Peru&lt;/h4&gt;&lt;hr style=&#x27;margin:10px;color: white;&#x27;&gt;&lt;ul style=&#x27;color: white;;list-style-type:circle;align-item:left;padding-left:20px;padding-right:20px&#x27;&gt;&lt;li&gt;Confirmed: 4487553&lt;/li&gt;&lt;li&gt;Deaths:   219539&lt;/li&gt;&lt;li&gt;Death Rate: 4.89&lt;/li&gt;&lt;/ul&gt;&lt;/div&gt;\n",
       "                 &lt;/div&gt;`,\n",
       "                {&quot;sticky&quot;: true}\n",
       "            );\n",
       "        \n",
       "    \n",
       "            var circle_842838ca777e0710c9f00fb5bbe9bf8e = L.circle(\n",
       "                [12.879721, 121.774017],\n",
       "                {&quot;bubblingMouseEvents&quot;: true, &quot;color&quot;: &quot;red&quot;, &quot;dashArray&quot;: null, &quot;dashOffset&quot;: null, &quot;fill&quot;: true, &quot;fillColor&quot;: &quot;blue&quot;, &quot;fillOpacity&quot;: 0.2, &quot;fillRule&quot;: &quot;evenodd&quot;, &quot;lineCap&quot;: &quot;round&quot;, &quot;lineJoin&quot;: &quot;round&quot;, &quot;opacity&quot;: 1.0, &quot;radius&quot;: 760000.0, &quot;stroke&quot;: true, &quot;weight&quot;: 3}\n",
       "            ).addTo(map_458ec8e400112ec513386247fe175da8);\n",
       "        \n",
       "    \n",
       "            circle_842838ca777e0710c9f00fb5bbe9bf8e.bindTooltip(\n",
       "                `&lt;div&gt;\n",
       "                     &lt;div style=&#x27;margin: 0; background-color: black; color: white;&#x27;&gt;&lt;h4 style=&#x27;text-align:center;font-weight: bold&#x27;&gt;Philippines&lt;/h4&gt;&lt;hr style=&#x27;margin:10px;color: white;&#x27;&gt;&lt;ul style=&#x27;color: white;;list-style-type:circle;align-item:left;padding-left:20px;padding-right:20px&#x27;&gt;&lt;li&gt;Confirmed: 4077452&lt;/li&gt;&lt;li&gt;Deaths:   66188&lt;/li&gt;&lt;li&gt;Death Rate: 1.62&lt;/li&gt;&lt;/ul&gt;&lt;/div&gt;\n",
       "                 &lt;/div&gt;`,\n",
       "                {&quot;sticky&quot;: true}\n",
       "            );\n",
       "        \n",
       "    \n",
       "            var circle_3fe03da2b14281a4438b5a7e7b40d9d8 = L.circle(\n",
       "                [51.9194, 19.1451],\n",
       "                {&quot;bubblingMouseEvents&quot;: true, &quot;color&quot;: &quot;red&quot;, &quot;dashArray&quot;: null, &quot;dashOffset&quot;: null, &quot;fill&quot;: true, &quot;fillColor&quot;: &quot;blue&quot;, &quot;fillOpacity&quot;: 0.2, &quot;fillRule&quot;: &quot;evenodd&quot;, &quot;lineCap&quot;: &quot;round&quot;, &quot;lineJoin&quot;: &quot;round&quot;, &quot;opacity&quot;: 1.0, &quot;radius&quot;: 760000.0, &quot;stroke&quot;: true, &quot;weight&quot;: 3}\n",
       "            ).addTo(map_458ec8e400112ec513386247fe175da8);\n",
       "        \n",
       "    \n",
       "            circle_3fe03da2b14281a4438b5a7e7b40d9d8.bindTooltip(\n",
       "                `&lt;div&gt;\n",
       "                     &lt;div style=&#x27;margin: 0; background-color: black; color: white;&#x27;&gt;&lt;h4 style=&#x27;text-align:center;font-weight: bold&#x27;&gt;Poland&lt;/h4&gt;&lt;hr style=&#x27;margin:10px;color: white;&#x27;&gt;&lt;ul style=&#x27;color: white;;list-style-type:circle;align-item:left;padding-left:20px;padding-right:20px&#x27;&gt;&lt;li&gt;Confirmed: 6444960&lt;/li&gt;&lt;li&gt;Deaths:   119010&lt;/li&gt;&lt;li&gt;Death Rate: 1.85&lt;/li&gt;&lt;/ul&gt;&lt;/div&gt;\n",
       "                 &lt;/div&gt;`,\n",
       "                {&quot;sticky&quot;: true}\n",
       "            );\n",
       "        \n",
       "    \n",
       "            var circle_5efb769bfa52cf16ac4e61b5ef91d2f0 = L.circle(\n",
       "                [39.3999, -8.2245],\n",
       "                {&quot;bubblingMouseEvents&quot;: true, &quot;color&quot;: &quot;red&quot;, &quot;dashArray&quot;: null, &quot;dashOffset&quot;: null, &quot;fill&quot;: true, &quot;fillColor&quot;: &quot;blue&quot;, &quot;fillOpacity&quot;: 0.2, &quot;fillRule&quot;: &quot;evenodd&quot;, &quot;lineCap&quot;: &quot;round&quot;, &quot;lineJoin&quot;: &quot;round&quot;, &quot;opacity&quot;: 1.0, &quot;radius&quot;: 760000.0, &quot;stroke&quot;: true, &quot;weight&quot;: 3}\n",
       "            ).addTo(map_458ec8e400112ec513386247fe175da8);\n",
       "        \n",
       "    \n",
       "            circle_5efb769bfa52cf16ac4e61b5ef91d2f0.bindTooltip(\n",
       "                `&lt;div&gt;\n",
       "                     &lt;div style=&#x27;margin: 0; background-color: black; color: white;&#x27;&gt;&lt;h4 style=&#x27;text-align:center;font-weight: bold&#x27;&gt;Portugal&lt;/h4&gt;&lt;hr style=&#x27;margin:10px;color: white;&#x27;&gt;&lt;ul style=&#x27;color: white;;list-style-type:circle;align-item:left;padding-left:20px;padding-right:20px&#x27;&gt;&lt;li&gt;Confirmed: 5570473&lt;/li&gt;&lt;li&gt;Deaths:   26266&lt;/li&gt;&lt;li&gt;Death Rate: 0.47&lt;/li&gt;&lt;/ul&gt;&lt;/div&gt;\n",
       "                 &lt;/div&gt;`,\n",
       "                {&quot;sticky&quot;: true}\n",
       "            );\n",
       "        \n",
       "    \n",
       "            var circle_d3bee52fb078e624ac6d0be1d2b324f3 = L.circle(\n",
       "                [25.3548, 51.1839],\n",
       "                {&quot;bubblingMouseEvents&quot;: true, &quot;color&quot;: &quot;red&quot;, &quot;dashArray&quot;: null, &quot;dashOffset&quot;: null, &quot;fill&quot;: true, &quot;fillColor&quot;: &quot;blue&quot;, &quot;fillOpacity&quot;: 0.2, &quot;fillRule&quot;: &quot;evenodd&quot;, &quot;lineCap&quot;: &quot;round&quot;, &quot;lineJoin&quot;: &quot;round&quot;, &quot;opacity&quot;: 1.0, &quot;radius&quot;: 660000.0, &quot;stroke&quot;: true, &quot;weight&quot;: 3}\n",
       "            ).addTo(map_458ec8e400112ec513386247fe175da8);\n",
       "        \n",
       "    \n",
       "            circle_d3bee52fb078e624ac6d0be1d2b324f3.bindTooltip(\n",
       "                `&lt;div&gt;\n",
       "                     &lt;div style=&#x27;margin: 0; background-color: black; color: white;&#x27;&gt;&lt;h4 style=&#x27;text-align:center;font-weight: bold&#x27;&gt;Qatar&lt;/h4&gt;&lt;hr style=&#x27;margin:10px;color: white;&#x27;&gt;&lt;ul style=&#x27;color: white;;list-style-type:circle;align-item:left;padding-left:20px;padding-right:20px&#x27;&gt;&lt;li&gt;Confirmed: 495090&lt;/li&gt;&lt;li&gt;Deaths:   688&lt;/li&gt;&lt;li&gt;Death Rate: 0.14&lt;/li&gt;&lt;/ul&gt;&lt;/div&gt;\n",
       "                 &lt;/div&gt;`,\n",
       "                {&quot;sticky&quot;: true}\n",
       "            );\n",
       "        \n",
       "    \n",
       "            var circle_ff5024a8300808850b457ac1b0579af6 = L.circle(\n",
       "                [45.9432, 24.9668],\n",
       "                {&quot;bubblingMouseEvents&quot;: true, &quot;color&quot;: &quot;red&quot;, &quot;dashArray&quot;: null, &quot;dashOffset&quot;: null, &quot;fill&quot;: true, &quot;fillColor&quot;: &quot;blue&quot;, &quot;fillOpacity&quot;: 0.2, &quot;fillRule&quot;: &quot;evenodd&quot;, &quot;lineCap&quot;: &quot;round&quot;, &quot;lineJoin&quot;: &quot;round&quot;, &quot;opacity&quot;: 1.0, &quot;radius&quot;: 760000.0, &quot;stroke&quot;: true, &quot;weight&quot;: 3}\n",
       "            ).addTo(map_458ec8e400112ec513386247fe175da8);\n",
       "        \n",
       "    \n",
       "            circle_ff5024a8300808850b457ac1b0579af6.bindTooltip(\n",
       "                `&lt;div&gt;\n",
       "                     &lt;div style=&#x27;margin: 0; background-color: black; color: white;&#x27;&gt;&lt;h4 style=&#x27;text-align:center;font-weight: bold&#x27;&gt;Romania&lt;/h4&gt;&lt;hr style=&#x27;margin:10px;color: white;&#x27;&gt;&lt;ul style=&#x27;color: white;;list-style-type:circle;align-item:left;padding-left:20px;padding-right:20px&#x27;&gt;&lt;li&gt;Confirmed: 3346046&lt;/li&gt;&lt;li&gt;Deaths:   67736&lt;/li&gt;&lt;li&gt;Death Rate: 2.02&lt;/li&gt;&lt;/ul&gt;&lt;/div&gt;\n",
       "                 &lt;/div&gt;`,\n",
       "                {&quot;sticky&quot;: true}\n",
       "            );\n",
       "        \n",
       "    \n",
       "            var circle_945825d89b2419bfb0f785b1b261073c = L.circle(\n",
       "                [61.52401, 105.318756],\n",
       "                {&quot;bubblingMouseEvents&quot;: true, &quot;color&quot;: &quot;red&quot;, &quot;dashArray&quot;: null, &quot;dashOffset&quot;: null, &quot;fill&quot;: true, &quot;fillColor&quot;: &quot;blue&quot;, &quot;fillOpacity&quot;: 0.2, &quot;fillRule&quot;: &quot;evenodd&quot;, &quot;lineCap&quot;: &quot;round&quot;, &quot;lineJoin&quot;: &quot;round&quot;, &quot;opacity&quot;: 1.0, &quot;radius&quot;: 810000.0, &quot;stroke&quot;: true, &quot;weight&quot;: 3}\n",
       "            ).addTo(map_458ec8e400112ec513386247fe175da8);\n",
       "        \n",
       "    \n",
       "            circle_945825d89b2419bfb0f785b1b261073c.bindTooltip(\n",
       "                `&lt;div&gt;\n",
       "                     &lt;div style=&#x27;margin: 0; background-color: black; color: white;&#x27;&gt;&lt;h4 style=&#x27;text-align:center;font-weight: bold&#x27;&gt;Russia&lt;/h4&gt;&lt;hr style=&#x27;margin:10px;color: white;&#x27;&gt;&lt;ul style=&#x27;color: white;;list-style-type:circle;align-item:left;padding-left:20px;padding-right:20px&#x27;&gt;&lt;li&gt;Confirmed: 22075858&lt;/li&gt;&lt;li&gt;Deaths:   388478&lt;/li&gt;&lt;li&gt;Death Rate: 1.76&lt;/li&gt;&lt;/ul&gt;&lt;/div&gt;\n",
       "                 &lt;/div&gt;`,\n",
       "                {&quot;sticky&quot;: true}\n",
       "            );\n",
       "        \n",
       "    \n",
       "            var circle_8383fd2abd6b293b7970388f26e7d768 = L.circle(\n",
       "                [-1.9403, 29.8739],\n",
       "                {&quot;bubblingMouseEvents&quot;: true, &quot;color&quot;: &quot;red&quot;, &quot;dashArray&quot;: null, &quot;dashOffset&quot;: null, &quot;fill&quot;: true, &quot;fillColor&quot;: &quot;blue&quot;, &quot;fillOpacity&quot;: 0.2, &quot;fillRule&quot;: &quot;evenodd&quot;, &quot;lineCap&quot;: &quot;round&quot;, &quot;lineJoin&quot;: &quot;round&quot;, &quot;opacity&quot;: 1.0, &quot;radius&quot;: 560000.0, &quot;stroke&quot;: true, &quot;weight&quot;: 3}\n",
       "            ).addTo(map_458ec8e400112ec513386247fe175da8);\n",
       "        \n",
       "    \n",
       "            circle_8383fd2abd6b293b7970388f26e7d768.bindTooltip(\n",
       "                `&lt;div&gt;\n",
       "                     &lt;div style=&#x27;margin: 0; background-color: black; color: white;&#x27;&gt;&lt;h4 style=&#x27;text-align:center;font-weight: bold&#x27;&gt;Rwanda&lt;/h4&gt;&lt;hr style=&#x27;margin:10px;color: white;&#x27;&gt;&lt;ul style=&#x27;color: white;;list-style-type:circle;align-item:left;padding-left:20px;padding-right:20px&#x27;&gt;&lt;li&gt;Confirmed: 133194&lt;/li&gt;&lt;li&gt;Deaths:   1468&lt;/li&gt;&lt;li&gt;Death Rate: 1.1&lt;/li&gt;&lt;/ul&gt;&lt;/div&gt;\n",
       "                 &lt;/div&gt;`,\n",
       "                {&quot;sticky&quot;: true}\n",
       "            );\n",
       "        \n",
       "    \n",
       "            var circle_22696ffa362745c4c099c6305f364614 = L.circle(\n",
       "                [17.357822, -62.782998],\n",
       "                {&quot;bubblingMouseEvents&quot;: true, &quot;color&quot;: &quot;red&quot;, &quot;dashArray&quot;: null, &quot;dashOffset&quot;: null, &quot;fill&quot;: true, &quot;fillColor&quot;: &quot;blue&quot;, &quot;fillOpacity&quot;: 0.2, &quot;fillRule&quot;: &quot;evenodd&quot;, &quot;lineCap&quot;: &quot;round&quot;, &quot;lineJoin&quot;: &quot;round&quot;, &quot;opacity&quot;: 1.0, &quot;radius&quot;: 409999.99999999994, &quot;stroke&quot;: true, &quot;weight&quot;: 3}\n",
       "            ).addTo(map_458ec8e400112ec513386247fe175da8);\n",
       "        \n",
       "    \n",
       "            circle_22696ffa362745c4c099c6305f364614.bindTooltip(\n",
       "                `&lt;div&gt;\n",
       "                     &lt;div style=&#x27;margin: 0; background-color: black; color: white;&#x27;&gt;&lt;h4 style=&#x27;text-align:center;font-weight: bold&#x27;&gt;Saint Kitts and Nevis&lt;/h4&gt;&lt;hr style=&#x27;margin:10px;color: white;&#x27;&gt;&lt;ul style=&#x27;color: white;;list-style-type:circle;align-item:left;padding-left:20px;padding-right:20px&#x27;&gt;&lt;li&gt;Confirmed: 6597&lt;/li&gt;&lt;li&gt;Deaths:   47&lt;/li&gt;&lt;li&gt;Death Rate: 0.71&lt;/li&gt;&lt;/ul&gt;&lt;/div&gt;\n",
       "                 &lt;/div&gt;`,\n",
       "                {&quot;sticky&quot;: true}\n",
       "            );\n",
       "        \n",
       "    \n",
       "            var circle_6df49cfc8e2eafb892f05fb93e887d72 = L.circle(\n",
       "                [13.9094, -60.9789],\n",
       "                {&quot;bubblingMouseEvents&quot;: true, &quot;color&quot;: &quot;red&quot;, &quot;dashArray&quot;: null, &quot;dashOffset&quot;: null, &quot;fill&quot;: true, &quot;fillColor&quot;: &quot;blue&quot;, &quot;fillOpacity&quot;: 0.2, &quot;fillRule&quot;: &quot;evenodd&quot;, &quot;lineCap&quot;: &quot;round&quot;, &quot;lineJoin&quot;: &quot;round&quot;, &quot;opacity&quot;: 1.0, &quot;radius&quot;: 509999.99999999994, &quot;stroke&quot;: true, &quot;weight&quot;: 3}\n",
       "            ).addTo(map_458ec8e400112ec513386247fe175da8);\n",
       "        \n",
       "    \n",
       "            circle_6df49cfc8e2eafb892f05fb93e887d72.bindTooltip(\n",
       "                `&lt;div&gt;\n",
       "                     &lt;div style=&#x27;margin: 0; background-color: black; color: white;&#x27;&gt;&lt;h4 style=&#x27;text-align:center;font-weight: bold&#x27;&gt;Saint Lucia&lt;/h4&gt;&lt;hr style=&#x27;margin:10px;color: white;&#x27;&gt;&lt;ul style=&#x27;color: white;;list-style-type:circle;align-item:left;padding-left:20px;padding-right:20px&#x27;&gt;&lt;li&gt;Confirmed: 30004&lt;/li&gt;&lt;li&gt;Deaths:   409&lt;/li&gt;&lt;li&gt;Death Rate: 1.36&lt;/li&gt;&lt;/ul&gt;&lt;/div&gt;\n",
       "                 &lt;/div&gt;`,\n",
       "                {&quot;sticky&quot;: true}\n",
       "            );\n",
       "        \n",
       "    \n",
       "            var circle_6356f07534ce82a9544a7913effa693e = L.circle(\n",
       "                [12.9843, -61.2872],\n",
       "                {&quot;bubblingMouseEvents&quot;: true, &quot;color&quot;: &quot;red&quot;, &quot;dashArray&quot;: null, &quot;dashOffset&quot;: null, &quot;fill&quot;: true, &quot;fillColor&quot;: &quot;blue&quot;, &quot;fillOpacity&quot;: 0.2, &quot;fillRule&quot;: &quot;evenodd&quot;, &quot;lineCap&quot;: &quot;round&quot;, &quot;lineJoin&quot;: &quot;round&quot;, &quot;opacity&quot;: 1.0, &quot;radius&quot;: 459999.99999999994, &quot;stroke&quot;: true, &quot;weight&quot;: 3}\n",
       "            ).addTo(map_458ec8e400112ec513386247fe175da8);\n",
       "        \n",
       "    \n",
       "            circle_6356f07534ce82a9544a7913effa693e.bindTooltip(\n",
       "                `&lt;div&gt;\n",
       "                     &lt;div style=&#x27;margin: 0; background-color: black; color: white;&#x27;&gt;&lt;h4 style=&#x27;text-align:center;font-weight: bold&#x27;&gt;Saint Vincent and the Grenadines&lt;/h4&gt;&lt;hr style=&#x27;margin:10px;color: white;&#x27;&gt;&lt;ul style=&#x27;color: white;;list-style-type:circle;align-item:left;padding-left:20px;padding-right:20px&#x27;&gt;&lt;li&gt;Confirmed: 9589&lt;/li&gt;&lt;li&gt;Deaths:   123&lt;/li&gt;&lt;li&gt;Death Rate: 1.28&lt;/li&gt;&lt;/ul&gt;&lt;/div&gt;\n",
       "                 &lt;/div&gt;`,\n",
       "                {&quot;sticky&quot;: true}\n",
       "            );\n",
       "        \n",
       "    \n",
       "            var circle_09fd7c21d3f0eab55420e1d3c579cfde = L.circle(\n",
       "                [-13.759, -172.1046],\n",
       "                {&quot;bubblingMouseEvents&quot;: true, &quot;color&quot;: &quot;red&quot;, &quot;dashArray&quot;: null, &quot;dashOffset&quot;: null, &quot;fill&quot;: true, &quot;fillColor&quot;: &quot;blue&quot;, &quot;fillOpacity&quot;: 0.2, &quot;fillRule&quot;: &quot;evenodd&quot;, &quot;lineCap&quot;: &quot;round&quot;, &quot;lineJoin&quot;: &quot;round&quot;, &quot;opacity&quot;: 1.0, &quot;radius&quot;: 459999.99999999994, &quot;stroke&quot;: true, &quot;weight&quot;: 3}\n",
       "            ).addTo(map_458ec8e400112ec513386247fe175da8);\n",
       "        \n",
       "    \n",
       "            circle_09fd7c21d3f0eab55420e1d3c579cfde.bindTooltip(\n",
       "                `&lt;div&gt;\n",
       "                     &lt;div style=&#x27;margin: 0; background-color: black; color: white;&#x27;&gt;&lt;h4 style=&#x27;text-align:center;font-weight: bold&#x27;&gt;Samoa&lt;/h4&gt;&lt;hr style=&#x27;margin:10px;color: white;&#x27;&gt;&lt;ul style=&#x27;color: white;;list-style-type:circle;align-item:left;padding-left:20px;padding-right:20px&#x27;&gt;&lt;li&gt;Confirmed: 16607&lt;/li&gt;&lt;li&gt;Deaths:   29&lt;/li&gt;&lt;li&gt;Death Rate: 0.17&lt;/li&gt;&lt;/ul&gt;&lt;/div&gt;\n",
       "                 &lt;/div&gt;`,\n",
       "                {&quot;sticky&quot;: true}\n",
       "            );\n",
       "        \n",
       "    \n",
       "            var circle_4485ab76fdb88fd176e543248275cdaa = L.circle(\n",
       "                [43.9424, 12.4578],\n",
       "                {&quot;bubblingMouseEvents&quot;: true, &quot;color&quot;: &quot;red&quot;, &quot;dashArray&quot;: null, &quot;dashOffset&quot;: null, &quot;fill&quot;: true, &quot;fillColor&quot;: &quot;blue&quot;, &quot;fillOpacity&quot;: 0.2, &quot;fillRule&quot;: &quot;evenodd&quot;, &quot;lineCap&quot;: &quot;round&quot;, &quot;lineJoin&quot;: &quot;round&quot;, &quot;opacity&quot;: 1.0, &quot;radius&quot;: 509999.99999999994, &quot;stroke&quot;: true, &quot;weight&quot;: 3}\n",
       "            ).addTo(map_458ec8e400112ec513386247fe175da8);\n",
       "        \n",
       "    \n",
       "            circle_4485ab76fdb88fd176e543248275cdaa.bindTooltip(\n",
       "                `&lt;div&gt;\n",
       "                     &lt;div style=&#x27;margin: 0; background-color: black; color: white;&#x27;&gt;&lt;h4 style=&#x27;text-align:center;font-weight: bold&#x27;&gt;San Marino&lt;/h4&gt;&lt;hr style=&#x27;margin:10px;color: white;&#x27;&gt;&lt;ul style=&#x27;color: white;;list-style-type:circle;align-item:left;padding-left:20px;padding-right:20px&#x27;&gt;&lt;li&gt;Confirmed: 23616&lt;/li&gt;&lt;li&gt;Deaths:   122&lt;/li&gt;&lt;li&gt;Death Rate: 0.52&lt;/li&gt;&lt;/ul&gt;&lt;/div&gt;\n",
       "                 &lt;/div&gt;`,\n",
       "                {&quot;sticky&quot;: true}\n",
       "            );\n",
       "        \n",
       "    \n",
       "            var circle_5ca321829d984afe0028dbb4cf08627e = L.circle(\n",
       "                [0.1864, 6.6131],\n",
       "                {&quot;bubblingMouseEvents&quot;: true, &quot;color&quot;: &quot;red&quot;, &quot;dashArray&quot;: null, &quot;dashOffset&quot;: null, &quot;fill&quot;: true, &quot;fillColor&quot;: &quot;blue&quot;, &quot;fillOpacity&quot;: 0.2, &quot;fillRule&quot;: &quot;evenodd&quot;, &quot;lineCap&quot;: &quot;round&quot;, &quot;lineJoin&quot;: &quot;round&quot;, &quot;opacity&quot;: 1.0, &quot;radius&quot;: 409999.99999999994, &quot;stroke&quot;: true, &quot;weight&quot;: 3}\n",
       "            ).addTo(map_458ec8e400112ec513386247fe175da8);\n",
       "        \n",
       "    \n",
       "            circle_5ca321829d984afe0028dbb4cf08627e.bindTooltip(\n",
       "                `&lt;div&gt;\n",
       "                     &lt;div style=&#x27;margin: 0; background-color: black; color: white;&#x27;&gt;&lt;h4 style=&#x27;text-align:center;font-weight: bold&#x27;&gt;Sao Tome and Principe&lt;/h4&gt;&lt;hr style=&#x27;margin:10px;color: white;&#x27;&gt;&lt;ul style=&#x27;color: white;;list-style-type:circle;align-item:left;padding-left:20px;padding-right:20px&#x27;&gt;&lt;li&gt;Confirmed: 6281&lt;/li&gt;&lt;li&gt;Deaths:   77&lt;/li&gt;&lt;li&gt;Death Rate: 1.23&lt;/li&gt;&lt;/ul&gt;&lt;/div&gt;\n",
       "                 &lt;/div&gt;`,\n",
       "                {&quot;sticky&quot;: true}\n",
       "            );\n",
       "        \n",
       "    \n",
       "            var circle_1a7bc1e11ee310f96c65c8fc602b79e6 = L.circle(\n",
       "                [23.885942, 45.079162],\n",
       "                {&quot;bubblingMouseEvents&quot;: true, &quot;color&quot;: &quot;red&quot;, &quot;dashArray&quot;: null, &quot;dashOffset&quot;: null, &quot;fill&quot;: true, &quot;fillColor&quot;: &quot;blue&quot;, &quot;fillOpacity&quot;: 0.2, &quot;fillRule&quot;: &quot;evenodd&quot;, &quot;lineCap&quot;: &quot;round&quot;, &quot;lineJoin&quot;: &quot;round&quot;, &quot;opacity&quot;: 1.0, &quot;radius&quot;: 660000.0, &quot;stroke&quot;: true, &quot;weight&quot;: 3}\n",
       "            ).addTo(map_458ec8e400112ec513386247fe175da8);\n",
       "        \n",
       "    \n",
       "            circle_1a7bc1e11ee310f96c65c8fc602b79e6.bindTooltip(\n",
       "                `&lt;div&gt;\n",
       "                     &lt;div style=&#x27;margin: 0; background-color: black; color: white;&#x27;&gt;&lt;h4 style=&#x27;text-align:center;font-weight: bold&#x27;&gt;Saudi Arabia&lt;/h4&gt;&lt;hr style=&#x27;margin:10px;color: white;&#x27;&gt;&lt;ul style=&#x27;color: white;;list-style-type:circle;align-item:left;padding-left:20px;padding-right:20px&#x27;&gt;&lt;li&gt;Confirmed: 830127&lt;/li&gt;&lt;li&gt;Deaths:   9618&lt;/li&gt;&lt;li&gt;Death Rate: 1.16&lt;/li&gt;&lt;/ul&gt;&lt;/div&gt;\n",
       "                 &lt;/div&gt;`,\n",
       "                {&quot;sticky&quot;: true}\n",
       "            );\n",
       "        \n",
       "    \n",
       "            var circle_a98e7d150a509c6e1e5074a8568adb16 = L.circle(\n",
       "                [14.4974, -14.4524],\n",
       "                {&quot;bubblingMouseEvents&quot;: true, &quot;color&quot;: &quot;red&quot;, &quot;dashArray&quot;: null, &quot;dashOffset&quot;: null, &quot;fill&quot;: true, &quot;fillColor&quot;: &quot;blue&quot;, &quot;fillOpacity&quot;: 0.2, &quot;fillRule&quot;: &quot;evenodd&quot;, &quot;lineCap&quot;: &quot;round&quot;, &quot;lineJoin&quot;: &quot;round&quot;, &quot;opacity&quot;: 1.0, &quot;radius&quot;: 560000.0, &quot;stroke&quot;: true, &quot;weight&quot;: 3}\n",
       "            ).addTo(map_458ec8e400112ec513386247fe175da8);\n",
       "        \n",
       "    \n",
       "            circle_a98e7d150a509c6e1e5074a8568adb16.bindTooltip(\n",
       "                `&lt;div&gt;\n",
       "                     &lt;div style=&#x27;margin: 0; background-color: black; color: white;&#x27;&gt;&lt;h4 style=&#x27;text-align:center;font-weight: bold&#x27;&gt;Senegal&lt;/h4&gt;&lt;hr style=&#x27;margin:10px;color: white;&#x27;&gt;&lt;ul style=&#x27;color: white;;list-style-type:circle;align-item:left;padding-left:20px;padding-right:20px&#x27;&gt;&lt;li&gt;Confirmed: 88926&lt;/li&gt;&lt;li&gt;Deaths:   1971&lt;/li&gt;&lt;li&gt;Death Rate: 2.22&lt;/li&gt;&lt;/ul&gt;&lt;/div&gt;\n",
       "                 &lt;/div&gt;`,\n",
       "                {&quot;sticky&quot;: true}\n",
       "            );\n",
       "        \n",
       "    \n",
       "            var circle_54bf2630a3a571626ca11189b019d21c = L.circle(\n",
       "                [44.0165, 21.0059],\n",
       "                {&quot;bubblingMouseEvents&quot;: true, &quot;color&quot;: &quot;red&quot;, &quot;dashArray&quot;: null, &quot;dashOffset&quot;: null, &quot;fill&quot;: true, &quot;fillColor&quot;: &quot;blue&quot;, &quot;fillOpacity&quot;: 0.2, &quot;fillRule&quot;: &quot;evenodd&quot;, &quot;lineCap&quot;: &quot;round&quot;, &quot;lineJoin&quot;: &quot;round&quot;, &quot;opacity&quot;: 1.0, &quot;radius&quot;: 710000.0, &quot;stroke&quot;: true, &quot;weight&quot;: 3}\n",
       "            ).addTo(map_458ec8e400112ec513386247fe175da8);\n",
       "        \n",
       "    \n",
       "            circle_54bf2630a3a571626ca11189b019d21c.bindTooltip(\n",
       "                `&lt;div&gt;\n",
       "                     &lt;div style=&#x27;margin: 0; background-color: black; color: white;&#x27;&gt;&lt;h4 style=&#x27;text-align:center;font-weight: bold&#x27;&gt;Serbia&lt;/h4&gt;&lt;hr style=&#x27;margin:10px;color: white;&#x27;&gt;&lt;ul style=&#x27;color: white;;list-style-type:circle;align-item:left;padding-left:20px;padding-right:20px&#x27;&gt;&lt;li&gt;Confirmed: 2500142&lt;/li&gt;&lt;li&gt;Deaths:   17881&lt;/li&gt;&lt;li&gt;Death Rate: 0.72&lt;/li&gt;&lt;/ul&gt;&lt;/div&gt;\n",
       "                 &lt;/div&gt;`,\n",
       "                {&quot;sticky&quot;: true}\n",
       "            );\n",
       "        \n",
       "    \n",
       "            var circle_be60af5b3bf2cc746b1e026da4afbe06 = L.circle(\n",
       "                [-4.6796, 55.492],\n",
       "                {&quot;bubblingMouseEvents&quot;: true, &quot;color&quot;: &quot;red&quot;, &quot;dashArray&quot;: null, &quot;dashOffset&quot;: null, &quot;fill&quot;: true, &quot;fillColor&quot;: &quot;blue&quot;, &quot;fillOpacity&quot;: 0.2, &quot;fillRule&quot;: &quot;evenodd&quot;, &quot;lineCap&quot;: &quot;round&quot;, &quot;lineJoin&quot;: &quot;round&quot;, &quot;opacity&quot;: 1.0, &quot;radius&quot;: 509999.99999999994, &quot;stroke&quot;: true, &quot;weight&quot;: 3}\n",
       "            ).addTo(map_458ec8e400112ec513386247fe175da8);\n",
       "        \n",
       "    \n",
       "            circle_be60af5b3bf2cc746b1e026da4afbe06.bindTooltip(\n",
       "                `&lt;div&gt;\n",
       "                     &lt;div style=&#x27;margin: 0; background-color: black; color: white;&#x27;&gt;&lt;h4 style=&#x27;text-align:center;font-weight: bold&#x27;&gt;Seychelles&lt;/h4&gt;&lt;hr style=&#x27;margin:10px;color: white;&#x27;&gt;&lt;ul style=&#x27;color: white;;list-style-type:circle;align-item:left;padding-left:20px;padding-right:20px&#x27;&gt;&lt;li&gt;Confirmed: 50665&lt;/li&gt;&lt;li&gt;Deaths:   172&lt;/li&gt;&lt;li&gt;Death Rate: 0.34&lt;/li&gt;&lt;/ul&gt;&lt;/div&gt;\n",
       "                 &lt;/div&gt;`,\n",
       "                {&quot;sticky&quot;: true}\n",
       "            );\n",
       "        \n",
       "    \n",
       "            var circle_3c2db6871ab55cedb7646e0ab9f05eea = L.circle(\n",
       "                [8.460555, -11.779889],\n",
       "                {&quot;bubblingMouseEvents&quot;: true, &quot;color&quot;: &quot;red&quot;, &quot;dashArray&quot;: null, &quot;dashOffset&quot;: null, &quot;fill&quot;: true, &quot;fillColor&quot;: &quot;blue&quot;, &quot;fillOpacity&quot;: 0.2, &quot;fillRule&quot;: &quot;evenodd&quot;, &quot;lineCap&quot;: &quot;round&quot;, &quot;lineJoin&quot;: &quot;round&quot;, &quot;opacity&quot;: 1.0, &quot;radius&quot;: 409999.99999999994, &quot;stroke&quot;: true, &quot;weight&quot;: 3}\n",
       "            ).addTo(map_458ec8e400112ec513386247fe175da8);\n",
       "        \n",
       "    \n",
       "            circle_3c2db6871ab55cedb7646e0ab9f05eea.bindTooltip(\n",
       "                `&lt;div&gt;\n",
       "                     &lt;div style=&#x27;margin: 0; background-color: black; color: white;&#x27;&gt;&lt;h4 style=&#x27;text-align:center;font-weight: bold&#x27;&gt;Sierra Leone&lt;/h4&gt;&lt;hr style=&#x27;margin:10px;color: white;&#x27;&gt;&lt;ul style=&#x27;color: white;;list-style-type:circle;align-item:left;padding-left:20px;padding-right:20px&#x27;&gt;&lt;li&gt;Confirmed: 7760&lt;/li&gt;&lt;li&gt;Deaths:   126&lt;/li&gt;&lt;li&gt;Death Rate: 1.62&lt;/li&gt;&lt;/ul&gt;&lt;/div&gt;\n",
       "                 &lt;/div&gt;`,\n",
       "                {&quot;sticky&quot;: true}\n",
       "            );\n",
       "        \n",
       "    \n",
       "            var circle_f28f220c00e77599accfc73932f0ab1a = L.circle(\n",
       "                [1.2833, 103.8333],\n",
       "                {&quot;bubblingMouseEvents&quot;: true, &quot;color&quot;: &quot;red&quot;, &quot;dashArray&quot;: null, &quot;dashOffset&quot;: null, &quot;fill&quot;: true, &quot;fillColor&quot;: &quot;blue&quot;, &quot;fillOpacity&quot;: 0.2, &quot;fillRule&quot;: &quot;evenodd&quot;, &quot;lineCap&quot;: &quot;round&quot;, &quot;lineJoin&quot;: &quot;round&quot;, &quot;opacity&quot;: 1.0, &quot;radius&quot;: 710000.0, &quot;stroke&quot;: true, &quot;weight&quot;: 3}\n",
       "            ).addTo(map_458ec8e400112ec513386247fe175da8);\n",
       "        \n",
       "    \n",
       "            circle_f28f220c00e77599accfc73932f0ab1a.bindTooltip(\n",
       "                `&lt;div&gt;\n",
       "                     &lt;div style=&#x27;margin: 0; background-color: black; color: white;&#x27;&gt;&lt;h4 style=&#x27;text-align:center;font-weight: bold&#x27;&gt;Singapore&lt;/h4&gt;&lt;hr style=&#x27;margin:10px;color: white;&#x27;&gt;&lt;ul style=&#x27;color: white;;list-style-type:circle;align-item:left;padding-left:20px;padding-right:20px&#x27;&gt;&lt;li&gt;Confirmed: 2235294&lt;/li&gt;&lt;li&gt;Deaths:   1722&lt;/li&gt;&lt;li&gt;Death Rate: 0.08&lt;/li&gt;&lt;/ul&gt;&lt;/div&gt;\n",
       "                 &lt;/div&gt;`,\n",
       "                {&quot;sticky&quot;: true}\n",
       "            );\n",
       "        \n",
       "    \n",
       "            var circle_5f369b7b39320cc2dc2d50f97020ccee = L.circle(\n",
       "                [48.669, 19.699],\n",
       "                {&quot;bubblingMouseEvents&quot;: true, &quot;color&quot;: &quot;red&quot;, &quot;dashArray&quot;: null, &quot;dashOffset&quot;: null, &quot;fill&quot;: true, &quot;fillColor&quot;: &quot;blue&quot;, &quot;fillOpacity&quot;: 0.2, &quot;fillRule&quot;: &quot;evenodd&quot;, &quot;lineCap&quot;: &quot;round&quot;, &quot;lineJoin&quot;: &quot;round&quot;, &quot;opacity&quot;: 1.0, &quot;radius&quot;: 710000.0, &quot;stroke&quot;: true, &quot;weight&quot;: 3}\n",
       "            ).addTo(map_458ec8e400112ec513386247fe175da8);\n",
       "        \n",
       "    \n",
       "            circle_5f369b7b39320cc2dc2d50f97020ccee.bindTooltip(\n",
       "                `&lt;div&gt;\n",
       "                     &lt;div style=&#x27;margin: 0; background-color: black; color: white;&#x27;&gt;&lt;h4 style=&#x27;text-align:center;font-weight: bold&#x27;&gt;Slovakia&lt;/h4&gt;&lt;hr style=&#x27;margin:10px;color: white;&#x27;&gt;&lt;ul style=&#x27;color: white;;list-style-type:circle;align-item:left;padding-left:20px;padding-right:20px&#x27;&gt;&lt;li&gt;Confirmed: 2667551&lt;/li&gt;&lt;li&gt;Deaths:   21035&lt;/li&gt;&lt;li&gt;Death Rate: 0.79&lt;/li&gt;&lt;/ul&gt;&lt;/div&gt;\n",
       "                 &lt;/div&gt;`,\n",
       "                {&quot;sticky&quot;: true}\n",
       "            );\n",
       "        \n",
       "    \n",
       "            var circle_b52a975246ae26ddb65ede6ab20cf507 = L.circle(\n",
       "                [46.1512, 14.9955],\n",
       "                {&quot;bubblingMouseEvents&quot;: true, &quot;color&quot;: &quot;red&quot;, &quot;dashArray&quot;: null, &quot;dashOffset&quot;: null, &quot;fill&quot;: true, &quot;fillColor&quot;: &quot;blue&quot;, &quot;fillOpacity&quot;: 0.2, &quot;fillRule&quot;: &quot;evenodd&quot;, &quot;lineCap&quot;: &quot;round&quot;, &quot;lineJoin&quot;: &quot;round&quot;, &quot;opacity&quot;: 1.0, &quot;radius&quot;: 710000.0, &quot;stroke&quot;: true, &quot;weight&quot;: 3}\n",
       "            ).addTo(map_458ec8e400112ec513386247fe175da8);\n",
       "        \n",
       "    \n",
       "            circle_b52a975246ae26ddb65ede6ab20cf507.bindTooltip(\n",
       "                `&lt;div&gt;\n",
       "                     &lt;div style=&#x27;margin: 0; background-color: black; color: white;&#x27;&gt;&lt;h4 style=&#x27;text-align:center;font-weight: bold&#x27;&gt;Slovenia&lt;/h4&gt;&lt;hr style=&#x27;margin:10px;color: white;&#x27;&gt;&lt;ul style=&#x27;color: white;;list-style-type:circle;align-item:left;padding-left:20px;padding-right:20px&#x27;&gt;&lt;li&gt;Confirmed: 1331707&lt;/li&gt;&lt;li&gt;Deaths:   7078&lt;/li&gt;&lt;li&gt;Death Rate: 0.53&lt;/li&gt;&lt;/ul&gt;&lt;/div&gt;\n",
       "                 &lt;/div&gt;`,\n",
       "                {&quot;sticky&quot;: true}\n",
       "            );\n",
       "        \n",
       "    \n",
       "            var circle_ef187b350fcfeac574222b5474480b8c = L.circle(\n",
       "                [-9.6457, 160.1562],\n",
       "                {&quot;bubblingMouseEvents&quot;: true, &quot;color&quot;: &quot;red&quot;, &quot;dashArray&quot;: null, &quot;dashOffset&quot;: null, &quot;fill&quot;: true, &quot;fillColor&quot;: &quot;blue&quot;, &quot;fillOpacity&quot;: 0.2, &quot;fillRule&quot;: &quot;evenodd&quot;, &quot;lineCap&quot;: &quot;round&quot;, &quot;lineJoin&quot;: &quot;round&quot;, &quot;opacity&quot;: 1.0, &quot;radius&quot;: 509999.99999999994, &quot;stroke&quot;: true, &quot;weight&quot;: 3}\n",
       "            ).addTo(map_458ec8e400112ec513386247fe175da8);\n",
       "        \n",
       "    \n",
       "            circle_ef187b350fcfeac574222b5474480b8c.bindTooltip(\n",
       "                `&lt;div&gt;\n",
       "                     &lt;div style=&#x27;margin: 0; background-color: black; color: white;&#x27;&gt;&lt;h4 style=&#x27;text-align:center;font-weight: bold&#x27;&gt;Solomon Islands&lt;/h4&gt;&lt;hr style=&#x27;margin:10px;color: white;&#x27;&gt;&lt;ul style=&#x27;color: white;;list-style-type:circle;align-item:left;padding-left:20px;padding-right:20px&#x27;&gt;&lt;li&gt;Confirmed: 24575&lt;/li&gt;&lt;li&gt;Deaths:   153&lt;/li&gt;&lt;li&gt;Death Rate: 0.62&lt;/li&gt;&lt;/ul&gt;&lt;/div&gt;\n",
       "                 &lt;/div&gt;`,\n",
       "                {&quot;sticky&quot;: true}\n",
       "            );\n",
       "        \n",
       "    \n",
       "            var circle_1a44d2a2c8f40cf3ee72c9a8fb4cffef = L.circle(\n",
       "                [5.152149, 46.199616],\n",
       "                {&quot;bubblingMouseEvents&quot;: true, &quot;color&quot;: &quot;red&quot;, &quot;dashArray&quot;: null, &quot;dashOffset&quot;: null, &quot;fill&quot;: true, &quot;fillColor&quot;: &quot;blue&quot;, &quot;fillOpacity&quot;: 0.2, &quot;fillRule&quot;: &quot;evenodd&quot;, &quot;lineCap&quot;: &quot;round&quot;, &quot;lineJoin&quot;: &quot;round&quot;, &quot;opacity&quot;: 1.0, &quot;radius&quot;: 509999.99999999994, &quot;stroke&quot;: true, &quot;weight&quot;: 3}\n",
       "            ).addTo(map_458ec8e400112ec513386247fe175da8);\n",
       "        \n",
       "    \n",
       "            circle_1a44d2a2c8f40cf3ee72c9a8fb4cffef.bindTooltip(\n",
       "                `&lt;div&gt;\n",
       "                     &lt;div style=&#x27;margin: 0; background-color: black; color: white;&#x27;&gt;&lt;h4 style=&#x27;text-align:center;font-weight: bold&#x27;&gt;Somalia&lt;/h4&gt;&lt;hr style=&#x27;margin:10px;color: white;&#x27;&gt;&lt;ul style=&#x27;color: white;;list-style-type:circle;align-item:left;padding-left:20px;padding-right:20px&#x27;&gt;&lt;li&gt;Confirmed: 27324&lt;/li&gt;&lt;li&gt;Deaths:   1361&lt;/li&gt;&lt;li&gt;Death Rate: 4.98&lt;/li&gt;&lt;/ul&gt;&lt;/div&gt;\n",
       "                 &lt;/div&gt;`,\n",
       "                {&quot;sticky&quot;: true}\n",
       "            );\n",
       "        \n",
       "    \n",
       "            var circle_4aff84faadc26656500c3fec246c8549 = L.circle(\n",
       "                [-30.5595, 22.9375],\n",
       "                {&quot;bubblingMouseEvents&quot;: true, &quot;color&quot;: &quot;red&quot;, &quot;dashArray&quot;: null, &quot;dashOffset&quot;: null, &quot;fill&quot;: true, &quot;fillColor&quot;: &quot;blue&quot;, &quot;fillOpacity&quot;: 0.2, &quot;fillRule&quot;: &quot;evenodd&quot;, &quot;lineCap&quot;: &quot;round&quot;, &quot;lineJoin&quot;: &quot;round&quot;, &quot;opacity&quot;: 1.0, &quot;radius&quot;: 760000.0, &quot;stroke&quot;: true, &quot;weight&quot;: 3}\n",
       "            ).addTo(map_458ec8e400112ec513386247fe175da8);\n",
       "        \n",
       "    \n",
       "            circle_4aff84faadc26656500c3fec246c8549.bindTooltip(\n",
       "                `&lt;div&gt;\n",
       "                     &lt;div style=&#x27;margin: 0; background-color: black; color: white;&#x27;&gt;&lt;h4 style=&#x27;text-align:center;font-weight: bold&#x27;&gt;South Africa&lt;/h4&gt;&lt;hr style=&#x27;margin:10px;color: white;&#x27;&gt;&lt;ul style=&#x27;color: white;;list-style-type:circle;align-item:left;padding-left:20px;padding-right:20px&#x27;&gt;&lt;li&gt;Confirmed: 4067067&lt;/li&gt;&lt;li&gt;Deaths:   102595&lt;/li&gt;&lt;li&gt;Death Rate: 2.52&lt;/li&gt;&lt;/ul&gt;&lt;/div&gt;\n",
       "                 &lt;/div&gt;`,\n",
       "                {&quot;sticky&quot;: true}\n",
       "            );\n",
       "        \n",
       "    \n",
       "            var circle_94df53fd004190caea875272492260e5 = L.circle(\n",
       "                [6.877, 31.307],\n",
       "                {&quot;bubblingMouseEvents&quot;: true, &quot;color&quot;: &quot;red&quot;, &quot;dashArray&quot;: null, &quot;dashOffset&quot;: null, &quot;fill&quot;: true, &quot;fillColor&quot;: &quot;blue&quot;, &quot;fillOpacity&quot;: 0.2, &quot;fillRule&quot;: &quot;evenodd&quot;, &quot;lineCap&quot;: &quot;round&quot;, &quot;lineJoin&quot;: &quot;round&quot;, &quot;opacity&quot;: 1.0, &quot;radius&quot;: 459999.99999999994, &quot;stroke&quot;: true, &quot;weight&quot;: 3}\n",
       "            ).addTo(map_458ec8e400112ec513386247fe175da8);\n",
       "        \n",
       "    \n",
       "            circle_94df53fd004190caea875272492260e5.bindTooltip(\n",
       "                `&lt;div&gt;\n",
       "                     &lt;div style=&#x27;margin: 0; background-color: black; color: white;&#x27;&gt;&lt;h4 style=&#x27;text-align:center;font-weight: bold&#x27;&gt;South Sudan&lt;/h4&gt;&lt;hr style=&#x27;margin:10px;color: white;&#x27;&gt;&lt;ul style=&#x27;color: white;;list-style-type:circle;align-item:left;padding-left:20px;padding-right:20px&#x27;&gt;&lt;li&gt;Confirmed: 18368&lt;/li&gt;&lt;li&gt;Deaths:   138&lt;/li&gt;&lt;li&gt;Death Rate: 0.75&lt;/li&gt;&lt;/ul&gt;&lt;/div&gt;\n",
       "                 &lt;/div&gt;`,\n",
       "                {&quot;sticky&quot;: true}\n",
       "            );\n",
       "        \n",
       "    \n",
       "            var circle_fab07b08d9ae3816ee6dcc868081698e = L.circle(\n",
       "                [40.463667, -3.74922],\n",
       "                {&quot;bubblingMouseEvents&quot;: true, &quot;color&quot;: &quot;red&quot;, &quot;dashArray&quot;: null, &quot;dashOffset&quot;: null, &quot;fill&quot;: true, &quot;fillColor&quot;: &quot;blue&quot;, &quot;fillOpacity&quot;: 0.2, &quot;fillRule&quot;: &quot;evenodd&quot;, &quot;lineCap&quot;: &quot;round&quot;, &quot;lineJoin&quot;: &quot;round&quot;, &quot;opacity&quot;: 1.0, &quot;radius&quot;: 810000.0, &quot;stroke&quot;: true, &quot;weight&quot;: 3}\n",
       "            ).addTo(map_458ec8e400112ec513386247fe175da8);\n",
       "        \n",
       "    \n",
       "            circle_fab07b08d9ae3816ee6dcc868081698e.bindTooltip(\n",
       "                `&lt;div&gt;\n",
       "                     &lt;div style=&#x27;margin: 0; background-color: black; color: white;&#x27;&gt;&lt;h4 style=&#x27;text-align:center;font-weight: bold&#x27;&gt;Spain&lt;/h4&gt;&lt;hr style=&#x27;margin:10px;color: white;&#x27;&gt;&lt;ul style=&#x27;color: white;;list-style-type:circle;align-item:left;padding-left:20px;padding-right:20px&#x27;&gt;&lt;li&gt;Confirmed: 13770429&lt;/li&gt;&lt;li&gt;Deaths:   119479&lt;/li&gt;&lt;li&gt;Death Rate: 0.87&lt;/li&gt;&lt;/ul&gt;&lt;/div&gt;\n",
       "                 &lt;/div&gt;`,\n",
       "                {&quot;sticky&quot;: true}\n",
       "            );\n",
       "        \n",
       "    \n",
       "            var circle_0cd58914bdb989f4203274d51d57bb9b = L.circle(\n",
       "                [7.873054, 80.771797],\n",
       "                {&quot;bubblingMouseEvents&quot;: true, &quot;color&quot;: &quot;red&quot;, &quot;dashArray&quot;: null, &quot;dashOffset&quot;: null, &quot;fill&quot;: true, &quot;fillColor&quot;: &quot;blue&quot;, &quot;fillOpacity&quot;: 0.2, &quot;fillRule&quot;: &quot;evenodd&quot;, &quot;lineCap&quot;: &quot;round&quot;, &quot;lineJoin&quot;: &quot;round&quot;, &quot;opacity&quot;: 1.0, &quot;radius&quot;: 660000.0, &quot;stroke&quot;: true, &quot;weight&quot;: 3}\n",
       "            ).addTo(map_458ec8e400112ec513386247fe175da8);\n",
       "        \n",
       "    \n",
       "            circle_0cd58914bdb989f4203274d51d57bb9b.bindTooltip(\n",
       "                `&lt;div&gt;\n",
       "                     &lt;div style=&#x27;margin: 0; background-color: black; color: white;&#x27;&gt;&lt;h4 style=&#x27;text-align:center;font-weight: bold&#x27;&gt;Sri Lanka&lt;/h4&gt;&lt;hr style=&#x27;margin:10px;color: white;&#x27;&gt;&lt;ul style=&#x27;color: white;;list-style-type:circle;align-item:left;padding-left:20px;padding-right:20px&#x27;&gt;&lt;li&gt;Confirmed: 672039&lt;/li&gt;&lt;li&gt;Deaths:   16830&lt;/li&gt;&lt;li&gt;Death Rate: 2.5&lt;/li&gt;&lt;/ul&gt;&lt;/div&gt;\n",
       "                 &lt;/div&gt;`,\n",
       "                {&quot;sticky&quot;: true}\n",
       "            );\n",
       "        \n",
       "    \n",
       "            var circle_a5f97b9d040c6f897161765f8238e4d0 = L.circle(\n",
       "                [12.8628, 30.2176],\n",
       "                {&quot;bubblingMouseEvents&quot;: true, &quot;color&quot;: &quot;red&quot;, &quot;dashArray&quot;: null, &quot;dashOffset&quot;: null, &quot;fill&quot;: true, &quot;fillColor&quot;: &quot;blue&quot;, &quot;fillOpacity&quot;: 0.2, &quot;fillRule&quot;: &quot;evenodd&quot;, &quot;lineCap&quot;: &quot;round&quot;, &quot;lineJoin&quot;: &quot;round&quot;, &quot;opacity&quot;: 1.0, &quot;radius&quot;: 560000.0, &quot;stroke&quot;: true, &quot;weight&quot;: 3}\n",
       "            ).addTo(map_458ec8e400112ec513386247fe175da8);\n",
       "        \n",
       "    \n",
       "            circle_a5f97b9d040c6f897161765f8238e4d0.bindTooltip(\n",
       "                `&lt;div&gt;\n",
       "                     &lt;div style=&#x27;margin: 0; background-color: black; color: white;&#x27;&gt;&lt;h4 style=&#x27;text-align:center;font-weight: bold&#x27;&gt;Sudan&lt;/h4&gt;&lt;hr style=&#x27;margin:10px;color: white;&#x27;&gt;&lt;ul style=&#x27;color: white;;list-style-type:circle;align-item:left;padding-left:20px;padding-right:20px&#x27;&gt;&lt;li&gt;Confirmed: 63829&lt;/li&gt;&lt;li&gt;Deaths:   5017&lt;/li&gt;&lt;li&gt;Death Rate: 7.86&lt;/li&gt;&lt;/ul&gt;&lt;/div&gt;\n",
       "                 &lt;/div&gt;`,\n",
       "                {&quot;sticky&quot;: true}\n",
       "            );\n",
       "        \n",
       "    \n",
       "            var circle_af2cf7f73b714f98a4fdb71ce52373ea = L.circle(\n",
       "                [35.6491, 139.7737],\n",
       "                {&quot;bubblingMouseEvents&quot;: true, &quot;color&quot;: &quot;red&quot;, &quot;dashArray&quot;: null, &quot;dashOffset&quot;: null, &quot;fill&quot;: true, &quot;fillColor&quot;: &quot;blue&quot;, &quot;fillOpacity&quot;: 0.2, &quot;fillRule&quot;: &quot;evenodd&quot;, &quot;lineCap&quot;: &quot;round&quot;, &quot;lineJoin&quot;: &quot;round&quot;, &quot;opacity&quot;: 1.0, &quot;radius&quot;: 310000.0, &quot;stroke&quot;: true, &quot;weight&quot;: 3}\n",
       "            ).addTo(map_458ec8e400112ec513386247fe175da8);\n",
       "        \n",
       "    \n",
       "            circle_af2cf7f73b714f98a4fdb71ce52373ea.bindTooltip(\n",
       "                `&lt;div&gt;\n",
       "                     &lt;div style=&#x27;margin: 0; background-color: black; color: white;&#x27;&gt;&lt;h4 style=&#x27;text-align:center;font-weight: bold&#x27;&gt;Summer Olympics 2020&lt;/h4&gt;&lt;hr style=&#x27;margin:10px;color: white;&#x27;&gt;&lt;ul style=&#x27;color: white;;list-style-type:circle;align-item:left;padding-left:20px;padding-right:20px&#x27;&gt;&lt;li&gt;Confirmed: 865&lt;/li&gt;&lt;li&gt;Deaths:   0&lt;/li&gt;&lt;li&gt;Death Rate: 0.0&lt;/li&gt;&lt;/ul&gt;&lt;/div&gt;\n",
       "                 &lt;/div&gt;`,\n",
       "                {&quot;sticky&quot;: true}\n",
       "            );\n",
       "        \n",
       "    \n",
       "            var circle_ded234db74e8bc443981c945d13d2676 = L.circle(\n",
       "                [3.9193, -56.0278],\n",
       "                {&quot;bubblingMouseEvents&quot;: true, &quot;color&quot;: &quot;red&quot;, &quot;dashArray&quot;: null, &quot;dashOffset&quot;: null, &quot;fill&quot;: true, &quot;fillColor&quot;: &quot;blue&quot;, &quot;fillOpacity&quot;: 0.2, &quot;fillRule&quot;: &quot;evenodd&quot;, &quot;lineCap&quot;: &quot;round&quot;, &quot;lineJoin&quot;: &quot;round&quot;, &quot;opacity&quot;: 1.0, &quot;radius&quot;: 560000.0, &quot;stroke&quot;: true, &quot;weight&quot;: 3}\n",
       "            ).addTo(map_458ec8e400112ec513386247fe175da8);\n",
       "        \n",
       "    \n",
       "            circle_ded234db74e8bc443981c945d13d2676.bindTooltip(\n",
       "                `&lt;div&gt;\n",
       "                     &lt;div style=&#x27;margin: 0; background-color: black; color: white;&#x27;&gt;&lt;h4 style=&#x27;text-align:center;font-weight: bold&#x27;&gt;Suriname&lt;/h4&gt;&lt;hr style=&#x27;margin:10px;color: white;&#x27;&gt;&lt;ul style=&#x27;color: white;;list-style-type:circle;align-item:left;padding-left:20px;padding-right:20px&#x27;&gt;&lt;li&gt;Confirmed: 82467&lt;/li&gt;&lt;li&gt;Deaths:   1404&lt;/li&gt;&lt;li&gt;Death Rate: 1.7&lt;/li&gt;&lt;/ul&gt;&lt;/div&gt;\n",
       "                 &lt;/div&gt;`,\n",
       "                {&quot;sticky&quot;: true}\n",
       "            );\n",
       "        \n",
       "    \n",
       "            var circle_932f7df09ff48b79526e10d11bca7dfe = L.circle(\n",
       "                [60.128161, 18.643501],\n",
       "                {&quot;bubblingMouseEvents&quot;: true, &quot;color&quot;: &quot;red&quot;, &quot;dashArray&quot;: null, &quot;dashOffset&quot;: null, &quot;fill&quot;: true, &quot;fillColor&quot;: &quot;blue&quot;, &quot;fillOpacity&quot;: 0.2, &quot;fillRule&quot;: &quot;evenodd&quot;, &quot;lineCap&quot;: &quot;round&quot;, &quot;lineJoin&quot;: &quot;round&quot;, &quot;opacity&quot;: 1.0, &quot;radius&quot;: 710000.0, &quot;stroke&quot;: true, &quot;weight&quot;: 3}\n",
       "            ).addTo(map_458ec8e400112ec513386247fe175da8);\n",
       "        \n",
       "    \n",
       "            circle_932f7df09ff48b79526e10d11bca7dfe.bindTooltip(\n",
       "                `&lt;div&gt;\n",
       "                     &lt;div style=&#x27;margin: 0; background-color: black; color: white;&#x27;&gt;&lt;h4 style=&#x27;text-align:center;font-weight: bold&#x27;&gt;Sweden&lt;/h4&gt;&lt;hr style=&#x27;margin:10px;color: white;&#x27;&gt;&lt;ul style=&#x27;color: white;;list-style-type:circle;align-item:left;padding-left:20px;padding-right:20px&#x27;&gt;&lt;li&gt;Confirmed: 2699339&lt;/li&gt;&lt;li&gt;Deaths:   23777&lt;/li&gt;&lt;li&gt;Death Rate: 0.88&lt;/li&gt;&lt;/ul&gt;&lt;/div&gt;\n",
       "                 &lt;/div&gt;`,\n",
       "                {&quot;sticky&quot;: true}\n",
       "            );\n",
       "        \n",
       "    \n",
       "            var circle_2da1d4b11fcb49fb0dcc75aca98ee9c5 = L.circle(\n",
       "                [46.8182, 8.2275],\n",
       "                {&quot;bubblingMouseEvents&quot;: true, &quot;color&quot;: &quot;red&quot;, &quot;dashArray&quot;: null, &quot;dashOffset&quot;: null, &quot;fill&quot;: true, &quot;fillColor&quot;: &quot;blue&quot;, &quot;fillOpacity&quot;: 0.2, &quot;fillRule&quot;: &quot;evenodd&quot;, &quot;lineCap&quot;: &quot;round&quot;, &quot;lineJoin&quot;: &quot;round&quot;, &quot;opacity&quot;: 1.0, &quot;radius&quot;: 760000.0, &quot;stroke&quot;: true, &quot;weight&quot;: 3}\n",
       "            ).addTo(map_458ec8e400112ec513386247fe175da8);\n",
       "        \n",
       "    \n",
       "            circle_2da1d4b11fcb49fb0dcc75aca98ee9c5.bindTooltip(\n",
       "                `&lt;div&gt;\n",
       "                     &lt;div style=&#x27;margin: 0; background-color: black; color: white;&#x27;&gt;&lt;h4 style=&#x27;text-align:center;font-weight: bold&#x27;&gt;Switzerland&lt;/h4&gt;&lt;hr style=&#x27;margin:10px;color: white;&#x27;&gt;&lt;ul style=&#x27;color: white;;list-style-type:circle;align-item:left;padding-left:20px;padding-right:20px&#x27;&gt;&lt;li&gt;Confirmed: 4413911&lt;/li&gt;&lt;li&gt;Deaths:   14210&lt;/li&gt;&lt;li&gt;Death Rate: 0.32&lt;/li&gt;&lt;/ul&gt;&lt;/div&gt;\n",
       "                 &lt;/div&gt;`,\n",
       "                {&quot;sticky&quot;: true}\n",
       "            );\n",
       "        \n",
       "    \n",
       "            var circle_60b4dcbf81e2a51f49e70c027e70e8ab = L.circle(\n",
       "                [34.802075, 38.996815],\n",
       "                {&quot;bubblingMouseEvents&quot;: true, &quot;color&quot;: &quot;red&quot;, &quot;dashArray&quot;: null, &quot;dashOffset&quot;: null, &quot;fill&quot;: true, &quot;fillColor&quot;: &quot;blue&quot;, &quot;fillOpacity&quot;: 0.2, &quot;fillRule&quot;: &quot;evenodd&quot;, &quot;lineCap&quot;: &quot;round&quot;, &quot;lineJoin&quot;: &quot;round&quot;, &quot;opacity&quot;: 1.0, &quot;radius&quot;: 509999.99999999994, &quot;stroke&quot;: true, &quot;weight&quot;: 3}\n",
       "            ).addTo(map_458ec8e400112ec513386247fe175da8);\n",
       "        \n",
       "    \n",
       "            circle_60b4dcbf81e2a51f49e70c027e70e8ab.bindTooltip(\n",
       "                `&lt;div&gt;\n",
       "                     &lt;div style=&#x27;margin: 0; background-color: black; color: white;&#x27;&gt;&lt;h4 style=&#x27;text-align:center;font-weight: bold&#x27;&gt;Syria&lt;/h4&gt;&lt;hr style=&#x27;margin:10px;color: white;&#x27;&gt;&lt;ul style=&#x27;color: white;;list-style-type:circle;align-item:left;padding-left:20px;padding-right:20px&#x27;&gt;&lt;li&gt;Confirmed: 57467&lt;/li&gt;&lt;li&gt;Deaths:   3164&lt;/li&gt;&lt;li&gt;Death Rate: 5.51&lt;/li&gt;&lt;/ul&gt;&lt;/div&gt;\n",
       "                 &lt;/div&gt;`,\n",
       "                {&quot;sticky&quot;: true}\n",
       "            );\n",
       "        \n",
       "    \n",
       "            var circle_be4ba5529bab639e058b137660a91e69 = L.circle(\n",
       "                [23.7, 121.0],\n",
       "                {&quot;bubblingMouseEvents&quot;: true, &quot;color&quot;: &quot;red&quot;, &quot;dashArray&quot;: null, &quot;dashOffset&quot;: null, &quot;fill&quot;: true, &quot;fillColor&quot;: &quot;blue&quot;, &quot;fillOpacity&quot;: 0.2, &quot;fillRule&quot;: &quot;evenodd&quot;, &quot;lineCap&quot;: &quot;round&quot;, &quot;lineJoin&quot;: &quot;round&quot;, &quot;opacity&quot;: 1.0, &quot;radius&quot;: 810000.0, &quot;stroke&quot;: true, &quot;weight&quot;: 3}\n",
       "            ).addTo(map_458ec8e400112ec513386247fe175da8);\n",
       "        \n",
       "    \n",
       "            circle_be4ba5529bab639e058b137660a91e69.bindTooltip(\n",
       "                `&lt;div&gt;\n",
       "                     &lt;div style=&#x27;margin: 0; background-color: black; color: white;&#x27;&gt;&lt;h4 style=&#x27;text-align:center;font-weight: bold&#x27;&gt;Taiwan*&lt;/h4&gt;&lt;hr style=&#x27;margin:10px;color: white;&#x27;&gt;&lt;ul style=&#x27;color: white;;list-style-type:circle;align-item:left;padding-left:20px;padding-right:20px&#x27;&gt;&lt;li&gt;Confirmed: 9970937&lt;/li&gt;&lt;li&gt;Deaths:   17672&lt;/li&gt;&lt;li&gt;Death Rate: 0.18&lt;/li&gt;&lt;/ul&gt;&lt;/div&gt;\n",
       "                 &lt;/div&gt;`,\n",
       "                {&quot;sticky&quot;: true}\n",
       "            );\n",
       "        \n",
       "    \n",
       "            var circle_0877761e1e0fd06596330f6ad54cc90d = L.circle(\n",
       "                [38.861, 71.2761],\n",
       "                {&quot;bubblingMouseEvents&quot;: true, &quot;color&quot;: &quot;red&quot;, &quot;dashArray&quot;: null, &quot;dashOffset&quot;: null, &quot;fill&quot;: true, &quot;fillColor&quot;: &quot;blue&quot;, &quot;fillOpacity&quot;: 0.2, &quot;fillRule&quot;: &quot;evenodd&quot;, &quot;lineCap&quot;: &quot;round&quot;, &quot;lineJoin&quot;: &quot;round&quot;, &quot;opacity&quot;: 1.0, &quot;radius&quot;: 459999.99999999994, &quot;stroke&quot;: true, &quot;weight&quot;: 3}\n",
       "            ).addTo(map_458ec8e400112ec513386247fe175da8);\n",
       "        \n",
       "    \n",
       "            circle_0877761e1e0fd06596330f6ad54cc90d.bindTooltip(\n",
       "                `&lt;div&gt;\n",
       "                     &lt;div style=&#x27;margin: 0; background-color: black; color: white;&#x27;&gt;&lt;h4 style=&#x27;text-align:center;font-weight: bold&#x27;&gt;Tajikistan&lt;/h4&gt;&lt;hr style=&#x27;margin:10px;color: white;&#x27;&gt;&lt;ul style=&#x27;color: white;;list-style-type:circle;align-item:left;padding-left:20px;padding-right:20px&#x27;&gt;&lt;li&gt;Confirmed: 17786&lt;/li&gt;&lt;li&gt;Deaths:   125&lt;/li&gt;&lt;li&gt;Death Rate: 0.7&lt;/li&gt;&lt;/ul&gt;&lt;/div&gt;\n",
       "                 &lt;/div&gt;`,\n",
       "                {&quot;sticky&quot;: true}\n",
       "            );\n",
       "        \n",
       "    \n",
       "            var circle_b106dce3c8132edc53424ab9d5615de9 = L.circle(\n",
       "                [-6.369028, 34.888822],\n",
       "                {&quot;bubblingMouseEvents&quot;: true, &quot;color&quot;: &quot;red&quot;, &quot;dashArray&quot;: null, &quot;dashOffset&quot;: null, &quot;fill&quot;: true, &quot;fillColor&quot;: &quot;blue&quot;, &quot;fillOpacity&quot;: 0.2, &quot;fillRule&quot;: &quot;evenodd&quot;, &quot;lineCap&quot;: &quot;round&quot;, &quot;lineJoin&quot;: &quot;round&quot;, &quot;opacity&quot;: 1.0, &quot;radius&quot;: 509999.99999999994, &quot;stroke&quot;: true, &quot;weight&quot;: 3}\n",
       "            ).addTo(map_458ec8e400112ec513386247fe175da8);\n",
       "        \n",
       "    \n",
       "            circle_b106dce3c8132edc53424ab9d5615de9.bindTooltip(\n",
       "                `&lt;div&gt;\n",
       "                     &lt;div style=&#x27;margin: 0; background-color: black; color: white;&#x27;&gt;&lt;h4 style=&#x27;text-align:center;font-weight: bold&#x27;&gt;Tanzania&lt;/h4&gt;&lt;hr style=&#x27;margin:10px;color: white;&#x27;&gt;&lt;ul style=&#x27;color: white;;list-style-type:circle;align-item:left;padding-left:20px;padding-right:20px&#x27;&gt;&lt;li&gt;Confirmed: 42906&lt;/li&gt;&lt;li&gt;Deaths:   846&lt;/li&gt;&lt;li&gt;Death Rate: 1.97&lt;/li&gt;&lt;/ul&gt;&lt;/div&gt;\n",
       "                 &lt;/div&gt;`,\n",
       "                {&quot;sticky&quot;: true}\n",
       "            );\n",
       "        \n",
       "    \n",
       "            var circle_3e478cd94d7a3493833e9ecc5777627a = L.circle(\n",
       "                [15.870032, 100.992541],\n",
       "                {&quot;bubblingMouseEvents&quot;: true, &quot;color&quot;: &quot;red&quot;, &quot;dashArray&quot;: null, &quot;dashOffset&quot;: null, &quot;fill&quot;: true, &quot;fillColor&quot;: &quot;blue&quot;, &quot;fillOpacity&quot;: 0.2, &quot;fillRule&quot;: &quot;evenodd&quot;, &quot;lineCap&quot;: &quot;round&quot;, &quot;lineJoin&quot;: &quot;round&quot;, &quot;opacity&quot;: 1.0, &quot;radius&quot;: 760000.0, &quot;stroke&quot;: true, &quot;weight&quot;: 3}\n",
       "            ).addTo(map_458ec8e400112ec513386247fe175da8);\n",
       "        \n",
       "    \n",
       "            circle_3e478cd94d7a3493833e9ecc5777627a.bindTooltip(\n",
       "                `&lt;div&gt;\n",
       "                     &lt;div style=&#x27;margin: 0; background-color: black; color: white;&#x27;&gt;&lt;h4 style=&#x27;text-align:center;font-weight: bold&#x27;&gt;Thailand&lt;/h4&gt;&lt;hr style=&#x27;margin:10px;color: white;&#x27;&gt;&lt;ul style=&#x27;color: white;;list-style-type:circle;align-item:left;padding-left:20px;padding-right:20px&#x27;&gt;&lt;li&gt;Confirmed: 4728182&lt;/li&gt;&lt;li&gt;Deaths:   33918&lt;/li&gt;&lt;li&gt;Death Rate: 0.72&lt;/li&gt;&lt;/ul&gt;&lt;/div&gt;\n",
       "                 &lt;/div&gt;`,\n",
       "                {&quot;sticky&quot;: true}\n",
       "            );\n",
       "        \n",
       "    \n",
       "            var circle_33eb7124420fa1a74909760824b6cd3b = L.circle(\n",
       "                [-8.874217, 125.727539],\n",
       "                {&quot;bubblingMouseEvents&quot;: true, &quot;color&quot;: &quot;red&quot;, &quot;dashArray&quot;: null, &quot;dashOffset&quot;: null, &quot;fill&quot;: true, &quot;fillColor&quot;: &quot;blue&quot;, &quot;fillOpacity&quot;: 0.2, &quot;fillRule&quot;: &quot;evenodd&quot;, &quot;lineCap&quot;: &quot;round&quot;, &quot;lineJoin&quot;: &quot;round&quot;, &quot;opacity&quot;: 1.0, &quot;radius&quot;: 509999.99999999994, &quot;stroke&quot;: true, &quot;weight&quot;: 3}\n",
       "            ).addTo(map_458ec8e400112ec513386247fe175da8);\n",
       "        \n",
       "    \n",
       "            circle_33eb7124420fa1a74909760824b6cd3b.bindTooltip(\n",
       "                `&lt;div&gt;\n",
       "                     &lt;div style=&#x27;margin: 0; background-color: black; color: white;&#x27;&gt;&lt;h4 style=&#x27;text-align:center;font-weight: bold&#x27;&gt;Timor-Leste&lt;/h4&gt;&lt;hr style=&#x27;margin:10px;color: white;&#x27;&gt;&lt;ul style=&#x27;color: white;;list-style-type:circle;align-item:left;padding-left:20px;padding-right:20px&#x27;&gt;&lt;li&gt;Confirmed: 23419&lt;/li&gt;&lt;li&gt;Deaths:   138&lt;/li&gt;&lt;li&gt;Death Rate: 0.59&lt;/li&gt;&lt;/ul&gt;&lt;/div&gt;\n",
       "                 &lt;/div&gt;`,\n",
       "                {&quot;sticky&quot;: true}\n",
       "            );\n",
       "        \n",
       "    \n",
       "            var circle_ce7ee6f68ca8a949c8576629cd8f24d2 = L.circle(\n",
       "                [8.6195, 0.8248],\n",
       "                {&quot;bubblingMouseEvents&quot;: true, &quot;color&quot;: &quot;red&quot;, &quot;dashArray&quot;: null, &quot;dashOffset&quot;: null, &quot;fill&quot;: true, &quot;fillColor&quot;: &quot;blue&quot;, &quot;fillOpacity&quot;: 0.2, &quot;fillRule&quot;: &quot;evenodd&quot;, &quot;lineCap&quot;: &quot;round&quot;, &quot;lineJoin&quot;: &quot;round&quot;, &quot;opacity&quot;: 1.0, &quot;radius&quot;: 509999.99999999994, &quot;stroke&quot;: true, &quot;weight&quot;: 3}\n",
       "            ).addTo(map_458ec8e400112ec513386247fe175da8);\n",
       "        \n",
       "    \n",
       "            circle_ce7ee6f68ca8a949c8576629cd8f24d2.bindTooltip(\n",
       "                `&lt;div&gt;\n",
       "                     &lt;div style=&#x27;margin: 0; background-color: black; color: white;&#x27;&gt;&lt;h4 style=&#x27;text-align:center;font-weight: bold&#x27;&gt;Togo&lt;/h4&gt;&lt;hr style=&#x27;margin:10px;color: white;&#x27;&gt;&lt;ul style=&#x27;color: white;;list-style-type:circle;align-item:left;padding-left:20px;padding-right:20px&#x27;&gt;&lt;li&gt;Confirmed: 39396&lt;/li&gt;&lt;li&gt;Deaths:   290&lt;/li&gt;&lt;li&gt;Death Rate: 0.74&lt;/li&gt;&lt;/ul&gt;&lt;/div&gt;\n",
       "                 &lt;/div&gt;`,\n",
       "                {&quot;sticky&quot;: true}\n",
       "            );\n",
       "        \n",
       "    \n",
       "            var circle_df8d2129feb59bd0cf9ec842b19ff0a5 = L.circle(\n",
       "                [-21.179, -175.1982],\n",
       "                {&quot;bubblingMouseEvents&quot;: true, &quot;color&quot;: &quot;red&quot;, &quot;dashArray&quot;: null, &quot;dashOffset&quot;: null, &quot;fill&quot;: true, &quot;fillColor&quot;: &quot;blue&quot;, &quot;fillOpacity&quot;: 0.2, &quot;fillRule&quot;: &quot;evenodd&quot;, &quot;lineCap&quot;: &quot;round&quot;, &quot;lineJoin&quot;: &quot;round&quot;, &quot;opacity&quot;: 1.0, &quot;radius&quot;: 459999.99999999994, &quot;stroke&quot;: true, &quot;weight&quot;: 3}\n",
       "            ).addTo(map_458ec8e400112ec513386247fe175da8);\n",
       "        \n",
       "    \n",
       "            circle_df8d2129feb59bd0cf9ec842b19ff0a5.bindTooltip(\n",
       "                `&lt;div&gt;\n",
       "                     &lt;div style=&#x27;margin: 0; background-color: black; color: white;&#x27;&gt;&lt;h4 style=&#x27;text-align:center;font-weight: bold&#x27;&gt;Tonga&lt;/h4&gt;&lt;hr style=&#x27;margin:10px;color: white;&#x27;&gt;&lt;ul style=&#x27;color: white;;list-style-type:circle;align-item:left;padding-left:20px;padding-right:20px&#x27;&gt;&lt;li&gt;Confirmed: 16810&lt;/li&gt;&lt;li&gt;Deaths:   13&lt;/li&gt;&lt;li&gt;Death Rate: 0.08&lt;/li&gt;&lt;/ul&gt;&lt;/div&gt;\n",
       "                 &lt;/div&gt;`,\n",
       "                {&quot;sticky&quot;: true}\n",
       "            );\n",
       "        \n",
       "    \n",
       "            var circle_cd507b205fa5869d604595a467b62dce = L.circle(\n",
       "                [10.6918, -61.2225],\n",
       "                {&quot;bubblingMouseEvents&quot;: true, &quot;color&quot;: &quot;red&quot;, &quot;dashArray&quot;: null, &quot;dashOffset&quot;: null, &quot;fill&quot;: true, &quot;fillColor&quot;: &quot;blue&quot;, &quot;fillOpacity&quot;: 0.2, &quot;fillRule&quot;: &quot;evenodd&quot;, &quot;lineCap&quot;: &quot;round&quot;, &quot;lineJoin&quot;: &quot;round&quot;, &quot;opacity&quot;: 1.0, &quot;radius&quot;: 610000.0, &quot;stroke&quot;: true, &quot;weight&quot;: 3}\n",
       "            ).addTo(map_458ec8e400112ec513386247fe175da8);\n",
       "        \n",
       "    \n",
       "            circle_cd507b205fa5869d604595a467b62dce.bindTooltip(\n",
       "                `&lt;div&gt;\n",
       "                     &lt;div style=&#x27;margin: 0; background-color: black; color: white;&#x27;&gt;&lt;h4 style=&#x27;text-align:center;font-weight: bold&#x27;&gt;Trinidad and Tobago&lt;/h4&gt;&lt;hr style=&#x27;margin:10px;color: white;&#x27;&gt;&lt;ul style=&#x27;color: white;;list-style-type:circle;align-item:left;padding-left:20px;padding-right:20px&#x27;&gt;&lt;li&gt;Confirmed: 189918&lt;/li&gt;&lt;li&gt;Deaths:   4355&lt;/li&gt;&lt;li&gt;Death Rate: 2.29&lt;/li&gt;&lt;/ul&gt;&lt;/div&gt;\n",
       "                 &lt;/div&gt;`,\n",
       "                {&quot;sticky&quot;: true}\n",
       "            );\n",
       "        \n",
       "    \n",
       "            var circle_1a46e593b008abe9e4ec880a2eeab907 = L.circle(\n",
       "                [33.886917, 9.537499],\n",
       "                {&quot;bubblingMouseEvents&quot;: true, &quot;color&quot;: &quot;red&quot;, &quot;dashArray&quot;: null, &quot;dashOffset&quot;: null, &quot;fill&quot;: true, &quot;fillColor&quot;: &quot;blue&quot;, &quot;fillOpacity&quot;: 0.2, &quot;fillRule&quot;: &quot;evenodd&quot;, &quot;lineCap&quot;: &quot;round&quot;, &quot;lineJoin&quot;: &quot;round&quot;, &quot;opacity&quot;: 1.0, &quot;radius&quot;: 660000.0, &quot;stroke&quot;: true, &quot;weight&quot;: 3}\n",
       "            ).addTo(map_458ec8e400112ec513386247fe175da8);\n",
       "        \n",
       "    \n",
       "            circle_1a46e593b008abe9e4ec880a2eeab907.bindTooltip(\n",
       "                `&lt;div&gt;\n",
       "                     &lt;div style=&#x27;margin: 0; background-color: black; color: white;&#x27;&gt;&lt;h4 style=&#x27;text-align:center;font-weight: bold&#x27;&gt;Tunisia&lt;/h4&gt;&lt;hr style=&#x27;margin:10px;color: white;&#x27;&gt;&lt;ul style=&#x27;color: white;;list-style-type:circle;align-item:left;padding-left:20px;padding-right:20px&#x27;&gt;&lt;li&gt;Confirmed: 1151126&lt;/li&gt;&lt;li&gt;Deaths:   29341&lt;/li&gt;&lt;li&gt;Death Rate: 2.55&lt;/li&gt;&lt;/ul&gt;&lt;/div&gt;\n",
       "                 &lt;/div&gt;`,\n",
       "                {&quot;sticky&quot;: true}\n",
       "            );\n",
       "        \n",
       "    \n",
       "            var circle_3590e50bedc6c154646bd87fc749ce84 = L.circle(\n",
       "                [38.9637, 35.2433],\n",
       "                {&quot;bubblingMouseEvents&quot;: true, &quot;color&quot;: &quot;red&quot;, &quot;dashArray&quot;: null, &quot;dashOffset&quot;: null, &quot;fill&quot;: true, &quot;fillColor&quot;: &quot;blue&quot;, &quot;fillOpacity&quot;: 0.2, &quot;fillRule&quot;: &quot;evenodd&quot;, &quot;lineCap&quot;: &quot;round&quot;, &quot;lineJoin&quot;: &quot;round&quot;, &quot;opacity&quot;: 1.0, &quot;radius&quot;: 810000.0, &quot;stroke&quot;: true, &quot;weight&quot;: 3}\n",
       "            ).addTo(map_458ec8e400112ec513386247fe175da8);\n",
       "        \n",
       "    \n",
       "            circle_3590e50bedc6c154646bd87fc749ce84.bindTooltip(\n",
       "                `&lt;div&gt;\n",
       "                     &lt;div style=&#x27;margin: 0; background-color: black; color: white;&#x27;&gt;&lt;h4 style=&#x27;text-align:center;font-weight: bold&#x27;&gt;Turkey&lt;/h4&gt;&lt;hr style=&#x27;margin:10px;color: white;&#x27;&gt;&lt;ul style=&#x27;color: white;;list-style-type:circle;align-item:left;padding-left:20px;padding-right:20px&#x27;&gt;&lt;li&gt;Confirmed: 17042722&lt;/li&gt;&lt;li&gt;Deaths:   101492&lt;/li&gt;&lt;li&gt;Death Rate: 0.6&lt;/li&gt;&lt;/ul&gt;&lt;/div&gt;\n",
       "                 &lt;/div&gt;`,\n",
       "                {&quot;sticky&quot;: true}\n",
       "            );\n",
       "        \n",
       "    \n",
       "            var circle_594bca9b8cbc4d31928b91cd0f85ab5e = L.circle(\n",
       "                [-7.1095, 177.6493],\n",
       "                {&quot;bubblingMouseEvents&quot;: true, &quot;color&quot;: &quot;red&quot;, &quot;dashArray&quot;: null, &quot;dashOffset&quot;: null, &quot;fill&quot;: true, &quot;fillColor&quot;: &quot;blue&quot;, &quot;fillOpacity&quot;: 0.2, &quot;fillRule&quot;: &quot;evenodd&quot;, &quot;lineCap&quot;: &quot;round&quot;, &quot;lineJoin&quot;: &quot;round&quot;, &quot;opacity&quot;: 1.0, &quot;radius&quot;: 360000.0, &quot;stroke&quot;: true, &quot;weight&quot;: 3}\n",
       "            ).addTo(map_458ec8e400112ec513386247fe175da8);\n",
       "        \n",
       "    \n",
       "            circle_594bca9b8cbc4d31928b91cd0f85ab5e.bindTooltip(\n",
       "                `&lt;div&gt;\n",
       "                     &lt;div style=&#x27;margin: 0; background-color: black; color: white;&#x27;&gt;&lt;h4 style=&#x27;text-align:center;font-weight: bold&#x27;&gt;Tuvalu&lt;/h4&gt;&lt;hr style=&#x27;margin:10px;color: white;&#x27;&gt;&lt;ul style=&#x27;color: white;;list-style-type:circle;align-item:left;padding-left:20px;padding-right:20px&#x27;&gt;&lt;li&gt;Confirmed: 2805&lt;/li&gt;&lt;li&gt;Deaths:   0&lt;/li&gt;&lt;li&gt;Death Rate: 0.0&lt;/li&gt;&lt;/ul&gt;&lt;/div&gt;\n",
       "                 &lt;/div&gt;`,\n",
       "                {&quot;sticky&quot;: true}\n",
       "            );\n",
       "        \n",
       "    \n",
       "            var circle_635cae9eec2ddff4d0094f906e869188 = L.circle(\n",
       "                [40.0, -100.0],\n",
       "                {&quot;bubblingMouseEvents&quot;: true, &quot;color&quot;: &quot;red&quot;, &quot;dashArray&quot;: null, &quot;dashOffset&quot;: null, &quot;fill&quot;: true, &quot;fillColor&quot;: &quot;blue&quot;, &quot;fillOpacity&quot;: 0.2, &quot;fillRule&quot;: &quot;evenodd&quot;, &quot;lineCap&quot;: &quot;round&quot;, &quot;lineJoin&quot;: &quot;round&quot;, &quot;opacity&quot;: 1.0, &quot;radius&quot;: 910000.0, &quot;stroke&quot;: true, &quot;weight&quot;: 3}\n",
       "            ).addTo(map_458ec8e400112ec513386247fe175da8);\n",
       "        \n",
       "    \n",
       "            circle_635cae9eec2ddff4d0094f906e869188.bindTooltip(\n",
       "                `&lt;div&gt;\n",
       "                     &lt;div style=&#x27;margin: 0; background-color: black; color: white;&#x27;&gt;&lt;h4 style=&#x27;text-align:center;font-weight: bold&#x27;&gt;US&lt;/h4&gt;&lt;hr style=&#x27;margin:10px;color: white;&#x27;&gt;&lt;ul style=&#x27;color: white;;list-style-type:circle;align-item:left;padding-left:20px;padding-right:20px&#x27;&gt;&lt;li&gt;Confirmed: 103802702&lt;/li&gt;&lt;li&gt;Deaths:   1123836&lt;/li&gt;&lt;li&gt;Death Rate: 1.08&lt;/li&gt;&lt;/ul&gt;&lt;/div&gt;\n",
       "                 &lt;/div&gt;`,\n",
       "                {&quot;sticky&quot;: true}\n",
       "            );\n",
       "        \n",
       "    \n",
       "            var circle_67b9825fdb94aa9893dd7e6b3aab5424 = L.circle(\n",
       "                [1.373333, 32.290275],\n",
       "                {&quot;bubblingMouseEvents&quot;: true, &quot;color&quot;: &quot;red&quot;, &quot;dashArray&quot;: null, &quot;dashOffset&quot;: null, &quot;fill&quot;: true, &quot;fillColor&quot;: &quot;blue&quot;, &quot;fillOpacity&quot;: 0.2, &quot;fillRule&quot;: &quot;evenodd&quot;, &quot;lineCap&quot;: &quot;round&quot;, &quot;lineJoin&quot;: &quot;round&quot;, &quot;opacity&quot;: 1.0, &quot;radius&quot;: 610000.0, &quot;stroke&quot;: true, &quot;weight&quot;: 3}\n",
       "            ).addTo(map_458ec8e400112ec513386247fe175da8);\n",
       "        \n",
       "    \n",
       "            circle_67b9825fdb94aa9893dd7e6b3aab5424.bindTooltip(\n",
       "                `&lt;div&gt;\n",
       "                     &lt;div style=&#x27;margin: 0; background-color: black; color: white;&#x27;&gt;&lt;h4 style=&#x27;text-align:center;font-weight: bold&#x27;&gt;Uganda&lt;/h4&gt;&lt;hr style=&#x27;margin:10px;color: white;&#x27;&gt;&lt;ul style=&#x27;color: white;;list-style-type:circle;align-item:left;padding-left:20px;padding-right:20px&#x27;&gt;&lt;li&gt;Confirmed: 170544&lt;/li&gt;&lt;li&gt;Deaths:   3630&lt;/li&gt;&lt;li&gt;Death Rate: 2.13&lt;/li&gt;&lt;/ul&gt;&lt;/div&gt;\n",
       "                 &lt;/div&gt;`,\n",
       "                {&quot;sticky&quot;: true}\n",
       "            );\n",
       "        \n",
       "    \n",
       "            var circle_1daa8e755180f15b2e08731d2ce9c92e = L.circle(\n",
       "                [48.3794, 31.1656],\n",
       "                {&quot;bubblingMouseEvents&quot;: true, &quot;color&quot;: &quot;red&quot;, &quot;dashArray&quot;: null, &quot;dashOffset&quot;: null, &quot;fill&quot;: true, &quot;fillColor&quot;: &quot;blue&quot;, &quot;fillOpacity&quot;: 0.2, &quot;fillRule&quot;: &quot;evenodd&quot;, &quot;lineCap&quot;: &quot;round&quot;, &quot;lineJoin&quot;: &quot;round&quot;, &quot;opacity&quot;: 1.0, &quot;radius&quot;: 760000.0, &quot;stroke&quot;: true, &quot;weight&quot;: 3}\n",
       "            ).addTo(map_458ec8e400112ec513386247fe175da8);\n",
       "        \n",
       "    \n",
       "            circle_1daa8e755180f15b2e08731d2ce9c92e.bindTooltip(\n",
       "                `&lt;div&gt;\n",
       "                     &lt;div style=&#x27;margin: 0; background-color: black; color: white;&#x27;&gt;&lt;h4 style=&#x27;text-align:center;font-weight: bold&#x27;&gt;Ukraine&lt;/h4&gt;&lt;hr style=&#x27;margin:10px;color: white;&#x27;&gt;&lt;ul style=&#x27;color: white;;list-style-type:circle;align-item:left;padding-left:20px;padding-right:20px&#x27;&gt;&lt;li&gt;Confirmed: 5711929&lt;/li&gt;&lt;li&gt;Deaths:   119283&lt;/li&gt;&lt;li&gt;Death Rate: 2.09&lt;/li&gt;&lt;/ul&gt;&lt;/div&gt;\n",
       "                 &lt;/div&gt;`,\n",
       "                {&quot;sticky&quot;: true}\n",
       "            );\n",
       "        \n",
       "    \n",
       "            var circle_f184b2eef35d9c1bed33f4a0931c4b27 = L.circle(\n",
       "                [23.424076, 53.847818],\n",
       "                {&quot;bubblingMouseEvents&quot;: true, &quot;color&quot;: &quot;red&quot;, &quot;dashArray&quot;: null, &quot;dashOffset&quot;: null, &quot;fill&quot;: true, &quot;fillColor&quot;: &quot;blue&quot;, &quot;fillOpacity&quot;: 0.2, &quot;fillRule&quot;: &quot;evenodd&quot;, &quot;lineCap&quot;: &quot;round&quot;, &quot;lineJoin&quot;: &quot;round&quot;, &quot;opacity&quot;: 1.0, &quot;radius&quot;: 660000.0, &quot;stroke&quot;: true, &quot;weight&quot;: 3}\n",
       "            ).addTo(map_458ec8e400112ec513386247fe175da8);\n",
       "        \n",
       "    \n",
       "            circle_f184b2eef35d9c1bed33f4a0931c4b27.bindTooltip(\n",
       "                `&lt;div&gt;\n",
       "                     &lt;div style=&#x27;margin: 0; background-color: black; color: white;&#x27;&gt;&lt;h4 style=&#x27;text-align:center;font-weight: bold&#x27;&gt;United Arab Emirates&lt;/h4&gt;&lt;hr style=&#x27;margin:10px;color: white;&#x27;&gt;&lt;ul style=&#x27;color: white;;list-style-type:circle;align-item:left;padding-left:20px;padding-right:20px&#x27;&gt;&lt;li&gt;Confirmed: 1053213&lt;/li&gt;&lt;li&gt;Deaths:   2349&lt;/li&gt;&lt;li&gt;Death Rate: 0.22&lt;/li&gt;&lt;/ul&gt;&lt;/div&gt;\n",
       "                 &lt;/div&gt;`,\n",
       "                {&quot;sticky&quot;: true}\n",
       "            );\n",
       "        \n",
       "    \n",
       "            var circle_719786199a0ffcb16b9872591e1e2c63 = L.circle(\n",
       "                [18.2206, -63.0686],\n",
       "                {&quot;bubblingMouseEvents&quot;: true, &quot;color&quot;: &quot;red&quot;, &quot;dashArray&quot;: null, &quot;dashOffset&quot;: null, &quot;fill&quot;: true, &quot;fillColor&quot;: &quot;blue&quot;, &quot;fillOpacity&quot;: 0.2, &quot;fillRule&quot;: &quot;evenodd&quot;, &quot;lineCap&quot;: &quot;round&quot;, &quot;lineJoin&quot;: &quot;round&quot;, &quot;opacity&quot;: 1.0, &quot;radius&quot;: 409999.99999999994, &quot;stroke&quot;: true, &quot;weight&quot;: 3}\n",
       "            ).addTo(map_458ec8e400112ec513386247fe175da8);\n",
       "        \n",
       "    \n",
       "            circle_719786199a0ffcb16b9872591e1e2c63.bindTooltip(\n",
       "                `&lt;div&gt;\n",
       "                     &lt;div style=&#x27;margin: 0; background-color: black; color: white;&#x27;&gt;&lt;h4 style=&#x27;text-align:center;font-weight: bold&#x27;&gt;United Kingdom&lt;/h4&gt;&lt;hr style=&#x27;margin:10px;color: white;&#x27;&gt;&lt;ul style=&#x27;color: white;;list-style-type:circle;align-item:left;padding-left:20px;padding-right:20px&#x27;&gt;&lt;li&gt;Confirmed: 3904&lt;/li&gt;&lt;li&gt;Deaths:   12&lt;/li&gt;&lt;li&gt;Death Rate: 0.31&lt;/li&gt;&lt;/ul&gt;&lt;/div&gt;\n",
       "                 &lt;/div&gt;`,\n",
       "                {&quot;sticky&quot;: true}\n",
       "            );\n",
       "        \n",
       "    \n",
       "            var circle_79c52212d940c137e8e829632cfead4b = L.circle(\n",
       "                [32.3078, -64.7505],\n",
       "                {&quot;bubblingMouseEvents&quot;: true, &quot;color&quot;: &quot;red&quot;, &quot;dashArray&quot;: null, &quot;dashOffset&quot;: null, &quot;fill&quot;: true, &quot;fillColor&quot;: &quot;blue&quot;, &quot;fillOpacity&quot;: 0.2, &quot;fillRule&quot;: &quot;evenodd&quot;, &quot;lineCap&quot;: &quot;round&quot;, &quot;lineJoin&quot;: &quot;round&quot;, &quot;opacity&quot;: 1.0, &quot;radius&quot;: 459999.99999999994, &quot;stroke&quot;: true, &quot;weight&quot;: 3}\n",
       "            ).addTo(map_458ec8e400112ec513386247fe175da8);\n",
       "        \n",
       "    \n",
       "            circle_79c52212d940c137e8e829632cfead4b.bindTooltip(\n",
       "                `&lt;div&gt;\n",
       "                     &lt;div style=&#x27;margin: 0; background-color: black; color: white;&#x27;&gt;&lt;h4 style=&#x27;text-align:center;font-weight: bold&#x27;&gt;United Kingdom&lt;/h4&gt;&lt;hr style=&#x27;margin:10px;color: white;&#x27;&gt;&lt;ul style=&#x27;color: white;;list-style-type:circle;align-item:left;padding-left:20px;padding-right:20px&#x27;&gt;&lt;li&gt;Confirmed: 18828&lt;/li&gt;&lt;li&gt;Deaths:   160&lt;/li&gt;&lt;li&gt;Death Rate: 0.85&lt;/li&gt;&lt;/ul&gt;&lt;/div&gt;\n",
       "                 &lt;/div&gt;`,\n",
       "                {&quot;sticky&quot;: true}\n",
       "            );\n",
       "        \n",
       "    \n",
       "            var circle_7cbeaa5feb1aff264d03629b85dc8740 = L.circle(\n",
       "                [18.4207, -64.64],\n",
       "                {&quot;bubblingMouseEvents&quot;: true, &quot;color&quot;: &quot;red&quot;, &quot;dashArray&quot;: null, &quot;dashOffset&quot;: null, &quot;fill&quot;: true, &quot;fillColor&quot;: &quot;blue&quot;, &quot;fillOpacity&quot;: 0.2, &quot;fillRule&quot;: &quot;evenodd&quot;, &quot;lineCap&quot;: &quot;round&quot;, &quot;lineJoin&quot;: &quot;round&quot;, &quot;opacity&quot;: 1.0, &quot;radius&quot;: 409999.99999999994, &quot;stroke&quot;: true, &quot;weight&quot;: 3}\n",
       "            ).addTo(map_458ec8e400112ec513386247fe175da8);\n",
       "        \n",
       "    \n",
       "            circle_7cbeaa5feb1aff264d03629b85dc8740.bindTooltip(\n",
       "                `&lt;div&gt;\n",
       "                     &lt;div style=&#x27;margin: 0; background-color: black; color: white;&#x27;&gt;&lt;h4 style=&#x27;text-align:center;font-weight: bold&#x27;&gt;United Kingdom&lt;/h4&gt;&lt;hr style=&#x27;margin:10px;color: white;&#x27;&gt;&lt;ul style=&#x27;color: white;;list-style-type:circle;align-item:left;padding-left:20px;padding-right:20px&#x27;&gt;&lt;li&gt;Confirmed: 7305&lt;/li&gt;&lt;li&gt;Deaths:   64&lt;/li&gt;&lt;li&gt;Death Rate: 0.88&lt;/li&gt;&lt;/ul&gt;&lt;/div&gt;\n",
       "                 &lt;/div&gt;`,\n",
       "                {&quot;sticky&quot;: true}\n",
       "            );\n",
       "        \n",
       "    \n",
       "            var circle_cdd9abe2eee8920920006b0e6334fabe = L.circle(\n",
       "                [19.3133, -81.2546],\n",
       "                {&quot;bubblingMouseEvents&quot;: true, &quot;color&quot;: &quot;red&quot;, &quot;dashArray&quot;: null, &quot;dashOffset&quot;: null, &quot;fill&quot;: true, &quot;fillColor&quot;: &quot;blue&quot;, &quot;fillOpacity&quot;: 0.2, &quot;fillRule&quot;: &quot;evenodd&quot;, &quot;lineCap&quot;: &quot;round&quot;, &quot;lineJoin&quot;: &quot;round&quot;, &quot;opacity&quot;: 1.0, &quot;radius&quot;: 509999.99999999994, &quot;stroke&quot;: true, &quot;weight&quot;: 3}\n",
       "            ).addTo(map_458ec8e400112ec513386247fe175da8);\n",
       "        \n",
       "    \n",
       "            circle_cdd9abe2eee8920920006b0e6334fabe.bindTooltip(\n",
       "                `&lt;div&gt;\n",
       "                     &lt;div style=&#x27;margin: 0; background-color: black; color: white;&#x27;&gt;&lt;h4 style=&#x27;text-align:center;font-weight: bold&#x27;&gt;United Kingdom&lt;/h4&gt;&lt;hr style=&#x27;margin:10px;color: white;&#x27;&gt;&lt;ul style=&#x27;color: white;;list-style-type:circle;align-item:left;padding-left:20px;padding-right:20px&#x27;&gt;&lt;li&gt;Confirmed: 31472&lt;/li&gt;&lt;li&gt;Deaths:   37&lt;/li&gt;&lt;li&gt;Death Rate: 0.12&lt;/li&gt;&lt;/ul&gt;&lt;/div&gt;\n",
       "                 &lt;/div&gt;`,\n",
       "                {&quot;sticky&quot;: true}\n",
       "            );\n",
       "        \n",
       "    \n",
       "            var circle_6331b27b2627f3f1cfa21260eac485b3 = L.circle(\n",
       "                [49.3723, -2.3644],\n",
       "                {&quot;bubblingMouseEvents&quot;: true, &quot;color&quot;: &quot;red&quot;, &quot;dashArray&quot;: null, &quot;dashOffset&quot;: null, &quot;fill&quot;: true, &quot;fillColor&quot;: &quot;blue&quot;, &quot;fillOpacity&quot;: 0.2, &quot;fillRule&quot;: &quot;evenodd&quot;, &quot;lineCap&quot;: &quot;round&quot;, &quot;lineJoin&quot;: &quot;round&quot;, &quot;opacity&quot;: 1.0, &quot;radius&quot;: 10000.0, &quot;stroke&quot;: true, &quot;weight&quot;: 3}\n",
       "            ).addTo(map_458ec8e400112ec513386247fe175da8);\n",
       "        \n",
       "    \n",
       "            circle_6331b27b2627f3f1cfa21260eac485b3.bindTooltip(\n",
       "                `&lt;div&gt;\n",
       "                     &lt;div style=&#x27;margin: 0; background-color: black; color: white;&#x27;&gt;&lt;h4 style=&#x27;text-align:center;font-weight: bold&#x27;&gt;United Kingdom&lt;/h4&gt;&lt;hr style=&#x27;margin:10px;color: white;&#x27;&gt;&lt;ul style=&#x27;color: white;;list-style-type:circle;align-item:left;padding-left:20px;padding-right:20px&#x27;&gt;&lt;li&gt;Confirmed: 0&lt;/li&gt;&lt;li&gt;Deaths:   0&lt;/li&gt;&lt;li&gt;Death Rate: 0.0&lt;/li&gt;&lt;/ul&gt;&lt;/div&gt;\n",
       "                 &lt;/div&gt;`,\n",
       "                {&quot;sticky&quot;: true}\n",
       "            );\n",
       "        \n",
       "    \n",
       "            var circle_b8e96a70f56294d921d9bb57d046af09 = L.circle(\n",
       "                [-51.7963, -59.5236],\n",
       "                {&quot;bubblingMouseEvents&quot;: true, &quot;color&quot;: &quot;red&quot;, &quot;dashArray&quot;: null, &quot;dashOffset&quot;: null, &quot;fill&quot;: true, &quot;fillColor&quot;: &quot;blue&quot;, &quot;fillOpacity&quot;: 0.2, &quot;fillRule&quot;: &quot;evenodd&quot;, &quot;lineCap&quot;: &quot;round&quot;, &quot;lineJoin&quot;: &quot;round&quot;, &quot;opacity&quot;: 1.0, &quot;radius&quot;: 360000.0, &quot;stroke&quot;: true, &quot;weight&quot;: 3}\n",
       "            ).addTo(map_458ec8e400112ec513386247fe175da8);\n",
       "        \n",
       "    \n",
       "            circle_b8e96a70f56294d921d9bb57d046af09.bindTooltip(\n",
       "                `&lt;div&gt;\n",
       "                     &lt;div style=&#x27;margin: 0; background-color: black; color: white;&#x27;&gt;&lt;h4 style=&#x27;text-align:center;font-weight: bold&#x27;&gt;United Kingdom&lt;/h4&gt;&lt;hr style=&#x27;margin:10px;color: white;&#x27;&gt;&lt;ul style=&#x27;color: white;;list-style-type:circle;align-item:left;padding-left:20px;padding-right:20px&#x27;&gt;&lt;li&gt;Confirmed: 1930&lt;/li&gt;&lt;li&gt;Deaths:   0&lt;/li&gt;&lt;li&gt;Death Rate: 0.0&lt;/li&gt;&lt;/ul&gt;&lt;/div&gt;\n",
       "                 &lt;/div&gt;`,\n",
       "                {&quot;sticky&quot;: true}\n",
       "            );\n",
       "        \n",
       "    \n",
       "            var circle_c3e3ad7decf2854b33cb0f3b57849efb = L.circle(\n",
       "                [36.1408, -5.3536],\n",
       "                {&quot;bubblingMouseEvents&quot;: true, &quot;color&quot;: &quot;red&quot;, &quot;dashArray&quot;: null, &quot;dashOffset&quot;: null, &quot;fill&quot;: true, &quot;fillColor&quot;: &quot;blue&quot;, &quot;fillOpacity&quot;: 0.2, &quot;fillRule&quot;: &quot;evenodd&quot;, &quot;lineCap&quot;: &quot;round&quot;, &quot;lineJoin&quot;: &quot;round&quot;, &quot;opacity&quot;: 1.0, &quot;radius&quot;: 459999.99999999994, &quot;stroke&quot;: true, &quot;weight&quot;: 3}\n",
       "            ).addTo(map_458ec8e400112ec513386247fe175da8);\n",
       "        \n",
       "    \n",
       "            circle_c3e3ad7decf2854b33cb0f3b57849efb.bindTooltip(\n",
       "                `&lt;div&gt;\n",
       "                     &lt;div style=&#x27;margin: 0; background-color: black; color: white;&#x27;&gt;&lt;h4 style=&#x27;text-align:center;font-weight: bold&#x27;&gt;United Kingdom&lt;/h4&gt;&lt;hr style=&#x27;margin:10px;color: white;&#x27;&gt;&lt;ul style=&#x27;color: white;;list-style-type:circle;align-item:left;padding-left:20px;padding-right:20px&#x27;&gt;&lt;li&gt;Confirmed: 20433&lt;/li&gt;&lt;li&gt;Deaths:   111&lt;/li&gt;&lt;li&gt;Death Rate: 0.54&lt;/li&gt;&lt;/ul&gt;&lt;/div&gt;\n",
       "                 &lt;/div&gt;`,\n",
       "                {&quot;sticky&quot;: true}\n",
       "            );\n",
       "        \n",
       "    \n",
       "            var circle_9170cea90f012a733fac9820fe804f44 = L.circle(\n",
       "                [49.448196, -2.58949],\n",
       "                {&quot;bubblingMouseEvents&quot;: true, &quot;color&quot;: &quot;red&quot;, &quot;dashArray&quot;: null, &quot;dashOffset&quot;: null, &quot;fill&quot;: true, &quot;fillColor&quot;: &quot;blue&quot;, &quot;fillOpacity&quot;: 0.2, &quot;fillRule&quot;: &quot;evenodd&quot;, &quot;lineCap&quot;: &quot;round&quot;, &quot;lineJoin&quot;: &quot;round&quot;, &quot;opacity&quot;: 1.0, &quot;radius&quot;: 509999.99999999994, &quot;stroke&quot;: true, &quot;weight&quot;: 3}\n",
       "            ).addTo(map_458ec8e400112ec513386247fe175da8);\n",
       "        \n",
       "    \n",
       "            circle_9170cea90f012a733fac9820fe804f44.bindTooltip(\n",
       "                `&lt;div&gt;\n",
       "                     &lt;div style=&#x27;margin: 0; background-color: black; color: white;&#x27;&gt;&lt;h4 style=&#x27;text-align:center;font-weight: bold&#x27;&gt;United Kingdom&lt;/h4&gt;&lt;hr style=&#x27;margin:10px;color: white;&#x27;&gt;&lt;ul style=&#x27;color: white;;list-style-type:circle;align-item:left;padding-left:20px;padding-right:20px&#x27;&gt;&lt;li&gt;Confirmed: 34991&lt;/li&gt;&lt;li&gt;Deaths:   66&lt;/li&gt;&lt;li&gt;Death Rate: 0.19&lt;/li&gt;&lt;/ul&gt;&lt;/div&gt;\n",
       "                 &lt;/div&gt;`,\n",
       "                {&quot;sticky&quot;: true}\n",
       "            );\n",
       "        \n",
       "    \n",
       "            var circle_13c78ac9b9015942b9eb65e1f73a6995 = L.circle(\n",
       "                [54.2361, -4.5481],\n",
       "                {&quot;bubblingMouseEvents&quot;: true, &quot;color&quot;: &quot;red&quot;, &quot;dashArray&quot;: null, &quot;dashOffset&quot;: null, &quot;fill&quot;: true, &quot;fillColor&quot;: &quot;blue&quot;, &quot;fillOpacity&quot;: 0.2, &quot;fillRule&quot;: &quot;evenodd&quot;, &quot;lineCap&quot;: &quot;round&quot;, &quot;lineJoin&quot;: &quot;round&quot;, &quot;opacity&quot;: 1.0, &quot;radius&quot;: 509999.99999999994, &quot;stroke&quot;: true, &quot;weight&quot;: 3}\n",
       "            ).addTo(map_458ec8e400112ec513386247fe175da8);\n",
       "        \n",
       "    \n",
       "            circle_13c78ac9b9015942b9eb65e1f73a6995.bindTooltip(\n",
       "                `&lt;div&gt;\n",
       "                     &lt;div style=&#x27;margin: 0; background-color: black; color: white;&#x27;&gt;&lt;h4 style=&#x27;text-align:center;font-weight: bold&#x27;&gt;United Kingdom&lt;/h4&gt;&lt;hr style=&#x27;margin:10px;color: white;&#x27;&gt;&lt;ul style=&#x27;color: white;;list-style-type:circle;align-item:left;padding-left:20px;padding-right:20px&#x27;&gt;&lt;li&gt;Confirmed: 38008&lt;/li&gt;&lt;li&gt;Deaths:   116&lt;/li&gt;&lt;li&gt;Death Rate: 0.31&lt;/li&gt;&lt;/ul&gt;&lt;/div&gt;\n",
       "                 &lt;/div&gt;`,\n",
       "                {&quot;sticky&quot;: true}\n",
       "            );\n",
       "        \n",
       "    \n",
       "            var circle_6e22b012d531cd9adc1634017c098563 = L.circle(\n",
       "                [49.2138, -2.1358],\n",
       "                {&quot;bubblingMouseEvents&quot;: true, &quot;color&quot;: &quot;red&quot;, &quot;dashArray&quot;: null, &quot;dashOffset&quot;: null, &quot;fill&quot;: true, &quot;fillColor&quot;: &quot;blue&quot;, &quot;fillOpacity&quot;: 0.2, &quot;fillRule&quot;: &quot;evenodd&quot;, &quot;lineCap&quot;: &quot;round&quot;, &quot;lineJoin&quot;: &quot;round&quot;, &quot;opacity&quot;: 1.0, &quot;radius&quot;: 560000.0, &quot;stroke&quot;: true, &quot;weight&quot;: 3}\n",
       "            ).addTo(map_458ec8e400112ec513386247fe175da8);\n",
       "        \n",
       "    \n",
       "            circle_6e22b012d531cd9adc1634017c098563.bindTooltip(\n",
       "                `&lt;div&gt;\n",
       "                     &lt;div style=&#x27;margin: 0; background-color: black; color: white;&#x27;&gt;&lt;h4 style=&#x27;text-align:center;font-weight: bold&#x27;&gt;United Kingdom&lt;/h4&gt;&lt;hr style=&#x27;margin:10px;color: white;&#x27;&gt;&lt;ul style=&#x27;color: white;;list-style-type:circle;align-item:left;padding-left:20px;padding-right:20px&#x27;&gt;&lt;li&gt;Confirmed: 66391&lt;/li&gt;&lt;li&gt;Deaths:   161&lt;/li&gt;&lt;li&gt;Death Rate: 0.24&lt;/li&gt;&lt;/ul&gt;&lt;/div&gt;\n",
       "                 &lt;/div&gt;`,\n",
       "                {&quot;sticky&quot;: true}\n",
       "            );\n",
       "        \n",
       "    \n",
       "            var circle_65e766a0e06e8e4a4f217d792c6ead07 = L.circle(\n",
       "                [16.742498, -62.187366],\n",
       "                {&quot;bubblingMouseEvents&quot;: true, &quot;color&quot;: &quot;red&quot;, &quot;dashArray&quot;: null, &quot;dashOffset&quot;: null, &quot;fill&quot;: true, &quot;fillColor&quot;: &quot;blue&quot;, &quot;fillOpacity&quot;: 0.2, &quot;fillRule&quot;: &quot;evenodd&quot;, &quot;lineCap&quot;: &quot;round&quot;, &quot;lineJoin&quot;: &quot;round&quot;, &quot;opacity&quot;: 1.0, &quot;radius&quot;: 360000.0, &quot;stroke&quot;: true, &quot;weight&quot;: 3}\n",
       "            ).addTo(map_458ec8e400112ec513386247fe175da8);\n",
       "        \n",
       "    \n",
       "            circle_65e766a0e06e8e4a4f217d792c6ead07.bindTooltip(\n",
       "                `&lt;div&gt;\n",
       "                     &lt;div style=&#x27;margin: 0; background-color: black; color: white;&#x27;&gt;&lt;h4 style=&#x27;text-align:center;font-weight: bold&#x27;&gt;United Kingdom&lt;/h4&gt;&lt;hr style=&#x27;margin:10px;color: white;&#x27;&gt;&lt;ul style=&#x27;color: white;;list-style-type:circle;align-item:left;padding-left:20px;padding-right:20px&#x27;&gt;&lt;li&gt;Confirmed: 1403&lt;/li&gt;&lt;li&gt;Deaths:   8&lt;/li&gt;&lt;li&gt;Death Rate: 0.57&lt;/li&gt;&lt;/ul&gt;&lt;/div&gt;\n",
       "                 &lt;/div&gt;`,\n",
       "                {&quot;sticky&quot;: true}\n",
       "            );\n",
       "        \n",
       "    \n",
       "            var circle_6c9332556eaf02931da26a8931c9c833 = L.circle(\n",
       "                [-24.3768, -128.3242],\n",
       "                {&quot;bubblingMouseEvents&quot;: true, &quot;color&quot;: &quot;red&quot;, &quot;dashArray&quot;: null, &quot;dashOffset&quot;: null, &quot;fill&quot;: true, &quot;fillColor&quot;: &quot;blue&quot;, &quot;fillOpacity&quot;: 0.2, &quot;fillRule&quot;: &quot;evenodd&quot;, &quot;lineCap&quot;: &quot;round&quot;, &quot;lineJoin&quot;: &quot;round&quot;, &quot;opacity&quot;: 1.0, &quot;radius&quot;: 60000.0, &quot;stroke&quot;: true, &quot;weight&quot;: 3}\n",
       "            ).addTo(map_458ec8e400112ec513386247fe175da8);\n",
       "        \n",
       "    \n",
       "            circle_6c9332556eaf02931da26a8931c9c833.bindTooltip(\n",
       "                `&lt;div&gt;\n",
       "                     &lt;div style=&#x27;margin: 0; background-color: black; color: white;&#x27;&gt;&lt;h4 style=&#x27;text-align:center;font-weight: bold&#x27;&gt;United Kingdom&lt;/h4&gt;&lt;hr style=&#x27;margin:10px;color: white;&#x27;&gt;&lt;ul style=&#x27;color: white;;list-style-type:circle;align-item:left;padding-left:20px;padding-right:20px&#x27;&gt;&lt;li&gt;Confirmed: 4&lt;/li&gt;&lt;li&gt;Deaths:   0&lt;/li&gt;&lt;li&gt;Death Rate: 0.0&lt;/li&gt;&lt;/ul&gt;&lt;/div&gt;\n",
       "                 &lt;/div&gt;`,\n",
       "                {&quot;sticky&quot;: true}\n",
       "            );\n",
       "        \n",
       "    \n",
       "            var circle_8efbadc33541c8ad4b8f9c3184180ee1 = L.circle(\n",
       "                [-7.9467, -14.3559],\n",
       "                {&quot;bubblingMouseEvents&quot;: true, &quot;color&quot;: &quot;red&quot;, &quot;dashArray&quot;: null, &quot;dashOffset&quot;: null, &quot;fill&quot;: true, &quot;fillColor&quot;: &quot;blue&quot;, &quot;fillOpacity&quot;: 0.2, &quot;fillRule&quot;: &quot;evenodd&quot;, &quot;lineCap&quot;: &quot;round&quot;, &quot;lineJoin&quot;: &quot;round&quot;, &quot;opacity&quot;: 1.0, &quot;radius&quot;: 360000.0, &quot;stroke&quot;: true, &quot;weight&quot;: 3}\n",
       "            ).addTo(map_458ec8e400112ec513386247fe175da8);\n",
       "        \n",
       "    \n",
       "            circle_8efbadc33541c8ad4b8f9c3184180ee1.bindTooltip(\n",
       "                `&lt;div&gt;\n",
       "                     &lt;div style=&#x27;margin: 0; background-color: black; color: white;&#x27;&gt;&lt;h4 style=&#x27;text-align:center;font-weight: bold&#x27;&gt;United Kingdom&lt;/h4&gt;&lt;hr style=&#x27;margin:10px;color: white;&#x27;&gt;&lt;ul style=&#x27;color: white;;list-style-type:circle;align-item:left;padding-left:20px;padding-right:20px&#x27;&gt;&lt;li&gt;Confirmed: 2166&lt;/li&gt;&lt;li&gt;Deaths:   0&lt;/li&gt;&lt;li&gt;Death Rate: 0.0&lt;/li&gt;&lt;/ul&gt;&lt;/div&gt;\n",
       "                 &lt;/div&gt;`,\n",
       "                {&quot;sticky&quot;: true}\n",
       "            );\n",
       "        \n",
       "    \n",
       "            var circle_d564830195c1e45b93012a2bfbab9bc7 = L.circle(\n",
       "                [21.694, -71.7979],\n",
       "                {&quot;bubblingMouseEvents&quot;: true, &quot;color&quot;: &quot;red&quot;, &quot;dashArray&quot;: null, &quot;dashOffset&quot;: null, &quot;fill&quot;: true, &quot;fillColor&quot;: &quot;blue&quot;, &quot;fillOpacity&quot;: 0.2, &quot;fillRule&quot;: &quot;evenodd&quot;, &quot;lineCap&quot;: &quot;round&quot;, &quot;lineJoin&quot;: &quot;round&quot;, &quot;opacity&quot;: 1.0, &quot;radius&quot;: 409999.99999999994, &quot;stroke&quot;: true, &quot;weight&quot;: 3}\n",
       "            ).addTo(map_458ec8e400112ec513386247fe175da8);\n",
       "        \n",
       "    \n",
       "            circle_d564830195c1e45b93012a2bfbab9bc7.bindTooltip(\n",
       "                `&lt;div&gt;\n",
       "                     &lt;div style=&#x27;margin: 0; background-color: black; color: white;&#x27;&gt;&lt;h4 style=&#x27;text-align:center;font-weight: bold&#x27;&gt;United Kingdom&lt;/h4&gt;&lt;hr style=&#x27;margin:10px;color: white;&#x27;&gt;&lt;ul style=&#x27;color: white;;list-style-type:circle;align-item:left;padding-left:20px;padding-right:20px&#x27;&gt;&lt;li&gt;Confirmed: 6561&lt;/li&gt;&lt;li&gt;Deaths:   38&lt;/li&gt;&lt;li&gt;Death Rate: 0.58&lt;/li&gt;&lt;/ul&gt;&lt;/div&gt;\n",
       "                 &lt;/div&gt;`,\n",
       "                {&quot;sticky&quot;: true}\n",
       "            );\n",
       "        \n",
       "    \n",
       "            var circle_574a2a240577611df20f340d5c590532 = L.circle(\n",
       "                [55.3781, -3.436],\n",
       "                {&quot;bubblingMouseEvents&quot;: true, &quot;color&quot;: &quot;red&quot;, &quot;dashArray&quot;: null, &quot;dashOffset&quot;: null, &quot;fill&quot;: true, &quot;fillColor&quot;: &quot;blue&quot;, &quot;fillOpacity&quot;: 0.2, &quot;fillRule&quot;: &quot;evenodd&quot;, &quot;lineCap&quot;: &quot;round&quot;, &quot;lineJoin&quot;: &quot;round&quot;, &quot;opacity&quot;: 1.0, &quot;radius&quot;: 860000.0, &quot;stroke&quot;: true, &quot;weight&quot;: 3}\n",
       "            ).addTo(map_458ec8e400112ec513386247fe175da8);\n",
       "        \n",
       "    \n",
       "            circle_574a2a240577611df20f340d5c590532.bindTooltip(\n",
       "                `&lt;div&gt;\n",
       "                     &lt;div style=&#x27;margin: 0; background-color: black; color: white;&#x27;&gt;&lt;h4 style=&#x27;text-align:center;font-weight: bold&#x27;&gt;United Kingdom&lt;/h4&gt;&lt;hr style=&#x27;margin:10px;color: white;&#x27;&gt;&lt;ul style=&#x27;color: white;;list-style-type:circle;align-item:left;padding-left:20px;padding-right:20px&#x27;&gt;&lt;li&gt;Confirmed: 24425309&lt;/li&gt;&lt;li&gt;Deaths:   219948&lt;/li&gt;&lt;li&gt;Death Rate: 0.9&lt;/li&gt;&lt;/ul&gt;&lt;/div&gt;\n",
       "                 &lt;/div&gt;`,\n",
       "                {&quot;sticky&quot;: true}\n",
       "            );\n",
       "        \n",
       "    \n",
       "            var circle_e289f2e5dd065743e0e5616a3cd35425 = L.circle(\n",
       "                [-32.5228, -55.7658],\n",
       "                {&quot;bubblingMouseEvents&quot;: true, &quot;color&quot;: &quot;red&quot;, &quot;dashArray&quot;: null, &quot;dashOffset&quot;: null, &quot;fill&quot;: true, &quot;fillColor&quot;: &quot;blue&quot;, &quot;fillOpacity&quot;: 0.2, &quot;fillRule&quot;: &quot;evenodd&quot;, &quot;lineCap&quot;: &quot;round&quot;, &quot;lineJoin&quot;: &quot;round&quot;, &quot;opacity&quot;: 1.0, &quot;radius&quot;: 660000.0, &quot;stroke&quot;: true, &quot;weight&quot;: 3}\n",
       "            ).addTo(map_458ec8e400112ec513386247fe175da8);\n",
       "        \n",
       "    \n",
       "            circle_e289f2e5dd065743e0e5616a3cd35425.bindTooltip(\n",
       "                `&lt;div&gt;\n",
       "                     &lt;div style=&#x27;margin: 0; background-color: black; color: white;&#x27;&gt;&lt;h4 style=&#x27;text-align:center;font-weight: bold&#x27;&gt;Uruguay&lt;/h4&gt;&lt;hr style=&#x27;margin:10px;color: white;&#x27;&gt;&lt;ul style=&#x27;color: white;;list-style-type:circle;align-item:left;padding-left:20px;padding-right:20px&#x27;&gt;&lt;li&gt;Confirmed: 1034303&lt;/li&gt;&lt;li&gt;Deaths:   7617&lt;/li&gt;&lt;li&gt;Death Rate: 0.74&lt;/li&gt;&lt;/ul&gt;&lt;/div&gt;\n",
       "                 &lt;/div&gt;`,\n",
       "                {&quot;sticky&quot;: true}\n",
       "            );\n",
       "        \n",
       "    \n",
       "            var circle_326ee7a85f9d9ed28a7a2d07a706568f = L.circle(\n",
       "                [41.377491, 64.585262],\n",
       "                {&quot;bubblingMouseEvents&quot;: true, &quot;color&quot;: &quot;red&quot;, &quot;dashArray&quot;: null, &quot;dashOffset&quot;: null, &quot;fill&quot;: true, &quot;fillColor&quot;: &quot;blue&quot;, &quot;fillOpacity&quot;: 0.2, &quot;fillRule&quot;: &quot;evenodd&quot;, &quot;lineCap&quot;: &quot;round&quot;, &quot;lineJoin&quot;: &quot;round&quot;, &quot;opacity&quot;: 1.0, &quot;radius&quot;: 610000.0, &quot;stroke&quot;: true, &quot;weight&quot;: 3}\n",
       "            ).addTo(map_458ec8e400112ec513386247fe175da8);\n",
       "        \n",
       "    \n",
       "            circle_326ee7a85f9d9ed28a7a2d07a706568f.bindTooltip(\n",
       "                `&lt;div&gt;\n",
       "                     &lt;div style=&#x27;margin: 0; background-color: black; color: white;&#x27;&gt;&lt;h4 style=&#x27;text-align:center;font-weight: bold&#x27;&gt;Uzbekistan&lt;/h4&gt;&lt;hr style=&#x27;margin:10px;color: white;&#x27;&gt;&lt;ul style=&#x27;color: white;;list-style-type:circle;align-item:left;padding-left:20px;padding-right:20px&#x27;&gt;&lt;li&gt;Confirmed: 251247&lt;/li&gt;&lt;li&gt;Deaths:   1637&lt;/li&gt;&lt;li&gt;Death Rate: 0.65&lt;/li&gt;&lt;/ul&gt;&lt;/div&gt;\n",
       "                 &lt;/div&gt;`,\n",
       "                {&quot;sticky&quot;: true}\n",
       "            );\n",
       "        \n",
       "    \n",
       "            var circle_80f9cf40dced33105699b682656940c5 = L.circle(\n",
       "                [-15.3767, 166.9592],\n",
       "                {&quot;bubblingMouseEvents&quot;: true, &quot;color&quot;: &quot;red&quot;, &quot;dashArray&quot;: null, &quot;dashOffset&quot;: null, &quot;fill&quot;: true, &quot;fillColor&quot;: &quot;blue&quot;, &quot;fillOpacity&quot;: 0.2, &quot;fillRule&quot;: &quot;evenodd&quot;, &quot;lineCap&quot;: &quot;round&quot;, &quot;lineJoin&quot;: &quot;round&quot;, &quot;opacity&quot;: 1.0, &quot;radius&quot;: 459999.99999999994, &quot;stroke&quot;: true, &quot;weight&quot;: 3}\n",
       "            ).addTo(map_458ec8e400112ec513386247fe175da8);\n",
       "        \n",
       "    \n",
       "            circle_80f9cf40dced33105699b682656940c5.bindTooltip(\n",
       "                `&lt;div&gt;\n",
       "                     &lt;div style=&#x27;margin: 0; background-color: black; color: white;&#x27;&gt;&lt;h4 style=&#x27;text-align:center;font-weight: bold&#x27;&gt;Vanuatu&lt;/h4&gt;&lt;hr style=&#x27;margin:10px;color: white;&#x27;&gt;&lt;ul style=&#x27;color: white;;list-style-type:circle;align-item:left;padding-left:20px;padding-right:20px&#x27;&gt;&lt;li&gt;Confirmed: 12014&lt;/li&gt;&lt;li&gt;Deaths:   14&lt;/li&gt;&lt;li&gt;Death Rate: 0.12&lt;/li&gt;&lt;/ul&gt;&lt;/div&gt;\n",
       "                 &lt;/div&gt;`,\n",
       "                {&quot;sticky&quot;: true}\n",
       "            );\n",
       "        \n",
       "    \n",
       "            var circle_17314c8304b64b8d2588e81addc8a02a = L.circle(\n",
       "                [6.4238, -66.5897],\n",
       "                {&quot;bubblingMouseEvents&quot;: true, &quot;color&quot;: &quot;red&quot;, &quot;dashArray&quot;: null, &quot;dashOffset&quot;: null, &quot;fill&quot;: true, &quot;fillColor&quot;: &quot;blue&quot;, &quot;fillOpacity&quot;: 0.2, &quot;fillRule&quot;: &quot;evenodd&quot;, &quot;lineCap&quot;: &quot;round&quot;, &quot;lineJoin&quot;: &quot;round&quot;, &quot;opacity&quot;: 1.0, &quot;radius&quot;: 660000.0, &quot;stroke&quot;: true, &quot;weight&quot;: 3}\n",
       "            ).addTo(map_458ec8e400112ec513386247fe175da8);\n",
       "        \n",
       "    \n",
       "            circle_17314c8304b64b8d2588e81addc8a02a.bindTooltip(\n",
       "                `&lt;div&gt;\n",
       "                     &lt;div style=&#x27;margin: 0; background-color: black; color: white;&#x27;&gt;&lt;h4 style=&#x27;text-align:center;font-weight: bold&#x27;&gt;Venezuela&lt;/h4&gt;&lt;hr style=&#x27;margin:10px;color: white;&#x27;&gt;&lt;ul style=&#x27;color: white;;list-style-type:circle;align-item:left;padding-left:20px;padding-right:20px&#x27;&gt;&lt;li&gt;Confirmed: 552162&lt;/li&gt;&lt;li&gt;Deaths:   5854&lt;/li&gt;&lt;li&gt;Death Rate: 1.06&lt;/li&gt;&lt;/ul&gt;&lt;/div&gt;\n",
       "                 &lt;/div&gt;`,\n",
       "                {&quot;sticky&quot;: true}\n",
       "            );\n",
       "        \n",
       "    \n",
       "            var circle_9a20ee158afe9d81e42d6e3f61de92c1 = L.circle(\n",
       "                [14.058324, 108.277199],\n",
       "                {&quot;bubblingMouseEvents&quot;: true, &quot;color&quot;: &quot;red&quot;, &quot;dashArray&quot;: null, &quot;dashOffset&quot;: null, &quot;fill&quot;: true, &quot;fillColor&quot;: &quot;blue&quot;, &quot;fillOpacity&quot;: 0.2, &quot;fillRule&quot;: &quot;evenodd&quot;, &quot;lineCap&quot;: &quot;round&quot;, &quot;lineJoin&quot;: &quot;round&quot;, &quot;opacity&quot;: 1.0, &quot;radius&quot;: 810000.0, &quot;stroke&quot;: true, &quot;weight&quot;: 3}\n",
       "            ).addTo(map_458ec8e400112ec513386247fe175da8);\n",
       "        \n",
       "    \n",
       "            circle_9a20ee158afe9d81e42d6e3f61de92c1.bindTooltip(\n",
       "                `&lt;div&gt;\n",
       "                     &lt;div style=&#x27;margin: 0; background-color: black; color: white;&#x27;&gt;&lt;h4 style=&#x27;text-align:center;font-weight: bold&#x27;&gt;Vietnam&lt;/h4&gt;&lt;hr style=&#x27;margin:10px;color: white;&#x27;&gt;&lt;ul style=&#x27;color: white;;list-style-type:circle;align-item:left;padding-left:20px;padding-right:20px&#x27;&gt;&lt;li&gt;Confirmed: 11526994&lt;/li&gt;&lt;li&gt;Deaths:   43186&lt;/li&gt;&lt;li&gt;Death Rate: 0.37&lt;/li&gt;&lt;/ul&gt;&lt;/div&gt;\n",
       "                 &lt;/div&gt;`,\n",
       "                {&quot;sticky&quot;: true}\n",
       "            );\n",
       "        \n",
       "    \n",
       "            var circle_4bf542e215c5b40514f8bafce1ae94de = L.circle(\n",
       "                [31.9522, 35.2332],\n",
       "                {&quot;bubblingMouseEvents&quot;: true, &quot;color&quot;: &quot;red&quot;, &quot;dashArray&quot;: null, &quot;dashOffset&quot;: null, &quot;fill&quot;: true, &quot;fillColor&quot;: &quot;blue&quot;, &quot;fillOpacity&quot;: 0.2, &quot;fillRule&quot;: &quot;evenodd&quot;, &quot;lineCap&quot;: &quot;round&quot;, &quot;lineJoin&quot;: &quot;round&quot;, &quot;opacity&quot;: 1.0, &quot;radius&quot;: 660000.0, &quot;stroke&quot;: true, &quot;weight&quot;: 3}\n",
       "            ).addTo(map_458ec8e400112ec513386247fe175da8);\n",
       "        \n",
       "    \n",
       "            circle_4bf542e215c5b40514f8bafce1ae94de.bindTooltip(\n",
       "                `&lt;div&gt;\n",
       "                     &lt;div style=&#x27;margin: 0; background-color: black; color: white;&#x27;&gt;&lt;h4 style=&#x27;text-align:center;font-weight: bold&#x27;&gt;West Bank and Gaza&lt;/h4&gt;&lt;hr style=&#x27;margin:10px;color: white;&#x27;&gt;&lt;ul style=&#x27;color: white;;list-style-type:circle;align-item:left;padding-left:20px;padding-right:20px&#x27;&gt;&lt;li&gt;Confirmed: 703228&lt;/li&gt;&lt;li&gt;Deaths:   5708&lt;/li&gt;&lt;li&gt;Death Rate: 0.81&lt;/li&gt;&lt;/ul&gt;&lt;/div&gt;\n",
       "                 &lt;/div&gt;`,\n",
       "                {&quot;sticky&quot;: true}\n",
       "            );\n",
       "        \n",
       "    \n",
       "            var circle_826e8a0cd7c926708f64ac08860797a6 = L.circle(\n",
       "                [39.9042, 116.4074],\n",
       "                {&quot;bubblingMouseEvents&quot;: true, &quot;color&quot;: &quot;red&quot;, &quot;dashArray&quot;: null, &quot;dashOffset&quot;: null, &quot;fill&quot;: true, &quot;fillColor&quot;: &quot;blue&quot;, &quot;fillOpacity&quot;: 0.2, &quot;fillRule&quot;: &quot;evenodd&quot;, &quot;lineCap&quot;: &quot;round&quot;, &quot;lineJoin&quot;: &quot;round&quot;, &quot;opacity&quot;: 1.0, &quot;radius&quot;: 310000.0, &quot;stroke&quot;: true, &quot;weight&quot;: 3}\n",
       "            ).addTo(map_458ec8e400112ec513386247fe175da8);\n",
       "        \n",
       "    \n",
       "            circle_826e8a0cd7c926708f64ac08860797a6.bindTooltip(\n",
       "                `&lt;div&gt;\n",
       "                     &lt;div style=&#x27;margin: 0; background-color: black; color: white;&#x27;&gt;&lt;h4 style=&#x27;text-align:center;font-weight: bold&#x27;&gt;Winter Olympics 2022&lt;/h4&gt;&lt;hr style=&#x27;margin:10px;color: white;&#x27;&gt;&lt;ul style=&#x27;color: white;;list-style-type:circle;align-item:left;padding-left:20px;padding-right:20px&#x27;&gt;&lt;li&gt;Confirmed: 535&lt;/li&gt;&lt;li&gt;Deaths:   0&lt;/li&gt;&lt;li&gt;Death Rate: 0.0&lt;/li&gt;&lt;/ul&gt;&lt;/div&gt;\n",
       "                 &lt;/div&gt;`,\n",
       "                {&quot;sticky&quot;: true}\n",
       "            );\n",
       "        \n",
       "    \n",
       "            var circle_23df38b27f03b57b060ff6f514f3a683 = L.circle(\n",
       "                [15.552727, 48.516388],\n",
       "                {&quot;bubblingMouseEvents&quot;: true, &quot;color&quot;: &quot;red&quot;, &quot;dashArray&quot;: null, &quot;dashOffset&quot;: null, &quot;fill&quot;: true, &quot;fillColor&quot;: &quot;blue&quot;, &quot;fillOpacity&quot;: 0.2, &quot;fillRule&quot;: &quot;evenodd&quot;, &quot;lineCap&quot;: &quot;round&quot;, &quot;lineJoin&quot;: &quot;round&quot;, &quot;opacity&quot;: 1.0, &quot;radius&quot;: 459999.99999999994, &quot;stroke&quot;: true, &quot;weight&quot;: 3}\n",
       "            ).addTo(map_458ec8e400112ec513386247fe175da8);\n",
       "        \n",
       "    \n",
       "            circle_23df38b27f03b57b060ff6f514f3a683.bindTooltip(\n",
       "                `&lt;div&gt;\n",
       "                     &lt;div style=&#x27;margin: 0; background-color: black; color: white;&#x27;&gt;&lt;h4 style=&#x27;text-align:center;font-weight: bold&#x27;&gt;Yemen&lt;/h4&gt;&lt;hr style=&#x27;margin:10px;color: white;&#x27;&gt;&lt;ul style=&#x27;color: white;;list-style-type:circle;align-item:left;padding-left:20px;padding-right:20px&#x27;&gt;&lt;li&gt;Confirmed: 11945&lt;/li&gt;&lt;li&gt;Deaths:   2159&lt;/li&gt;&lt;li&gt;Death Rate: 18.07&lt;/li&gt;&lt;/ul&gt;&lt;/div&gt;\n",
       "                 &lt;/div&gt;`,\n",
       "                {&quot;sticky&quot;: true}\n",
       "            );\n",
       "        \n",
       "    \n",
       "            var circle_9dd61ee736c9a61bf063d2a56b16d2ea = L.circle(\n",
       "                [-13.133897, 27.849332],\n",
       "                {&quot;bubblingMouseEvents&quot;: true, &quot;color&quot;: &quot;red&quot;, &quot;dashArray&quot;: null, &quot;dashOffset&quot;: null, &quot;fill&quot;: true, &quot;fillColor&quot;: &quot;blue&quot;, &quot;fillOpacity&quot;: 0.2, &quot;fillRule&quot;: &quot;evenodd&quot;, &quot;lineCap&quot;: &quot;round&quot;, &quot;lineJoin&quot;: &quot;round&quot;, &quot;opacity&quot;: 1.0, &quot;radius&quot;: 610000.0, &quot;stroke&quot;: true, &quot;weight&quot;: 3}\n",
       "            ).addTo(map_458ec8e400112ec513386247fe175da8);\n",
       "        \n",
       "    \n",
       "            circle_9dd61ee736c9a61bf063d2a56b16d2ea.bindTooltip(\n",
       "                `&lt;div&gt;\n",
       "                     &lt;div style=&#x27;margin: 0; background-color: black; color: white;&#x27;&gt;&lt;h4 style=&#x27;text-align:center;font-weight: bold&#x27;&gt;Zambia&lt;/h4&gt;&lt;hr style=&#x27;margin:10px;color: white;&#x27;&gt;&lt;ul style=&#x27;color: white;;list-style-type:circle;align-item:left;padding-left:20px;padding-right:20px&#x27;&gt;&lt;li&gt;Confirmed: 343135&lt;/li&gt;&lt;li&gt;Deaths:   4057&lt;/li&gt;&lt;li&gt;Death Rate: 1.18&lt;/li&gt;&lt;/ul&gt;&lt;/div&gt;\n",
       "                 &lt;/div&gt;`,\n",
       "                {&quot;sticky&quot;: true}\n",
       "            );\n",
       "        \n",
       "    \n",
       "            var circle_ee687308525ec2f03dd4fb783e62020f = L.circle(\n",
       "                [-19.015438, 29.154857],\n",
       "                {&quot;bubblingMouseEvents&quot;: true, &quot;color&quot;: &quot;red&quot;, &quot;dashArray&quot;: null, &quot;dashOffset&quot;: null, &quot;fill&quot;: true, &quot;fillColor&quot;: &quot;blue&quot;, &quot;fillOpacity&quot;: 0.2, &quot;fillRule&quot;: &quot;evenodd&quot;, &quot;lineCap&quot;: &quot;round&quot;, &quot;lineJoin&quot;: &quot;round&quot;, &quot;opacity&quot;: 1.0, &quot;radius&quot;: 610000.0, &quot;stroke&quot;: true, &quot;weight&quot;: 3}\n",
       "            ).addTo(map_458ec8e400112ec513386247fe175da8);\n",
       "        \n",
       "    \n",
       "            circle_ee687308525ec2f03dd4fb783e62020f.bindTooltip(\n",
       "                `&lt;div&gt;\n",
       "                     &lt;div style=&#x27;margin: 0; background-color: black; color: white;&#x27;&gt;&lt;h4 style=&#x27;text-align:center;font-weight: bold&#x27;&gt;Zimbabwe&lt;/h4&gt;&lt;hr style=&#x27;margin:10px;color: white;&#x27;&gt;&lt;ul style=&#x27;color: white;;list-style-type:circle;align-item:left;padding-left:20px;padding-right:20px&#x27;&gt;&lt;li&gt;Confirmed: 264276&lt;/li&gt;&lt;li&gt;Deaths:   5671&lt;/li&gt;&lt;li&gt;Death Rate: 2.15&lt;/li&gt;&lt;/ul&gt;&lt;/div&gt;\n",
       "                 &lt;/div&gt;`,\n",
       "                {&quot;sticky&quot;: true}\n",
       "            );\n",
       "        \n",
       "&lt;/script&gt;\n",
       "&lt;/html&gt;\" style=\"position:absolute;width:100%;height:100%;left:0;top:0;border:none !important;\" allowfullscreen webkitallowfullscreen mozallowfullscreen></iframe></div></div>"
      ],
      "text/plain": [
       "<folium.folium.Map at 0x259f93acc20>"
      ]
     },
     "execution_count": 113,
     "metadata": {},
     "output_type": "execute_result"
    }
   ],
   "source": [
    "confirmed_df['lat'].fillna(0, inplace=True)\n",
    "confirmed_df['long'].fillna(0, inplace=True)\n",
    "\n",
    "world_map = folium.Map(location=[11, 0], tiles=\"cartodbpositron\", zoom_start=2, max_zoom=6, min_zoom=2)\n",
    "\n",
    "for i in range(len(confirmed_df)):\n",
    "    folium.Circle(\n",
    "        location=[confirmed_df.iloc[i]['lat'], confirmed_df.iloc[i]['long']],\n",
    "        fill=True,\n",
    "        radius=(int((np.log(confirmed_df.iloc[i,-1] + 1.00001))) + 0.2) * 50000,\n",
    "        fill_color='blue',\n",
    "        color='red',\n",
    "        tooltip = \"<div style='margin: 0; background-color: black; color: white;'>\"+\n",
    "                    \"<h4 style='text-align:center;font-weight: bold'>\"+confirmed_df.iloc[i]['country'] + \"</h4>\"\n",
    "                    \"<hr style='margin:10px;color: white;'>\"+\n",
    "                    \"<ul style='color: white;;list-style-type:circle;align-item:left;padding-left:20px;padding-right:20px'>\"+\n",
    "                        \"<li>Confirmed: \"+str(confirmed_df.iloc[i,-1])+\"</li>\"+\n",
    "                        \"<li>Deaths:   \"+str(death_df.iloc[i,-1])+\"</li>\"+\n",
    "                        \"<li>Death Rate: \"+ str(np.round(death_df.iloc[i,-1]/(confirmed_df.iloc[i,-1]+1.00001)*100,2))+ \"</li>\"+\n",
    "                    \"</ul></div>\",\n",
    "    ).add_to(world_map)\n",
    "\n",
    "world_map"
   ]
  },
  {
   "cell_type": "code",
   "execution_count": 116,
   "id": "c246fdae-b136-4074-90e4-f551d3fd9c8f",
   "metadata": {},
   "outputs": [
    {
     "data": {
      "application/vnd.plotly.v1+json": {
       "config": {
        "plotlyServerURL": "https://plot.ly"
       },
       "data": [
        {
         "alignmentgroup": "True",
         "hovertemplate": "country=%{x}<br>confirmed=%{y}<extra></extra>",
         "legendgroup": "",
         "marker": {
          "color": "green",
          "pattern": {
           "shape": ""
          }
         },
         "name": "",
         "offsetgroup": "",
         "orientation": "v",
         "showlegend": false,
         "textposition": "auto",
         "type": "bar",
         "x": [
          "US",
          "India",
          "France",
          "Germany",
          "Brazil",
          "Japan",
          "Korea, South",
          "Italy",
          "United Kingdom",
          "Russia"
         ],
         "xaxis": "x",
         "y": [
          103804263,
          44690738,
          39866718,
          38249060,
          37085675,
          33329551,
          30615522,
          25603510,
          24658705,
          22086064
         ],
         "yaxis": "y"
        }
       ],
       "layout": {
        "barmode": "relative",
        "height": 500,
        "legend": {
         "tracegroupgap": 0
        },
        "template": {
         "data": {
          "bar": [
           {
            "error_x": {
             "color": "#2a3f5f"
            },
            "error_y": {
             "color": "#2a3f5f"
            },
            "marker": {
             "line": {
              "color": "#E5ECF6",
              "width": 0.5
             },
             "pattern": {
              "fillmode": "overlay",
              "size": 10,
              "solidity": 0.2
             }
            },
            "type": "bar"
           }
          ],
          "barpolar": [
           {
            "marker": {
             "line": {
              "color": "#E5ECF6",
              "width": 0.5
             },
             "pattern": {
              "fillmode": "overlay",
              "size": 10,
              "solidity": 0.2
             }
            },
            "type": "barpolar"
           }
          ],
          "carpet": [
           {
            "aaxis": {
             "endlinecolor": "#2a3f5f",
             "gridcolor": "white",
             "linecolor": "white",
             "minorgridcolor": "white",
             "startlinecolor": "#2a3f5f"
            },
            "baxis": {
             "endlinecolor": "#2a3f5f",
             "gridcolor": "white",
             "linecolor": "white",
             "minorgridcolor": "white",
             "startlinecolor": "#2a3f5f"
            },
            "type": "carpet"
           }
          ],
          "choropleth": [
           {
            "colorbar": {
             "outlinewidth": 0,
             "ticks": ""
            },
            "type": "choropleth"
           }
          ],
          "contour": [
           {
            "colorbar": {
             "outlinewidth": 0,
             "ticks": ""
            },
            "colorscale": [
             [
              0,
              "#0d0887"
             ],
             [
              0.1111111111111111,
              "#46039f"
             ],
             [
              0.2222222222222222,
              "#7201a8"
             ],
             [
              0.3333333333333333,
              "#9c179e"
             ],
             [
              0.4444444444444444,
              "#bd3786"
             ],
             [
              0.5555555555555556,
              "#d8576b"
             ],
             [
              0.6666666666666666,
              "#ed7953"
             ],
             [
              0.7777777777777778,
              "#fb9f3a"
             ],
             [
              0.8888888888888888,
              "#fdca26"
             ],
             [
              1,
              "#f0f921"
             ]
            ],
            "type": "contour"
           }
          ],
          "contourcarpet": [
           {
            "colorbar": {
             "outlinewidth": 0,
             "ticks": ""
            },
            "type": "contourcarpet"
           }
          ],
          "heatmap": [
           {
            "colorbar": {
             "outlinewidth": 0,
             "ticks": ""
            },
            "colorscale": [
             [
              0,
              "#0d0887"
             ],
             [
              0.1111111111111111,
              "#46039f"
             ],
             [
              0.2222222222222222,
              "#7201a8"
             ],
             [
              0.3333333333333333,
              "#9c179e"
             ],
             [
              0.4444444444444444,
              "#bd3786"
             ],
             [
              0.5555555555555556,
              "#d8576b"
             ],
             [
              0.6666666666666666,
              "#ed7953"
             ],
             [
              0.7777777777777778,
              "#fb9f3a"
             ],
             [
              0.8888888888888888,
              "#fdca26"
             ],
             [
              1,
              "#f0f921"
             ]
            ],
            "type": "heatmap"
           }
          ],
          "heatmapgl": [
           {
            "colorbar": {
             "outlinewidth": 0,
             "ticks": ""
            },
            "colorscale": [
             [
              0,
              "#0d0887"
             ],
             [
              0.1111111111111111,
              "#46039f"
             ],
             [
              0.2222222222222222,
              "#7201a8"
             ],
             [
              0.3333333333333333,
              "#9c179e"
             ],
             [
              0.4444444444444444,
              "#bd3786"
             ],
             [
              0.5555555555555556,
              "#d8576b"
             ],
             [
              0.6666666666666666,
              "#ed7953"
             ],
             [
              0.7777777777777778,
              "#fb9f3a"
             ],
             [
              0.8888888888888888,
              "#fdca26"
             ],
             [
              1,
              "#f0f921"
             ]
            ],
            "type": "heatmapgl"
           }
          ],
          "histogram": [
           {
            "marker": {
             "pattern": {
              "fillmode": "overlay",
              "size": 10,
              "solidity": 0.2
             }
            },
            "type": "histogram"
           }
          ],
          "histogram2d": [
           {
            "colorbar": {
             "outlinewidth": 0,
             "ticks": ""
            },
            "colorscale": [
             [
              0,
              "#0d0887"
             ],
             [
              0.1111111111111111,
              "#46039f"
             ],
             [
              0.2222222222222222,
              "#7201a8"
             ],
             [
              0.3333333333333333,
              "#9c179e"
             ],
             [
              0.4444444444444444,
              "#bd3786"
             ],
             [
              0.5555555555555556,
              "#d8576b"
             ],
             [
              0.6666666666666666,
              "#ed7953"
             ],
             [
              0.7777777777777778,
              "#fb9f3a"
             ],
             [
              0.8888888888888888,
              "#fdca26"
             ],
             [
              1,
              "#f0f921"
             ]
            ],
            "type": "histogram2d"
           }
          ],
          "histogram2dcontour": [
           {
            "colorbar": {
             "outlinewidth": 0,
             "ticks": ""
            },
            "colorscale": [
             [
              0,
              "#0d0887"
             ],
             [
              0.1111111111111111,
              "#46039f"
             ],
             [
              0.2222222222222222,
              "#7201a8"
             ],
             [
              0.3333333333333333,
              "#9c179e"
             ],
             [
              0.4444444444444444,
              "#bd3786"
             ],
             [
              0.5555555555555556,
              "#d8576b"
             ],
             [
              0.6666666666666666,
              "#ed7953"
             ],
             [
              0.7777777777777778,
              "#fb9f3a"
             ],
             [
              0.8888888888888888,
              "#fdca26"
             ],
             [
              1,
              "#f0f921"
             ]
            ],
            "type": "histogram2dcontour"
           }
          ],
          "mesh3d": [
           {
            "colorbar": {
             "outlinewidth": 0,
             "ticks": ""
            },
            "type": "mesh3d"
           }
          ],
          "parcoords": [
           {
            "line": {
             "colorbar": {
              "outlinewidth": 0,
              "ticks": ""
             }
            },
            "type": "parcoords"
           }
          ],
          "pie": [
           {
            "automargin": true,
            "type": "pie"
           }
          ],
          "scatter": [
           {
            "fillpattern": {
             "fillmode": "overlay",
             "size": 10,
             "solidity": 0.2
            },
            "type": "scatter"
           }
          ],
          "scatter3d": [
           {
            "line": {
             "colorbar": {
              "outlinewidth": 0,
              "ticks": ""
             }
            },
            "marker": {
             "colorbar": {
              "outlinewidth": 0,
              "ticks": ""
             }
            },
            "type": "scatter3d"
           }
          ],
          "scattercarpet": [
           {
            "marker": {
             "colorbar": {
              "outlinewidth": 0,
              "ticks": ""
             }
            },
            "type": "scattercarpet"
           }
          ],
          "scattergeo": [
           {
            "marker": {
             "colorbar": {
              "outlinewidth": 0,
              "ticks": ""
             }
            },
            "type": "scattergeo"
           }
          ],
          "scattergl": [
           {
            "marker": {
             "colorbar": {
              "outlinewidth": 0,
              "ticks": ""
             }
            },
            "type": "scattergl"
           }
          ],
          "scattermapbox": [
           {
            "marker": {
             "colorbar": {
              "outlinewidth": 0,
              "ticks": ""
             }
            },
            "type": "scattermapbox"
           }
          ],
          "scatterpolar": [
           {
            "marker": {
             "colorbar": {
              "outlinewidth": 0,
              "ticks": ""
             }
            },
            "type": "scatterpolar"
           }
          ],
          "scatterpolargl": [
           {
            "marker": {
             "colorbar": {
              "outlinewidth": 0,
              "ticks": ""
             }
            },
            "type": "scatterpolargl"
           }
          ],
          "scatterternary": [
           {
            "marker": {
             "colorbar": {
              "outlinewidth": 0,
              "ticks": ""
             }
            },
            "type": "scatterternary"
           }
          ],
          "surface": [
           {
            "colorbar": {
             "outlinewidth": 0,
             "ticks": ""
            },
            "colorscale": [
             [
              0,
              "#0d0887"
             ],
             [
              0.1111111111111111,
              "#46039f"
             ],
             [
              0.2222222222222222,
              "#7201a8"
             ],
             [
              0.3333333333333333,
              "#9c179e"
             ],
             [
              0.4444444444444444,
              "#bd3786"
             ],
             [
              0.5555555555555556,
              "#d8576b"
             ],
             [
              0.6666666666666666,
              "#ed7953"
             ],
             [
              0.7777777777777778,
              "#fb9f3a"
             ],
             [
              0.8888888888888888,
              "#fdca26"
             ],
             [
              1,
              "#f0f921"
             ]
            ],
            "type": "surface"
           }
          ],
          "table": [
           {
            "cells": {
             "fill": {
              "color": "#EBF0F8"
             },
             "line": {
              "color": "white"
             }
            },
            "header": {
             "fill": {
              "color": "#C8D4E3"
             },
             "line": {
              "color": "white"
             }
            },
            "type": "table"
           }
          ]
         },
         "layout": {
          "annotationdefaults": {
           "arrowcolor": "#2a3f5f",
           "arrowhead": 0,
           "arrowwidth": 1
          },
          "autotypenumbers": "strict",
          "coloraxis": {
           "colorbar": {
            "outlinewidth": 0,
            "ticks": ""
           }
          },
          "colorscale": {
           "diverging": [
            [
             0,
             "#8e0152"
            ],
            [
             0.1,
             "#c51b7d"
            ],
            [
             0.2,
             "#de77ae"
            ],
            [
             0.3,
             "#f1b6da"
            ],
            [
             0.4,
             "#fde0ef"
            ],
            [
             0.5,
             "#f7f7f7"
            ],
            [
             0.6,
             "#e6f5d0"
            ],
            [
             0.7,
             "#b8e186"
            ],
            [
             0.8,
             "#7fbc41"
            ],
            [
             0.9,
             "#4d9221"
            ],
            [
             1,
             "#276419"
            ]
           ],
           "sequential": [
            [
             0,
             "#0d0887"
            ],
            [
             0.1111111111111111,
             "#46039f"
            ],
            [
             0.2222222222222222,
             "#7201a8"
            ],
            [
             0.3333333333333333,
             "#9c179e"
            ],
            [
             0.4444444444444444,
             "#bd3786"
            ],
            [
             0.5555555555555556,
             "#d8576b"
            ],
            [
             0.6666666666666666,
             "#ed7953"
            ],
            [
             0.7777777777777778,
             "#fb9f3a"
            ],
            [
             0.8888888888888888,
             "#fdca26"
            ],
            [
             1,
             "#f0f921"
            ]
           ],
           "sequentialminus": [
            [
             0,
             "#0d0887"
            ],
            [
             0.1111111111111111,
             "#46039f"
            ],
            [
             0.2222222222222222,
             "#7201a8"
            ],
            [
             0.3333333333333333,
             "#9c179e"
            ],
            [
             0.4444444444444444,
             "#bd3786"
            ],
            [
             0.5555555555555556,
             "#d8576b"
            ],
            [
             0.6666666666666666,
             "#ed7953"
            ],
            [
             0.7777777777777778,
             "#fb9f3a"
            ],
            [
             0.8888888888888888,
             "#fdca26"
            ],
            [
             1,
             "#f0f921"
            ]
           ]
          },
          "colorway": [
           "#636efa",
           "#EF553B",
           "#00cc96",
           "#ab63fa",
           "#FFA15A",
           "#19d3f3",
           "#FF6692",
           "#B6E880",
           "#FF97FF",
           "#FECB52"
          ],
          "font": {
           "color": "#2a3f5f"
          },
          "geo": {
           "bgcolor": "white",
           "lakecolor": "white",
           "landcolor": "#E5ECF6",
           "showlakes": true,
           "showland": true,
           "subunitcolor": "white"
          },
          "hoverlabel": {
           "align": "left"
          },
          "hovermode": "closest",
          "mapbox": {
           "style": "light"
          },
          "paper_bgcolor": "white",
          "plot_bgcolor": "#E5ECF6",
          "polar": {
           "angularaxis": {
            "gridcolor": "white",
            "linecolor": "white",
            "ticks": ""
           },
           "bgcolor": "#E5ECF6",
           "radialaxis": {
            "gridcolor": "white",
            "linecolor": "white",
            "ticks": ""
           }
          },
          "scene": {
           "xaxis": {
            "backgroundcolor": "#E5ECF6",
            "gridcolor": "white",
            "gridwidth": 2,
            "linecolor": "white",
            "showbackground": true,
            "ticks": "",
            "zerolinecolor": "white"
           },
           "yaxis": {
            "backgroundcolor": "#E5ECF6",
            "gridcolor": "white",
            "gridwidth": 2,
            "linecolor": "white",
            "showbackground": true,
            "ticks": "",
            "zerolinecolor": "white"
           },
           "zaxis": {
            "backgroundcolor": "#E5ECF6",
            "gridcolor": "white",
            "gridwidth": 2,
            "linecolor": "white",
            "showbackground": true,
            "ticks": "",
            "zerolinecolor": "white"
           }
          },
          "shapedefaults": {
           "line": {
            "color": "#2a3f5f"
           }
          },
          "ternary": {
           "aaxis": {
            "gridcolor": "white",
            "linecolor": "white",
            "ticks": ""
           },
           "baxis": {
            "gridcolor": "white",
            "linecolor": "white",
            "ticks": ""
           },
           "bgcolor": "#E5ECF6",
           "caxis": {
            "gridcolor": "white",
            "linecolor": "white",
            "ticks": ""
           }
          },
          "title": {
           "x": 0.05
          },
          "xaxis": {
           "automargin": true,
           "gridcolor": "white",
           "linecolor": "white",
           "ticks": "",
           "title": {
            "standoff": 15
           },
           "zerolinecolor": "white",
           "zerolinewidth": 2
          },
          "yaxis": {
           "automargin": true,
           "gridcolor": "white",
           "linecolor": "white",
           "ticks": "",
           "title": {
            "standoff": 15
           },
           "zerolinecolor": "white",
           "zerolinewidth": 2
          }
         }
        },
        "title": {
         "text": "Top 10 worst affected countries"
        },
        "width": 800,
        "xaxis": {
         "anchor": "y",
         "autorange": true,
         "domain": [
          0,
          1
         ],
         "range": [
          -0.5,
          9.5
         ],
         "title": {
          "text": "country"
         },
         "type": "category"
        },
        "yaxis": {
         "anchor": "x",
         "autorange": true,
         "domain": [
          0,
          1
         ],
         "range": [
          0,
          109267645.26315789
         ],
         "title": {
          "text": "confirmed"
         },
         "type": "linear"
        }
       }
      },
      "image/png": "[encoded data removed]",
      "text/html": [
       "<div>                            <div id=\"c4af4482-51ca-499a-8560-0a035cd3a516\" class=\"plotly-graph-div\" style=\"height:500px; width:800px;\"></div>            <script type=\"text/javascript\">                require([\"plotly\"], function(Plotly) {                    window.PLOTLYENV=window.PLOTLYENV || {};                                    if (document.getElementById(\"c4af4482-51ca-499a-8560-0a035cd3a516\")) {                    Plotly.newPlot(                        \"c4af4482-51ca-499a-8560-0a035cd3a516\",                        [{\"alignmentgroup\":\"True\",\"hovertemplate\":\"country=%{x}\\u003cbr\\u003econfirmed=%{y}\\u003cextra\\u003e\\u003c\\u002fextra\\u003e\",\"legendgroup\":\"\",\"marker\":{\"color\":\"green\",\"pattern\":{\"shape\":\"\"}},\"name\":\"\",\"offsetgroup\":\"\",\"orientation\":\"v\",\"showlegend\":false,\"textposition\":\"auto\",\"x\":[\"US\",\"India\",\"France\",\"Germany\",\"Brazil\",\"Japan\",\"Korea, South\",\"Italy\",\"United Kingdom\",\"Russia\"],\"xaxis\":\"x\",\"y\":[103804263,44690738,39866718,38249060,37085675,33329551,30615522,25603510,24658705,22086064],\"yaxis\":\"y\",\"type\":\"bar\"}],                        {\"template\":{\"data\":{\"histogram2dcontour\":[{\"type\":\"histogram2dcontour\",\"colorbar\":{\"outlinewidth\":0,\"ticks\":\"\"},\"colorscale\":[[0.0,\"#0d0887\"],[0.1111111111111111,\"#46039f\"],[0.2222222222222222,\"#7201a8\"],[0.3333333333333333,\"#9c179e\"],[0.4444444444444444,\"#bd3786\"],[0.5555555555555556,\"#d8576b\"],[0.6666666666666666,\"#ed7953\"],[0.7777777777777778,\"#fb9f3a\"],[0.8888888888888888,\"#fdca26\"],[1.0,\"#f0f921\"]]}],\"choropleth\":[{\"type\":\"choropleth\",\"colorbar\":{\"outlinewidth\":0,\"ticks\":\"\"}}],\"histogram2d\":[{\"type\":\"histogram2d\",\"colorbar\":{\"outlinewidth\":0,\"ticks\":\"\"},\"colorscale\":[[0.0,\"#0d0887\"],[0.1111111111111111,\"#46039f\"],[0.2222222222222222,\"#7201a8\"],[0.3333333333333333,\"#9c179e\"],[0.4444444444444444,\"#bd3786\"],[0.5555555555555556,\"#d8576b\"],[0.6666666666666666,\"#ed7953\"],[0.7777777777777778,\"#fb9f3a\"],[0.8888888888888888,\"#fdca26\"],[1.0,\"#f0f921\"]]}],\"heatmap\":[{\"type\":\"heatmap\",\"colorbar\":{\"outlinewidth\":0,\"ticks\":\"\"},\"colorscale\":[[0.0,\"#0d0887\"],[0.1111111111111111,\"#46039f\"],[0.2222222222222222,\"#7201a8\"],[0.3333333333333333,\"#9c179e\"],[0.4444444444444444,\"#bd3786\"],[0.5555555555555556,\"#d8576b\"],[0.6666666666666666,\"#ed7953\"],[0.7777777777777778,\"#fb9f3a\"],[0.8888888888888888,\"#fdca26\"],[1.0,\"#f0f921\"]]}],\"heatmapgl\":[{\"type\":\"heatmapgl\",\"colorbar\":{\"outlinewidth\":0,\"ticks\":\"\"},\"colorscale\":[[0.0,\"#0d0887\"],[0.1111111111111111,\"#46039f\"],[0.2222222222222222,\"#7201a8\"],[0.3333333333333333,\"#9c179e\"],[0.4444444444444444,\"#bd3786\"],[0.5555555555555556,\"#d8576b\"],[0.6666666666666666,\"#ed7953\"],[0.7777777777777778,\"#fb9f3a\"],[0.8888888888888888,\"#fdca26\"],[1.0,\"#f0f921\"]]}],\"contourcarpet\":[{\"type\":\"contourcarpet\",\"colorbar\":{\"outlinewidth\":0,\"ticks\":\"\"}}],\"contour\":[{\"type\":\"contour\",\"colorbar\":{\"outlinewidth\":0,\"ticks\":\"\"},\"colorscale\":[[0.0,\"#0d0887\"],[0.1111111111111111,\"#46039f\"],[0.2222222222222222,\"#7201a8\"],[0.3333333333333333,\"#9c179e\"],[0.4444444444444444,\"#bd3786\"],[0.5555555555555556,\"#d8576b\"],[0.6666666666666666,\"#ed7953\"],[0.7777777777777778,\"#fb9f3a\"],[0.8888888888888888,\"#fdca26\"],[1.0,\"#f0f921\"]]}],\"surface\":[{\"type\":\"surface\",\"colorbar\":{\"outlinewidth\":0,\"ticks\":\"\"},\"colorscale\":[[0.0,\"#0d0887\"],[0.1111111111111111,\"#46039f\"],[0.2222222222222222,\"#7201a8\"],[0.3333333333333333,\"#9c179e\"],[0.4444444444444444,\"#bd3786\"],[0.5555555555555556,\"#d8576b\"],[0.6666666666666666,\"#ed7953\"],[0.7777777777777778,\"#fb9f3a\"],[0.8888888888888888,\"#fdca26\"],[1.0,\"#f0f921\"]]}],\"mesh3d\":[{\"type\":\"mesh3d\",\"colorbar\":{\"outlinewidth\":0,\"ticks\":\"\"}}],\"scatter\":[{\"fillpattern\":{\"fillmode\":\"overlay\",\"size\":10,\"solidity\":0.2},\"type\":\"scatter\"}],\"parcoords\":[{\"type\":\"parcoords\",\"line\":{\"colorbar\":{\"outlinewidth\":0,\"ticks\":\"\"}}}],\"scatterpolargl\":[{\"type\":\"scatterpolargl\",\"marker\":{\"colorbar\":{\"outlinewidth\":0,\"ticks\":\"\"}}}],\"bar\":[{\"error_x\":{\"color\":\"#2a3f5f\"},\"error_y\":{\"color\":\"#2a3f5f\"},\"marker\":{\"line\":{\"color\":\"#E5ECF6\",\"width\":0.5},\"pattern\":{\"fillmode\":\"overlay\",\"size\":10,\"solidity\":0.2}},\"type\":\"bar\"}],\"scattergeo\":[{\"type\":\"scattergeo\",\"marker\":{\"colorbar\":{\"outlinewidth\":0,\"ticks\":\"\"}}}],\"scatterpolar\":[{\"type\":\"scatterpolar\",\"marker\":{\"colorbar\":{\"outlinewidth\":0,\"ticks\":\"\"}}}],\"histogram\":[{\"marker\":{\"pattern\":{\"fillmode\":\"overlay\",\"size\":10,\"solidity\":0.2}},\"type\":\"histogram\"}],\"scattergl\":[{\"type\":\"scattergl\",\"marker\":{\"colorbar\":{\"outlinewidth\":0,\"ticks\":\"\"}}}],\"scatter3d\":[{\"type\":\"scatter3d\",\"line\":{\"colorbar\":{\"outlinewidth\":0,\"ticks\":\"\"}},\"marker\":{\"colorbar\":{\"outlinewidth\":0,\"ticks\":\"\"}}}],\"scattermapbox\":[{\"type\":\"scattermapbox\",\"marker\":{\"colorbar\":{\"outlinewidth\":0,\"ticks\":\"\"}}}],\"scatterternary\":[{\"type\":\"scatterternary\",\"marker\":{\"colorbar\":{\"outlinewidth\":0,\"ticks\":\"\"}}}],\"scattercarpet\":[{\"type\":\"scattercarpet\",\"marker\":{\"colorbar\":{\"outlinewidth\":0,\"ticks\":\"\"}}}],\"carpet\":[{\"aaxis\":{\"endlinecolor\":\"#2a3f5f\",\"gridcolor\":\"white\",\"linecolor\":\"white\",\"minorgridcolor\":\"white\",\"startlinecolor\":\"#2a3f5f\"},\"baxis\":{\"endlinecolor\":\"#2a3f5f\",\"gridcolor\":\"white\",\"linecolor\":\"white\",\"minorgridcolor\":\"white\",\"startlinecolor\":\"#2a3f5f\"},\"type\":\"carpet\"}],\"table\":[{\"cells\":{\"fill\":{\"color\":\"#EBF0F8\"},\"line\":{\"color\":\"white\"}},\"header\":{\"fill\":{\"color\":\"#C8D4E3\"},\"line\":{\"color\":\"white\"}},\"type\":\"table\"}],\"barpolar\":[{\"marker\":{\"line\":{\"color\":\"#E5ECF6\",\"width\":0.5},\"pattern\":{\"fillmode\":\"overlay\",\"size\":10,\"solidity\":0.2}},\"type\":\"barpolar\"}],\"pie\":[{\"automargin\":true,\"type\":\"pie\"}]},\"layout\":{\"autotypenumbers\":\"strict\",\"colorway\":[\"#636efa\",\"#EF553B\",\"#00cc96\",\"#ab63fa\",\"#FFA15A\",\"#19d3f3\",\"#FF6692\",\"#B6E880\",\"#FF97FF\",\"#FECB52\"],\"font\":{\"color\":\"#2a3f5f\"},\"hovermode\":\"closest\",\"hoverlabel\":{\"align\":\"left\"},\"paper_bgcolor\":\"white\",\"plot_bgcolor\":\"#E5ECF6\",\"polar\":{\"bgcolor\":\"#E5ECF6\",\"angularaxis\":{\"gridcolor\":\"white\",\"linecolor\":\"white\",\"ticks\":\"\"},\"radialaxis\":{\"gridcolor\":\"white\",\"linecolor\":\"white\",\"ticks\":\"\"}},\"ternary\":{\"bgcolor\":\"#E5ECF6\",\"aaxis\":{\"gridcolor\":\"white\",\"linecolor\":\"white\",\"ticks\":\"\"},\"baxis\":{\"gridcolor\":\"white\",\"linecolor\":\"white\",\"ticks\":\"\"},\"caxis\":{\"gridcolor\":\"white\",\"linecolor\":\"white\",\"ticks\":\"\"}},\"coloraxis\":{\"colorbar\":{\"outlinewidth\":0,\"ticks\":\"\"}},\"colorscale\":{\"sequential\":[[0.0,\"#0d0887\"],[0.1111111111111111,\"#46039f\"],[0.2222222222222222,\"#7201a8\"],[0.3333333333333333,\"#9c179e\"],[0.4444444444444444,\"#bd3786\"],[0.5555555555555556,\"#d8576b\"],[0.6666666666666666,\"#ed7953\"],[0.7777777777777778,\"#fb9f3a\"],[0.8888888888888888,\"#fdca26\"],[1.0,\"#f0f921\"]],\"sequentialminus\":[[0.0,\"#0d0887\"],[0.1111111111111111,\"#46039f\"],[0.2222222222222222,\"#7201a8\"],[0.3333333333333333,\"#9c179e\"],[0.4444444444444444,\"#bd3786\"],[0.5555555555555556,\"#d8576b\"],[0.6666666666666666,\"#ed7953\"],[0.7777777777777778,\"#fb9f3a\"],[0.8888888888888888,\"#fdca26\"],[1.0,\"#f0f921\"]],\"diverging\":[[0,\"#8e0152\"],[0.1,\"#c51b7d\"],[0.2,\"#de77ae\"],[0.3,\"#f1b6da\"],[0.4,\"#fde0ef\"],[0.5,\"#f7f7f7\"],[0.6,\"#e6f5d0\"],[0.7,\"#b8e186\"],[0.8,\"#7fbc41\"],[0.9,\"#4d9221\"],[1,\"#276419\"]]},\"xaxis\":{\"gridcolor\":\"white\",\"linecolor\":\"white\",\"ticks\":\"\",\"title\":{\"standoff\":15},\"zerolinecolor\":\"white\",\"automargin\":true,\"zerolinewidth\":2},\"yaxis\":{\"gridcolor\":\"white\",\"linecolor\":\"white\",\"ticks\":\"\",\"title\":{\"standoff\":15},\"zerolinecolor\":\"white\",\"automargin\":true,\"zerolinewidth\":2},\"scene\":{\"xaxis\":{\"backgroundcolor\":\"#E5ECF6\",\"gridcolor\":\"white\",\"linecolor\":\"white\",\"showbackground\":true,\"ticks\":\"\",\"zerolinecolor\":\"white\",\"gridwidth\":2},\"yaxis\":{\"backgroundcolor\":\"#E5ECF6\",\"gridcolor\":\"white\",\"linecolor\":\"white\",\"showbackground\":true,\"ticks\":\"\",\"zerolinecolor\":\"white\",\"gridwidth\":2},\"zaxis\":{\"backgroundcolor\":\"#E5ECF6\",\"gridcolor\":\"white\",\"linecolor\":\"white\",\"showbackground\":true,\"ticks\":\"\",\"zerolinecolor\":\"white\",\"gridwidth\":2}},\"shapedefaults\":{\"line\":{\"color\":\"#2a3f5f\"}},\"annotationdefaults\":{\"arrowcolor\":\"#2a3f5f\",\"arrowhead\":0,\"arrowwidth\":1},\"geo\":{\"bgcolor\":\"white\",\"landcolor\":\"#E5ECF6\",\"subunitcolor\":\"white\",\"showland\":true,\"showlakes\":true,\"lakecolor\":\"white\"},\"title\":{\"x\":0.05},\"mapbox\":{\"style\":\"light\"}}},\"xaxis\":{\"anchor\":\"y\",\"domain\":[0.0,1.0],\"title\":{\"text\":\"country\"}},\"yaxis\":{\"anchor\":\"x\",\"domain\":[0.0,1.0],\"title\":{\"text\":\"confirmed\"}},\"legend\":{\"tracegroupgap\":0},\"title\":{\"text\":\"Top 10 worst affected countries\"},\"barmode\":\"relative\",\"height\":500,\"width\":800},                        {\"responsive\": true}                    ).then(function(){\n",
       "                            \n",
       "var gd = document.getElementById('c4af4482-51ca-499a-8560-0a035cd3a516');\n",
       "var x = new MutationObserver(function (mutations, observer) {{\n",
       "        var display = window.getComputedStyle(gd).display;\n",
       "        if (!display || display === 'none') {{\n",
       "            console.log([gd, 'removed!']);\n",
       "            Plotly.purge(gd);\n",
       "            observer.disconnect();\n",
       "        }}\n",
       "}});\n",
       "\n",
       "// Listen for the removal of the full notebook cells\n",
       "var notebookContainer = gd.closest('#notebook-container');\n",
       "if (notebookContainer) {{\n",
       "    x.observe(notebookContainer, {childList: true});\n",
       "}}\n",
       "\n",
       "// Listen for the clearing of the current output cell\n",
       "var outputEl = gd.closest('.output');\n",
       "if (outputEl) {{\n",
       "    x.observe(outputEl, {childList: true});\n",
       "}}\n",
       "\n",
       "                        })                };                });            </script>        </div>"
      ]
     },
     "metadata": {},
     "output_type": "display_data"
    }
   ],
   "source": [
    "px.bar(\n",
    "    sorted_country_df.head(10),\n",
    "    x = \"country\",\n",
    "    y = \"confirmed\",\n",
    "    title= \"Top 10 worst affected countries\", # the axis names\n",
    "    color_discrete_sequence=[\"green\"], \n",
    "    height=500,\n",
    "    width=800\n",
    ")"
   ]
  },
  {
   "cell_type": "code",
   "execution_count": 117,
   "id": "a72c94fd-988a-4ea8-8f43-4adb2d0b0937",
   "metadata": {},
   "outputs": [
    {
     "data": {
      "application/vnd.plotly.v1+json": {
       "config": {
        "plotlyServerURL": "https://plot.ly"
       },
       "data": [
        {
         "alignmentgroup": "True",
         "hovertemplate": "country=%{x}<br>deaths=%{y}<extra></extra>",
         "legendgroup": "",
         "marker": {
          "color": "green",
          "pattern": {
           "shape": ""
          }
         },
         "name": "",
         "offsetgroup": "",
         "orientation": "v",
         "showlegend": false,
         "textposition": "auto",
         "type": "bar",
         "x": [
          "US",
          "India",
          "France",
          "Germany",
          "Brazil",
          "Japan",
          "Korea, South",
          "Italy",
          "United Kingdom",
          "Russia"
         ],
         "xaxis": "x",
         "y": [
          1123836,
          530779,
          166176,
          168935,
          699310,
          73046,
          34093,
          188322,
          220721,
          388521
         ],
         "yaxis": "y"
        }
       ],
       "layout": {
        "barmode": "relative",
        "height": 500,
        "legend": {
         "tracegroupgap": 0
        },
        "template": {
         "data": {
          "bar": [
           {
            "error_x": {
             "color": "#2a3f5f"
            },
            "error_y": {
             "color": "#2a3f5f"
            },
            "marker": {
             "line": {
              "color": "#E5ECF6",
              "width": 0.5
             },
             "pattern": {
              "fillmode": "overlay",
              "size": 10,
              "solidity": 0.2
             }
            },
            "type": "bar"
           }
          ],
          "barpolar": [
           {
            "marker": {
             "line": {
              "color": "#E5ECF6",
              "width": 0.5
             },
             "pattern": {
              "fillmode": "overlay",
              "size": 10,
              "solidity": 0.2
             }
            },
            "type": "barpolar"
           }
          ],
          "carpet": [
           {
            "aaxis": {
             "endlinecolor": "#2a3f5f",
             "gridcolor": "white",
             "linecolor": "white",
             "minorgridcolor": "white",
             "startlinecolor": "#2a3f5f"
            },
            "baxis": {
             "endlinecolor": "#2a3f5f",
             "gridcolor": "white",
             "linecolor": "white",
             "minorgridcolor": "white",
             "startlinecolor": "#2a3f5f"
            },
            "type": "carpet"
           }
          ],
          "choropleth": [
           {
            "colorbar": {
             "outlinewidth": 0,
             "ticks": ""
            },
            "type": "choropleth"
           }
          ],
          "contour": [
           {
            "colorbar": {
             "outlinewidth": 0,
             "ticks": ""
            },
            "colorscale": [
             [
              0,
              "#0d0887"
             ],
             [
              0.1111111111111111,
              "#46039f"
             ],
             [
              0.2222222222222222,
              "#7201a8"
             ],
             [
              0.3333333333333333,
              "#9c179e"
             ],
             [
              0.4444444444444444,
              "#bd3786"
             ],
             [
              0.5555555555555556,
              "#d8576b"
             ],
             [
              0.6666666666666666,
              "#ed7953"
             ],
             [
              0.7777777777777778,
              "#fb9f3a"
             ],
             [
              0.8888888888888888,
              "#fdca26"
             ],
             [
              1,
              "#f0f921"
             ]
            ],
            "type": "contour"
           }
          ],
          "contourcarpet": [
           {
            "colorbar": {
             "outlinewidth": 0,
             "ticks": ""
            },
            "type": "contourcarpet"
           }
          ],
          "heatmap": [
           {
            "colorbar": {
             "outlinewidth": 0,
             "ticks": ""
            },
            "colorscale": [
             [
              0,
              "#0d0887"
             ],
             [
              0.1111111111111111,
              "#46039f"
             ],
             [
              0.2222222222222222,
              "#7201a8"
             ],
             [
              0.3333333333333333,
              "#9c179e"
             ],
             [
              0.4444444444444444,
              "#bd3786"
             ],
             [
              0.5555555555555556,
              "#d8576b"
             ],
             [
              0.6666666666666666,
              "#ed7953"
             ],
             [
              0.7777777777777778,
              "#fb9f3a"
             ],
             [
              0.8888888888888888,
              "#fdca26"
             ],
             [
              1,
              "#f0f921"
             ]
            ],
            "type": "heatmap"
           }
          ],
          "heatmapgl": [
           {
            "colorbar": {
             "outlinewidth": 0,
             "ticks": ""
            },
            "colorscale": [
             [
              0,
              "#0d0887"
             ],
             [
              0.1111111111111111,
              "#46039f"
             ],
             [
              0.2222222222222222,
              "#7201a8"
             ],
             [
              0.3333333333333333,
              "#9c179e"
             ],
             [
              0.4444444444444444,
              "#bd3786"
             ],
             [
              0.5555555555555556,
              "#d8576b"
             ],
             [
              0.6666666666666666,
              "#ed7953"
             ],
             [
              0.7777777777777778,
              "#fb9f3a"
             ],
             [
              0.8888888888888888,
              "#fdca26"
             ],
             [
              1,
              "#f0f921"
             ]
            ],
            "type": "heatmapgl"
           }
          ],
          "histogram": [
           {
            "marker": {
             "pattern": {
              "fillmode": "overlay",
              "size": 10,
              "solidity": 0.2
             }
            },
            "type": "histogram"
           }
          ],
          "histogram2d": [
           {
            "colorbar": {
             "outlinewidth": 0,
             "ticks": ""
            },
            "colorscale": [
             [
              0,
              "#0d0887"
             ],
             [
              0.1111111111111111,
              "#46039f"
             ],
             [
              0.2222222222222222,
              "#7201a8"
             ],
             [
              0.3333333333333333,
              "#9c179e"
             ],
             [
              0.4444444444444444,
              "#bd3786"
             ],
             [
              0.5555555555555556,
              "#d8576b"
             ],
             [
              0.6666666666666666,
              "#ed7953"
             ],
             [
              0.7777777777777778,
              "#fb9f3a"
             ],
             [
              0.8888888888888888,
              "#fdca26"
             ],
             [
              1,
              "#f0f921"
             ]
            ],
            "type": "histogram2d"
           }
          ],
          "histogram2dcontour": [
           {
            "colorbar": {
             "outlinewidth": 0,
             "ticks": ""
            },
            "colorscale": [
             [
              0,
              "#0d0887"
             ],
             [
              0.1111111111111111,
              "#46039f"
             ],
             [
              0.2222222222222222,
              "#7201a8"
             ],
             [
              0.3333333333333333,
              "#9c179e"
             ],
             [
              0.4444444444444444,
              "#bd3786"
             ],
             [
              0.5555555555555556,
              "#d8576b"
             ],
             [
              0.6666666666666666,
              "#ed7953"
             ],
             [
              0.7777777777777778,
              "#fb9f3a"
             ],
             [
              0.8888888888888888,
              "#fdca26"
             ],
             [
              1,
              "#f0f921"
             ]
            ],
            "type": "histogram2dcontour"
           }
          ],
          "mesh3d": [
           {
            "colorbar": {
             "outlinewidth": 0,
             "ticks": ""
            },
            "type": "mesh3d"
           }
          ],
          "parcoords": [
           {
            "line": {
             "colorbar": {
              "outlinewidth": 0,
              "ticks": ""
             }
            },
            "type": "parcoords"
           }
          ],
          "pie": [
           {
            "automargin": true,
            "type": "pie"
           }
          ],
          "scatter": [
           {
            "fillpattern": {
             "fillmode": "overlay",
             "size": 10,
             "solidity": 0.2
            },
            "type": "scatter"
           }
          ],
          "scatter3d": [
           {
            "line": {
             "colorbar": {
              "outlinewidth": 0,
              "ticks": ""
             }
            },
            "marker": {
             "colorbar": {
              "outlinewidth": 0,
              "ticks": ""
             }
            },
            "type": "scatter3d"
           }
          ],
          "scattercarpet": [
           {
            "marker": {
             "colorbar": {
              "outlinewidth": 0,
              "ticks": ""
             }
            },
            "type": "scattercarpet"
           }
          ],
          "scattergeo": [
           {
            "marker": {
             "colorbar": {
              "outlinewidth": 0,
              "ticks": ""
             }
            },
            "type": "scattergeo"
           }
          ],
          "scattergl": [
           {
            "marker": {
             "colorbar": {
              "outlinewidth": 0,
              "ticks": ""
             }
            },
            "type": "scattergl"
           }
          ],
          "scattermapbox": [
           {
            "marker": {
             "colorbar": {
              "outlinewidth": 0,
              "ticks": ""
             }
            },
            "type": "scattermapbox"
           }
          ],
          "scatterpolar": [
           {
            "marker": {
             "colorbar": {
              "outlinewidth": 0,
              "ticks": ""
             }
            },
            "type": "scatterpolar"
           }
          ],
          "scatterpolargl": [
           {
            "marker": {
             "colorbar": {
              "outlinewidth": 0,
              "ticks": ""
             }
            },
            "type": "scatterpolargl"
           }
          ],
          "scatterternary": [
           {
            "marker": {
             "colorbar": {
              "outlinewidth": 0,
              "ticks": ""
             }
            },
            "type": "scatterternary"
           }
          ],
          "surface": [
           {
            "colorbar": {
             "outlinewidth": 0,
             "ticks": ""
            },
            "colorscale": [
             [
              0,
              "#0d0887"
             ],
             [
              0.1111111111111111,
              "#46039f"
             ],
             [
              0.2222222222222222,
              "#7201a8"
             ],
             [
              0.3333333333333333,
              "#9c179e"
             ],
             [
              0.4444444444444444,
              "#bd3786"
             ],
             [
              0.5555555555555556,
              "#d8576b"
             ],
             [
              0.6666666666666666,
              "#ed7953"
             ],
             [
              0.7777777777777778,
              "#fb9f3a"
             ],
             [
              0.8888888888888888,
              "#fdca26"
             ],
             [
              1,
              "#f0f921"
             ]
            ],
            "type": "surface"
           }
          ],
          "table": [
           {
            "cells": {
             "fill": {
              "color": "#EBF0F8"
             },
             "line": {
              "color": "white"
             }
            },
            "header": {
             "fill": {
              "color": "#C8D4E3"
             },
             "line": {
              "color": "white"
             }
            },
            "type": "table"
           }
          ]
         },
         "layout": {
          "annotationdefaults": {
           "arrowcolor": "#2a3f5f",
           "arrowhead": 0,
           "arrowwidth": 1
          },
          "autotypenumbers": "strict",
          "coloraxis": {
           "colorbar": {
            "outlinewidth": 0,
            "ticks": ""
           }
          },
          "colorscale": {
           "diverging": [
            [
             0,
             "#8e0152"
            ],
            [
             0.1,
             "#c51b7d"
            ],
            [
             0.2,
             "#de77ae"
            ],
            [
             0.3,
             "#f1b6da"
            ],
            [
             0.4,
             "#fde0ef"
            ],
            [
             0.5,
             "#f7f7f7"
            ],
            [
             0.6,
             "#e6f5d0"
            ],
            [
             0.7,
             "#b8e186"
            ],
            [
             0.8,
             "#7fbc41"
            ],
            [
             0.9,
             "#4d9221"
            ],
            [
             1,
             "#276419"
            ]
           ],
           "sequential": [
            [
             0,
             "#0d0887"
            ],
            [
             0.1111111111111111,
             "#46039f"
            ],
            [
             0.2222222222222222,
             "#7201a8"
            ],
            [
             0.3333333333333333,
             "#9c179e"
            ],
            [
             0.4444444444444444,
             "#bd3786"
            ],
            [
             0.5555555555555556,
             "#d8576b"
            ],
            [
             0.6666666666666666,
             "#ed7953"
            ],
            [
             0.7777777777777778,
             "#fb9f3a"
            ],
            [
             0.8888888888888888,
             "#fdca26"
            ],
            [
             1,
             "#f0f921"
            ]
           ],
           "sequentialminus": [
            [
             0,
             "#0d0887"
            ],
            [
             0.1111111111111111,
             "#46039f"
            ],
            [
             0.2222222222222222,
             "#7201a8"
            ],
            [
             0.3333333333333333,
             "#9c179e"
            ],
            [
             0.4444444444444444,
             "#bd3786"
            ],
            [
             0.5555555555555556,
             "#d8576b"
            ],
            [
             0.6666666666666666,
             "#ed7953"
            ],
            [
             0.7777777777777778,
             "#fb9f3a"
            ],
            [
             0.8888888888888888,
             "#fdca26"
            ],
            [
             1,
             "#f0f921"
            ]
           ]
          },
          "colorway": [
           "#636efa",
           "#EF553B",
           "#00cc96",
           "#ab63fa",
           "#FFA15A",
           "#19d3f3",
           "#FF6692",
           "#B6E880",
           "#FF97FF",
           "#FECB52"
          ],
          "font": {
           "color": "#2a3f5f"
          },
          "geo": {
           "bgcolor": "white",
           "lakecolor": "white",
           "landcolor": "#E5ECF6",
           "showlakes": true,
           "showland": true,
           "subunitcolor": "white"
          },
          "hoverlabel": {
           "align": "left"
          },
          "hovermode": "closest",
          "mapbox": {
           "style": "light"
          },
          "paper_bgcolor": "white",
          "plot_bgcolor": "#E5ECF6",
          "polar": {
           "angularaxis": {
            "gridcolor": "white",
            "linecolor": "white",
            "ticks": ""
           },
           "bgcolor": "#E5ECF6",
           "radialaxis": {
            "gridcolor": "white",
            "linecolor": "white",
            "ticks": ""
           }
          },
          "scene": {
           "xaxis": {
            "backgroundcolor": "#E5ECF6",
            "gridcolor": "white",
            "gridwidth": 2,
            "linecolor": "white",
            "showbackground": true,
            "ticks": "",
            "zerolinecolor": "white"
           },
           "yaxis": {
            "backgroundcolor": "#E5ECF6",
            "gridcolor": "white",
            "gridwidth": 2,
            "linecolor": "white",
            "showbackground": true,
            "ticks": "",
            "zerolinecolor": "white"
           },
           "zaxis": {
            "backgroundcolor": "#E5ECF6",
            "gridcolor": "white",
            "gridwidth": 2,
            "linecolor": "white",
            "showbackground": true,
            "ticks": "",
            "zerolinecolor": "white"
           }
          },
          "shapedefaults": {
           "line": {
            "color": "#2a3f5f"
           }
          },
          "ternary": {
           "aaxis": {
            "gridcolor": "white",
            "linecolor": "white",
            "ticks": ""
           },
           "baxis": {
            "gridcolor": "white",
            "linecolor": "white",
            "ticks": ""
           },
           "bgcolor": "#E5ECF6",
           "caxis": {
            "gridcolor": "white",
            "linecolor": "white",
            "ticks": ""
           }
          },
          "title": {
           "x": 0.05
          },
          "xaxis": {
           "automargin": true,
           "gridcolor": "white",
           "linecolor": "white",
           "ticks": "",
           "title": {
            "standoff": 15
           },
           "zerolinecolor": "white",
           "zerolinewidth": 2
          },
          "yaxis": {
           "automargin": true,
           "gridcolor": "white",
           "linecolor": "white",
           "ticks": "",
           "title": {
            "standoff": 15
           },
           "zerolinecolor": "white",
           "zerolinewidth": 2
          }
         }
        },
        "title": {
         "text": "Top 10 worst affected countries"
        },
        "width": 800,
        "xaxis": {
         "anchor": "y",
         "autorange": true,
         "domain": [
          0,
          1
         ],
         "range": [
          -0.5,
          9.5
         ],
         "title": {
          "text": "country"
         },
         "type": "category"
        },
        "yaxis": {
         "anchor": "x",
         "autorange": true,
         "domain": [
          0,
          1
         ],
         "range": [
          0,
          1182985.2631578948
         ],
         "title": {
          "text": "deaths"
         },
         "type": "linear"
        }
       }
      },
      "image/png": "[encoded data removed]",
      "text/html": [
       "<div>                            <div id=\"45fcba33-874b-4718-b8f1-9e0b512009c4\" class=\"plotly-graph-div\" style=\"height:500px; width:800px;\"></div>            <script type=\"text/javascript\">                require([\"plotly\"], function(Plotly) {                    window.PLOTLYENV=window.PLOTLYENV || {};                                    if (document.getElementById(\"45fcba33-874b-4718-b8f1-9e0b512009c4\")) {                    Plotly.newPlot(                        \"45fcba33-874b-4718-b8f1-9e0b512009c4\",                        [{\"alignmentgroup\":\"True\",\"hovertemplate\":\"country=%{x}\\u003cbr\\u003edeaths=%{y}\\u003cextra\\u003e\\u003c\\u002fextra\\u003e\",\"legendgroup\":\"\",\"marker\":{\"color\":\"green\",\"pattern\":{\"shape\":\"\"}},\"name\":\"\",\"offsetgroup\":\"\",\"orientation\":\"v\",\"showlegend\":false,\"textposition\":\"auto\",\"x\":[\"US\",\"India\",\"France\",\"Germany\",\"Brazil\",\"Japan\",\"Korea, South\",\"Italy\",\"United Kingdom\",\"Russia\"],\"xaxis\":\"x\",\"y\":[1123836,530779,166176,168935,699310,73046,34093,188322,220721,388521],\"yaxis\":\"y\",\"type\":\"bar\"}],                        {\"template\":{\"data\":{\"histogram2dcontour\":[{\"type\":\"histogram2dcontour\",\"colorbar\":{\"outlinewidth\":0,\"ticks\":\"\"},\"colorscale\":[[0.0,\"#0d0887\"],[0.1111111111111111,\"#46039f\"],[0.2222222222222222,\"#7201a8\"],[0.3333333333333333,\"#9c179e\"],[0.4444444444444444,\"#bd3786\"],[0.5555555555555556,\"#d8576b\"],[0.6666666666666666,\"#ed7953\"],[0.7777777777777778,\"#fb9f3a\"],[0.8888888888888888,\"#fdca26\"],[1.0,\"#f0f921\"]]}],\"choropleth\":[{\"type\":\"choropleth\",\"colorbar\":{\"outlinewidth\":0,\"ticks\":\"\"}}],\"histogram2d\":[{\"type\":\"histogram2d\",\"colorbar\":{\"outlinewidth\":0,\"ticks\":\"\"},\"colorscale\":[[0.0,\"#0d0887\"],[0.1111111111111111,\"#46039f\"],[0.2222222222222222,\"#7201a8\"],[0.3333333333333333,\"#9c179e\"],[0.4444444444444444,\"#bd3786\"],[0.5555555555555556,\"#d8576b\"],[0.6666666666666666,\"#ed7953\"],[0.7777777777777778,\"#fb9f3a\"],[0.8888888888888888,\"#fdca26\"],[1.0,\"#f0f921\"]]}],\"heatmap\":[{\"type\":\"heatmap\",\"colorbar\":{\"outlinewidth\":0,\"ticks\":\"\"},\"colorscale\":[[0.0,\"#0d0887\"],[0.1111111111111111,\"#46039f\"],[0.2222222222222222,\"#7201a8\"],[0.3333333333333333,\"#9c179e\"],[0.4444444444444444,\"#bd3786\"],[0.5555555555555556,\"#d8576b\"],[0.6666666666666666,\"#ed7953\"],[0.7777777777777778,\"#fb9f3a\"],[0.8888888888888888,\"#fdca26\"],[1.0,\"#f0f921\"]]}],\"heatmapgl\":[{\"type\":\"heatmapgl\",\"colorbar\":{\"outlinewidth\":0,\"ticks\":\"\"},\"colorscale\":[[0.0,\"#0d0887\"],[0.1111111111111111,\"#46039f\"],[0.2222222222222222,\"#7201a8\"],[0.3333333333333333,\"#9c179e\"],[0.4444444444444444,\"#bd3786\"],[0.5555555555555556,\"#d8576b\"],[0.6666666666666666,\"#ed7953\"],[0.7777777777777778,\"#fb9f3a\"],[0.8888888888888888,\"#fdca26\"],[1.0,\"#f0f921\"]]}],\"contourcarpet\":[{\"type\":\"contourcarpet\",\"colorbar\":{\"outlinewidth\":0,\"ticks\":\"\"}}],\"contour\":[{\"type\":\"contour\",\"colorbar\":{\"outlinewidth\":0,\"ticks\":\"\"},\"colorscale\":[[0.0,\"#0d0887\"],[0.1111111111111111,\"#46039f\"],[0.2222222222222222,\"#7201a8\"],[0.3333333333333333,\"#9c179e\"],[0.4444444444444444,\"#bd3786\"],[0.5555555555555556,\"#d8576b\"],[0.6666666666666666,\"#ed7953\"],[0.7777777777777778,\"#fb9f3a\"],[0.8888888888888888,\"#fdca26\"],[1.0,\"#f0f921\"]]}],\"surface\":[{\"type\":\"surface\",\"colorbar\":{\"outlinewidth\":0,\"ticks\":\"\"},\"colorscale\":[[0.0,\"#0d0887\"],[0.1111111111111111,\"#46039f\"],[0.2222222222222222,\"#7201a8\"],[0.3333333333333333,\"#9c179e\"],[0.4444444444444444,\"#bd3786\"],[0.5555555555555556,\"#d8576b\"],[0.6666666666666666,\"#ed7953\"],[0.7777777777777778,\"#fb9f3a\"],[0.8888888888888888,\"#fdca26\"],[1.0,\"#f0f921\"]]}],\"mesh3d\":[{\"type\":\"mesh3d\",\"colorbar\":{\"outlinewidth\":0,\"ticks\":\"\"}}],\"scatter\":[{\"fillpattern\":{\"fillmode\":\"overlay\",\"size\":10,\"solidity\":0.2},\"type\":\"scatter\"}],\"parcoords\":[{\"type\":\"parcoords\",\"line\":{\"colorbar\":{\"outlinewidth\":0,\"ticks\":\"\"}}}],\"scatterpolargl\":[{\"type\":\"scatterpolargl\",\"marker\":{\"colorbar\":{\"outlinewidth\":0,\"ticks\":\"\"}}}],\"bar\":[{\"error_x\":{\"color\":\"#2a3f5f\"},\"error_y\":{\"color\":\"#2a3f5f\"},\"marker\":{\"line\":{\"color\":\"#E5ECF6\",\"width\":0.5},\"pattern\":{\"fillmode\":\"overlay\",\"size\":10,\"solidity\":0.2}},\"type\":\"bar\"}],\"scattergeo\":[{\"type\":\"scattergeo\",\"marker\":{\"colorbar\":{\"outlinewidth\":0,\"ticks\":\"\"}}}],\"scatterpolar\":[{\"type\":\"scatterpolar\",\"marker\":{\"colorbar\":{\"outlinewidth\":0,\"ticks\":\"\"}}}],\"histogram\":[{\"marker\":{\"pattern\":{\"fillmode\":\"overlay\",\"size\":10,\"solidity\":0.2}},\"type\":\"histogram\"}],\"scattergl\":[{\"type\":\"scattergl\",\"marker\":{\"colorbar\":{\"outlinewidth\":0,\"ticks\":\"\"}}}],\"scatter3d\":[{\"type\":\"scatter3d\",\"line\":{\"colorbar\":{\"outlinewidth\":0,\"ticks\":\"\"}},\"marker\":{\"colorbar\":{\"outlinewidth\":0,\"ticks\":\"\"}}}],\"scattermapbox\":[{\"type\":\"scattermapbox\",\"marker\":{\"colorbar\":{\"outlinewidth\":0,\"ticks\":\"\"}}}],\"scatterternary\":[{\"type\":\"scatterternary\",\"marker\":{\"colorbar\":{\"outlinewidth\":0,\"ticks\":\"\"}}}],\"scattercarpet\":[{\"type\":\"scattercarpet\",\"marker\":{\"colorbar\":{\"outlinewidth\":0,\"ticks\":\"\"}}}],\"carpet\":[{\"aaxis\":{\"endlinecolor\":\"#2a3f5f\",\"gridcolor\":\"white\",\"linecolor\":\"white\",\"minorgridcolor\":\"white\",\"startlinecolor\":\"#2a3f5f\"},\"baxis\":{\"endlinecolor\":\"#2a3f5f\",\"gridcolor\":\"white\",\"linecolor\":\"white\",\"minorgridcolor\":\"white\",\"startlinecolor\":\"#2a3f5f\"},\"type\":\"carpet\"}],\"table\":[{\"cells\":{\"fill\":{\"color\":\"#EBF0F8\"},\"line\":{\"color\":\"white\"}},\"header\":{\"fill\":{\"color\":\"#C8D4E3\"},\"line\":{\"color\":\"white\"}},\"type\":\"table\"}],\"barpolar\":[{\"marker\":{\"line\":{\"color\":\"#E5ECF6\",\"width\":0.5},\"pattern\":{\"fillmode\":\"overlay\",\"size\":10,\"solidity\":0.2}},\"type\":\"barpolar\"}],\"pie\":[{\"automargin\":true,\"type\":\"pie\"}]},\"layout\":{\"autotypenumbers\":\"strict\",\"colorway\":[\"#636efa\",\"#EF553B\",\"#00cc96\",\"#ab63fa\",\"#FFA15A\",\"#19d3f3\",\"#FF6692\",\"#B6E880\",\"#FF97FF\",\"#FECB52\"],\"font\":{\"color\":\"#2a3f5f\"},\"hovermode\":\"closest\",\"hoverlabel\":{\"align\":\"left\"},\"paper_bgcolor\":\"white\",\"plot_bgcolor\":\"#E5ECF6\",\"polar\":{\"bgcolor\":\"#E5ECF6\",\"angularaxis\":{\"gridcolor\":\"white\",\"linecolor\":\"white\",\"ticks\":\"\"},\"radialaxis\":{\"gridcolor\":\"white\",\"linecolor\":\"white\",\"ticks\":\"\"}},\"ternary\":{\"bgcolor\":\"#E5ECF6\",\"aaxis\":{\"gridcolor\":\"white\",\"linecolor\":\"white\",\"ticks\":\"\"},\"baxis\":{\"gridcolor\":\"white\",\"linecolor\":\"white\",\"ticks\":\"\"},\"caxis\":{\"gridcolor\":\"white\",\"linecolor\":\"white\",\"ticks\":\"\"}},\"coloraxis\":{\"colorbar\":{\"outlinewidth\":0,\"ticks\":\"\"}},\"colorscale\":{\"sequential\":[[0.0,\"#0d0887\"],[0.1111111111111111,\"#46039f\"],[0.2222222222222222,\"#7201a8\"],[0.3333333333333333,\"#9c179e\"],[0.4444444444444444,\"#bd3786\"],[0.5555555555555556,\"#d8576b\"],[0.6666666666666666,\"#ed7953\"],[0.7777777777777778,\"#fb9f3a\"],[0.8888888888888888,\"#fdca26\"],[1.0,\"#f0f921\"]],\"sequentialminus\":[[0.0,\"#0d0887\"],[0.1111111111111111,\"#46039f\"],[0.2222222222222222,\"#7201a8\"],[0.3333333333333333,\"#9c179e\"],[0.4444444444444444,\"#bd3786\"],[0.5555555555555556,\"#d8576b\"],[0.6666666666666666,\"#ed7953\"],[0.7777777777777778,\"#fb9f3a\"],[0.8888888888888888,\"#fdca26\"],[1.0,\"#f0f921\"]],\"diverging\":[[0,\"#8e0152\"],[0.1,\"#c51b7d\"],[0.2,\"#de77ae\"],[0.3,\"#f1b6da\"],[0.4,\"#fde0ef\"],[0.5,\"#f7f7f7\"],[0.6,\"#e6f5d0\"],[0.7,\"#b8e186\"],[0.8,\"#7fbc41\"],[0.9,\"#4d9221\"],[1,\"#276419\"]]},\"xaxis\":{\"gridcolor\":\"white\",\"linecolor\":\"white\",\"ticks\":\"\",\"title\":{\"standoff\":15},\"zerolinecolor\":\"white\",\"automargin\":true,\"zerolinewidth\":2},\"yaxis\":{\"gridcolor\":\"white\",\"linecolor\":\"white\",\"ticks\":\"\",\"title\":{\"standoff\":15},\"zerolinecolor\":\"white\",\"automargin\":true,\"zerolinewidth\":2},\"scene\":{\"xaxis\":{\"backgroundcolor\":\"#E5ECF6\",\"gridcolor\":\"white\",\"linecolor\":\"white\",\"showbackground\":true,\"ticks\":\"\",\"zerolinecolor\":\"white\",\"gridwidth\":2},\"yaxis\":{\"backgroundcolor\":\"#E5ECF6\",\"gridcolor\":\"white\",\"linecolor\":\"white\",\"showbackground\":true,\"ticks\":\"\",\"zerolinecolor\":\"white\",\"gridwidth\":2},\"zaxis\":{\"backgroundcolor\":\"#E5ECF6\",\"gridcolor\":\"white\",\"linecolor\":\"white\",\"showbackground\":true,\"ticks\":\"\",\"zerolinecolor\":\"white\",\"gridwidth\":2}},\"shapedefaults\":{\"line\":{\"color\":\"#2a3f5f\"}},\"annotationdefaults\":{\"arrowcolor\":\"#2a3f5f\",\"arrowhead\":0,\"arrowwidth\":1},\"geo\":{\"bgcolor\":\"white\",\"landcolor\":\"#E5ECF6\",\"subunitcolor\":\"white\",\"showland\":true,\"showlakes\":true,\"lakecolor\":\"white\"},\"title\":{\"x\":0.05},\"mapbox\":{\"style\":\"light\"}}},\"xaxis\":{\"anchor\":\"y\",\"domain\":[0.0,1.0],\"title\":{\"text\":\"country\"}},\"yaxis\":{\"anchor\":\"x\",\"domain\":[0.0,1.0],\"title\":{\"text\":\"deaths\"}},\"legend\":{\"tracegroupgap\":0},\"title\":{\"text\":\"Top 10 worst affected countries\"},\"barmode\":\"relative\",\"height\":500,\"width\":800},                        {\"responsive\": true}                    ).then(function(){\n",
       "                            \n",
       "var gd = document.getElementById('45fcba33-874b-4718-b8f1-9e0b512009c4');\n",
       "var x = new MutationObserver(function (mutations, observer) {{\n",
       "        var display = window.getComputedStyle(gd).display;\n",
       "        if (!display || display === 'none') {{\n",
       "            console.log([gd, 'removed!']);\n",
       "            Plotly.purge(gd);\n",
       "            observer.disconnect();\n",
       "        }}\n",
       "}});\n",
       "\n",
       "// Listen for the removal of the full notebook cells\n",
       "var notebookContainer = gd.closest('#notebook-container');\n",
       "if (notebookContainer) {{\n",
       "    x.observe(notebookContainer, {childList: true});\n",
       "}}\n",
       "\n",
       "// Listen for the clearing of the current output cell\n",
       "var outputEl = gd.closest('.output');\n",
       "if (outputEl) {{\n",
       "    x.observe(outputEl, {childList: true});\n",
       "}}\n",
       "\n",
       "                        })                };                });            </script>        </div>"
      ]
     },
     "metadata": {},
     "output_type": "display_data"
    }
   ],
   "source": [
    "px.bar(\n",
    "    sorted_country_df.head(10),\n",
    "    x = \"country\",\n",
    "    y = \"deaths\",\n",
    "    title= \"Top 10 worst affected countries\", # the axis names\n",
    "    color_discrete_sequence=[\"green\"], \n",
    "    height=500,\n",
    "    width=800\n",
    ")"
   ]
  },
  {
   "cell_type": "code",
   "execution_count": 118,
   "id": "3224619c-dbe3-433d-b65c-2b10efe3994c",
   "metadata": {},
   "outputs": [
    {
     "name": "stdout",
     "output_type": "stream",
     "text": [
      "Collecting voila\n",
      "  Downloading voila-0.5.5-py3-none-any.whl.metadata (9.0 kB)\n",
      "Requirement already satisfied: jupyter-client<9,>=7.4.4 in c:\\users\\stupiddev\\appdata\\local\\programs\\python\\python312\\lib\\site-packages (from voila) (8.6.1)\n",
      "Requirement already satisfied: jupyter-core>=4.11.0 in c:\\users\\stupiddev\\appdata\\local\\programs\\python\\python312\\lib\\site-packages (from voila) (5.7.2)\n",
      "Requirement already satisfied: jupyter-server<3,>=2.0.0 in c:\\users\\stupiddev\\appdata\\local\\programs\\python\\python312\\lib\\site-packages (from voila) (2.13.0)\n",
      "Requirement already satisfied: jupyterlab-server<3,>=2.3.0 in c:\\users\\stupiddev\\appdata\\local\\programs\\python\\python312\\lib\\site-packages (from voila) (2.25.4)\n",
      "Collecting nbclient<0.8,>=0.4.0 (from voila)\n",
      "  Downloading nbclient-0.7.4-py3-none-any.whl.metadata (7.9 kB)\n",
      "Requirement already satisfied: nbconvert<8,>=6.4.5 in c:\\users\\stupiddev\\appdata\\local\\programs\\python\\python312\\lib\\site-packages (from voila) (7.16.2)\n",
      "Requirement already satisfied: traitlets<6,>=5.0.3 in c:\\users\\stupiddev\\appdata\\local\\programs\\python\\python312\\lib\\site-packages (from voila) (5.14.2)\n",
      "Collecting websockets>=9.0 (from voila)\n",
      "  Downloading websockets-12.0-cp312-cp312-win_amd64.whl.metadata (6.8 kB)\n",
      "Requirement already satisfied: python-dateutil>=2.8.2 in c:\\users\\stupiddev\\appdata\\local\\programs\\python\\python312\\lib\\site-packages (from jupyter-client<9,>=7.4.4->voila) (2.9.0.post0)\n",
      "Requirement already satisfied: pyzmq>=23.0 in c:\\users\\stupiddev\\appdata\\local\\programs\\python\\python312\\lib\\site-packages (from jupyter-client<9,>=7.4.4->voila) (25.1.2)\n",
      "Requirement already satisfied: tornado>=6.2 in c:\\users\\stupiddev\\appdata\\local\\programs\\python\\python312\\lib\\site-packages (from jupyter-client<9,>=7.4.4->voila) (6.4)\n",
      "Requirement already satisfied: platformdirs>=2.5 in c:\\users\\stupiddev\\appdata\\local\\programs\\python\\python312\\lib\\site-packages (from jupyter-core>=4.11.0->voila) (4.2.0)\n",
      "Requirement already satisfied: pywin32>=300 in c:\\users\\stupiddev\\appdata\\local\\programs\\python\\python312\\lib\\site-packages (from jupyter-core>=4.11.0->voila) (306)\n",
      "Requirement already satisfied: anyio>=3.1.0 in c:\\users\\stupiddev\\appdata\\local\\programs\\python\\python312\\lib\\site-packages (from jupyter-server<3,>=2.0.0->voila) (4.3.0)\n",
      "Requirement already satisfied: argon2-cffi in c:\\users\\stupiddev\\appdata\\local\\programs\\python\\python312\\lib\\site-packages (from jupyter-server<3,>=2.0.0->voila) (23.1.0)\n",
      "Requirement already satisfied: jinja2 in c:\\users\\stupiddev\\appdata\\local\\programs\\python\\python312\\lib\\site-packages (from jupyter-server<3,>=2.0.0->voila) (3.1.3)\n",
      "Requirement already satisfied: jupyter-events>=0.9.0 in c:\\users\\stupiddev\\appdata\\local\\programs\\python\\python312\\lib\\site-packages (from jupyter-server<3,>=2.0.0->voila) (0.10.0)\n",
      "Requirement already satisfied: jupyter-server-terminals in c:\\users\\stupiddev\\appdata\\local\\programs\\python\\python312\\lib\\site-packages (from jupyter-server<3,>=2.0.0->voila) (0.5.3)\n",
      "Requirement already satisfied: nbformat>=5.3.0 in c:\\users\\stupiddev\\appdata\\local\\programs\\python\\python312\\lib\\site-packages (from jupyter-server<3,>=2.0.0->voila) (5.10.3)\n",
      "Requirement already satisfied: overrides in c:\\users\\stupiddev\\appdata\\local\\programs\\python\\python312\\lib\\site-packages (from jupyter-server<3,>=2.0.0->voila) (7.7.0)\n",
      "Requirement already satisfied: packaging in c:\\users\\stupiddev\\appdata\\local\\programs\\python\\python312\\lib\\site-packages (from jupyter-server<3,>=2.0.0->voila) (24.0)\n",
      "Requirement already satisfied: prometheus-client in c:\\users\\stupiddev\\appdata\\local\\programs\\python\\python312\\lib\\site-packages (from jupyter-server<3,>=2.0.0->voila) (0.20.0)\n",
      "Requirement already satisfied: pywinpty in c:\\users\\stupiddev\\appdata\\local\\programs\\python\\python312\\lib\\site-packages (from jupyter-server<3,>=2.0.0->voila) (2.0.13)\n",
      "Requirement already satisfied: send2trash>=1.8.2 in c:\\users\\stupiddev\\appdata\\local\\programs\\python\\python312\\lib\\site-packages (from jupyter-server<3,>=2.0.0->voila) (1.8.2)\n",
      "Requirement already satisfied: terminado>=0.8.3 in c:\\users\\stupiddev\\appdata\\local\\programs\\python\\python312\\lib\\site-packages (from jupyter-server<3,>=2.0.0->voila) (0.18.1)\n",
      "Requirement already satisfied: websocket-client in c:\\users\\stupiddev\\appdata\\local\\programs\\python\\python312\\lib\\site-packages (from jupyter-server<3,>=2.0.0->voila) (1.7.0)\n",
      "Requirement already satisfied: babel>=2.10 in c:\\users\\stupiddev\\appdata\\local\\programs\\python\\python312\\lib\\site-packages (from jupyterlab-server<3,>=2.3.0->voila) (2.14.0)\n",
      "Requirement already satisfied: json5>=0.9.0 in c:\\users\\stupiddev\\appdata\\local\\programs\\python\\python312\\lib\\site-packages (from jupyterlab-server<3,>=2.3.0->voila) (0.9.24)\n",
      "Requirement already satisfied: jsonschema>=4.18.0 in c:\\users\\stupiddev\\appdata\\local\\programs\\python\\python312\\lib\\site-packages (from jupyterlab-server<3,>=2.3.0->voila) (4.21.1)\n",
      "Requirement already satisfied: requests>=2.31 in c:\\users\\stupiddev\\appdata\\local\\programs\\python\\python312\\lib\\site-packages (from jupyterlab-server<3,>=2.3.0->voila) (2.31.0)\n",
      "Requirement already satisfied: beautifulsoup4 in c:\\users\\stupiddev\\appdata\\local\\programs\\python\\python312\\lib\\site-packages (from nbconvert<8,>=6.4.5->voila) (4.12.3)\n",
      "Requirement already satisfied: bleach!=5.0.0 in c:\\users\\stupiddev\\appdata\\local\\programs\\python\\python312\\lib\\site-packages (from nbconvert<8,>=6.4.5->voila) (6.1.0)\n",
      "Requirement already satisfied: defusedxml in c:\\users\\stupiddev\\appdata\\local\\programs\\python\\python312\\lib\\site-packages (from nbconvert<8,>=6.4.5->voila) (0.7.1)\n",
      "Requirement already satisfied: jupyterlab-pygments in c:\\users\\stupiddev\\appdata\\local\\programs\\python\\python312\\lib\\site-packages (from nbconvert<8,>=6.4.5->voila) (0.3.0)\n",
      "Requirement already satisfied: markupsafe>=2.0 in c:\\users\\stupiddev\\appdata\\local\\programs\\python\\python312\\lib\\site-packages (from nbconvert<8,>=6.4.5->voila) (2.1.5)\n",
      "Requirement already satisfied: mistune<4,>=2.0.3 in c:\\users\\stupiddev\\appdata\\local\\programs\\python\\python312\\lib\\site-packages (from nbconvert<8,>=6.4.5->voila) (3.0.2)\n",
      "Requirement already satisfied: pandocfilters>=1.4.1 in c:\\users\\stupiddev\\appdata\\local\\programs\\python\\python312\\lib\\site-packages (from nbconvert<8,>=6.4.5->voila) (1.5.1)\n",
      "Requirement already satisfied: pygments>=2.4.1 in c:\\users\\stupiddev\\appdata\\local\\programs\\python\\python312\\lib\\site-packages (from nbconvert<8,>=6.4.5->voila) (2.17.2)\n",
      "Requirement already satisfied: tinycss2 in c:\\users\\stupiddev\\appdata\\local\\programs\\python\\python312\\lib\\site-packages (from nbconvert<8,>=6.4.5->voila) (1.2.1)\n",
      "Requirement already satisfied: idna>=2.8 in c:\\users\\stupiddev\\appdata\\local\\programs\\python\\python312\\lib\\site-packages (from anyio>=3.1.0->jupyter-server<3,>=2.0.0->voila) (3.6)\n",
      "Requirement already satisfied: sniffio>=1.1 in c:\\users\\stupiddev\\appdata\\local\\programs\\python\\python312\\lib\\site-packages (from anyio>=3.1.0->jupyter-server<3,>=2.0.0->voila) (1.3.1)\n",
      "Requirement already satisfied: six>=1.9.0 in c:\\users\\stupiddev\\appdata\\local\\programs\\python\\python312\\lib\\site-packages (from bleach!=5.0.0->nbconvert<8,>=6.4.5->voila) (1.16.0)\n",
      "Requirement already satisfied: webencodings in c:\\users\\stupiddev\\appdata\\local\\programs\\python\\python312\\lib\\site-packages (from bleach!=5.0.0->nbconvert<8,>=6.4.5->voila) (0.5.1)\n",
      "Requirement already satisfied: attrs>=22.2.0 in c:\\users\\stupiddev\\appdata\\local\\programs\\python\\python312\\lib\\site-packages (from jsonschema>=4.18.0->jupyterlab-server<3,>=2.3.0->voila) (23.2.0)\n",
      "Requirement already satisfied: jsonschema-specifications>=2023.03.6 in c:\\users\\stupiddev\\appdata\\local\\programs\\python\\python312\\lib\\site-packages (from jsonschema>=4.18.0->jupyterlab-server<3,>=2.3.0->voila) (2023.12.1)\n",
      "Requirement already satisfied: referencing>=0.28.4 in c:\\users\\stupiddev\\appdata\\local\\programs\\python\\python312\\lib\\site-packages (from jsonschema>=4.18.0->jupyterlab-server<3,>=2.3.0->voila) (0.34.0)\n",
      "Requirement already satisfied: rpds-py>=0.7.1 in c:\\users\\stupiddev\\appdata\\local\\programs\\python\\python312\\lib\\site-packages (from jsonschema>=4.18.0->jupyterlab-server<3,>=2.3.0->voila) (0.18.0)\n",
      "Requirement already satisfied: python-json-logger>=2.0.4 in c:\\users\\stupiddev\\appdata\\local\\programs\\python\\python312\\lib\\site-packages (from jupyter-events>=0.9.0->jupyter-server<3,>=2.0.0->voila) (2.0.7)\n",
      "Requirement already satisfied: pyyaml>=5.3 in c:\\users\\stupiddev\\appdata\\local\\programs\\python\\python312\\lib\\site-packages (from jupyter-events>=0.9.0->jupyter-server<3,>=2.0.0->voila) (6.0.1)\n",
      "Requirement already satisfied: rfc3339-validator in c:\\users\\stupiddev\\appdata\\local\\programs\\python\\python312\\lib\\site-packages (from jupyter-events>=0.9.0->jupyter-server<3,>=2.0.0->voila) (0.1.4)\n",
      "Requirement already satisfied: rfc3986-validator>=0.1.1 in c:\\users\\stupiddev\\appdata\\local\\programs\\python\\python312\\lib\\site-packages (from jupyter-events>=0.9.0->jupyter-server<3,>=2.0.0->voila) (0.1.1)\n",
      "Requirement already satisfied: fastjsonschema in c:\\users\\stupiddev\\appdata\\local\\programs\\python\\python312\\lib\\site-packages (from nbformat>=5.3.0->jupyter-server<3,>=2.0.0->voila) (2.19.1)\n",
      "Requirement already satisfied: charset-normalizer<4,>=2 in c:\\users\\stupiddev\\appdata\\local\\programs\\python\\python312\\lib\\site-packages (from requests>=2.31->jupyterlab-server<3,>=2.3.0->voila) (3.3.2)\n",
      "Requirement already satisfied: urllib3<3,>=1.21.1 in c:\\users\\stupiddev\\appdata\\local\\programs\\python\\python312\\lib\\site-packages (from requests>=2.31->jupyterlab-server<3,>=2.3.0->voila) (2.2.1)\n",
      "Requirement already satisfied: certifi>=2017.4.17 in c:\\users\\stupiddev\\appdata\\local\\programs\\python\\python312\\lib\\site-packages (from requests>=2.31->jupyterlab-server<3,>=2.3.0->voila) (2024.2.2)\n",
      "Requirement already satisfied: argon2-cffi-bindings in c:\\users\\stupiddev\\appdata\\local\\programs\\python\\python312\\lib\\site-packages (from argon2-cffi->jupyter-server<3,>=2.0.0->voila) (21.2.0)\n",
      "Requirement already satisfied: soupsieve>1.2 in c:\\users\\stupiddev\\appdata\\local\\programs\\python\\python312\\lib\\site-packages (from beautifulsoup4->nbconvert<8,>=6.4.5->voila) (2.5)\n",
      "Requirement already satisfied: fqdn in c:\\users\\stupiddev\\appdata\\local\\programs\\python\\python312\\lib\\site-packages (from jsonschema[format-nongpl]>=4.18.0->jupyter-events>=0.9.0->jupyter-server<3,>=2.0.0->voila) (1.5.1)\n",
      "Requirement already satisfied: isoduration in c:\\users\\stupiddev\\appdata\\local\\programs\\python\\python312\\lib\\site-packages (from jsonschema[format-nongpl]>=4.18.0->jupyter-events>=0.9.0->jupyter-server<3,>=2.0.0->voila) (20.11.0)\n",
      "Requirement already satisfied: jsonpointer>1.13 in c:\\users\\stupiddev\\appdata\\local\\programs\\python\\python312\\lib\\site-packages (from jsonschema[format-nongpl]>=4.18.0->jupyter-events>=0.9.0->jupyter-server<3,>=2.0.0->voila) (2.4)\n",
      "Requirement already satisfied: uri-template in c:\\users\\stupiddev\\appdata\\local\\programs\\python\\python312\\lib\\site-packages (from jsonschema[format-nongpl]>=4.18.0->jupyter-events>=0.9.0->jupyter-server<3,>=2.0.0->voila) (1.3.0)\n",
      "Requirement already satisfied: webcolors>=1.11 in c:\\users\\stupiddev\\appdata\\local\\programs\\python\\python312\\lib\\site-packages (from jsonschema[format-nongpl]>=4.18.0->jupyter-events>=0.9.0->jupyter-server<3,>=2.0.0->voila) (1.13)\n",
      "Requirement already satisfied: cffi>=1.0.1 in c:\\users\\stupiddev\\appdata\\local\\programs\\python\\python312\\lib\\site-packages (from argon2-cffi-bindings->argon2-cffi->jupyter-server<3,>=2.0.0->voila) (1.16.0)\n",
      "Requirement already satisfied: pycparser in c:\\users\\stupiddev\\appdata\\local\\programs\\python\\python312\\lib\\site-packages (from cffi>=1.0.1->argon2-cffi-bindings->argon2-cffi->jupyter-server<3,>=2.0.0->voila) (2.21)\n",
      "Requirement already satisfied: arrow>=0.15.0 in c:\\users\\stupiddev\\appdata\\local\\programs\\python\\python312\\lib\\site-packages (from isoduration->jsonschema[format-nongpl]>=4.18.0->jupyter-events>=0.9.0->jupyter-server<3,>=2.0.0->voila) (1.3.0)\n",
      "Requirement already satisfied: types-python-dateutil>=2.8.10 in c:\\users\\stupiddev\\appdata\\local\\programs\\python\\python312\\lib\\site-packages (from arrow>=0.15.0->isoduration->jsonschema[format-nongpl]>=4.18.0->jupyter-events>=0.9.0->jupyter-server<3,>=2.0.0->voila) (2.9.0.20240316)\n",
      "Downloading voila-0.5.5-py3-none-any.whl (3.9 MB)\n",
      "   ---------------------------------------- 0.0/3.9 MB ? eta -:--:--\n",
      "   ---------------------------------------- 0.0/3.9 MB ? eta -:--:--\n",
      "    --------------------------------------- 0.1/3.9 MB 787.7 kB/s eta 0:00:05\n",
      "   - -------------------------------------- 0.2/3.9 MB 1.3 MB/s eta 0:00:03\n",
      "   --- ------------------------------------ 0.3/3.9 MB 1.7 MB/s eta 0:00:03\n",
      "   ---- ----------------------------------- 0.5/3.9 MB 2.2 MB/s eta 0:00:02\n",
      "   ------- -------------------------------- 0.7/3.9 MB 2.8 MB/s eta 0:00:02\n",
      "   -------- ------------------------------- 0.8/3.9 MB 2.6 MB/s eta 0:00:02\n",
      "   ----------- ---------------------------- 1.1/3.9 MB 3.0 MB/s eta 0:00:01\n",
      "   ------------ --------------------------- 1.2/3.9 MB 3.0 MB/s eta 0:00:01\n",
      "   --------------- ------------------------ 1.5/3.9 MB 3.4 MB/s eta 0:00:01\n",
      "   ----------------- ---------------------- 1.7/3.9 MB 3.5 MB/s eta 0:00:01\n",
      "   -------------------- ------------------- 2.0/3.9 MB 3.6 MB/s eta 0:00:01\n",
      "   ----------------------- ---------------- 2.2/3.9 MB 3.8 MB/s eta 0:00:01\n",
      "   ------------------------ --------------- 2.4/3.9 MB 3.9 MB/s eta 0:00:01\n",
      "   -------------------------- ------------- 2.6/3.9 MB 3.8 MB/s eta 0:00:01\n",
      "   ----------------------------- ---------- 2.9/3.9 MB 3.9 MB/s eta 0:00:01\n",
      "   ------------------------------- -------- 3.1/3.9 MB 4.0 MB/s eta 0:00:01\n",
      "   ---------------------------------- ----- 3.3/3.9 MB 4.0 MB/s eta 0:00:01\n",
      "   ------------------------------------ --- 3.6/3.9 MB 4.1 MB/s eta 0:00:01\n",
      "   ---------------------------------------  3.9/3.9 MB 4.2 MB/s eta 0:00:01\n",
      "   ---------------------------------------- 3.9/3.9 MB 4.1 MB/s eta 0:00:00\n",
      "Downloading nbclient-0.7.4-py3-none-any.whl (73 kB)\n",
      "   ---------------------------------------- 0.0/73.1 kB ? eta -:--:--\n",
      "   ---------------------------------------- 73.1/73.1 kB 3.9 MB/s eta 0:00:00\n",
      "Downloading websockets-12.0-cp312-cp312-win_amd64.whl (124 kB)\n",
      "   ---------------------------------------- 0.0/125.0 kB ? eta -:--:--\n",
      "   ---------------------------------------- 125.0/125.0 kB 2.4 MB/s eta 0:00:00\n",
      "Installing collected packages: websockets, nbclient, voila\n",
      "  Attempting uninstall: nbclient\n",
      "    Found existing installation: nbclient 0.10.0\n",
      "    Uninstalling nbclient-0.10.0:\n",
      "      Successfully uninstalled nbclient-0.10.0\n",
      "Successfully installed nbclient-0.7.4 voila-0.5.5 websockets-12.0\n"
     ]
    }
   ],
   "source": [
    "!pip install voila"
   ]
  },
  {
   "cell_type": "code",
   "execution_count": null,
   "id": "af43001a-a11b-4028-b4a7-ee7a29d99f39",
   "metadata": {},
   "outputs": [],
   "source": []
  }
 ],
 "metadata": {
  "kernelspec": {
   "display_name": "Python 3 (ipykernel)",
   "language": "python",
   "name": "python3"
  },
  "language_info": {
   "codemirror_mode": {
    "name": "ipython",
    "version": 3
   },
   "file_extension": ".py",
   "mimetype": "text/x-python",
   "name": "python",
   "nbconvert_exporter": "python",
   "pygments_lexer": "ipython3",
   "version": "3.12.2"
  }
 },
 "nbformat": 4,
 "nbformat_minor": 5
}
